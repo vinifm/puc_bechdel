{
 "cells": [
  {
   "cell_type": "code",
   "execution_count": 72,
   "metadata": {
    "collapsed": false,
    "pycharm": {
     "name": "#%%\n"
    }
   },
   "outputs": [],
   "source": [
    "import requests\n",
    "from bs4 import BeautifulSoup\n",
    "import pandas as pd\n",
    "import re\n",
    "import gender_guesser.detector as gender\n",
    "import matplotlib.pyplot as plt\n",
    "import seaborn as sns"
   ]
  },
  {
   "cell_type": "code",
   "execution_count": 73,
   "metadata": {
    "collapsed": false,
    "pycharm": {
     "name": "#%%\n"
    }
   },
   "outputs": [],
   "source": [
    "cmap_reds = plt.cm.get_cmap('Reds')\n",
    "sns.set_palette('Reds')"
   ]
  },
  {
   "cell_type": "markdown",
   "metadata": {
    "collapsed": false,
    "pycharm": {
     "name": "#%% md\n"
    }
   },
   "source": [
    "# Raspagem: [base de dados da Academia de Artes e Ciências Cinematográficas](https://awardsdatabase.oscars.org/).\n",
    "Devido à dinamicidade do site, para a automação completa seria necessária o uso do Selenium. Para os fins do projeto, o código da página de busca avançada foi salvo nos arquivos `nominees-men.html` e `nominees-women.html`. As páginas possuem as seguintes categorias:\n",
    "\n",
    "1. DIRECTING\n",
    "2. BEST PICTURE\n",
    "3. FILM EDITING\n",
    "4. WRITING\n",
    "5. COSTUME DESIGN\n",
    "6. DOCUMENTARY (Feature)\n",
    "7. CINEMATOGRAPHY\n",
    "8. SHORT FILM\n",
    "\n",
    "Obs.: Quando alguém é indicado por dois filmes no mesmo ano, somente o primeiro filme é minerado (e terminado por ';'). Como a análise é focada na pessoa nomeada e não no filme, essa questão não foi tratada."
   ]
  },
  {
   "cell_type": "code",
   "execution_count": 75,
   "metadata": {
    "collapsed": false,
    "pycharm": {
     "name": "#%%\n"
    }
   },
   "outputs": [],
   "source": [
    "# Cria o dataframe para páginas de buscas com múltiplas categorias.\n",
    "def get_oscar_df(file):\n",
    "\tf = open(file)\n",
    "\tsoup = BeautifulSoup(f, 'html.parser')\n",
    "\tdf = pd.DataFrame({'year': [], 'category': [], 'film': [], 'name': [], 'status': []})\n",
    "\n",
    "\tall_groups = soup.find_all(class_='awards-result-chron result-group group-awardcategory-chron')\n",
    "\tfor group in all_groups:\n",
    "\t\tyear = group.find(class_=\"result-group-title\").text.strip()[0:4]\n",
    "\t\tall_categories = group.find_all(class_=\"result-subgroup subgroup-awardcategory-chron\")\n",
    "\t\tfor each_category in all_categories:\n",
    "\t\t\tcategory = each_category.find(class_=\"result-subgroup-title\").text.strip()\n",
    "\n",
    "\t\t\tif category.split()[0] == 'SHORT':\n",
    "\t\t\t\tall_films = each_category.find_all(class_=\"result-details awards-result-other\")\n",
    "\t\t\telse:\n",
    "\t\t\t\tall_films = each_category.find_all(class_=\"result-details awards-result-actingorsimilar\")\n",
    "\t\t\tfor row in all_films:\n",
    "\t\t\t\ttry:\n",
    "\t\t\t\t\tfilm = row.find(class_=\"awards-result-film-title\").text.strip()\n",
    "\t\t\t\texcept AttributeError:\n",
    "\t\t\t\t\tfilm = 'Error'\n",
    "\t\t\t\tif row.find(class_=\"glyphicon glyphicon-star\"):\n",
    "\t\t\t\t\tstatus = 'winner'\n",
    "\t\t\t\telse:\n",
    "\t\t\t\t\tstatus = 'nominated'\n",
    "\t\t\t\tall_names = re.split(r'; |: | and | & | by |, ', row.find(class_=\"awards-result-nominationstatement\").text)\n",
    "\t\t\t\tfor name in all_names:\n",
    "\t\t\t\t\tname = name.strip(' \\n()')\n",
    "\t\t\t\t\trow = pd.DataFrame({'year': [year],\n",
    "\t\t\t\t\t\t\t\t\t\t'category': [category],\n",
    "\t\t\t\t\t\t\t\t\t\t'film': [film],\n",
    "\t\t\t\t\t\t\t\t\t\t'name': [name],\n",
    "\t\t\t\t\t\t\t\t\t\t'status': [status]\n",
    "\t\t\t\t\t\t\t\t\t\t})\n",
    "\t\t\t\t\tdf = pd.concat([df, row], ignore_index=True)\n",
    "\n",
    "\tto_remove = ['Jr.', 'Producer', 'Producers', 'Adaptation', 'Art Direction',\n",
    "\t\t\t\t 'Interior Decoration', 'Set Decoration', 'Production Design',\n",
    "\t\t\t\t 'Screenplay', 'Written', 'Story', 'Stories',\n",
    "\t\t\t\t 'Adapted for the screen', 'Written for the screen']\n",
    "\tdf = df[df.film != 'Error']\n",
    "\tdf = df[-df.name.isin(to_remove)]\n",
    "\tf.close()\n",
    "\treturn df\n",
    "\n",
    "# padroniza os nomes das categorias\n",
    "def clean_categories(df):\n",
    "\tfor row in df.category:\n",
    "\t\twords = row.split()\n",
    "\t\tif words[0] == 'DIRECTING':\n",
    "\t\t\tdf.category = df.category.replace({row: 'DIRECTING'})\n",
    "\t\telif words[0] == 'WRITING':\n",
    "\t\t\tdf.category = df.category.replace({row: 'WRITING'})\n",
    "\t\telif words[0] == 'ART':\n",
    "\t\t\tdf.category = df.category.replace({row: 'ART DIRECTION'})\n",
    "\t\telif words[0] == 'CINEMATOGRAPHY':\n",
    "\t\t\tdf.category = df.category.replace({row: 'CINEMATOGRAPHY'})\n",
    "\t\telif words[0] == 'COSTUME':\n",
    "\t\t\tdf.category = df.category.replace({row: 'COSTUME DESIGN'})\n",
    "\t\telif words[0] == 'SPECIAL':\n",
    "\t\t\tdf.category = df.category.replace({row: 'VISUAL EFFECTS'})\n",
    "\t\telif words[0] == 'SOUND':\n",
    "\t\t\tdf.category = df.category.replace({row: 'SOUND'})\n",
    "\t\telif words[0] == 'SHORT':\n",
    "\t\t\tdf.category = df.category.replace({row: 'SHORT FILM'})\n",
    "\t\telif words[1] == 'MOTION':\n",
    "\t\t\tdf.category = df.category.replace({row: 'BEST PICTURE'})\n",
    "\treturn df\n"
   ]
  },
  {
   "cell_type": "code",
   "execution_count": 76,
   "metadata": {
    "collapsed": false,
    "pycharm": {
     "name": "#%%\n"
    }
   },
   "outputs": [],
   "source": [
    "# salva para csv:\n",
    "# women_df = get_oscar_df('oscar-pages/nominees-women.html')\n",
    "# men_df = get_oscar_df('oscar-pages/nominees-men.html')\n",
    "# women_df.to_csv('oscar-datasets/oscar-women-v0.csv', index=False)\n",
    "# men_df.to_csv('oscar-datasets/oscar-men-v0.csv', index=False)\n"
   ]
  },
  {
   "cell_type": "markdown",
   "metadata": {
    "collapsed": false,
    "pycharm": {
     "name": "#%% md\n"
    }
   },
   "source": [
    "#### Limpando os datasets.\n",
    "Para categorias em que homens e mulheres eram indicados pelo mesmo filme, os indicados apareciam tanto na busca por homens quanto por mulheres. escolheu-se então usar o pacote [`gender-guesser`](https://pypi.org/project/gender-guesser/) para limpar os nomes masculinos da tabela feminina e vice-versa.\n",
    "\n",
    "Por esse método, 345 mulheres foram removidas do dataset masculino, e 442 homens do dataset feminino. Alguns nomes foram indicados mais de uma vez, então a alteração no tamanho dos datasets foi maior."
   ]
  },
  {
   "cell_type": "code",
   "execution_count": 77,
   "metadata": {
    "collapsed": false,
    "pycharm": {
     "name": "#%%\n"
    }
   },
   "outputs": [
    {
     "name": "stdout",
     "output_type": "stream",
     "text": [
      "Qntd. de nomes femininos removidos: 345\n",
      "Qntd. de nomes masculinos removidos: 441\n"
     ]
    }
   ],
   "source": [
    "women_df = pd.read_csv('oscar-datasets/oscar-women-v0.csv')\n",
    "men_df = pd.read_csv('oscar-datasets/oscar-men-v0.csv')\n",
    "\n",
    "g = gender.Detector()\n",
    "\n",
    "female_names = []\n",
    "male_names = []\n",
    "\n",
    "for name in women_df.name.unique():\n",
    "\tfirst_name = name.split()[0]\n",
    "\tif first_name == 'Ari':\n",
    "\t\tcontinue\n",
    "\telif g.get_gender(first_name) == 'male' or g.get_gender(first_name) == 'mostly_male':\n",
    "\t\tmale_names.append(name)\n",
    "women_df = women_df[-women_df.name.isin(male_names)]\n",
    "\n",
    "for name in men_df.name.unique():\n",
    "\tfirst_name = name.split()[0]\n",
    "\tif g.get_gender(first_name) == 'female' or g.get_gender(first_name) == 'mostly_female':\n",
    "\t\tfemale_names.append(name)\n",
    "men_df = men_df[-men_df.name.isin(female_names)]\n",
    "\n",
    "# converte anos para int\n",
    "women_df.year.astype(int)\n",
    "men_df.year.astype(int)\n",
    "\n",
    "print(\"Qntd. de nomes femininos removidos: %d\" % len(female_names))\n",
    "print(\"Qntd. de nomes masculinos removidos: %d\" % len(male_names))\n",
    "\n",
    "# padroniza as categorias:\n",
    "men_df = clean_categories(men_df)\n",
    "women_df = clean_categories(women_df)"
   ]
  },
  {
   "cell_type": "code",
   "execution_count": 78,
   "metadata": {
    "collapsed": false,
    "pycharm": {
     "name": "#%%\n"
    }
   },
   "outputs": [],
   "source": [
    "# salva os datasets tratados em um csv\n",
    "women_df.to_csv('oscar-datasets/oscar-women-v1.csv', index=False)\n",
    "men_df.to_csv('oscar-datasets/oscar-men-v1.csv', index=False)"
   ]
  },
  {
   "cell_type": "code",
   "execution_count": 79,
   "metadata": {
    "collapsed": false,
    "pycharm": {
     "name": "#%%\n"
    }
   },
   "outputs": [],
   "source": [
    "# adiciona a coluna gender em cada um\n",
    "women_df['gender'] = 'female'\n",
    "men_df['gender'] = 'male'\n",
    "\n",
    "# une os datasets e coloca-o em ordem cronológica\n",
    "oscar_df = pd.concat([women_df, men_df])\n",
    "oscar_df = oscar_df.sort_values(by='year')\n",
    "\n",
    "# salva em um dataset final\n",
    "oscar_df.to_csv('oscar-datasets/oscar_dataset.csv', index=False)"
   ]
  },
  {
   "cell_type": "markdown",
   "metadata": {
    "collapsed": false,
    "pycharm": {
     "name": "#%% md\n"
    }
   },
   "source": [
    "\n",
    "# Visualização dos dados\n"
   ]
  },
  {
   "cell_type": "code",
   "execution_count": 80,
   "metadata": {
    "collapsed": false,
    "pycharm": {
     "name": "#%%\n"
    }
   },
   "outputs": [],
   "source": [
    "women_df = pd.read_csv('oscar-datasets/oscar-women-v1.csv')\n",
    "men_df = pd.read_csv('oscar-datasets/oscar-men-v1.csv')"
   ]
  },
  {
   "cell_type": "code",
   "execution_count": 81,
   "metadata": {
    "collapsed": false,
    "pycharm": {
     "name": "#%%\n"
    }
   },
   "outputs": [],
   "source": [
    "oscar_df = pd.read_csv('oscar-datasets/oscar_dataset.csv')\n",
    "\n",
    "# adiciona uma nova coluna que une gênero e status para facilitar plotagem.\n",
    "hue = []\n",
    "for index, row in oscar_df.iterrows():\n",
    "\thue.append(row.gender + ' ' + row.status)\n",
    "\n",
    "oscar_df['hue'] = hue"
   ]
  },
  {
   "cell_type": "code",
   "execution_count": 82,
   "metadata": {
    "collapsed": false,
    "pycharm": {
     "name": "#%%\n"
    }
   },
   "outputs": [
    {
     "data": {
      "text/html": [
       "<div>\n",
       "<style scoped>\n",
       "    .dataframe tbody tr th:only-of-type {\n",
       "        vertical-align: middle;\n",
       "    }\n",
       "\n",
       "    .dataframe tbody tr th {\n",
       "        vertical-align: top;\n",
       "    }\n",
       "\n",
       "    .dataframe thead th {\n",
       "        text-align: right;\n",
       "    }\n",
       "</style>\n",
       "<table border=\"1\" class=\"dataframe\">\n",
       "  <thead>\n",
       "    <tr style=\"text-align: right;\">\n",
       "      <th></th>\n",
       "      <th>year</th>\n",
       "      <th>category</th>\n",
       "      <th>film</th>\n",
       "      <th>name</th>\n",
       "      <th>status</th>\n",
       "      <th>gender</th>\n",
       "      <th>hue</th>\n",
       "    </tr>\n",
       "  </thead>\n",
       "  <tbody>\n",
       "    <tr>\n",
       "      <th>0</th>\n",
       "      <td>1927</td>\n",
       "      <td>CINEMATOGRAPHY</td>\n",
       "      <td>The Devil Dancer;</td>\n",
       "      <td>George Barnes</td>\n",
       "      <td>nominated</td>\n",
       "      <td>male</td>\n",
       "      <td>male nominated</td>\n",
       "    </tr>\n",
       "    <tr>\n",
       "      <th>1</th>\n",
       "      <td>1927</td>\n",
       "      <td>WRITING</td>\n",
       "      <td>The Private Life of Helen of Troy</td>\n",
       "      <td>Gerald Duffy</td>\n",
       "      <td>nominated</td>\n",
       "      <td>male</td>\n",
       "      <td>male nominated</td>\n",
       "    </tr>\n",
       "    <tr>\n",
       "      <th>2</th>\n",
       "      <td>1927</td>\n",
       "      <td>WRITING</td>\n",
       "      <td>Underworld</td>\n",
       "      <td>Ben Hecht</td>\n",
       "      <td>winner</td>\n",
       "      <td>male</td>\n",
       "      <td>male winner</td>\n",
       "    </tr>\n",
       "    <tr>\n",
       "      <th>3</th>\n",
       "      <td>1927</td>\n",
       "      <td>WRITING</td>\n",
       "      <td>The Last Command</td>\n",
       "      <td>Lajos Biro</td>\n",
       "      <td>nominated</td>\n",
       "      <td>male</td>\n",
       "      <td>male nominated</td>\n",
       "    </tr>\n",
       "    <tr>\n",
       "      <th>4</th>\n",
       "      <td>1927</td>\n",
       "      <td>WRITING</td>\n",
       "      <td>7th Heaven</td>\n",
       "      <td>Benjamin Glazer</td>\n",
       "      <td>winner</td>\n",
       "      <td>male</td>\n",
       "      <td>male winner</td>\n",
       "    </tr>\n",
       "    <tr>\n",
       "      <th>...</th>\n",
       "      <td>...</td>\n",
       "      <td>...</td>\n",
       "      <td>...</td>\n",
       "      <td>...</td>\n",
       "      <td>...</td>\n",
       "      <td>...</td>\n",
       "      <td>...</td>\n",
       "    </tr>\n",
       "    <tr>\n",
       "      <th>5851</th>\n",
       "      <td>2021</td>\n",
       "      <td>WRITING</td>\n",
       "      <td>The Worst Person in the World</td>\n",
       "      <td>Eskil Vogt</td>\n",
       "      <td>nominated</td>\n",
       "      <td>male</td>\n",
       "      <td>male nominated</td>\n",
       "    </tr>\n",
       "    <tr>\n",
       "      <th>5852</th>\n",
       "      <td>2021</td>\n",
       "      <td>CINEMATOGRAPHY</td>\n",
       "      <td>The Power of the Dog</td>\n",
       "      <td>Ari Wegner</td>\n",
       "      <td>nominated</td>\n",
       "      <td>female</td>\n",
       "      <td>female nominated</td>\n",
       "    </tr>\n",
       "    <tr>\n",
       "      <th>5853</th>\n",
       "      <td>2021</td>\n",
       "      <td>COSTUME DESIGN</td>\n",
       "      <td>Cruella</td>\n",
       "      <td>Jenny Beavan</td>\n",
       "      <td>winner</td>\n",
       "      <td>female</td>\n",
       "      <td>female winner</td>\n",
       "    </tr>\n",
       "    <tr>\n",
       "      <th>5854</th>\n",
       "      <td>2021</td>\n",
       "      <td>DOCUMENTARY (Feature)</td>\n",
       "      <td>Summer of Soul (...Or, When the Revolution Cou...</td>\n",
       "      <td>David Dinerstein</td>\n",
       "      <td>winner</td>\n",
       "      <td>male</td>\n",
       "      <td>male winner</td>\n",
       "    </tr>\n",
       "    <tr>\n",
       "      <th>5855</th>\n",
       "      <td>2021</td>\n",
       "      <td>WRITING</td>\n",
       "      <td>The Worst Person in the World</td>\n",
       "      <td>Joachim Trier</td>\n",
       "      <td>nominated</td>\n",
       "      <td>male</td>\n",
       "      <td>male nominated</td>\n",
       "    </tr>\n",
       "  </tbody>\n",
       "</table>\n",
       "<p>5856 rows × 7 columns</p>\n",
       "</div>"
      ],
      "text/plain": [
       "      year               category  \\\n",
       "0     1927         CINEMATOGRAPHY   \n",
       "1     1927                WRITING   \n",
       "2     1927                WRITING   \n",
       "3     1927                WRITING   \n",
       "4     1927                WRITING   \n",
       "...    ...                    ...   \n",
       "5851  2021                WRITING   \n",
       "5852  2021         CINEMATOGRAPHY   \n",
       "5853  2021         COSTUME DESIGN   \n",
       "5854  2021  DOCUMENTARY (Feature)   \n",
       "5855  2021                WRITING   \n",
       "\n",
       "                                                   film              name  \\\n",
       "0                                     The Devil Dancer;     George Barnes   \n",
       "1                     The Private Life of Helen of Troy      Gerald Duffy   \n",
       "2                                            Underworld         Ben Hecht   \n",
       "3                                      The Last Command        Lajos Biro   \n",
       "4                                            7th Heaven   Benjamin Glazer   \n",
       "...                                                 ...               ...   \n",
       "5851                      The Worst Person in the World        Eskil Vogt   \n",
       "5852                               The Power of the Dog        Ari Wegner   \n",
       "5853                                            Cruella      Jenny Beavan   \n",
       "5854  Summer of Soul (...Or, When the Revolution Cou...  David Dinerstein   \n",
       "5855                      The Worst Person in the World     Joachim Trier   \n",
       "\n",
       "         status  gender               hue  \n",
       "0     nominated    male    male nominated  \n",
       "1     nominated    male    male nominated  \n",
       "2        winner    male       male winner  \n",
       "3     nominated    male    male nominated  \n",
       "4        winner    male       male winner  \n",
       "...         ...     ...               ...  \n",
       "5851  nominated    male    male nominated  \n",
       "5852  nominated  female  female nominated  \n",
       "5853     winner  female     female winner  \n",
       "5854     winner    male       male winner  \n",
       "5855  nominated    male    male nominated  \n",
       "\n",
       "[5856 rows x 7 columns]"
      ]
     },
     "execution_count": 82,
     "metadata": {},
     "output_type": "execute_result"
    }
   ],
   "source": [
    "oscar_df"
   ]
  },
  {
   "cell_type": "markdown",
   "metadata": {
    "collapsed": false,
    "pycharm": {
     "name": "#%% md\n"
    }
   },
   "source": [
    "\n",
    "#### Indicações\n",
    "- Cinematografia é a categoria mais desigual: apenas 1 mulher indicada (0.29%), em 2017. Seguida por Direção (1.76%), com apenas 8 indicadas e 3 ganhadoras, duas das quais nos últimos três anos.\n",
    "- Design de figurino é a única categoria majoritariamente feminina - 57.46% dos indicados são mulheres"
   ]
  },
  {
   "cell_type": "code",
   "execution_count": 84,
   "metadata": {
    "collapsed": false,
    "pycharm": {
     "name": "#%%\n"
    }
   },
   "outputs": [
    {
     "name": "stdout",
     "output_type": "stream",
     "text": [
      "Porcentagem de mulheres indicadas:\n",
      "DIRECTING: 1.76%\n",
      "COSTUME DESIGN: 57.46%\n",
      "BEST PICTURE: 16.69%\n",
      "DOCUMENTARY (Feature): 27.45%\n",
      "WRITING: 11.00%\n",
      "CINEMATOGRAPHY: 0.29%\n",
      "FILM EDITING: 13.76%\n",
      "SHORT FILM: 16.49%\n"
     ]
    }
   ],
   "source": [
    "# INDICADAS\n",
    "print(\"Porcentagem de mulheres indicadas:\")\n",
    "for category in set(oscar_df.category):\n",
    "\ttotal_category = len(oscar_df[oscar_df.category == category])\n",
    "\twomen_total = len(oscar_df[(oscar_df.gender == 'female') &\n",
    "\t\t\t\t\t\t\t   (oscar_df.category == category)])\n",
    "\tpercent = (women_total / total_category) * 100\n",
    "\tprint(\"%s: %.2f%%\" % (category, percent))\n",
    "\t# print(\"%s: %.2f%%. Total: %d, Mulheres:  %d\" % (category, percent,\n",
    "\t# \t\t\t\t\t\t\t\t\t\t\t\ttotal_category, women_total))"
   ]
  },
  {
   "cell_type": "code",
   "execution_count": 85,
   "metadata": {
    "collapsed": false,
    "pycharm": {
     "name": "#%%\n"
    }
   },
   "outputs": [
    {
     "name": "stdout",
     "output_type": "stream",
     "text": [
      "\n",
      "Porcentagem de mulheres entre ganhadores:\n",
      "DIRECTING: 3.26%\n",
      "COSTUME DESIGN: 60.33%\n",
      "BEST PICTURE: 10.71%\n",
      "DOCUMENTARY (Feature): 18.60%\n",
      "WRITING: 8.11%\n",
      "CINEMATOGRAPHY: 0.00%\n",
      "FILM EDITING: 12.07%\n",
      "SHORT FILM: 15.22%\n"
     ]
    }
   ],
   "source": [
    "# GANHADORAS\n",
    "print(\"\\nPorcentagem de mulheres entre ganhadores:\")\n",
    "for category in set(oscar_df.category):\n",
    "\ttotal_category = len(oscar_df[(oscar_df.category == category) &\n",
    "\t\t\t\t\t\t\t\t  (oscar_df.status == 'winner')])\n",
    "\twomen_total = len(oscar_df[(oscar_df.gender == 'female') &\n",
    "\t\t\t\t\t\t\t   (oscar_df.category == category) &\n",
    "\t\t\t\t\t\t\t   (oscar_df.status == 'winner')])\n",
    "\tpercent = (women_total / total_category) * 100\n",
    "\tprint(\"%s: %.2f%%\" % (category, percent))\n",
    "\t# print(\"%s: %.2f%%. Total: %d, Mulheres:  %d\" % (category, percent,\n",
    "\t# \t\t\t\t\t\t\t\t\t\t\t\ttotal_category, women_total))"
   ]
  },
  {
   "cell_type": "code",
   "execution_count": 86,
   "metadata": {
    "collapsed": false,
    "pycharm": {
     "name": "#%%\n"
    }
   },
   "outputs": [
    {
     "data": {
      "text/html": [
       "<div>\n",
       "<style scoped>\n",
       "    .dataframe tbody tr th:only-of-type {\n",
       "        vertical-align: middle;\n",
       "    }\n",
       "\n",
       "    .dataframe tbody tr th {\n",
       "        vertical-align: top;\n",
       "    }\n",
       "\n",
       "    .dataframe thead th {\n",
       "        text-align: right;\n",
       "    }\n",
       "</style>\n",
       "<table border=\"1\" class=\"dataframe\">\n",
       "  <thead>\n",
       "    <tr style=\"text-align: right;\">\n",
       "      <th></th>\n",
       "      <th>year</th>\n",
       "      <th>category</th>\n",
       "      <th>film</th>\n",
       "      <th>name</th>\n",
       "      <th>status</th>\n",
       "      <th>gender</th>\n",
       "      <th>hue</th>\n",
       "    </tr>\n",
       "  </thead>\n",
       "  <tbody>\n",
       "    <tr>\n",
       "      <th>5450</th>\n",
       "      <td>2017</td>\n",
       "      <td>CINEMATOGRAPHY</td>\n",
       "      <td>Mudbound</td>\n",
       "      <td>Rachel Morrison</td>\n",
       "      <td>nominated</td>\n",
       "      <td>female</td>\n",
       "      <td>female nominated</td>\n",
       "    </tr>\n",
       "    <tr>\n",
       "      <th>5852</th>\n",
       "      <td>2021</td>\n",
       "      <td>CINEMATOGRAPHY</td>\n",
       "      <td>The Power of the Dog</td>\n",
       "      <td>Ari Wegner</td>\n",
       "      <td>nominated</td>\n",
       "      <td>female</td>\n",
       "      <td>female nominated</td>\n",
       "    </tr>\n",
       "  </tbody>\n",
       "</table>\n",
       "</div>"
      ],
      "text/plain": [
       "      year        category                  film             name     status  \\\n",
       "5450  2017  CINEMATOGRAPHY              Mudbound  Rachel Morrison  nominated   \n",
       "5852  2021  CINEMATOGRAPHY  The Power of the Dog       Ari Wegner  nominated   \n",
       "\n",
       "      gender               hue  \n",
       "5450  female  female nominated  \n",
       "5852  female  female nominated  "
      ]
     },
     "execution_count": 86,
     "metadata": {},
     "output_type": "execute_result"
    }
   ],
   "source": [
    "# MELHOR CINEMATOGRAFIA\n",
    "oscar_df[(oscar_df.category == 'CINEMATOGRAPHY') &\n",
    "\t\t (oscar_df.gender == 'female')]"
   ]
  },
  {
   "cell_type": "code",
   "execution_count": 87,
   "metadata": {
    "collapsed": false,
    "pycharm": {
     "name": "#%%\n"
    }
   },
   "outputs": [
    {
     "data": {
      "text/html": [
       "<div>\n",
       "<style scoped>\n",
       "    .dataframe tbody tr th:only-of-type {\n",
       "        vertical-align: middle;\n",
       "    }\n",
       "\n",
       "    .dataframe tbody tr th {\n",
       "        vertical-align: top;\n",
       "    }\n",
       "\n",
       "    .dataframe thead th {\n",
       "        text-align: right;\n",
       "    }\n",
       "</style>\n",
       "<table border=\"1\" class=\"dataframe\">\n",
       "  <thead>\n",
       "    <tr style=\"text-align: right;\">\n",
       "      <th></th>\n",
       "      <th>year</th>\n",
       "      <th>category</th>\n",
       "      <th>film</th>\n",
       "      <th>name</th>\n",
       "      <th>status</th>\n",
       "      <th>gender</th>\n",
       "      <th>hue</th>\n",
       "    </tr>\n",
       "  </thead>\n",
       "  <tbody>\n",
       "    <tr>\n",
       "      <th>2587</th>\n",
       "      <td>1976</td>\n",
       "      <td>DIRECTING</td>\n",
       "      <td>Seven Beauties</td>\n",
       "      <td>Lina Wertmüller</td>\n",
       "      <td>nominated</td>\n",
       "      <td>female</td>\n",
       "      <td>female nominated</td>\n",
       "    </tr>\n",
       "    <tr>\n",
       "      <th>3648</th>\n",
       "      <td>1993</td>\n",
       "      <td>DIRECTING</td>\n",
       "      <td>The Piano</td>\n",
       "      <td>Jane Campion</td>\n",
       "      <td>nominated</td>\n",
       "      <td>female</td>\n",
       "      <td>female nominated</td>\n",
       "    </tr>\n",
       "    <tr>\n",
       "      <th>4333</th>\n",
       "      <td>2003</td>\n",
       "      <td>DIRECTING</td>\n",
       "      <td>Lost in Translation</td>\n",
       "      <td>Sofia Coppola</td>\n",
       "      <td>nominated</td>\n",
       "      <td>female</td>\n",
       "      <td>female nominated</td>\n",
       "    </tr>\n",
       "    <tr>\n",
       "      <th>4775</th>\n",
       "      <td>2009</td>\n",
       "      <td>DIRECTING</td>\n",
       "      <td>The Hurt Locker</td>\n",
       "      <td>Kathryn Bigelow</td>\n",
       "      <td>winner</td>\n",
       "      <td>female</td>\n",
       "      <td>female winner</td>\n",
       "    </tr>\n",
       "    <tr>\n",
       "      <th>5418</th>\n",
       "      <td>2017</td>\n",
       "      <td>DIRECTING</td>\n",
       "      <td>Lady Bird</td>\n",
       "      <td>Greta Gerwig</td>\n",
       "      <td>nominated</td>\n",
       "      <td>female</td>\n",
       "      <td>female nominated</td>\n",
       "    </tr>\n",
       "    <tr>\n",
       "      <th>5743</th>\n",
       "      <td>2020</td>\n",
       "      <td>DIRECTING</td>\n",
       "      <td>Nomadland</td>\n",
       "      <td>Chloé Zhao</td>\n",
       "      <td>winner</td>\n",
       "      <td>female</td>\n",
       "      <td>female winner</td>\n",
       "    </tr>\n",
       "    <tr>\n",
       "      <th>5744</th>\n",
       "      <td>2020</td>\n",
       "      <td>DIRECTING</td>\n",
       "      <td>Promising Young Woman</td>\n",
       "      <td>Emerald Fennell</td>\n",
       "      <td>nominated</td>\n",
       "      <td>female</td>\n",
       "      <td>female nominated</td>\n",
       "    </tr>\n",
       "    <tr>\n",
       "      <th>5830</th>\n",
       "      <td>2021</td>\n",
       "      <td>DIRECTING</td>\n",
       "      <td>The Power of the Dog</td>\n",
       "      <td>Jane Campion</td>\n",
       "      <td>winner</td>\n",
       "      <td>female</td>\n",
       "      <td>female winner</td>\n",
       "    </tr>\n",
       "  </tbody>\n",
       "</table>\n",
       "</div>"
      ],
      "text/plain": [
       "      year   category                   film             name     status  \\\n",
       "2587  1976  DIRECTING         Seven Beauties  Lina Wertmüller  nominated   \n",
       "3648  1993  DIRECTING              The Piano     Jane Campion  nominated   \n",
       "4333  2003  DIRECTING    Lost in Translation    Sofia Coppola  nominated   \n",
       "4775  2009  DIRECTING        The Hurt Locker  Kathryn Bigelow     winner   \n",
       "5418  2017  DIRECTING              Lady Bird     Greta Gerwig  nominated   \n",
       "5743  2020  DIRECTING              Nomadland       Chloé Zhao     winner   \n",
       "5744  2020  DIRECTING  Promising Young Woman  Emerald Fennell  nominated   \n",
       "5830  2021  DIRECTING   The Power of the Dog     Jane Campion     winner   \n",
       "\n",
       "      gender               hue  \n",
       "2587  female  female nominated  \n",
       "3648  female  female nominated  \n",
       "4333  female  female nominated  \n",
       "4775  female     female winner  \n",
       "5418  female  female nominated  \n",
       "5743  female     female winner  \n",
       "5744  female  female nominated  \n",
       "5830  female     female winner  "
      ]
     },
     "execution_count": 87,
     "metadata": {},
     "output_type": "execute_result"
    }
   ],
   "source": [
    "# MELHOR DIREÇÃO\n",
    "oscar_df[(oscar_df.category == 'DIRECTING') &\n",
    "\t\t (oscar_df.gender == 'female')]"
   ]
  },
  {
   "cell_type": "code",
   "execution_count": 88,
   "metadata": {
    "collapsed": false,
    "pycharm": {
     "name": "#%%\n"
    }
   },
   "outputs": [
    {
     "name": "stdout",
     "output_type": "stream",
     "text": [
      "Porcentagem de mulheres no século passado: 13.2%\n",
      "Porcentagem de mulheres neste século: 24.0%\n",
      "Aumento de 10.8%\n"
     ]
    }
   ],
   "source": [
    "total_1900 = len(oscar_df[oscar_df.year < 2000])\n",
    "total_2000 = len(oscar_df[oscar_df.year >= 2000])\n",
    "women_1900 = len(oscar_df[(oscar_df.year < 2000) &\n",
    "\t\t\t\t\t\t  (oscar_df.gender == 'female')])\n",
    "women_2000 = len(oscar_df[(oscar_df.year >= 2000) &\n",
    "\t\t\t\t\t\t  (oscar_df.gender == 'female')])\n",
    "pct_1900 = (women_1900 / total_1900) * 100\n",
    "pct_2000 = (women_2000 / total_2000) * 100\n",
    "\n",
    "print('Porcentagem de mulheres no século passado: %.1f%%' % pct_1900)\n",
    "print('Porcentagem de mulheres neste século: %.1f%%' % pct_2000)\n",
    "print('Aumento de %.1f%%' % (pct_2000 - pct_1900))\n",
    "\n"
   ]
  },
  {
   "cell_type": "code",
   "execution_count": 93,
   "metadata": {
    "collapsed": false,
    "pycharm": {
     "name": "#%%\n"
    }
   },
   "outputs": [
    {
     "name": "stdout",
     "output_type": "stream",
     "text": [
      "DIRECTING\n",
      "Porcentagem de mulheres no século passado: 1.1%\n",
      "Porcentagem de mulheres neste século: 30.0%\n",
      "Aumento de 28.9%\n",
      "\n",
      "COSTUME DESIGN\n",
      "Porcentagem de mulheres no século passado: 57.4%\n",
      "Porcentagem de mulheres neste século: 58.3%\n",
      "Aumento de 0.9%\n",
      "\n",
      "BEST PICTURE\n",
      "Porcentagem de mulheres no século passado: 15.8%\n",
      "Porcentagem de mulheres neste século: 29.6%\n",
      "Aumento de 13.8%\n",
      "\n",
      "DOCUMENTARY (Feature)\n",
      "Porcentagem de mulheres no século passado: 26.2%\n",
      "Porcentagem de mulheres neste século: 50.0%\n",
      "Aumento de 23.8%\n",
      "\n",
      "WRITING\n",
      "Porcentagem de mulheres no século passado: 10.7%\n",
      "Porcentagem de mulheres neste século: 21.7%\n",
      "Aumento de 11.0%\n",
      "\n",
      "CINEMATOGRAPHY\n",
      "Porcentagem de mulheres no século passado: 0.1%\n",
      "Porcentagem de mulheres neste século: 10.0%\n",
      "Aumento de 9.9%\n",
      "\n",
      "FILM EDITING\n",
      "Porcentagem de mulheres no século passado: 13.7%\n",
      "Porcentagem de mulheres neste século: 18.2%\n",
      "Aumento de 4.5%\n",
      "\n",
      "SHORT FILM\n",
      "Porcentagem de mulheres no século passado: 15.6%\n",
      "Porcentagem de mulheres neste século: 40.0%\n",
      "Aumento de 24.4%\n",
      "\n"
     ]
    }
   ],
   "source": [
    "# AUMENTO PERCENTUAL POR CATEGORIA\n",
    "for category in set(oscar_df.category):\n",
    "\tprint(category)\n",
    "\ttotal_1900 = len(oscar_df[(oscar_df.year < 2000) &\n",
    "\t\t\t\t\t\t\t(oscar_df.category == category)])\n",
    "\ttotal_2000 = len(oscar_df[(oscar_df.year >= 2000) &\n",
    "\t\t\t\t\t\t\t(oscar_df.category == category)])\n",
    "\twomen_1900 = len(oscar_df[(oscar_df.year < 2000) &\n",
    "\t\t\t\t\t\t\t(oscar_df.gender == 'female') &\n",
    "\t\t\t\t\t\t\t(oscar_df.category == category)])\n",
    "\twomen_2000 = len(oscar_df[(oscar_df.year >= 2000) &\n",
    "\t\t\t\t\t\t\t(oscar_df.gender == 'female') &\n",
    "\t\t\t\t\t\t\t(oscar_df.category == category)])\n",
    "\twomenpct_1900 = (women_1900 / total_1900) * 100\n",
    "\twomenpct_2000 = (women_2000 / total_2000) * 100\n",
    "\n",
    "\tprint('Porcentagem de mulheres no século passado: %.1f%%' % womenpct_1900)\n",
    "\tprint('Porcentagem de mulheres neste século: %.1f%%' % womenpct_2000)\n",
    "\tprint('Aumento de %.1f%%\\n' % (womenpct_2000 - womenpct_1900))"
   ]
  },
  {
   "cell_type": "code",
   "execution_count": 90,
   "metadata": {
    "collapsed": false,
    "pycharm": {
     "name": "#%%\n"
    }
   },
   "outputs": [
    {
     "data": {
      "image/png": "[encoded data removed]",
      "text/plain": [
       "<Figure size 432x288 with 1 Axes>"
      ]
     },
     "metadata": {
      "needs_background": "light"
     },
     "output_type": "display_data"
    }
   ],
   "source": [
    "# INDICADOS EM TODAS AS CATEGORIAS\n",
    "\n",
    "g = sns.histplot(data=oscar_df, x='year', hue='gender', palette=[cmap_reds(0.7), cmap_reds(1.0)])\n",
    "g.set(xlabel='Ano', ylabel='Indicações')\n",
    "plt.legend(['Mulheres', 'Homens'], bbox_to_anchor=(1.02, 0.3), frameon=False)\n",
    "# plt.show()\n",
    "plt.savefig('../images/all_categories.png', dpi=250)"
   ]
  },
  {
   "cell_type": "code",
   "execution_count": null,
   "metadata": {
    "collapsed": false,
    "pycharm": {
     "is_executing": true,
     "name": "#%%\n"
    }
   },
   "outputs": [
    {
     "data": {
      "image/png": "[encoded data removed]",
      "text/plain": [
       "<Figure size 2880x360 with 8 Axes>"
      ]
     },
     "metadata": {
      "needs_background": "light"
     },
     "output_type": "display_data"
    }
   ],
   "source": [
    "# INDICADOS POR CATEGORIA, colunas não empilhadas\n",
    "g = sns.displot(data=oscar_df, x='year', hue='gender', col='category', legend=False, palette=[cmap_reds(0.7), cmap_reds(1.0)])\n",
    "g.set(xlabel='Ano', ylabel='Indicações')\n",
    "plt.legend(['Mulheres', 'Homens'], bbox_to_anchor=(1.02, 0.3), frameon=False)\n",
    "plt.show()\n",
    "g.savefig('../images/categories.png', dpi=250)"
   ]
  },
  {
   "cell_type": "code",
   "execution_count": 92,
   "metadata": {
    "collapsed": false,
    "pycharm": {
     "name": "#%%\n"
    }
   },
   "outputs": [
    {
     "data": {
      "image/png": "[encoded data removed]",
      "text/plain": [
       "<Figure size 2880x360 with 8 Axes>"
      ]
     },
     "metadata": {
      "needs_background": "light"
     },
     "output_type": "display_data"
    }
   ],
   "source": [
    "# INDICADOS POR CATEGORIA, colunas empilhadas\n",
    "g = sns.displot(data=oscar_df, x='year', hue='gender', col='category', multiple='stack', legend=False, palette=[cmap_reds(0.7), cmap_reds(1.0)])\n",
    "g.set(xlabel='Ano', ylabel='Indicações')\n",
    "plt.legend(['Mulheres', 'Homens'], bbox_to_anchor=(1.02, 0.3), frameon=False)\n",
    "plt.show()\n",
    "g.savefig('../images/categories_nominated_stack.png', dpi=250)"
   ]
  }
 ],
 "metadata": {
  "kernelspec": {
   "display_name": "Python 3.10.4 ('cdia')",
   "language": "python",
   "name": "python3"
  },
  "language_info": {
   "codemirror_mode": {
    "name": "ipython",
    "version": 3
   },
   "file_extension": ".py",
   "mimetype": "text/x-python",
   "name": "python",
   "nbconvert_exporter": "python",
   "pygments_lexer": "ipython3",
   "version": "3.10.4"
  },
  "vscode": {
   "interpreter": {
    "hash": "6f70256d7645d6c334005571eeba54d69a94f5c9ce16d58ab69ff88c70fdfd07"
   }
  }
 },
 "nbformat": 4,
 "nbformat_minor": 5
}
