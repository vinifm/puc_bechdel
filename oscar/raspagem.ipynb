{
 "cells": [
  {
   "cell_type": "code",
   "execution_count": 1,
   "outputs": [],
   "source": [
    "import requests\n",
    "from bs4 import BeautifulSoup\n",
    "import pandas as pd\n",
    "import re\n",
    "import gender_guesser.detector as gender\n",
    "import matplotlib.pyplot as plt\n",
    "import seaborn as sns"
   ],
   "metadata": {
    "collapsed": false,
    "pycharm": {
     "name": "#%%\n"
    }
   }
  },
  {
   "cell_type": "code",
   "execution_count": 2,
   "outputs": [],
   "source": [
    "cmap_reds = plt.cm.get_cmap('Reds')\n",
    "sns.set_palette('Reds')"
   ],
   "metadata": {
    "collapsed": false,
    "pycharm": {
     "name": "#%%\n"
    }
   }
  },
  {
   "cell_type": "markdown",
   "source": [
    "#### Raspagem: lista de mulheres nomeadas e ganhadoras do Oscar em categorias em que gêneros competem.\n",
    "\n",
    "**Obs.: Essa foi uma raspagem inicial de uma página da Wikipedia. No projeto final, a fonte usada foi a base de dados do Oscar mostrada mais abaixo.**\n",
    "\n",
    "Como alguns elementos ocupam mais que uma linha, não é possível fazer a raspagem iterando entre os múltiplos de cada célula. A solução encontrada foi:\n",
    "\n",
    "- Para o ano ('year'): tentar converter os 4 primeiros caracteres da célula em inteiro. Se não houver erro, é porque a célula é um ano válido; ele é salvo na variável `new_year`.\n",
    "- Para o status ('Nominated' ou 'Won'): todas as células de status possuem `<td class=\"no table-no2\" (...)>` para _Nominated_ ou `<td class=\"yes table-yes2\" (...)>` para _Won_. Verifica-se se a célula atual é uma dessas e, se sim, o texto dela, da categoria (título da tabela) e do ano `new_year` é adicionado em suas respectivas listas.\n"
   ],
   "metadata": {
    "collapsed": false,
    "pycharm": {
     "name": "#%% md\n"
    }
   }
  },
  {
   "cell_type": "code",
   "execution_count": 3,
   "outputs": [],
   "source": [
    "url = \"https://en.wikipedia.org/wiki/List_of_female_Academy_Award_winners_and_nominees_for_non-gendered_categories\"\n",
    "page = requests.get(url)\n",
    "soup = BeautifulSoup(page.content, 'html.parser')\n",
    "\n",
    "year = []\n",
    "category = []\n",
    "status = []\n",
    "all_tables = soup.find_all(class_='wikitable')\n",
    "\n",
    "for table in all_tables:\n",
    "\ttd = table.find_all('td')\n",
    "\tnew_year = 0\n",
    "\tfor i in range(0, len(td)):\n",
    "\t\ttry:\n",
    "\t\t\told_year = new_year\n",
    "\t\t\tnew_year = int(td[i].text[0:4])\n",
    "\t\t\tif new_year < 1000:\n",
    "\t\t\t\tnew_year = old_year\n",
    "\t\texcept ValueError:\n",
    "\t\t\tpass\n",
    "\t\tif td[i].get('class'):\n",
    "\t\t\tstatus.append(td[i].text[0:-1])\n",
    "\t\t\tcategory.append(td[0].text[18:-1])\n",
    "\t\t\tif new_year != 0:\n",
    "\t\t\t\tyear.append(new_year)\n",
    "\n",
    "oscar_women_df = pd.DataFrame({\n",
    "\t'year': year,\n",
    "\t'category': category,\n",
    "\t'status': status\n",
    "})\n",
    "\n",
    "#\trenomeia as categorias que possuíam sobrescrito no título.\n",
    "oscar_women_df.category = oscar_women_df.category.replace({\n",
    "\t'Best Sound [note 12]': 'Best Sound Mixing',\n",
    "\t'Best Original Score [note 7]': 'Best Original Score'\n",
    "})\n",
    "\n",
    "#\tcorrige um typo na tabela original.\n",
    "oscar_women_df.status = oscar_women_df.status.replace({'Nominated}': 'Nominated'})\n"
   ],
   "metadata": {
    "collapsed": false,
    "pycharm": {
     "name": "#%%\n"
    }
   }
  },
  {
   "cell_type": "markdown",
   "source": [
    "# Raspagem: [base de dados da Academia de Artes e Ciências Cinematográficas](https://awardsdatabase.oscars.org/).\n",
    "Devido à dinamicidade do site, para a automação completa seria necessária o uso do Selenium. Para os fins do projeto, o código da página de busca avançada foi salvo nos arquivos `nominees-men.html` e `nominees-women.html`. As páginas possuem as seguintes categorias:\n",
    "\n",
    "1. DIRECTING\n",
    "2. BEST PICTURE\n",
    "3. FILM EDITING\n",
    "4. WRITING\n",
    "5. COSTUME DESIGN\n",
    "6. DOCUMENTARY (Feature)\n",
    "7. CINEMATOGRAPHY\n",
    "8. SHORT FILM\n",
    "\n",
    "Obs.: Quando alguém é indicado por dois filmes no mesmo ano, somente o primeiro filme é minerado (e terminado por ';'). Como a análise é focada na pessoa nomeada e não no filme, essa questão não foi tratada."
   ],
   "metadata": {
    "collapsed": false,
    "pycharm": {
     "name": "#%% md\n"
    }
   }
  },
  {
   "cell_type": "code",
   "execution_count": 4,
   "outputs": [],
   "source": [
    "# Cria o dataframe para páginas de buscas com múltiplas categorias.\n",
    "def get_oscar_df(file):\n",
    "\tf = open(file)\n",
    "\tsoup = BeautifulSoup(f, 'html.parser')\n",
    "\tdf = pd.DataFrame({'year': [], 'category': [], 'film': [], 'name': [], 'status': []})\n",
    "\n",
    "\tall_groups = soup.find_all(class_='awards-result-chron result-group group-awardcategory-chron')\n",
    "\tfor group in all_groups:\n",
    "\t\tyear = group.find(class_=\"result-group-title\").text.strip()[0:4]\n",
    "\t\tall_categories = group.find_all(class_=\"result-subgroup subgroup-awardcategory-chron\")\n",
    "\t\tfor each_category in all_categories:\n",
    "\t\t\tcategory = each_category.find(class_=\"result-subgroup-title\").text.strip()\n",
    "\n",
    "\t\t\tif category.split()[0] == 'SHORT':\n",
    "\t\t\t\tall_films = each_category.find_all(class_=\"result-details awards-result-other\")\n",
    "\t\t\telse:\n",
    "\t\t\t\tall_films = each_category.find_all(class_=\"result-details awards-result-actingorsimilar\")\n",
    "\t\t\tfor row in all_films:\n",
    "\t\t\t\ttry:\n",
    "\t\t\t\t\tfilm = row.find(class_=\"awards-result-film-title\").text.strip()\n",
    "\t\t\t\texcept AttributeError:\n",
    "\t\t\t\t\tfilm = 'Error'\n",
    "\t\t\t\tif row.find(class_=\"glyphicon glyphicon-star\"):\n",
    "\t\t\t\t\tstatus = 'winner'\n",
    "\t\t\t\telse:\n",
    "\t\t\t\t\tstatus = 'nominated'\n",
    "\t\t\t\tall_names = re.split(r'; |: | and | & | by |, ', row.find(class_=\"awards-result-nominationstatement\").text)\n",
    "\t\t\t\tfor name in all_names:\n",
    "\t\t\t\t\tname = name.strip(' \\n()')\n",
    "\t\t\t\t\trow = pd.DataFrame({'year': [year],\n",
    "\t\t\t\t\t\t\t\t\t\t'category': [category],\n",
    "\t\t\t\t\t\t\t\t\t\t'film': [film],\n",
    "\t\t\t\t\t\t\t\t\t\t'name': [name],\n",
    "\t\t\t\t\t\t\t\t\t\t'status': [status]\n",
    "\t\t\t\t\t\t\t\t\t\t})\n",
    "\t\t\t\t\tdf = pd.concat([df, row], ignore_index=True)\n",
    "\n",
    "\tto_remove = ['Jr.', 'Producer', 'Producers', 'Adaptation', 'Art Direction',\n",
    "\t\t\t\t 'Interior Decoration', 'Set Decoration', 'Production Design',\n",
    "\t\t\t\t 'Screenplay', 'Written', 'Story', 'Stories',\n",
    "\t\t\t\t 'Adapted for the screen', 'Written for the screen']\n",
    "\tdf = df[df.film != 'Error']\n",
    "\tdf = df[-df.name.isin(to_remove)]\n",
    "\tf.close()\n",
    "\treturn df\n",
    "\n",
    "# padroniza os nomes das categorias\n",
    "def clean_categories(df):\n",
    "\tfor row in df.category:\n",
    "\t\twords = row.split()\n",
    "\t\tif words[0] == 'DIRECTING':\n",
    "\t\t\tdf.category = df.category.replace({row: 'DIRECTING'})\n",
    "\t\telif words[0] == 'WRITING':\n",
    "\t\t\tdf.category = df.category.replace({row: 'WRITING'})\n",
    "\t\telif words[0] == 'ART':\n",
    "\t\t\tdf.category = df.category.replace({row: 'ART DIRECTION'})\n",
    "\t\telif words[0] == 'CINEMATOGRAPHY':\n",
    "\t\t\tdf.category = df.category.replace({row: 'CINEMATOGRAPHY'})\n",
    "\t\telif words[0] == 'COSTUME':\n",
    "\t\t\tdf.category = df.category.replace({row: 'COSTUME DESIGN'})\n",
    "\t\telif words[0] == 'SPECIAL':\n",
    "\t\t\tdf.category = df.category.replace({row: 'VISUAL EFFECTS'})\n",
    "\t\telif words[0] == 'SOUND':\n",
    "\t\t\tdf.category = df.category.replace({row: 'SOUND'})\n",
    "\t\telif words[0] == 'SHORT':\n",
    "\t\t\tdf.category = df.category.replace({row: 'SHORT FILM'})\n",
    "\t\telif words[1] == 'MOTION':\n",
    "\t\t\tdf.category = df.category.replace({row: 'BEST PICTURE'})\n",
    "\treturn df\n"
   ],
   "metadata": {
    "collapsed": false,
    "pycharm": {
     "name": "#%%\n"
    }
   }
  },
  {
   "cell_type": "code",
   "execution_count": 5,
   "outputs": [],
   "source": [
    "# salva para csv:\n",
    "# women_df = get_oscar_df('oscar-pages/nominees-women.html')\n",
    "# men_df = get_oscar_df('oscar-pages/nominees-men.html')\n",
    "# women_df.to_csv('oscar-datasets/oscar-women-v0.csv', index=False)\n",
    "# men_df.to_csv('oscar-datasets/oscar-men-v0.csv', index=False)\n"
   ],
   "metadata": {
    "collapsed": false,
    "pycharm": {
     "name": "#%%\n"
    }
   }
  },
  {
   "cell_type": "markdown",
   "source": [
    "#### Limpando os datasets.\n",
    "Para categorias em que homens e mulheres eram indicados pelo mesmo filme, os indicados apareciam tanto na busca por homens quanto por mulheres. escolheu-se então usar o pacote [`gender-guesser`](https://pypi.org/project/gender-guesser/) para limpar os nomes masculinos da tabela feminina e vice-versa.\n",
    "\n",
    "Por esse método, 379 mulheres foram removidas do dataset masculino, e 501 homens do dataset feminino. Alguns nomes foram indicados mais de uma vez, então a alteração no tamanho dos datasets foi maior."
   ],
   "metadata": {
    "collapsed": false,
    "pycharm": {
     "name": "#%% md\n"
    }
   }
  },
  {
   "cell_type": "code",
   "execution_count": 6,
   "outputs": [
    {
     "name": "stdout",
     "output_type": "stream",
     "text": [
      "Qntd. de nomes femininos removidos: 345\n",
      "Qntd. de nomes masculinos removidos: 442\n"
     ]
    }
   ],
   "source": [
    "women_df = pd.read_csv('oscar-datasets/oscar-women-v0.csv')\n",
    "men_df = pd.read_csv('oscar-datasets/oscar-men-v0.csv')\n",
    "\n",
    "g = gender.Detector()\n",
    "\n",
    "female_names = []\n",
    "male_names = []\n",
    "\n",
    "for name in women_df.name.unique():\n",
    "\tfirst_name = name.split()[0]\n",
    "\tif g.get_gender(first_name) == 'male' or g.get_gender(first_name) == 'mostly_male':\n",
    "\t\tmale_names.append(name)\n",
    "women_df = women_df[-women_df.name.isin(male_names)]\n",
    "\n",
    "for name in men_df.name.unique():\n",
    "\tfirst_name = name.split()[0]\n",
    "\tif g.get_gender(first_name) == 'female' or g.get_gender(first_name) == 'mostly_female':\n",
    "\t\tfemale_names.append(name)\n",
    "men_df = men_df[-men_df.name.isin(female_names)]\n",
    "\n",
    "# converte anos para int\n",
    "women_df.year.astype(int)\n",
    "men_df.year.astype(int)\n",
    "\n",
    "print(\"Qntd. de nomes femininos removidos: %d\" % len(female_names))\n",
    "print(\"Qntd. de nomes masculinos removidos: %d\" % len(male_names))\n",
    "\n",
    "# padroniza as categorias:\n",
    "men_df = clean_categories(men_df)\n",
    "women_df = clean_categories(women_df)"
   ],
   "metadata": {
    "collapsed": false,
    "pycharm": {
     "name": "#%%\n"
    }
   }
  },
  {
   "cell_type": "code",
   "execution_count": 7,
   "outputs": [],
   "source": [
    "# salva os datasets tratados em um csv\n",
    "# women_df.to_csv('oscar-datasets/oscar-women-v1.csv', index=False)\n",
    "# men_df.to_csv('oscar-datasets/oscar-men-v1.csv', index=False)"
   ],
   "metadata": {
    "collapsed": false,
    "pycharm": {
     "name": "#%%\n"
    }
   }
  },
  {
   "cell_type": "code",
   "execution_count": 8,
   "outputs": [],
   "source": [
    "# adiciona a coluna gender em cada um\n",
    "women_df['gender'] = 'female'\n",
    "men_df['gender'] = 'male'\n",
    "\n",
    "# une os datasets e coloca-o em ordem cronológica\n",
    "# oscar_df = pd.concat([women_df, men_df])\n",
    "# oscar_df = oscar_df.sort_values(by='year')\n",
    "\n",
    "# salva em um dataset final\n",
    "# oscar_df.to_csv('oscar-datasets/oscar_dataset.csv', index=False)"
   ],
   "metadata": {
    "collapsed": false,
    "pycharm": {
     "name": "#%%\n"
    }
   }
  },
  {
   "cell_type": "markdown",
   "source": [
    "\n",
    "# Visualização dos dados\n"
   ],
   "metadata": {
    "collapsed": false,
    "pycharm": {
     "name": "#%% md\n"
    }
   }
  },
  {
   "cell_type": "code",
   "execution_count": 9,
   "outputs": [],
   "source": [
    "women_df = pd.read_csv('oscar-datasets/oscar-women-v1.csv')\n",
    "men_df = pd.read_csv('oscar-datasets/oscar-men-v1.csv')"
   ],
   "metadata": {
    "collapsed": false,
    "pycharm": {
     "name": "#%%\n"
    }
   }
  },
  {
   "cell_type": "code",
   "execution_count": 10,
   "outputs": [],
   "source": [
    "oscar_df = pd.read_csv('oscar-datasets/oscar_dataset.csv')\n",
    "\n",
    "# adiciona uma nova coluna que une gênero e status para facilitar plotagem.\n",
    "hue = []\n",
    "for index, row in oscar_df.iterrows():\n",
    "\thue.append(row.gender + ' ' + row.status)\n",
    "\n",
    "oscar_df['hue'] = hue"
   ],
   "metadata": {
    "collapsed": false,
    "pycharm": {
     "name": "#%%\n"
    }
   }
  },
  {
   "cell_type": "code",
   "execution_count": 11,
   "outputs": [
    {
     "data": {
      "text/plain": "      year        category                               film  \\\n0     1927  CINEMATOGRAPHY                  The Devil Dancer;   \n1     1927         WRITING  The Private Life of Helen of Troy   \n2     1927         WRITING                         Underworld   \n3     1927         WRITING                   The Last Command   \n4     1927         WRITING                         7th Heaven   \n...    ...             ...                                ...   \n5850  2021         WRITING               The Power of the Dog   \n5851  2021         WRITING      The Worst Person in the World   \n5852  2021  COSTUME DESIGN                            Cruella   \n5853  2021  COSTUME DESIGN                    Nightmare Alley   \n5854  2021         WRITING      The Worst Person in the World   \n\n                 name     status  gender               hue  \n0       George Barnes  nominated    male    male nominated  \n1        Gerald Duffy  nominated    male    male nominated  \n2           Ben Hecht     winner    male       male winner  \n3          Lajos Biro  nominated    male    male nominated  \n4     Benjamin Glazer     winner    male       male winner  \n...               ...        ...     ...               ...  \n5850     Jane Campion  nominated  female  female nominated  \n5851       Eskil Vogt  nominated    male    male nominated  \n5852     Jenny Beavan     winner  female     female winner  \n5853    Luis Sequeira  nominated    male    male nominated  \n5854    Joachim Trier  nominated    male    male nominated  \n\n[5855 rows x 7 columns]",
      "text/html": "<div>\n<style scoped>\n    .dataframe tbody tr th:only-of-type {\n        vertical-align: middle;\n    }\n\n    .dataframe tbody tr th {\n        vertical-align: top;\n    }\n\n    .dataframe thead th {\n        text-align: right;\n    }\n</style>\n<table border=\"1\" class=\"dataframe\">\n  <thead>\n    <tr style=\"text-align: right;\">\n      <th></th>\n      <th>year</th>\n      <th>category</th>\n      <th>film</th>\n      <th>name</th>\n      <th>status</th>\n      <th>gender</th>\n      <th>hue</th>\n    </tr>\n  </thead>\n  <tbody>\n    <tr>\n      <th>0</th>\n      <td>1927</td>\n      <td>CINEMATOGRAPHY</td>\n      <td>The Devil Dancer;</td>\n      <td>George Barnes</td>\n      <td>nominated</td>\n      <td>male</td>\n      <td>male nominated</td>\n    </tr>\n    <tr>\n      <th>1</th>\n      <td>1927</td>\n      <td>WRITING</td>\n      <td>The Private Life of Helen of Troy</td>\n      <td>Gerald Duffy</td>\n      <td>nominated</td>\n      <td>male</td>\n      <td>male nominated</td>\n    </tr>\n    <tr>\n      <th>2</th>\n      <td>1927</td>\n      <td>WRITING</td>\n      <td>Underworld</td>\n      <td>Ben Hecht</td>\n      <td>winner</td>\n      <td>male</td>\n      <td>male winner</td>\n    </tr>\n    <tr>\n      <th>3</th>\n      <td>1927</td>\n      <td>WRITING</td>\n      <td>The Last Command</td>\n      <td>Lajos Biro</td>\n      <td>nominated</td>\n      <td>male</td>\n      <td>male nominated</td>\n    </tr>\n    <tr>\n      <th>4</th>\n      <td>1927</td>\n      <td>WRITING</td>\n      <td>7th Heaven</td>\n      <td>Benjamin Glazer</td>\n      <td>winner</td>\n      <td>male</td>\n      <td>male winner</td>\n    </tr>\n    <tr>\n      <th>...</th>\n      <td>...</td>\n      <td>...</td>\n      <td>...</td>\n      <td>...</td>\n      <td>...</td>\n      <td>...</td>\n      <td>...</td>\n    </tr>\n    <tr>\n      <th>5850</th>\n      <td>2021</td>\n      <td>WRITING</td>\n      <td>The Power of the Dog</td>\n      <td>Jane Campion</td>\n      <td>nominated</td>\n      <td>female</td>\n      <td>female nominated</td>\n    </tr>\n    <tr>\n      <th>5851</th>\n      <td>2021</td>\n      <td>WRITING</td>\n      <td>The Worst Person in the World</td>\n      <td>Eskil Vogt</td>\n      <td>nominated</td>\n      <td>male</td>\n      <td>male nominated</td>\n    </tr>\n    <tr>\n      <th>5852</th>\n      <td>2021</td>\n      <td>COSTUME DESIGN</td>\n      <td>Cruella</td>\n      <td>Jenny Beavan</td>\n      <td>winner</td>\n      <td>female</td>\n      <td>female winner</td>\n    </tr>\n    <tr>\n      <th>5853</th>\n      <td>2021</td>\n      <td>COSTUME DESIGN</td>\n      <td>Nightmare Alley</td>\n      <td>Luis Sequeira</td>\n      <td>nominated</td>\n      <td>male</td>\n      <td>male nominated</td>\n    </tr>\n    <tr>\n      <th>5854</th>\n      <td>2021</td>\n      <td>WRITING</td>\n      <td>The Worst Person in the World</td>\n      <td>Joachim Trier</td>\n      <td>nominated</td>\n      <td>male</td>\n      <td>male nominated</td>\n    </tr>\n  </tbody>\n</table>\n<p>5855 rows × 7 columns</p>\n</div>"
     },
     "execution_count": 11,
     "metadata": {},
     "output_type": "execute_result"
    }
   ],
   "source": [
    "oscar_df"
   ],
   "metadata": {
    "collapsed": false,
    "pycharm": {
     "name": "#%%\n"
    }
   }
  },
  {
   "cell_type": "markdown",
   "source": [
    "\n",
    "#### Indicações\n",
    "- Cinematografia é a categoria mais desigual: apenas 1 mulher indicada (0.15%), em 2017. Seguida por Direção (1.76%), com apenas 8 indicadas e 3 ganhadoras, duas das quais nos últimos três anos.\n",
    "- Design de figurino é a única categoria majoritariamente feminina - 57.46% dos indicados são mulheres\n",
    "\n",
    "Obs.: A biblioteca gender-guesser descartou o nome de Ari Wegner indicada a cinematografia em 2021. A porcentagem correta é portanto de 0.29%"
   ],
   "metadata": {
    "collapsed": false,
    "pycharm": {
     "name": "#%% md\n"
    }
   }
  },
  {
   "cell_type": "code",
   "execution_count": 12,
   "outputs": [
    {
     "name": "stdout",
     "output_type": "stream",
     "text": [
      "Porcentagem de mulheres indicadas:\n",
      "CINEMATOGRAPHY: 0.15%\n",
      "SHORT FILM: 16.49%\n",
      "WRITING: 11.00%\n",
      "DIRECTING: 1.76%\n",
      "DOCUMENTARY (Feature): 27.45%\n",
      "FILM EDITING: 13.76%\n",
      "BEST PICTURE: 16.69%\n",
      "COSTUME DESIGN: 57.46%\n"
     ]
    }
   ],
   "source": [
    "# INDICADAS\n",
    "print(\"Porcentagem de mulheres indicadas:\")\n",
    "for category in set(oscar_df.category):\n",
    "\ttotal_category = len(oscar_df[oscar_df.category == category])\n",
    "\twomen_total = len(oscar_df[(oscar_df.gender == 'female') &\n",
    "\t\t\t\t\t\t\t   (oscar_df.category == category)])\n",
    "\tpercent = (women_total / total_category) * 100\n",
    "\tprint(\"%s: %.2f%%\" % (category, percent))\n",
    "\t# print(\"%s: %.2f%%. Total: %d, Mulheres:  %d\" % (category, percent,\n",
    "\t# \t\t\t\t\t\t\t\t\t\t\t\ttotal_category, women_total))"
   ],
   "metadata": {
    "collapsed": false,
    "pycharm": {
     "name": "#%%\n"
    }
   }
  },
  {
   "cell_type": "code",
   "execution_count": 13,
   "outputs": [
    {
     "name": "stdout",
     "output_type": "stream",
     "text": [
      "\n",
      "Porcentagem de mulheres entre ganhadores:\n",
      "CINEMATOGRAPHY: 0.00%\n",
      "SHORT FILM: 15.22%\n",
      "WRITING: 8.11%\n",
      "DIRECTING: 3.26%\n",
      "DOCUMENTARY (Feature): 18.60%\n",
      "FILM EDITING: 12.07%\n",
      "BEST PICTURE: 10.71%\n",
      "COSTUME DESIGN: 60.33%\n"
     ]
    }
   ],
   "source": [
    "# GANHADORAS\n",
    "print(\"\\nPorcentagem de mulheres entre ganhadores:\")\n",
    "for category in set(oscar_df.category):\n",
    "\ttotal_category = len(oscar_df[(oscar_df.category == category) &\n",
    "\t\t\t\t\t\t\t\t  (oscar_df.status == 'winner')])\n",
    "\twomen_total = len(oscar_df[(oscar_df.gender == 'female') &\n",
    "\t\t\t\t\t\t\t   (oscar_df.category == category) &\n",
    "\t\t\t\t\t\t\t   (oscar_df.status == 'winner')])\n",
    "\tpercent = (women_total / total_category) * 100\n",
    "\tprint(\"%s: %.2f%%\" % (category, percent))\n",
    "\t# print(\"%s: %.2f%%. Total: %d, Mulheres:  %d\" % (category, percent,\n",
    "\t# \t\t\t\t\t\t\t\t\t\t\t\ttotal_category, women_total))"
   ],
   "metadata": {
    "collapsed": false,
    "pycharm": {
     "name": "#%%\n"
    }
   }
  },
  {
   "cell_type": "code",
   "execution_count": 14,
   "outputs": [
    {
     "data": {
      "text/plain": "      year        category      film             name     status  gender  \\\n5449  2017  CINEMATOGRAPHY  Mudbound  Rachel Morrison  nominated  female   \n\n                   hue  \n5449  female nominated  ",
      "text/html": "<div>\n<style scoped>\n    .dataframe tbody tr th:only-of-type {\n        vertical-align: middle;\n    }\n\n    .dataframe tbody tr th {\n        vertical-align: top;\n    }\n\n    .dataframe thead th {\n        text-align: right;\n    }\n</style>\n<table border=\"1\" class=\"dataframe\">\n  <thead>\n    <tr style=\"text-align: right;\">\n      <th></th>\n      <th>year</th>\n      <th>category</th>\n      <th>film</th>\n      <th>name</th>\n      <th>status</th>\n      <th>gender</th>\n      <th>hue</th>\n    </tr>\n  </thead>\n  <tbody>\n    <tr>\n      <th>5449</th>\n      <td>2017</td>\n      <td>CINEMATOGRAPHY</td>\n      <td>Mudbound</td>\n      <td>Rachel Morrison</td>\n      <td>nominated</td>\n      <td>female</td>\n      <td>female nominated</td>\n    </tr>\n  </tbody>\n</table>\n</div>"
     },
     "execution_count": 14,
     "metadata": {},
     "output_type": "execute_result"
    }
   ],
   "source": [
    "# MELHOR CINEMATOGRAFIA\n",
    "oscar_df[(oscar_df.category == 'CINEMATOGRAPHY') &\n",
    "\t\t (oscar_df.gender == 'female')]"
   ],
   "metadata": {
    "collapsed": false,
    "pycharm": {
     "name": "#%%\n"
    }
   }
  },
  {
   "cell_type": "code",
   "execution_count": 15,
   "outputs": [
    {
     "data": {
      "text/plain": "      year   category                   film             name     status  \\\n2587  1976  DIRECTING         Seven Beauties  Lina Wertmüller  nominated   \n3648  1993  DIRECTING              The Piano     Jane Campion  nominated   \n4332  2003  DIRECTING    Lost in Translation    Sofia Coppola  nominated   \n4751  2009  DIRECTING        The Hurt Locker  Kathryn Bigelow     winner   \n5452  2017  DIRECTING              Lady Bird     Greta Gerwig  nominated   \n5746  2020  DIRECTING              Nomadland       Chloé Zhao     winner   \n5747  2020  DIRECTING  Promising Young Woman  Emerald Fennell  nominated   \n5831  2021  DIRECTING   The Power of the Dog     Jane Campion     winner   \n\n      gender               hue  \n2587  female  female nominated  \n3648  female  female nominated  \n4332  female  female nominated  \n4751  female     female winner  \n5452  female  female nominated  \n5746  female     female winner  \n5747  female  female nominated  \n5831  female     female winner  ",
      "text/html": "<div>\n<style scoped>\n    .dataframe tbody tr th:only-of-type {\n        vertical-align: middle;\n    }\n\n    .dataframe tbody tr th {\n        vertical-align: top;\n    }\n\n    .dataframe thead th {\n        text-align: right;\n    }\n</style>\n<table border=\"1\" class=\"dataframe\">\n  <thead>\n    <tr style=\"text-align: right;\">\n      <th></th>\n      <th>year</th>\n      <th>category</th>\n      <th>film</th>\n      <th>name</th>\n      <th>status</th>\n      <th>gender</th>\n      <th>hue</th>\n    </tr>\n  </thead>\n  <tbody>\n    <tr>\n      <th>2587</th>\n      <td>1976</td>\n      <td>DIRECTING</td>\n      <td>Seven Beauties</td>\n      <td>Lina Wertmüller</td>\n      <td>nominated</td>\n      <td>female</td>\n      <td>female nominated</td>\n    </tr>\n    <tr>\n      <th>3648</th>\n      <td>1993</td>\n      <td>DIRECTING</td>\n      <td>The Piano</td>\n      <td>Jane Campion</td>\n      <td>nominated</td>\n      <td>female</td>\n      <td>female nominated</td>\n    </tr>\n    <tr>\n      <th>4332</th>\n      <td>2003</td>\n      <td>DIRECTING</td>\n      <td>Lost in Translation</td>\n      <td>Sofia Coppola</td>\n      <td>nominated</td>\n      <td>female</td>\n      <td>female nominated</td>\n    </tr>\n    <tr>\n      <th>4751</th>\n      <td>2009</td>\n      <td>DIRECTING</td>\n      <td>The Hurt Locker</td>\n      <td>Kathryn Bigelow</td>\n      <td>winner</td>\n      <td>female</td>\n      <td>female winner</td>\n    </tr>\n    <tr>\n      <th>5452</th>\n      <td>2017</td>\n      <td>DIRECTING</td>\n      <td>Lady Bird</td>\n      <td>Greta Gerwig</td>\n      <td>nominated</td>\n      <td>female</td>\n      <td>female nominated</td>\n    </tr>\n    <tr>\n      <th>5746</th>\n      <td>2020</td>\n      <td>DIRECTING</td>\n      <td>Nomadland</td>\n      <td>Chloé Zhao</td>\n      <td>winner</td>\n      <td>female</td>\n      <td>female winner</td>\n    </tr>\n    <tr>\n      <th>5747</th>\n      <td>2020</td>\n      <td>DIRECTING</td>\n      <td>Promising Young Woman</td>\n      <td>Emerald Fennell</td>\n      <td>nominated</td>\n      <td>female</td>\n      <td>female nominated</td>\n    </tr>\n    <tr>\n      <th>5831</th>\n      <td>2021</td>\n      <td>DIRECTING</td>\n      <td>The Power of the Dog</td>\n      <td>Jane Campion</td>\n      <td>winner</td>\n      <td>female</td>\n      <td>female winner</td>\n    </tr>\n  </tbody>\n</table>\n</div>"
     },
     "execution_count": 15,
     "metadata": {},
     "output_type": "execute_result"
    }
   ],
   "source": [
    "# MELHOR DIREÇÃO\n",
    "oscar_df[(oscar_df.category == 'DIRECTING') &\n",
    "\t\t (oscar_df.gender == 'female')]"
   ],
   "metadata": {
    "collapsed": false,
    "pycharm": {
     "name": "#%%\n"
    }
   }
  },
  {
   "cell_type": "code",
   "execution_count": 16,
   "outputs": [
    {
     "name": "stdout",
     "output_type": "stream",
     "text": [
      "Porcentagem de mulheres no século passado: 13.2%\n",
      "Porcentagem de mulheres neste século: 23.9%\n",
      "Aumento de 10.8%\n"
     ]
    }
   ],
   "source": [
    "total_1900 = len(oscar_df[oscar_df.year < 2000])\n",
    "total_2000 = len(oscar_df[oscar_df.year >= 2000])\n",
    "women_1900 = len(oscar_df[(oscar_df.year < 2000) &\n",
    "\t\t\t\t\t\t  (oscar_df.gender == 'female')])\n",
    "women_2000 = len(oscar_df[(oscar_df.year >= 2000) &\n",
    "\t\t\t\t\t\t  (oscar_df.gender == 'female')])\n",
    "pct_1900 = (women_1900 / total_1900) * 100\n",
    "pct_2000 = (women_2000 / total_2000) * 100\n",
    "\n",
    "print('Porcentagem de mulheres no século passado: %.1f%%' % pct_1900)\n",
    "print('Porcentagem de mulheres neste século: %.1f%%' % pct_2000)\n",
    "print('Aumento de %.1f%%' % (pct_2000 - pct_1900))\n",
    "\n"
   ],
   "metadata": {
    "collapsed": false,
    "pycharm": {
     "name": "#%%\n"
    }
   }
  },
  {
   "cell_type": "code",
   "execution_count": 17,
   "outputs": [
    {
     "name": "stdout",
     "output_type": "stream",
     "text": [
      "CINEMATOGRAPHY\n",
      "Porcentagem de mulheres no século passado: 0.0%\n",
      "Porcentagem de mulheres neste século: 0.9%\n",
      "Aumento de 0.9%\n",
      "\n",
      "SHORT FILM\n",
      "Porcentagem de mulheres no século passado: 11.5%\n",
      "Porcentagem de mulheres neste século: 27.3%\n",
      "Aumento de 15.9%\n",
      "\n",
      "WRITING\n",
      "Porcentagem de mulheres no século passado: 9.7%\n",
      "Porcentagem de mulheres neste século: 14.9%\n",
      "Aumento de 5.2%\n",
      "\n",
      "DIRECTING\n",
      "Porcentagem de mulheres no século passado: 0.6%\n",
      "Porcentagem de mulheres neste século: 5.4%\n",
      "Aumento de 4.8%\n",
      "\n",
      "DOCUMENTARY (Feature)\n",
      "Porcentagem de mulheres no século passado: 21.7%\n",
      "Porcentagem de mulheres neste século: 34.9%\n",
      "Aumento de 13.3%\n",
      "\n",
      "FILM EDITING\n",
      "Porcentagem de mulheres no século passado: 13.3%\n",
      "Porcentagem de mulheres neste século: 15.2%\n",
      "Aumento de 1.9%\n",
      "\n",
      "BEST PICTURE\n",
      "Porcentagem de mulheres no século passado: 6.3%\n",
      "Porcentagem de mulheres neste século: 24.3%\n",
      "Aumento de 18.0%\n",
      "\n",
      "COSTUME DESIGN\n",
      "Porcentagem de mulheres no século passado: 52.6%\n",
      "Porcentagem de mulheres neste século: 74.6%\n",
      "Aumento de 21.9%\n",
      "\n"
     ]
    }
   ],
   "source": [
    "# AUMENTO PERCENTUAL POR CATEGORIA\n",
    "for category in set(oscar_df.category):\n",
    "\tprint(category)\n",
    "\ttotal_1900 = len(oscar_df[(oscar_df.year < 2000) &\n",
    "\t\t\t\t\t\t\t(oscar_df.category == category)])\n",
    "\ttotal_2000 = len(oscar_df[(oscar_df.year >= 2000) &\n",
    "\t\t\t\t\t\t\t(oscar_df.category == category)])\n",
    "\twomen_1900 = len(oscar_df[(oscar_df.year < 2000) &\n",
    "\t\t\t\t\t\t\t(oscar_df.gender == 'female') &\n",
    "\t\t\t\t\t\t\t(oscar_df.category == category)])\n",
    "\twomen_2000 = len(oscar_df[(oscar_df.year >= 2000) &\n",
    "\t\t\t\t\t\t\t(oscar_df.gender == 'female') &\n",
    "\t\t\t\t\t\t\t(oscar_df.category == category)])\n",
    "\twomenpct_1900 = (women_1900 / total_1900) * 100\n",
    "\twomenpct_2000 = (women_2000 / total_2000) * 100\n",
    "\n",
    "\tprint('Porcentagem de mulheres no século passado: %.1f%%' % womenpct_1900)\n",
    "\tprint('Porcentagem de mulheres neste século: %.1f%%' % womenpct_2000)\n",
    "\tprint('Aumento de %.1f%%\\n' % (womenpct_2000 - womenpct_1900))"
   ],
   "metadata": {
    "collapsed": false,
    "pycharm": {
     "name": "#%%\n"
    }
   }
  },
  {
   "cell_type": "code",
   "execution_count": 27,
   "outputs": [
    {
     "data": {
      "text/plain": "<Figure size 432x288 with 1 Axes>",
      "image/png": "[encoded data removed]"
     },
     "metadata": {
      "needs_background": "light"
     },
     "output_type": "display_data"
    }
   ],
   "source": [
    "# INDICADOS EM TODAS AS CATEGORIAS\n",
    "\n",
    "g = sns.histplot(data=oscar_df, x='year', hue='gender', palette=[cmap_reds(0.7), cmap_reds(1.0)])\n",
    "g.set(xlabel='Ano', ylabel='Indicações')\n",
    "plt.legend(['Mulheres', 'Homens'], bbox_to_anchor=(1.02, 0.3), frameon=False)\n",
    "# plt.show()\n",
    "plt.savefig('../images/all_categories.png', dpi=250)"
   ],
   "metadata": {
    "collapsed": false,
    "pycharm": {
     "name": "#%%\n"
    }
   }
  },
  {
   "cell_type": "code",
   "execution_count": 22,
   "outputs": [
    {
     "data": {
      "text/plain": "<Figure size 2880x360 with 8 Axes>",
      "image/png": "[encoded data removed]"
     },
     "metadata": {
      "needs_background": "light"
     },
     "output_type": "display_data"
    }
   ],
   "source": [
    "# INDICADOS POR CATEGORIA, colunas não empilhadas\n",
    "g = sns.displot(data=oscar_df, x='year', hue='gender', col='category', legend=False, palette=[cmap_reds(0.7), cmap_reds(1.0)])\n",
    "g.set(xlabel='Ano', ylabel='Indicações')\n",
    "plt.legend(['Mulheres', 'Homens'], bbox_to_anchor=(1.02, 0.3), frameon=False)\n",
    "plt.show()\n",
    "g.savefig('../images/categories.png', dpi=250)"
   ],
   "metadata": {
    "collapsed": false,
    "pycharm": {
     "name": "#%%\n"
    }
   }
  },
  {
   "cell_type": "code",
   "execution_count": 23,
   "outputs": [
    {
     "data": {
      "text/plain": "<Figure size 2880x360 with 8 Axes>",
      "image/png": "[encoded data removed]"
     },
     "metadata": {
      "needs_background": "light"
     },
     "output_type": "display_data"
    }
   ],
   "source": [
    "# INDICADOS POR CATEGORIA, colunas empilhadas\n",
    "g = sns.displot(data=oscar_df, x='year', hue='gender', col='category', multiple='stack', legend=False, palette=[cmap_reds(0.7), cmap_reds(1.0)])\n",
    "g.set(xlabel='Ano', ylabel='Indicações')\n",
    "plt.legend(['Mulheres', 'Homens'], bbox_to_anchor=(1.02, 0.3), frameon=False)\n",
    "plt.show()\n",
    "g.savefig('../images/categories_nominated_stack.png', dpi=250)"
   ],
   "metadata": {
    "collapsed": false,
    "pycharm": {
     "name": "#%%\n"
    }
   }
  }
 ],
 "metadata": {
  "kernelspec": {
   "display_name": "Python 3.10.4 ('cdia')",
   "language": "python",
   "name": "python3"
  },
  "language_info": {
   "codemirror_mode": {
    "name": "ipython",
    "version": 3
   },
   "file_extension": ".py",
   "mimetype": "text/x-python",
   "name": "python",
   "nbconvert_exporter": "python",
   "pygments_lexer": "ipython3",
   "version": "3.10.4"
  },
  "vscode": {
   "interpreter": {
    "hash": "6f70256d7645d6c334005571eeba54d69a94f5c9ce16d58ab69ff88c70fdfd07"
   }
  }
 },
 "nbformat": 4,
 "nbformat_minor": 5
}