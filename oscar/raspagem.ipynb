{
 "cells": [
  {
   "cell_type": "code",
   "execution_count": 1,
   "outputs": [],
   "source": [
    "import requests\n",
    "from bs4 import BeautifulSoup\n",
    "import pandas as pd\n",
    "import re\n",
    "import gender_guesser.detector as gender\n",
    "import matplotlib.pyplot as plt\n",
    "import seaborn as sns\n",
    "\n",
    "sns.set_theme()"
   ],
   "metadata": {
    "collapsed": false,
    "pycharm": {
     "name": "#%%\n"
    }
   }
  },
  {
   "cell_type": "code",
   "execution_count": 1,
   "outputs": [],
   "source": [],
   "metadata": {
    "collapsed": false,
    "pycharm": {
     "name": "#%%\n"
    }
   }
  },
  {
   "cell_type": "markdown",
   "source": [
    "#### Raspagem: lista de mulheres nomeadas e ganhadoras do Oscar em categorias em que gêneros competem.\n",
    "\n",
    "**Obs.: Essa foi uma raspagem inicial de uma página da Wikipedia. No projeto final, a fonte usada foi a base de dados do Oscar mostrada mais abaixo.**\n",
    "\n",
    "Como alguns elementos ocupam mais que uma linha, não é possível fazer a raspagem iterando entre os múltiplos de cada célula. A solução encontrada foi:\n",
    "\n",
    "- Para o ano ('year'): tentar converter os 4 primeiros caracteres da célula em inteiro. Se não houver erro, é porque a célula é um ano válido; ele é salvo na variável `new_year`.\n",
    "- Para o status ('Nominated' ou 'Won'): todas as células de status possuem `<td class=\"no table-no2\" (...)>` para _Nominated_ ou `<td class=\"yes table-yes2\" (...)>` para _Won_. Verifica-se se a célula atual é uma dessas e, se sim, o texto dela, da categoria (título da tabela) e do ano `new_year` é adicionado em suas respectivas listas.\n"
   ],
   "metadata": {
    "collapsed": false,
    "pycharm": {
     "name": "#%% md\n"
    }
   }
  },
  {
   "cell_type": "code",
   "execution_count": 2,
   "outputs": [],
   "source": [
    "url = \"https://en.wikipedia.org/wiki/List_of_female_Academy_Award_winners_and_nominees_for_non-gendered_categories\"\n",
    "page = requests.get(url)\n",
    "soup = BeautifulSoup(page.content, 'html.parser')\n",
    "\n",
    "year = []\n",
    "category = []\n",
    "status = []\n",
    "all_tables = soup.find_all(class_='wikitable')\n",
    "\n",
    "for table in all_tables:\n",
    "\ttd = table.find_all('td')\n",
    "\tnew_year = 0\n",
    "\tfor i in range(0, len(td)):\n",
    "\t\ttry:\n",
    "\t\t\told_year = new_year\n",
    "\t\t\tnew_year = int(td[i].text[0:4])\n",
    "\t\t\tif new_year < 1000:\n",
    "\t\t\t\tnew_year = old_year\n",
    "\t\texcept ValueError:\n",
    "\t\t\tpass\n",
    "\t\tif td[i].get('class'):\n",
    "\t\t\tstatus.append(td[i].text[0:-1])\n",
    "\t\t\tcategory.append(td[0].text[18:-1])\n",
    "\t\t\tif new_year != 0:\n",
    "\t\t\t\tyear.append(new_year)\n",
    "\n",
    "oscar_women_df = pd.DataFrame({\n",
    "\t'year': year,\n",
    "\t'category': category,\n",
    "\t'status': status\n",
    "})\n",
    "\n",
    "#\trenomeia as categorias que possuíam sobrescrito no título.\n",
    "oscar_women_df.category = oscar_women_df.category.replace({\n",
    "\t'Best Sound [note 12]': 'Best Sound Mixing',\n",
    "\t'Best Original Score [note 7]': 'Best Original Score'\n",
    "})\n",
    "\n",
    "#\tcorrige um typo na tabela original.\n",
    "oscar_women_df.status = oscar_women_df.status.replace({'Nominated}': 'Nominated'})\n"
   ],
   "metadata": {
    "collapsed": false,
    "pycharm": {
     "name": "#%%\n"
    }
   }
  },
  {
   "cell_type": "markdown",
   "source": [
    "# Raspagem: [base de dados da Academia de Artes e Ciências Cinematográficas](https://awardsdatabase.oscars.org/).\n",
    "Devido à dinamicidade do site, para a automação completa seria necessária o uso do Selenium. Para os fins do projeto, o código da página de busca avançada foi salvo nos arquivos `nominees-men.html` e `nominees-women.html`. As páginas possuem as seguintes categorias:\n",
    "\n",
    "1. DIRECTING\n",
    "2. BEST PICTURE\n",
    "3. FILM EDITING\n",
    "4. WRITING\n",
    "5. COSTUME DESIGN\n",
    "6. DOCUMENTARY (Feature)\n",
    "7. CINEMATOGRAPHY\n",
    "8. SHORT FILM\n",
    "\n",
    "Obs.: Quando alguém é indicado por dois filmes no mesmo ano, somente o primeiro filme é minerado (e terminado por ';'). Como a análise é focada na pessoa nomeada e não no filme, essa questão não foi tratada."
   ],
   "metadata": {
    "collapsed": false,
    "pycharm": {
     "name": "#%% md\n"
    }
   }
  },
  {
   "cell_type": "code",
   "execution_count": 3,
   "outputs": [],
   "source": [
    "# Cria o dataframe para páginas de buscas com múltiplas categorias.\n",
    "def get_oscar_df(file):\n",
    "\tf = open(file)\n",
    "\tsoup = BeautifulSoup(f, 'html.parser')\n",
    "\tdf = pd.DataFrame({'year': [], 'category': [], 'film': [], 'name': [], 'status': []})\n",
    "\n",
    "\tall_groups = soup.find_all(class_='awards-result-chron result-group group-awardcategory-chron')\n",
    "\tfor group in all_groups:\n",
    "\t\tyear = group.find(class_=\"result-group-title\").text.strip()[0:4]\n",
    "\t\tall_categories = group.find_all(class_=\"result-subgroup subgroup-awardcategory-chron\")\n",
    "\t\tfor each_category in all_categories:\n",
    "\t\t\tcategory = each_category.find(class_=\"result-subgroup-title\").text.strip()\n",
    "\n",
    "\t\t\tif category.split()[0] == 'SHORT':\n",
    "\t\t\t\tall_films = each_category.find_all(class_=\"result-details awards-result-other\")\n",
    "\t\t\telse:\n",
    "\t\t\t\tall_films = each_category.find_all(class_=\"result-details awards-result-actingorsimilar\")\n",
    "\t\t\tfor row in all_films:\n",
    "\t\t\t\ttry:\n",
    "\t\t\t\t\tfilm = row.find(class_=\"awards-result-film-title\").text.strip()\n",
    "\t\t\t\texcept AttributeError:\n",
    "\t\t\t\t\tfilm = 'Error'\n",
    "\t\t\t\tif row.find(class_=\"glyphicon glyphicon-star\"):\n",
    "\t\t\t\t\tstatus = 'winner'\n",
    "\t\t\t\telse:\n",
    "\t\t\t\t\tstatus = 'nominated'\n",
    "\t\t\t\tall_names = re.split(r'; |: | and | & | by |, ', row.find(class_=\"awards-result-nominationstatement\").text)\n",
    "\t\t\t\tfor name in all_names:\n",
    "\t\t\t\t\tname = name.strip(' \\n()')\n",
    "\t\t\t\t\trow = pd.DataFrame({'year': [year],\n",
    "\t\t\t\t\t\t\t\t\t\t'category': [category],\n",
    "\t\t\t\t\t\t\t\t\t\t'film': [film],\n",
    "\t\t\t\t\t\t\t\t\t\t'name': [name],\n",
    "\t\t\t\t\t\t\t\t\t\t'status': [status]\n",
    "\t\t\t\t\t\t\t\t\t\t})\n",
    "\t\t\t\t\tdf = pd.concat([df, row], ignore_index=True)\n",
    "\n",
    "\tto_remove = ['Jr.', 'Producer', 'Producers', 'Adaptation', 'Art Direction',\n",
    "\t\t\t\t 'Interior Decoration', 'Set Decoration', 'Production Design',\n",
    "\t\t\t\t 'Screenplay', 'Written', 'Story', 'Stories',\n",
    "\t\t\t\t 'Adapted for the screen', 'Written for the screen']\n",
    "\tdf = df[df.film != 'Error']\n",
    "\tdf = df[-df.name.isin(to_remove)]\n",
    "\tf.close()\n",
    "\treturn df\n",
    "\n",
    "# padroniza os nomes das categorias\n",
    "def clean_categories(df):\n",
    "\tfor row in df.category:\n",
    "\t\twords = row.split()\n",
    "\t\tif words[0] == 'DIRECTING':\n",
    "\t\t\tdf.category = df.category.replace({row: 'DIRECTING'})\n",
    "\t\telif words[0] == 'WRITING':\n",
    "\t\t\tdf.category = df.category.replace({row: 'WRITING'})\n",
    "\t\telif words[0] == 'ART':\n",
    "\t\t\tdf.category = df.category.replace({row: 'ART DIRECTION'})\n",
    "\t\telif words[0] == 'CINEMATOGRAPHY':\n",
    "\t\t\tdf.category = df.category.replace({row: 'CINEMATOGRAPHY'})\n",
    "\t\telif words[0] == 'COSTUME':\n",
    "\t\t\tdf.category = df.category.replace({row: 'COSTUME DESIGN'})\n",
    "\t\telif words[0] == 'SPECIAL':\n",
    "\t\t\tdf.category = df.category.replace({row: 'VISUAL EFFECTS'})\n",
    "\t\telif words[0] == 'SOUND':\n",
    "\t\t\tdf.category = df.category.replace({row: 'SOUND'})\n",
    "\t\telif words[0] == 'SHORT':\n",
    "\t\t\tdf.category = df.category.replace({row: 'SHORT FILM'})\n",
    "\t\telif words[1] == 'MOTION':\n",
    "\t\t\tdf.category = df.category.replace({row: 'BEST PICTURE'})\n",
    "\treturn df\n"
   ],
   "metadata": {
    "collapsed": false,
    "pycharm": {
     "name": "#%%\n"
    }
   }
  },
  {
   "cell_type": "code",
   "execution_count": 4,
   "outputs": [],
   "source": [
    "# salva para csv:\n",
    "# women_df = get_oscar_df('oscar-pages/nominees-women.html')\n",
    "# men_df = get_oscar_df('oscar-pages/nominees-men.html')\n",
    "# women_df.to_csv('oscar-datasets/oscar-women-v0.csv', index=False)\n",
    "# men_df.to_csv('oscar-datasets/oscar-men-v0.csv', index=False)\n"
   ],
   "metadata": {
    "collapsed": false,
    "pycharm": {
     "name": "#%%\n"
    }
   }
  },
  {
   "cell_type": "code",
   "execution_count": 4,
   "outputs": [],
   "source": [],
   "metadata": {
    "collapsed": false,
    "pycharm": {
     "name": "#%%\n"
    }
   }
  },
  {
   "cell_type": "markdown",
   "source": [
    "#### Limpando os datasets.\n",
    "Para categorias em que homens e mulheres eram indicados pelo mesmo filme, os indicados apareciam tanto na busca por homens quanto por mulheres. escolheu-se então usar o pacote [`gender-guesser`](https://pypi.org/project/gender-guesser/) para limpar os nomes masculinos da tabela feminina e vice-versa.\n",
    "\n",
    "Por esse método, 379 mulheres foram removidas do dataset masculino, e 501 homens do dataset feminino. Alguns nomes foram indicados mais de uma vez, então a alteração no tamanho dos datasets foi maior."
   ],
   "metadata": {
    "collapsed": false,
    "pycharm": {
     "name": "#%% md\n"
    }
   }
  },
  {
   "cell_type": "code",
   "execution_count": 5,
   "outputs": [
    {
     "name": "stdout",
     "output_type": "stream",
     "text": [
      "Qntd. de nomes femininos removidos: 345\n",
      "Qntd. de nomes masculinos removidos: 442\n"
     ]
    }
   ],
   "source": [
    "women_df = pd.read_csv('oscar-datasets/oscar-women-v0.csv')\n",
    "men_df = pd.read_csv('oscar-datasets/oscar-men-v0.csv')\n",
    "\n",
    "g = gender.Detector()\n",
    "\n",
    "female_names = []\n",
    "male_names = []\n",
    "\n",
    "for name in women_df.name.unique():\n",
    "\tfirst_name = name.split()[0]\n",
    "\tif g.get_gender(first_name) == 'male' or g.get_gender(first_name) == 'mostly_male':\n",
    "\t\tmale_names.append(name)\n",
    "women_df = women_df[-women_df.name.isin(male_names)]\n",
    "\n",
    "for name in men_df.name.unique():\n",
    "\tfirst_name = name.split()[0]\n",
    "\tif g.get_gender(first_name) == 'female' or g.get_gender(first_name) == 'mostly_female':\n",
    "\t\tfemale_names.append(name)\n",
    "men_df = men_df[-men_df.name.isin(female_names)]\n",
    "\n",
    "# converte anos para int\n",
    "women_df.year.astype(int)\n",
    "men_df.year.astype(int)\n",
    "\n",
    "print(\"Qntd. de nomes femininos removidos: %d\" % len(female_names))\n",
    "print(\"Qntd. de nomes masculinos removidos: %d\" % len(male_names))\n",
    "\n",
    "# padroniza as categorias:\n",
    "men_df = clean_categories(men_df)\n",
    "women_df = clean_categories(women_df)"
   ],
   "metadata": {
    "collapsed": false,
    "pycharm": {
     "name": "#%%\n"
    }
   }
  },
  {
   "cell_type": "code",
   "execution_count": 6,
   "outputs": [],
   "source": [
    "# salva os datasets tratados em um csv\n",
    "# women_df.to_csv('oscar-datasets/oscar-women-v1.csv', index=False)\n",
    "# men_df.to_csv('oscar-datasets/oscar-men-v1.csv', index=False)"
   ],
   "metadata": {
    "collapsed": false,
    "pycharm": {
     "name": "#%%\n"
    }
   }
  },
  {
   "cell_type": "code",
   "execution_count": 7,
   "outputs": [],
   "source": [
    "# adiciona a coluna gender em cada um\n",
    "women_df['gender'] = 'female'\n",
    "men_df['gender'] = 'male'\n",
    "\n",
    "# une os datasets e coloca-o em ordem cronológica\n",
    "# oscar_df = pd.concat([women_df, men_df])\n",
    "# oscar_df = oscar_df.sort_values(by='year')\n",
    "\n",
    "# salva em um dataset final\n",
    "# oscar_df.to_csv('oscar-datasets/oscar_dataset.csv', index=False)"
   ],
   "metadata": {
    "collapsed": false,
    "pycharm": {
     "name": "#%%\n"
    }
   }
  },
  {
   "cell_type": "code",
   "execution_count": null,
   "outputs": [],
   "source": [],
   "metadata": {
    "collapsed": false,
    "pycharm": {
     "name": "#%%\n"
    }
   }
  },
  {
   "cell_type": "markdown",
   "source": [
    "\n",
    "# Visualização dos dados\n"
   ],
   "metadata": {
    "collapsed": false,
    "pycharm": {
     "name": "#%% md\n"
    }
   }
  },
  {
   "cell_type": "code",
   "execution_count": 8,
   "outputs": [],
   "source": [
    "women_df = pd.read_csv('oscar-datasets/oscar-women-v1.csv')\n",
    "men_df = pd.read_csv('oscar-datasets/oscar-men-v1.csv')"
   ],
   "metadata": {
    "collapsed": false,
    "pycharm": {
     "name": "#%%\n"
    }
   }
  },
  {
   "cell_type": "code",
   "execution_count": null,
   "outputs": [],
   "source": [
    "oscar_df = pd.read_csv('oscar-datasets/oscar_dataset.csv')\n",
    "\n",
    "# adiciona uma nova coluna que une gênero e status para facilitar plotagem.\n",
    "hue = []\n",
    "for index, row in oscar_df.iterrows():\n",
    "\thue.append(row.gender + ' ' + row.status)\n",
    "\n",
    "oscar_df['hue'] = hue"
   ],
   "metadata": {
    "collapsed": false,
    "pycharm": {
     "name": "#%%\n"
    }
   }
  },
  {
   "cell_type": "markdown",
   "source": [
    "#### Indicações\n",
    "- Cinematografia é a categoria mais desigual: apenas 1 mulher indicada (0.15%), em 2017. Seguida por Direção (1.76%), com apenas 8 indicadas e 3 ganhadoras, duas das quais nos últimos três anos.\n",
    "- Design de figurino é a única categoria majoritariamente feminina - 57.46% dos indicados são mulheres\n",
    "\n",
    "Obs.: A biblioteca gender-guesser descartou o nome de Ari Wegner indicada a cinematografia em 2021. A porcentagem correta é portanto de 0.29%"
   ],
   "metadata": {
    "collapsed": false,
    "pycharm": {
     "name": "#%% md\n"
    }
   }
  },
  {
   "cell_type": "code",
   "execution_count": 48,
   "outputs": [
    {
     "name": "stdout",
     "output_type": "stream",
     "text": [
      "Porcentagem de mulheres indicadas:\n",
      "DIRECTING: 1.76%. Total: 455, Mulheres:  8\n",
      "BEST PICTURE: 16.69%. Total: 827, Mulheres:  138\n",
      "FILM EDITING: 13.76%. Total: 567, Mulheres:  78\n",
      "WRITING: 11.00%. Total: 1636, Mulheres:  180\n",
      "COSTUME DESIGN: 57.46%. Total: 536, Mulheres:  308\n",
      "DOCUMENTARY (Feature): 27.45%. Total: 572, Mulheres:  157\n",
      "CINEMATOGRAPHY: 0.15%. Total: 686, Mulheres:  1\n",
      "SHORT FILM: 16.49%. Total: 576, Mulheres:  95\n"
     ]
    }
   ],
   "source": [
    "# INDICADAS\n",
    "print(\"Porcentagem de mulheres indicadas:\")\n",
    "for category in set(oscar_df.category):\n",
    "\ttotal_category = len(oscar_df[oscar_df.category == category])\n",
    "\twomen_total = len(oscar_df[(oscar_df.gender == 'female') &\n",
    "\t\t\t\t\t\t\t   (oscar_df.category == category)])\n",
    "\tpercent = (women_total / total_category) * 100\n",
    "\t# print(\"%s: %.2f%%\" % (category, percent))\n",
    "\tprint(\"%s: %.2f%%. Total: %d, Mulheres:  %d\" % (category, percent,\n",
    "\t\t\t\t\t\t\t\t\t\t\t\t\ttotal_category, women_total))\n"
   ],
   "metadata": {
    "collapsed": false,
    "pycharm": {
     "name": "#%%\n"
    }
   }
  },
  {
   "cell_type": "code",
   "execution_count": 47,
   "outputs": [
    {
     "name": "stdout",
     "output_type": "stream",
     "text": [
      "\n",
      "Porcentagem de mulheres entre ganhadores:\n",
      "DIRECTING: 3.26%\n",
      "BEST PICTURE: 10.71%\n",
      "FILM EDITING: 12.07%\n",
      "WRITING: 8.11%\n",
      "COSTUME DESIGN: 60.33%\n",
      "DOCUMENTARY (Feature): 18.60%\n",
      "CINEMATOGRAPHY: 0.00%\n",
      "SHORT FILM: 15.22%\n"
     ]
    }
   ],
   "source": [
    "# GANHADORAS\n",
    "print(\"\\nPorcentagem de mulheres entre ganhadores:\")\n",
    "for category in set(oscar_df.category):\n",
    "\ttotal_category = len(oscar_df[(oscar_df.category == category) &\n",
    "\t\t\t\t\t\t\t\t  (oscar_df.status == 'winner')])\n",
    "\twomen_total = len(oscar_df[(oscar_df.gender == 'female') &\n",
    "\t\t\t\t\t\t\t   (oscar_df.category == category) &\n",
    "\t\t\t\t\t\t\t   (oscar_df.status == 'winner')])\n",
    "\tpercent = (women_total / total_category) * 100\n",
    "\tprint(\"%s: %.2f%%\" % (category, percent))\n",
    "\t# print(\"%s: %.2f%%. Total: %d, Mulheres:  %d\" % (category, percent,\n",
    "\t# \t\t\t\t\t\t\t\t\t\t\t\ttotal_category, women_total))\n"
   ],
   "metadata": {
    "collapsed": false,
    "pycharm": {
     "name": "#%%\n"
    }
   }
  },
  {
   "cell_type": "code",
   "execution_count": 44,
   "outputs": [
    {
     "data": {
      "text/plain": "      year        category      film             name     status  gender  \\\n5449  2017  CINEMATOGRAPHY  Mudbound  Rachel Morrison  nominated  female   \n\n                   hue  \n5449  female nominated  ",
      "text/html": "<div>\n<style scoped>\n    .dataframe tbody tr th:only-of-type {\n        vertical-align: middle;\n    }\n\n    .dataframe tbody tr th {\n        vertical-align: top;\n    }\n\n    .dataframe thead th {\n        text-align: right;\n    }\n</style>\n<table border=\"1\" class=\"dataframe\">\n  <thead>\n    <tr style=\"text-align: right;\">\n      <th></th>\n      <th>year</th>\n      <th>category</th>\n      <th>film</th>\n      <th>name</th>\n      <th>status</th>\n      <th>gender</th>\n      <th>hue</th>\n    </tr>\n  </thead>\n  <tbody>\n    <tr>\n      <th>5449</th>\n      <td>2017</td>\n      <td>CINEMATOGRAPHY</td>\n      <td>Mudbound</td>\n      <td>Rachel Morrison</td>\n      <td>nominated</td>\n      <td>female</td>\n      <td>female nominated</td>\n    </tr>\n  </tbody>\n</table>\n</div>"
     },
     "execution_count": 44,
     "metadata": {},
     "output_type": "execute_result"
    }
   ],
   "source": [
    "# MELHOR CINEMATOGRAFIA\n",
    "oscar_df[(oscar_df.category == 'CINEMATOGRAPHY') &\n",
    "\t\t (oscar_df.gender == 'female')]"
   ],
   "metadata": {
    "collapsed": false,
    "pycharm": {
     "name": "#%%\n"
    }
   }
  },
  {
   "cell_type": "code",
   "execution_count": 45,
   "outputs": [
    {
     "data": {
      "text/plain": "      year   category                   film             name     status  \\\n2587  1976  DIRECTING         Seven Beauties  Lina Wertmüller  nominated   \n3648  1993  DIRECTING              The Piano     Jane Campion  nominated   \n4332  2003  DIRECTING    Lost in Translation    Sofia Coppola  nominated   \n4751  2009  DIRECTING        The Hurt Locker  Kathryn Bigelow     winner   \n5452  2017  DIRECTING              Lady Bird     Greta Gerwig  nominated   \n5746  2020  DIRECTING              Nomadland       Chloé Zhao     winner   \n5747  2020  DIRECTING  Promising Young Woman  Emerald Fennell  nominated   \n5831  2021  DIRECTING   The Power of the Dog     Jane Campion     winner   \n\n      gender               hue  \n2587  female  female nominated  \n3648  female  female nominated  \n4332  female  female nominated  \n4751  female     female winner  \n5452  female  female nominated  \n5746  female     female winner  \n5747  female  female nominated  \n5831  female     female winner  ",
      "text/html": "<div>\n<style scoped>\n    .dataframe tbody tr th:only-of-type {\n        vertical-align: middle;\n    }\n\n    .dataframe tbody tr th {\n        vertical-align: top;\n    }\n\n    .dataframe thead th {\n        text-align: right;\n    }\n</style>\n<table border=\"1\" class=\"dataframe\">\n  <thead>\n    <tr style=\"text-align: right;\">\n      <th></th>\n      <th>year</th>\n      <th>category</th>\n      <th>film</th>\n      <th>name</th>\n      <th>status</th>\n      <th>gender</th>\n      <th>hue</th>\n    </tr>\n  </thead>\n  <tbody>\n    <tr>\n      <th>2587</th>\n      <td>1976</td>\n      <td>DIRECTING</td>\n      <td>Seven Beauties</td>\n      <td>Lina Wertmüller</td>\n      <td>nominated</td>\n      <td>female</td>\n      <td>female nominated</td>\n    </tr>\n    <tr>\n      <th>3648</th>\n      <td>1993</td>\n      <td>DIRECTING</td>\n      <td>The Piano</td>\n      <td>Jane Campion</td>\n      <td>nominated</td>\n      <td>female</td>\n      <td>female nominated</td>\n    </tr>\n    <tr>\n      <th>4332</th>\n      <td>2003</td>\n      <td>DIRECTING</td>\n      <td>Lost in Translation</td>\n      <td>Sofia Coppola</td>\n      <td>nominated</td>\n      <td>female</td>\n      <td>female nominated</td>\n    </tr>\n    <tr>\n      <th>4751</th>\n      <td>2009</td>\n      <td>DIRECTING</td>\n      <td>The Hurt Locker</td>\n      <td>Kathryn Bigelow</td>\n      <td>winner</td>\n      <td>female</td>\n      <td>female winner</td>\n    </tr>\n    <tr>\n      <th>5452</th>\n      <td>2017</td>\n      <td>DIRECTING</td>\n      <td>Lady Bird</td>\n      <td>Greta Gerwig</td>\n      <td>nominated</td>\n      <td>female</td>\n      <td>female nominated</td>\n    </tr>\n    <tr>\n      <th>5746</th>\n      <td>2020</td>\n      <td>DIRECTING</td>\n      <td>Nomadland</td>\n      <td>Chloé Zhao</td>\n      <td>winner</td>\n      <td>female</td>\n      <td>female winner</td>\n    </tr>\n    <tr>\n      <th>5747</th>\n      <td>2020</td>\n      <td>DIRECTING</td>\n      <td>Promising Young Woman</td>\n      <td>Emerald Fennell</td>\n      <td>nominated</td>\n      <td>female</td>\n      <td>female nominated</td>\n    </tr>\n    <tr>\n      <th>5831</th>\n      <td>2021</td>\n      <td>DIRECTING</td>\n      <td>The Power of the Dog</td>\n      <td>Jane Campion</td>\n      <td>winner</td>\n      <td>female</td>\n      <td>female winner</td>\n    </tr>\n  </tbody>\n</table>\n</div>"
     },
     "execution_count": 45,
     "metadata": {},
     "output_type": "execute_result"
    }
   ],
   "source": [
    "# MELHOR DIREÇÃO\n",
    "oscar_df[(oscar_df.category == 'DIRECTING') &\n",
    "\t\t (oscar_df.gender == 'female')]"
   ],
   "metadata": {
    "collapsed": false,
    "pycharm": {
     "name": "#%%\n"
    }
   }
  },
  {
   "cell_type": "code",
   "execution_count": 59,
   "outputs": [
    {
     "data": {
      "text/plain": "<Figure size 432x288 with 1 Axes>",
      "image/png": "[encoded data removed]"
     },
     "metadata": {
      "needs_background": "light"
     },
     "output_type": "display_data"
    }
   ],
   "source": [
    "# INDICADOS E GANHADORES EM TODAS AS CATEGORIAS\n",
    "\n",
    "g = sns.histplot(data=oscar_df, x='year', hue='hue', multiple='stack')\n",
    "g.set(xlabel='Ano', ylabel='Quantidade')\n",
    "plt.legend(['Mulheres ganhadoras', 'Mulheres indicadas', 'Homens ganhadores', 'Homens indicados'], bbox_to_anchor=(1.02, 0.3), frameon=False)\n",
    "plt.savefig('../images/categories_all.png', dpi=250)\n"
   ],
   "metadata": {
    "collapsed": false,
    "pycharm": {
     "name": "#%%\n"
    }
   }
  },
  {
   "cell_type": "code",
   "execution_count": 46,
   "outputs": [
    {
     "data": {
      "text/plain": "<Figure size 2880x360 with 8 Axes>",
      "image/png": "[encoded data removed]"
     },
     "metadata": {
      "needs_background": "light"
     },
     "output_type": "display_data"
    }
   ],
   "source": [
    "# INDICADOS E GANHADORES POR CATEGORIA\n",
    "g = sns.displot(data=oscar_df, x='year', hue='hue', col='category', multiple='stack', legend=False)\n",
    "g.set(xlabel='Ano', ylabel='Quantidade')\n",
    "plt.legend(['Mulheres ganhadoras', 'Mulheres indicadas', 'Homens ganhadores', 'Homens indicados'], bbox_to_anchor=(1.02, 0.3), frameon=False)\n",
    "g.savefig('../images/categories0.png', dpi=250)"
   ],
   "metadata": {
    "collapsed": false,
    "pycharm": {
     "name": "#%%\n"
    }
   }
  },
  {
   "cell_type": "code",
   "execution_count": 12,
   "outputs": [
    {
     "data": {
      "text/plain": "<Figure size 2880x360 with 8 Axes>",
      "image/png": "[encoded data removed]"
     },
     "metadata": {
      "needs_background": "light"
     },
     "output_type": "display_data"
    }
   ],
   "source": [
    "# INDICADOS POR CATEGORIA, colunas não empilhadas\n",
    "g = sns.displot(data=oscar_df, x='year', hue='gender', col='category', legend=False)\n",
    "g.set(xlabel='Ano', ylabel='Quantidade')\n",
    "plt.legend(['Mulheres indicadas', 'Homens indicados'], bbox_to_anchor=(1.02, 0.3), frameon=False)\n",
    "g.savefig('../images/categories1.png', dpi=250)"
   ],
   "metadata": {
    "collapsed": false,
    "pycharm": {
     "name": "#%%\n"
    }
   }
  }
 ],
 "metadata": {
  "interpreter": {
   "hash": "45a8477b08c324d9cce7950632ad2e4fce9f4230ff1fbe555c11182565a7ba4b"
  },
  "kernelspec": {
   "display_name": "Python 3.9.7 ('base')",
   "language": "python",
   "name": "python3"
  },
  "language_info": {
   "codemirror_mode": {
    "name": "ipython",
    "version": 3
   },
   "file_extension": ".py",
   "mimetype": "text/x-python",
   "name": "python",
   "nbconvert_exporter": "python",
   "pygments_lexer": "ipython3",
   "version": "3.9.7"
  }
 },
 "nbformat": 4,
 "nbformat_minor": 5
}