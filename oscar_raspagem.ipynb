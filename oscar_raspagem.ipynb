{
 "cells": [
  {
   "cell_type": "code",
   "execution_count": 6,
   "id": "0ff659d0",
   "metadata": {
    "pycharm": {
     "name": "#%%\n"
    }
   },
   "outputs": [],
   "source": [
    "import requests\n",
    "from bs4 import BeautifulSoup\n",
    "import pandas as pd\n",
    "import re\n",
    "import gender_guesser.detector as gender"
   ]
  },
  {
   "cell_type": "markdown",
   "source": [
    "#### Raspagem: lista de mulheres nomeadas e ganhadoras do Oscar em categorias em que gêneros competem.\n",
    "\n",
    "**Obs.: Essa foi uma raspagem inicial de uma página da Wikipedia. No projeto final, a fonte usada foi a base de dados do Oscar mostrada mais abaixo.**\n",
    "\n",
    "Como alguns elementos ocupam mais que uma linha, não é possível fazer a raspagem iterando entre os múltiplos de cada célula. A solução encontrada foi:\n",
    "\n",
    "- Para o ano ('year'): tentar converter os 4 primeiros caracteres da célula em inteiro. Se não houver erro, é porque a célula é um ano válido; ele é salvo na variável `new_year`.\n",
    "- Para o status ('Nominated' ou 'Won'): todas as células de status possuem `<td class=\"no table-no2\" (...)>` para _Nominated_ ou `<td class=\"yes table-yes2\" (...)>` para _Won_. Verifica-se se a célula atual é uma dessas e, se sim, o texto dela, da categoria (título da tabela) e do ano `new_year` é adicionado em suas respectivas listas.\n"
   ],
   "metadata": {
    "collapsed": false,
    "pycharm": {
     "name": "#%% md\n"
    }
   }
  },
  {
   "cell_type": "code",
   "execution_count": 2,
   "outputs": [
    {
     "data": {
      "text/plain": "      year                  category     status\n0     2007     Best Animated Feature  Nominated\n1     2011     Best Animated Feature  Nominated\n2     2012     Best Animated Feature        Won\n3     2013     Best Animated Feature        Won\n4     2013     Best Animated Feature  Nominated\n...    ...                       ...        ...\n1418  2017  Best Original Screenplay  Nominated\n1419  2017  Best Original Screenplay  Nominated\n1420  2018  Best Original Screenplay  Nominated\n1421  1917  Best Original Screenplay  Nominated\n1422  2020  Best Original Screenplay        Won\n\n[1423 rows x 3 columns]",
      "text/html": "<div>\n<style scoped>\n    .dataframe tbody tr th:only-of-type {\n        vertical-align: middle;\n    }\n\n    .dataframe tbody tr th {\n        vertical-align: top;\n    }\n\n    .dataframe thead th {\n        text-align: right;\n    }\n</style>\n<table border=\"1\" class=\"dataframe\">\n  <thead>\n    <tr style=\"text-align: right;\">\n      <th></th>\n      <th>year</th>\n      <th>category</th>\n      <th>status</th>\n    </tr>\n  </thead>\n  <tbody>\n    <tr>\n      <th>0</th>\n      <td>2007</td>\n      <td>Best Animated Feature</td>\n      <td>Nominated</td>\n    </tr>\n    <tr>\n      <th>1</th>\n      <td>2011</td>\n      <td>Best Animated Feature</td>\n      <td>Nominated</td>\n    </tr>\n    <tr>\n      <th>2</th>\n      <td>2012</td>\n      <td>Best Animated Feature</td>\n      <td>Won</td>\n    </tr>\n    <tr>\n      <th>3</th>\n      <td>2013</td>\n      <td>Best Animated Feature</td>\n      <td>Won</td>\n    </tr>\n    <tr>\n      <th>4</th>\n      <td>2013</td>\n      <td>Best Animated Feature</td>\n      <td>Nominated</td>\n    </tr>\n    <tr>\n      <th>...</th>\n      <td>...</td>\n      <td>...</td>\n      <td>...</td>\n    </tr>\n    <tr>\n      <th>1418</th>\n      <td>2017</td>\n      <td>Best Original Screenplay</td>\n      <td>Nominated</td>\n    </tr>\n    <tr>\n      <th>1419</th>\n      <td>2017</td>\n      <td>Best Original Screenplay</td>\n      <td>Nominated</td>\n    </tr>\n    <tr>\n      <th>1420</th>\n      <td>2018</td>\n      <td>Best Original Screenplay</td>\n      <td>Nominated</td>\n    </tr>\n    <tr>\n      <th>1421</th>\n      <td>1917</td>\n      <td>Best Original Screenplay</td>\n      <td>Nominated</td>\n    </tr>\n    <tr>\n      <th>1422</th>\n      <td>2020</td>\n      <td>Best Original Screenplay</td>\n      <td>Won</td>\n    </tr>\n  </tbody>\n</table>\n<p>1423 rows × 3 columns</p>\n</div>"
     },
     "execution_count": 2,
     "metadata": {},
     "output_type": "execute_result"
    }
   ],
   "source": [
    "url = \"https://en.wikipedia.org/wiki/List_of_female_Academy_Award_winners_and_nominees_for_non-gendered_categories\"\n",
    "page = requests.get(url)\n",
    "soup = BeautifulSoup(page.content, 'html.parser')\n",
    "\n",
    "year = []\n",
    "category = []\n",
    "status = []\n",
    "all_tables = soup.find_all(class_='wikitable')\n",
    "\n",
    "for table in all_tables:\n",
    "\ttd = table.find_all('td')\n",
    "\tnew_year = 0\n",
    "\tfor i in range(0, len(td)):\n",
    "\t\ttry:\n",
    "\t\t\told_year = new_year\n",
    "\t\t\tnew_year = int(td[i].text[0:4])\n",
    "\t\t\tif new_year < 1000:\n",
    "\t\t\t\tnew_year = old_year\n",
    "\t\texcept ValueError:\n",
    "\t\t\tpass\n",
    "\t\tif td[i].get('class'):\n",
    "\t\t\tstatus.append(td[i].text[0:-1])\n",
    "\t\t\tcategory.append(td[0].text[18:-1])\n",
    "\t\t\tif new_year != 0:\n",
    "\t\t\t\tyear.append(new_year)\n",
    "\n",
    "oscar_women_df = pd.DataFrame({\n",
    "\t'year': year,\n",
    "\t'category': category,\n",
    "\t'status': status\n",
    "})\n",
    "\n",
    "#\trenomeia as categorias que possuíam sobrescrito no título.\n",
    "oscar_women_df.category = oscar_women_df.category.replace({\n",
    "\t'Best Sound [note 12]': 'Best Sound Mixing',\n",
    "\t'Best Original Score [note 7]': 'Best Original Score'\n",
    "})\n",
    "\n",
    "#\tcorrige um typo na tabela original.\n",
    "oscar_women_df.status = oscar_women_df.status.replace({'Nominated}': 'Nominated'})\n",
    "\n",
    "oscar_women_df\n"
   ],
   "metadata": {
    "collapsed": false,
    "pycharm": {
     "name": "#%%\n"
    }
   }
  },
  {
   "cell_type": "markdown",
   "source": [
    "# Raspagem: [base de dados da Academia de Artes e Ciências Cinematográficas](https://awardsdatabase.oscars.org/).\n",
    "Devido à dinamicidade do site, para a automação completa seria necessária o uso do Selenium. Para os fins do projeto, o código da página de busca avançada foi salvo nos arquivos `nominees-men.html` e `nominees-women.html`. As páginas possuem as seguintes categorias:\n",
    "\n",
    "**Páginas salvas:**\n",
    "1. Best Picture\n",
    "2. Directing\n",
    "3. Writing\n",
    "4. Cinematography\n",
    "5. Costume Design\n",
    "6. Produdction Design\n",
    "7. Documentary Feature\n",
    "8. Film Editing\n",
    "9. Makeup\n",
    "10. International Feature Film\n",
    "11. Visual Effects\n",
    "\n",
    "### A FAZER:\n",
    "[ ] Quando um diretor é indicado a dois filmes, somente o primeiro filme é minerado (e terminado por ';')"
   ],
   "metadata": {
    "collapsed": false,
    "pycharm": {
     "name": "#%% md\n"
    }
   }
  },
  {
   "cell_type": "code",
   "execution_count": 151,
   "outputs": [],
   "source": [
    "# Cria o dataframe para páginas de buscas com múltiplas categorias.\n",
    "def get_oscar_df(file):\n",
    "\tf = open(file)\n",
    "\tsoup = BeautifulSoup(f, 'html.parser')\n",
    "\tdf = pd.DataFrame({'year': [], 'category': [], 'film': [], 'name': [], 'status': []})\n",
    "\n",
    "\tall_groups = soup.find_all(class_='awards-result-chron result-group group-awardcategory-chron')\n",
    "\tfor group in all_groups:\n",
    "\t\tyear = group.find(class_=\"result-group-title\").text.strip()[0:4]\n",
    "\t\tall_categories = group.find_all(class_=\"result-subgroup subgroup-awardcategory-chron\")\n",
    "\t\tfor category in all_categories:\n",
    "\t\t\tall_films = category.find_all(class_=\"result-details awards-result-actingorsimilar\")\n",
    "\t\t\tcategory = category.find(class_=\"result-subgroup-title\").text.strip()\n",
    "\t\t\tfor row in all_films:\n",
    "\t\t\t\ttry:\n",
    "\t\t\t\t\tfilm = row.find(class_=\"awards-result-film-title\").text.strip()\n",
    "\t\t\t\texcept AttributeError:\n",
    "\t\t\t\t\tfilm = 'Error'\n",
    "\t\t\t\tif row.find(class_=\"glyphicon glyphicon-star\"):\n",
    "\t\t\t\t\tstatus = 'winner'\n",
    "\t\t\t\telse:\n",
    "\t\t\t\t\tstatus = 'nominated'\n",
    "\t\t\t\tall_names = re.split(r'; |: | and | & | by |, ', row.find(class_=\"awards-result-nominationstatement\").text)\n",
    "\t\t\t\tfor name in all_names:\n",
    "\t\t\t\t\tname = name.strip(' \\n()')\n",
    "\t\t\t\t\trow = pd.DataFrame({'year': [year],\n",
    "\t\t\t\t\t\t\t\t\t\t'category': [category],\n",
    "\t\t\t\t\t\t\t\t\t\t'film': [film],\n",
    "\t\t\t\t\t\t\t\t\t\t'name': [name],\n",
    "\t\t\t\t\t\t\t\t\t\t'status': [status]\n",
    "\t\t\t\t\t\t\t\t\t\t})\n",
    "\t\t\t\t\tdf = pd.concat([df, row], ignore_index=True)\n",
    "\n",
    "\tto_remove = ['Jr.', 'Producer', 'Producers', 'Adaptation', 'Art Direction',\n",
    "\t\t\t\t 'Interior Decoration', 'Set Decoration', 'Production Design',\n",
    "\t\t\t\t 'Screenplay', 'Written', 'Story', 'Stories',\n",
    "\t\t\t\t 'Adapted for the screen', 'Written for the screen']\n",
    "\tdf = df[-df.name.isin(to_remove)]\n",
    "\tf.close()\n",
    "\treturn df"
   ],
   "metadata": {
    "collapsed": false,
    "pycharm": {
     "name": "#%%\n"
    }
   }
  },
  {
   "cell_type": "code",
   "execution_count": 156,
   "outputs": [],
   "source": [
    "# salva para csv:\n",
    "# women_df = get_oscar_df('oscar-pages/nominees-women.html')\n",
    "# men_df = get_oscar_df('oscar-pages/nominees-men.html')\n",
    "# women_df.to_csv('oscar-women-v0.csv', index=False)\n",
    "# men_df.to_csv('oscar-men-v0.csv', index=False)\n"
   ],
   "metadata": {
    "collapsed": false,
    "pycharm": {
     "name": "#%%\n"
    }
   }
  },
  {
   "cell_type": "markdown",
   "source": [],
   "metadata": {
    "collapsed": false,
    "pycharm": {
     "name": "#%% md\n"
    }
   }
  },
  {
   "cell_type": "markdown",
   "source": [
    "#### limpando os datasets\n",
    "Para categorias em que homens e mulheres eram indicados pelo mesmo filme, os indicados apareciam tanto na busca por homens quanto por mulheres. escolheu-se então usar o pacote [`gender-guesser`](https://pypi.org/project/gender-guesser/) para limpar os nomes masculinos da tabela feminina e vice-versa.\n",
    "\n",
    "Por esse método, 361 mulheres foram removidas do dataset masculino, e 487 homens do dataset feminino. Alguns nomes foram indicados mais de uma vez, então a alteração no tamanho dos datasets foi maior."
   ],
   "metadata": {
    "collapsed": false,
    "pycharm": {
     "name": "#%% md\n"
    }
   }
  },
  {
   "cell_type": "code",
   "execution_count": 103,
   "outputs": [],
   "source": [],
   "metadata": {
    "collapsed": false,
    "pycharm": {
     "name": "#%%\n"
    }
   }
  },
  {
   "cell_type": "code",
   "execution_count": 159,
   "outputs": [
    {
     "name": "stdout",
     "output_type": "stream",
     "text": [
      "Qntd. de nomes femininos removidos: 361\n",
      "Qntd. de nomes masculinos removidos: 487\n"
     ]
    }
   ],
   "source": [
    "women_df = pd.read_csv('oscar-women-v0.csv')\n",
    "men_df = pd.read_csv('oscar-men-v0.csv')\n",
    "\n",
    "g = gender.Detector()\n",
    "\n",
    "female_names = []\n",
    "male_names = []\n",
    "\n",
    "for name in women_df.name.unique():\n",
    "\tfirst_name = name.split()[0]\n",
    "\tif g.get_gender(first_name) == 'male' or g.get_gender(first_name) == 'mostly_male':\n",
    "\t\tmale_names.append(name)\n",
    "women_df = women_df[-women_df.name.isin(male_names)]\n",
    "\n",
    "for name in men_df.name.unique():\n",
    "\tfirst_name = name.split()[0]\n",
    "\tif g.get_gender(first_name) == 'female' or g.get_gender(first_name) == 'mostly_female':\n",
    "\t\tfemale_names.append(name)\n",
    "men_df = men_df[-men_df.name.isin(female_names)]\n",
    "\n",
    "# converte anos para int\n",
    "women_df.year.astype(int)\n",
    "men_df.year.astype(int)\n",
    "\n",
    "print(\"Qntd. de nomes femininos removidos: %d\" % len(female_names))\n",
    "print(\"Qntd. de nomes masculinos removidos: %d\" % len(male_names))\n"
   ],
   "metadata": {
    "collapsed": false,
    "pycharm": {
     "name": "#%%\n"
    }
   }
  },
  {
   "cell_type": "code",
   "execution_count": 158,
   "outputs": [],
   "source": [
    "# salva em um csv final\n",
    "# women_df.to_csv('oscar-women-v1.csv', index=False)\n",
    "# men_df.to_csv('oscar-men-v1.csv', index=False)"
   ],
   "metadata": {
    "collapsed": false,
    "pycharm": {
     "name": "#%%\n"
    }
   }
  },
  {
   "cell_type": "markdown",
   "source": [
    "#### A FAZER:\n",
    "- [ ] colocar colunas `male` e `female` nos respectivos datasets e uni-los em um único (checar por células idênticas).\n",
    "- [ ] começar gráficos!"
   ],
   "metadata": {
    "collapsed": false,
    "pycharm": {
     "name": "#%% md\n"
    }
   }
  },
  {
   "cell_type": "code",
   "execution_count": null,
   "outputs": [],
   "source": [],
   "metadata": {
    "collapsed": false,
    "pycharm": {
     "name": "#%%\n"
    }
   }
  }
 ],
 "metadata": {
  "interpreter": {
   "hash": "45a8477b08c324d9cce7950632ad2e4fce9f4230ff1fbe555c11182565a7ba4b"
  },
  "kernelspec": {
   "display_name": "Python 3.9.7 ('base')",
   "language": "python",
   "name": "python3"
  },
  "language_info": {
   "codemirror_mode": {
    "name": "ipython",
    "version": 3
   },
   "file_extension": ".py",
   "mimetype": "text/x-python",
   "name": "python",
   "nbconvert_exporter": "python",
   "pygments_lexer": "ipython3",
   "version": "3.9.7"
  }
 },
 "nbformat": 4,
 "nbformat_minor": 5
}