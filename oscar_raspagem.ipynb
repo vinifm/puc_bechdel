{
 "cells": [
  {
   "cell_type": "code",
   "execution_count": 1,
   "id": "0ff659d0",
   "metadata": {
    "pycharm": {
     "name": "#%%\n"
    }
   },
   "outputs": [],
   "source": [
    "import requests\n",
    "from bs4 import BeautifulSoup\n",
    "import pandas as pd"
   ]
  },
  {
   "cell_type": "code",
   "execution_count": 2,
   "outputs": [],
   "source": [
    "url = \"https://en.wikipedia.org/wiki/List_of_female_Academy_Award_winners_and_nominees_for_non-gendered_categories\"\n",
    "page = requests.get( url )\n",
    "soup = BeautifulSoup(page.content, 'html.parser')"
   ],
   "metadata": {
    "collapsed": false,
    "pycharm": {
     "name": "#%%\n"
    }
   }
  },
  {
   "cell_type": "markdown",
   "source": [
    "#### Raspagem: lista de mulheres nomeadas e ganhadoras do Oscar em categorias em que gêneros competem.\n",
    "\n",
    "Como alguns elementos ocupam mais que uma linha, não é possível fazer a raspagem iterando entre os múltiplos de cada célula. A solução encontrada foi:\n",
    "\n",
    "- Para o ano ('year'): tentar converter os 4 primeiros caracteres da célula em inteiro. Se não houver erro, é porque a célula é um ano válido; ele é salvo na variável `new_year`.\n",
    "- Para o status ('Nominated' ou 'Won'): todas as células de status possuem `<td class=\"no table-no2\" (...)>` para _Nominated_ ou `<td class=\"yes table-yes2\" (...)>` para _Won_. Verifica-se se a célula atual é uma dessas e, se sim, o texto dela, da categoria (título da tabela) e do ano `new_year` é adicionado em suas respectivas listas.\n"
   ],
   "metadata": {
    "collapsed": false,
    "pycharm": {
     "name": "#%% md\n"
    }
   }
  },
  {
   "cell_type": "code",
   "execution_count": 3,
   "outputs": [
    {
     "data": {
      "text/plain": "      year                  category     status\n0     2007     Best Animated Feature  Nominated\n1     2011     Best Animated Feature  Nominated\n2     2012     Best Animated Feature        Won\n3     2013     Best Animated Feature        Won\n4     2013     Best Animated Feature  Nominated\n...    ...                       ...        ...\n1418  2017  Best Original Screenplay  Nominated\n1419  2017  Best Original Screenplay  Nominated\n1420  2018  Best Original Screenplay  Nominated\n1421  1917  Best Original Screenplay  Nominated\n1422  2020  Best Original Screenplay        Won\n\n[1423 rows x 3 columns]",
      "text/html": "<div>\n<style scoped>\n    .dataframe tbody tr th:only-of-type {\n        vertical-align: middle;\n    }\n\n    .dataframe tbody tr th {\n        vertical-align: top;\n    }\n\n    .dataframe thead th {\n        text-align: right;\n    }\n</style>\n<table border=\"1\" class=\"dataframe\">\n  <thead>\n    <tr style=\"text-align: right;\">\n      <th></th>\n      <th>year</th>\n      <th>category</th>\n      <th>status</th>\n    </tr>\n  </thead>\n  <tbody>\n    <tr>\n      <th>0</th>\n      <td>2007</td>\n      <td>Best Animated Feature</td>\n      <td>Nominated</td>\n    </tr>\n    <tr>\n      <th>1</th>\n      <td>2011</td>\n      <td>Best Animated Feature</td>\n      <td>Nominated</td>\n    </tr>\n    <tr>\n      <th>2</th>\n      <td>2012</td>\n      <td>Best Animated Feature</td>\n      <td>Won</td>\n    </tr>\n    <tr>\n      <th>3</th>\n      <td>2013</td>\n      <td>Best Animated Feature</td>\n      <td>Won</td>\n    </tr>\n    <tr>\n      <th>4</th>\n      <td>2013</td>\n      <td>Best Animated Feature</td>\n      <td>Nominated</td>\n    </tr>\n    <tr>\n      <th>...</th>\n      <td>...</td>\n      <td>...</td>\n      <td>...</td>\n    </tr>\n    <tr>\n      <th>1418</th>\n      <td>2017</td>\n      <td>Best Original Screenplay</td>\n      <td>Nominated</td>\n    </tr>\n    <tr>\n      <th>1419</th>\n      <td>2017</td>\n      <td>Best Original Screenplay</td>\n      <td>Nominated</td>\n    </tr>\n    <tr>\n      <th>1420</th>\n      <td>2018</td>\n      <td>Best Original Screenplay</td>\n      <td>Nominated</td>\n    </tr>\n    <tr>\n      <th>1421</th>\n      <td>1917</td>\n      <td>Best Original Screenplay</td>\n      <td>Nominated</td>\n    </tr>\n    <tr>\n      <th>1422</th>\n      <td>2020</td>\n      <td>Best Original Screenplay</td>\n      <td>Won</td>\n    </tr>\n  </tbody>\n</table>\n<p>1423 rows × 3 columns</p>\n</div>"
     },
     "execution_count": 3,
     "metadata": {},
     "output_type": "execute_result"
    }
   ],
   "source": [
    "year = []\n",
    "category = []\n",
    "status = []\n",
    "all_tables = soup.find_all(class_='wikitable')\n",
    "\n",
    "for table in all_tables:\n",
    "\ttd = table.find_all('td')\n",
    "\tnew_year = 0\n",
    "\tfor i in range(0, len(td)):\n",
    "\t\ttry:\n",
    "\t\t\tnew_year = int(td[i].text[0:4])\n",
    "\t\texcept ValueError:\n",
    "\t\t\tpass\n",
    "\t\tif td[i].get('class'):\n",
    "\t\t\tstatus.append(td[i].text[0:-1])\n",
    "\t\t\tcategory.append(td[0].text[18:-1])\n",
    "\t\t\tif new_year != 0:\n",
    "\t\t\t\tyear.append(new_year)\n",
    "\n",
    "oscar_women_df = pd.DataFrame({\n",
    "\t'year': year,\n",
    "\t'category': category,\n",
    "\t'status': status\n",
    "})\n",
    "\n",
    "oscar_women_df"
   ],
   "metadata": {
    "collapsed": false,
    "pycharm": {
     "name": "#%%\n"
    }
   }
  },
  {
   "cell_type": "code",
   "execution_count": 4,
   "id": "0fdde645",
   "metadata": {
    "pycharm": {
     "name": "#%%\n"
    }
   },
   "outputs": [
    {
     "data": {
      "text/plain": "'Won\\n'"
     },
     "execution_count": 4,
     "metadata": {},
     "output_type": "execute_result"
    }
   ],
   "source": [
    "table = all_tables[0]\n",
    "td = table.find_all('td')\n",
    "td[14].text"
   ]
  },
  {
   "cell_type": "code",
   "execution_count": 5,
   "id": "8181c98c",
   "metadata": {
    "pycharm": {
     "name": "#%%\n"
    }
   },
   "outputs": [
    {
     "data": {
      "text/plain": "<span class=\"mw-headline\" id=\"Best_Animated_Feature\">Best Animated Feature</span>"
     },
     "execution_count": 5,
     "metadata": {},
     "output_type": "execute_result"
    }
   ],
   "source": [
    "categoria = soup.find(id=\"Best_Animated_Feature\")\n",
    "categoria"
   ]
  }
 ],
 "metadata": {
  "interpreter": {
   "hash": "45a8477b08c324d9cce7950632ad2e4fce9f4230ff1fbe555c11182565a7ba4b"
  },
  "kernelspec": {
   "display_name": "Python 3.9.7 ('base')",
   "language": "python",
   "name": "python3"
  },
  "language_info": {
   "codemirror_mode": {
    "name": "ipython",
    "version": 3
   },
   "file_extension": ".py",
   "mimetype": "text/x-python",
   "name": "python",
   "nbconvert_exporter": "python",
   "pygments_lexer": "ipython3",
   "version": "3.9.7"
  }
 },
 "nbformat": 4,
 "nbformat_minor": 5
}