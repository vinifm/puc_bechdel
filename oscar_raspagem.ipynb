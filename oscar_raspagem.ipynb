{
 "cells": [
  {
   "cell_type": "code",
   "execution_count": 6,
   "id": "0ff659d0",
   "metadata": {
    "pycharm": {
     "name": "#%%\n"
    }
   },
   "outputs": [],
   "source": [
    "import requests\n",
    "from bs4 import BeautifulSoup\n",
    "import pandas as pd\n",
    "import re"
   ]
  },
  {
   "cell_type": "markdown",
   "source": [
    "#### Raspagem: lista de mulheres nomeadas e ganhadoras do Oscar em categorias em que gêneros competem.\n",
    "\n",
    "**Obs.: Essa foi uma raspagem inicial de uma página da Wikipedia. No projeto final, a fonte usada foi a base de dados do Oscar mostrada mais abaixo.**\n",
    "\n",
    "Como alguns elementos ocupam mais que uma linha, não é possível fazer a raspagem iterando entre os múltiplos de cada célula. A solução encontrada foi:\n",
    "\n",
    "- Para o ano ('year'): tentar converter os 4 primeiros caracteres da célula em inteiro. Se não houver erro, é porque a célula é um ano válido; ele é salvo na variável `new_year`.\n",
    "- Para o status ('Nominated' ou 'Won'): todas as células de status possuem `<td class=\"no table-no2\" (...)>` para _Nominated_ ou `<td class=\"yes table-yes2\" (...)>` para _Won_. Verifica-se se a célula atual é uma dessas e, se sim, o texto dela, da categoria (título da tabela) e do ano `new_year` é adicionado em suas respectivas listas.\n"
   ],
   "metadata": {
    "collapsed": false,
    "pycharm": {
     "name": "#%% md\n"
    }
   }
  },
  {
   "cell_type": "code",
   "execution_count": 7,
   "outputs": [
    {
     "data": {
      "text/plain": "      year                  category     status\n0     2007     Best Animated Feature  Nominated\n1     2011     Best Animated Feature  Nominated\n2     2012     Best Animated Feature        Won\n3     2013     Best Animated Feature        Won\n4     2013     Best Animated Feature  Nominated\n...    ...                       ...        ...\n1418  2017  Best Original Screenplay  Nominated\n1419  2017  Best Original Screenplay  Nominated\n1420  2018  Best Original Screenplay  Nominated\n1421  1917  Best Original Screenplay  Nominated\n1422  2020  Best Original Screenplay        Won\n\n[1423 rows x 3 columns]",
      "text/html": "<div>\n<style scoped>\n    .dataframe tbody tr th:only-of-type {\n        vertical-align: middle;\n    }\n\n    .dataframe tbody tr th {\n        vertical-align: top;\n    }\n\n    .dataframe thead th {\n        text-align: right;\n    }\n</style>\n<table border=\"1\" class=\"dataframe\">\n  <thead>\n    <tr style=\"text-align: right;\">\n      <th></th>\n      <th>year</th>\n      <th>category</th>\n      <th>status</th>\n    </tr>\n  </thead>\n  <tbody>\n    <tr>\n      <th>0</th>\n      <td>2007</td>\n      <td>Best Animated Feature</td>\n      <td>Nominated</td>\n    </tr>\n    <tr>\n      <th>1</th>\n      <td>2011</td>\n      <td>Best Animated Feature</td>\n      <td>Nominated</td>\n    </tr>\n    <tr>\n      <th>2</th>\n      <td>2012</td>\n      <td>Best Animated Feature</td>\n      <td>Won</td>\n    </tr>\n    <tr>\n      <th>3</th>\n      <td>2013</td>\n      <td>Best Animated Feature</td>\n      <td>Won</td>\n    </tr>\n    <tr>\n      <th>4</th>\n      <td>2013</td>\n      <td>Best Animated Feature</td>\n      <td>Nominated</td>\n    </tr>\n    <tr>\n      <th>...</th>\n      <td>...</td>\n      <td>...</td>\n      <td>...</td>\n    </tr>\n    <tr>\n      <th>1418</th>\n      <td>2017</td>\n      <td>Best Original Screenplay</td>\n      <td>Nominated</td>\n    </tr>\n    <tr>\n      <th>1419</th>\n      <td>2017</td>\n      <td>Best Original Screenplay</td>\n      <td>Nominated</td>\n    </tr>\n    <tr>\n      <th>1420</th>\n      <td>2018</td>\n      <td>Best Original Screenplay</td>\n      <td>Nominated</td>\n    </tr>\n    <tr>\n      <th>1421</th>\n      <td>1917</td>\n      <td>Best Original Screenplay</td>\n      <td>Nominated</td>\n    </tr>\n    <tr>\n      <th>1422</th>\n      <td>2020</td>\n      <td>Best Original Screenplay</td>\n      <td>Won</td>\n    </tr>\n  </tbody>\n</table>\n<p>1423 rows × 3 columns</p>\n</div>"
     },
     "execution_count": 7,
     "metadata": {},
     "output_type": "execute_result"
    }
   ],
   "source": [
    "url = \"https://en.wikipedia.org/wiki/List_of_female_Academy_Award_winners_and_nominees_for_non-gendered_categories\"\n",
    "page = requests.get(url)\n",
    "soup = BeautifulSoup(page.content, 'html.parser')\n",
    "\n",
    "year = []\n",
    "category = []\n",
    "status = []\n",
    "all_tables = soup.find_all(class_='wikitable')\n",
    "\n",
    "for table in all_tables:\n",
    "\ttd = table.find_all('td')\n",
    "\tnew_year = 0\n",
    "\tfor i in range(0, len(td)):\n",
    "\t\ttry:\n",
    "\t\t\told_year = new_year\n",
    "\t\t\tnew_year = int(td[i].text[0:4])\n",
    "\t\t\tif new_year < 1000:\n",
    "\t\t\t\tnew_year = old_year\n",
    "\t\texcept ValueError:\n",
    "\t\t\tpass\n",
    "\t\tif td[i].get('class'):\n",
    "\t\t\tstatus.append(td[i].text[0:-1])\n",
    "\t\t\tcategory.append(td[0].text[18:-1])\n",
    "\t\t\tif new_year != 0:\n",
    "\t\t\t\tyear.append(new_year)\n",
    "\n",
    "oscar_women_df = pd.DataFrame({\n",
    "\t'year': year,\n",
    "\t'category': category,\n",
    "\t'status': status\n",
    "})\n",
    "\n",
    "#\trenomeia as categorias que possuíam sobrescrito no título.\n",
    "oscar_women_df.category = oscar_women_df.category.replace({\n",
    "\t'Best Sound [note 12]': 'Best Sound Mixing',\n",
    "\t'Best Original Score [note 7]': 'Best Original Score'\n",
    "})\n",
    "\n",
    "#\tcorrige um typo na tabela original.\n",
    "oscar_women_df.status = oscar_women_df.status.replace({'Nominated}': 'Nominated'})\n",
    "\n",
    "oscar_women_df\n"
   ],
   "metadata": {
    "collapsed": false,
    "pycharm": {
     "name": "#%%\n"
    }
   }
  },
  {
   "cell_type": "markdown",
   "source": [
    "# Raspagem: [base de dados da Academia de Artes e Ciências Cinematográficas](https://awardsdatabase.oscars.org/).\n",
    "Devido à dinamicidade do site, para a automação completa seria necessária o uso do Selenium. Para os fins do projeto, o código da página de busca avançada foi salvo nos arquivos `nominees-men.html` e `nominees-women.html`. As páginas possuem as seguintes categorias:\n",
    "\n",
    "**Páginas salvas:**\n",
    "1. Best Picture\n",
    "2. Directing\n",
    "3. Writing\n",
    "4. Cinematography\n",
    "5. Costume Design\n",
    "6. Produdction Design\n",
    "7. Documentary Feature\n",
    "8. Film Editing\n",
    "9. Makeup\n",
    "10. International Feature Film\n",
    "11. Visual Effects\n",
    "\n",
    "### A FAZER:\n",
    "[ ] Pesquisar um jeito mais simples de usar a split com múltiplos delimitadores, sem precisar usar o `.replace()` (linha 14)\n",
    "\t- Separadores: vírgula, ponto e vírgula, '&', 'and'\n",
    "\t- Remover nomes 'Producer', 'Producers', 'Written by' e 'Screenplay by'\n",
    "[ ] Quando um diretor é indicado a dois filmes, somente o primeiro filme é minerado (e terminado por ';')"
   ],
   "metadata": {
    "collapsed": false,
    "pycharm": {
     "name": "#%% md\n"
    }
   }
  },
  {
   "cell_type": "code",
   "execution_count": 24,
   "outputs": [],
   "source": [
    "# Cria o dataframe para páginas de busca com apenas uma categoria.\n",
    "def get_oscar_df(file):\n",
    "\tf = open(file)\n",
    "\tsoup = BeautifulSoup(f, 'html.parser')\n",
    "\tdf = pd.DataFrame({'year': [], 'category': [], 'film': [], 'name': [], 'status': []})\n",
    "\n",
    "\tall_groups = soup.find_all(class_='awards-result-chron result-group group-awardcategory-chron')\n",
    "\tfor group in all_groups:\n",
    "\t\tyear = group.find(class_=\"result-group-title\").text.strip()[0:4]\n",
    "\t\tcategory = group.find(class_=\"result-subgroup-header\").text.strip()\n",
    "\t\tall_films = group.find_all(class_=\"result-details awards-result-actingorsimilar\")\n",
    "\t\tfor row in all_films:\n",
    "\t\t\tfilm = row.find(class_=\"awards-result-film-title\").text.strip()\n",
    "\t\t\tif row.find(class_=\"glyphicon glyphicon-star\"):\n",
    "\t\t\t\tstatus = 'winner'\n",
    "\t\t\telse:\n",
    "\t\t\t\tstatus = 'nominated'\n",
    "\n",
    "\t\t\tall_names = row.find(class_=\"awards-result-nominationstatement\").text.replace(' and ', ',').replace(';', ',').split(',')\n",
    "\n",
    "\t\t\tall_names = [i for i in all_names if 'Producer' not in i]\n",
    "\t\t\tfor name in all_names:\n",
    "\t\t\t\tname = name.strip()\n",
    "\t\t\t\trow = pd.DataFrame({'year': [year],\n",
    "\t\t\t\t\t\t\t\t\t'category': [category],\n",
    "\t\t\t\t\t\t\t\t\t'film': [film],\n",
    "\t\t\t\t\t\t\t\t\t'name': [name],\n",
    "\t\t\t\t\t\t\t\t\t'status': [status]\n",
    "\t\t\t\t\t\t\t\t\t  })\n",
    "\t\t\t\tdf = pd.concat([df, row], ignore_index=True)\n",
    "\t\t\t\tdf = df[df.name != 'Jr.']\n",
    "\treturn df\n"
   ],
   "metadata": {
    "collapsed": false,
    "pycharm": {
     "name": "#%%\n"
    }
   }
  },
  {
   "cell_type": "code",
   "execution_count": null,
   "outputs": [],
   "source": [
    "df = get_oscar_df('oscar-pages/directing-men.html')\n",
    "df"
   ],
   "metadata": {
    "collapsed": false,
    "pycharm": {
     "name": "#%%\n"
    }
   }
  },
  {
   "cell_type": "code",
   "execution_count": 69,
   "outputs": [],
   "source": [
    "# Cria o dataframe para páginas de buscas com múltiplas categorias.\n",
    "def get_oscar_df_all(file):\n",
    "\tf = open(file)\n",
    "\tsoup = BeautifulSoup(f, 'html.parser')\n",
    "\tdf = pd.DataFrame({'year': [], 'category': [], 'film': [], 'name': [], 'status': []})\n",
    "\n",
    "\tall_groups = soup.find_all(class_='awards-result-chron result-group group-awardcategory-chron')\n",
    "\tfor group in all_groups:\n",
    "\t\tyear = group.find(class_=\"result-group-title\").text.strip()[0:4]\n",
    "\t\tall_categories = group.find_all(class_=\"result-subgroup subgroup-awardcategory-chron\")\n",
    "\t\tfor category in all_categories:\n",
    "\t\t\tcategory = category.find(class_=\"result-subgroup-title\").text.strip()\n",
    "\t\t\tall_films = group.find_all(class_=\"awards-result-nomination awards-result-nomination-actingorsimilar\")\n",
    "\t\t\tfor row in all_films:\n",
    "\t\t\t\tfilm = row.find(class_=\"awards-result-film-title\")\n",
    "\t\t\t\ttry:\n",
    "\t\t\t\t\tfilm = row.find(class_=\"awards-result-film-title\").text.strip()\n",
    "\t\t\t\texcept AttributeError:\n",
    "\t\t\t\t\tfilm = None\n",
    "\t\t\t\tif row.find(class_=\"glyphicon glyphicon-star\"):\n",
    "\t\t\t\t\tstatus = 'winner'\n",
    "\t\t\t\telse:\n",
    "\t\t\t\t\tstatus = 'nominated'\n",
    "\n",
    "\t\t\t\tall_names = row.find(class_=\"awards-result-nominationstatement\").text.replace(' and ', ',').replace(';', ',').split(',')\n",
    "\n",
    "\t\t\t\tall_names = [i for i in all_names if 'Producer' not in i]\n",
    "\t\t\t\tfor name in all_names:\n",
    "\t\t\t\t\tname = name.strip()\n",
    "\t\t\t\t\trow = pd.DataFrame({'year': [year],\n",
    "\t\t\t\t\t\t\t\t\t\t'category': [category],\n",
    "\t\t\t\t\t\t\t\t\t\t'film': [film],\n",
    "\t\t\t\t\t\t\t\t\t\t'name': [name],\n",
    "\t\t\t\t\t\t\t\t\t\t'status': [status]\n",
    "\t\t\t\t\t\t\t\t\t\t  })\n",
    "\t\t\t\t\tdf = pd.concat([df, row], ignore_index=True)\n",
    "\t\t\t\t\tdf = df[df.name != 'Jr.']\n",
    "\treturn df"
   ],
   "metadata": {
    "collapsed": false,
    "pycharm": {
     "name": "#%%\n"
    }
   }
  },
  {
   "cell_type": "code",
   "execution_count": 71,
   "outputs": [
    {
     "data": {
      "text/plain": "       year                       category                           film  \\\n0      1927                  ART DIRECTION                        Sunrise   \n1      1927                  ART DIRECTION                      The Dove;   \n2      1927                  ART DIRECTION                     7th Heaven   \n3      1927                  ART DIRECTION              The Devil Dancer;   \n4      1927                  ART DIRECTION                        Sunrise   \n...     ...                            ...                            ...   \n72145  2021  WRITING (Original Screenplay)                  Don't Look Up   \n72146  2021  WRITING (Original Screenplay)                   King Richard   \n72147  2021  WRITING (Original Screenplay)                 Licorice Pizza   \n72148  2021  WRITING (Original Screenplay)  The Worst Person in the World   \n72149  2021  WRITING (Original Screenplay)  The Worst Person in the World   \n\n                                     name     status  \n0                           Rochus Gliese  nominated  \n1                 William Cameron Menzies  nominated  \n2                            Harry Oliver  nominated  \n3                           George Barnes  nominated  \n4                          Charles Rosher  nominated  \n...                                   ...        ...  \n72145  Story by Adam McKay & David Sirota  nominated  \n72146              Written by Zach Baylin  nominated  \n72147     Written by Paul Thomas Anderson  nominated  \n72148               Written by Eskil Vogt  nominated  \n72149                       Joachim Trier  nominated  \n\n[72150 rows x 5 columns]",
      "text/html": "<div>\n<style scoped>\n    .dataframe tbody tr th:only-of-type {\n        vertical-align: middle;\n    }\n\n    .dataframe tbody tr th {\n        vertical-align: top;\n    }\n\n    .dataframe thead th {\n        text-align: right;\n    }\n</style>\n<table border=\"1\" class=\"dataframe\">\n  <thead>\n    <tr style=\"text-align: right;\">\n      <th></th>\n      <th>year</th>\n      <th>category</th>\n      <th>film</th>\n      <th>name</th>\n      <th>status</th>\n    </tr>\n  </thead>\n  <tbody>\n    <tr>\n      <th>0</th>\n      <td>1927</td>\n      <td>ART DIRECTION</td>\n      <td>Sunrise</td>\n      <td>Rochus Gliese</td>\n      <td>nominated</td>\n    </tr>\n    <tr>\n      <th>1</th>\n      <td>1927</td>\n      <td>ART DIRECTION</td>\n      <td>The Dove;</td>\n      <td>William Cameron Menzies</td>\n      <td>nominated</td>\n    </tr>\n    <tr>\n      <th>2</th>\n      <td>1927</td>\n      <td>ART DIRECTION</td>\n      <td>7th Heaven</td>\n      <td>Harry Oliver</td>\n      <td>nominated</td>\n    </tr>\n    <tr>\n      <th>3</th>\n      <td>1927</td>\n      <td>ART DIRECTION</td>\n      <td>The Devil Dancer;</td>\n      <td>George Barnes</td>\n      <td>nominated</td>\n    </tr>\n    <tr>\n      <th>4</th>\n      <td>1927</td>\n      <td>ART DIRECTION</td>\n      <td>Sunrise</td>\n      <td>Charles Rosher</td>\n      <td>nominated</td>\n    </tr>\n    <tr>\n      <th>...</th>\n      <td>...</td>\n      <td>...</td>\n      <td>...</td>\n      <td>...</td>\n      <td>...</td>\n    </tr>\n    <tr>\n      <th>72145</th>\n      <td>2021</td>\n      <td>WRITING (Original Screenplay)</td>\n      <td>Don't Look Up</td>\n      <td>Story by Adam McKay &amp; David Sirota</td>\n      <td>nominated</td>\n    </tr>\n    <tr>\n      <th>72146</th>\n      <td>2021</td>\n      <td>WRITING (Original Screenplay)</td>\n      <td>King Richard</td>\n      <td>Written by Zach Baylin</td>\n      <td>nominated</td>\n    </tr>\n    <tr>\n      <th>72147</th>\n      <td>2021</td>\n      <td>WRITING (Original Screenplay)</td>\n      <td>Licorice Pizza</td>\n      <td>Written by Paul Thomas Anderson</td>\n      <td>nominated</td>\n    </tr>\n    <tr>\n      <th>72148</th>\n      <td>2021</td>\n      <td>WRITING (Original Screenplay)</td>\n      <td>The Worst Person in the World</td>\n      <td>Written by Eskil Vogt</td>\n      <td>nominated</td>\n    </tr>\n    <tr>\n      <th>72149</th>\n      <td>2021</td>\n      <td>WRITING (Original Screenplay)</td>\n      <td>The Worst Person in the World</td>\n      <td>Joachim Trier</td>\n      <td>nominated</td>\n    </tr>\n  </tbody>\n</table>\n<p>72150 rows × 5 columns</p>\n</div>"
     },
     "execution_count": 71,
     "metadata": {},
     "output_type": "execute_result"
    }
   ],
   "source": [
    "df_men = get_oscar_df_all(\"oscar-pages/nominees-men.html\")\n",
    "df_men"
   ],
   "metadata": {
    "collapsed": false,
    "pycharm": {
     "name": "#%%\n"
    }
   }
  },
  {
   "cell_type": "code",
   "execution_count": 66,
   "outputs": [
    {
     "data": {
      "text/plain": "       year                      category                   film  \\\n0      1928                       WRITING  Our Dancing Daughters   \n1      1928                       WRITING    A Woman of Affairs;   \n2      1929                       WRITING          The Big House   \n3      1931      WRITING (Original Story)              The Champ   \n4      1931      WRITING (Original Story)  What Price Hollywood?   \n...     ...                           ...                    ...   \n10344  2021  WRITING (Adapted Screenplay)        West Side Story   \n10345  2021  WRITING (Adapted Screenplay)        West Side Story   \n10346  2021  WRITING (Adapted Screenplay)                   CODA   \n10347  2021  WRITING (Adapted Screenplay)      The Lost Daughter   \n10348  2021  WRITING (Adapted Screenplay)   The Power of the Dog   \n\n                               name     status  \n0                  Josephine Lovett  nominated  \n1                     Bess Meredyth  nominated  \n2                    Frances Marion  nominated  \n3                    Frances Marion  nominated  \n4            Adela Rogers St. Johns  nominated  \n...                             ...        ...  \n10344              Steven Spielberg  nominated  \n10345       Kristie Macosko Krieger  nominated  \n10346      Screenplay by Siân Heder  nominated  \n10347  Written by Maggie Gyllenhaal  nominated  \n10348       Written by Jane Campion  nominated  \n\n[10349 rows x 5 columns]",
      "text/html": "<div>\n<style scoped>\n    .dataframe tbody tr th:only-of-type {\n        vertical-align: middle;\n    }\n\n    .dataframe tbody tr th {\n        vertical-align: top;\n    }\n\n    .dataframe thead th {\n        text-align: right;\n    }\n</style>\n<table border=\"1\" class=\"dataframe\">\n  <thead>\n    <tr style=\"text-align: right;\">\n      <th></th>\n      <th>year</th>\n      <th>category</th>\n      <th>film</th>\n      <th>name</th>\n      <th>status</th>\n    </tr>\n  </thead>\n  <tbody>\n    <tr>\n      <th>0</th>\n      <td>1928</td>\n      <td>WRITING</td>\n      <td>Our Dancing Daughters</td>\n      <td>Josephine Lovett</td>\n      <td>nominated</td>\n    </tr>\n    <tr>\n      <th>1</th>\n      <td>1928</td>\n      <td>WRITING</td>\n      <td>A Woman of Affairs;</td>\n      <td>Bess Meredyth</td>\n      <td>nominated</td>\n    </tr>\n    <tr>\n      <th>2</th>\n      <td>1929</td>\n      <td>WRITING</td>\n      <td>The Big House</td>\n      <td>Frances Marion</td>\n      <td>nominated</td>\n    </tr>\n    <tr>\n      <th>3</th>\n      <td>1931</td>\n      <td>WRITING (Original Story)</td>\n      <td>The Champ</td>\n      <td>Frances Marion</td>\n      <td>nominated</td>\n    </tr>\n    <tr>\n      <th>4</th>\n      <td>1931</td>\n      <td>WRITING (Original Story)</td>\n      <td>What Price Hollywood?</td>\n      <td>Adela Rogers St. Johns</td>\n      <td>nominated</td>\n    </tr>\n    <tr>\n      <th>...</th>\n      <td>...</td>\n      <td>...</td>\n      <td>...</td>\n      <td>...</td>\n      <td>...</td>\n    </tr>\n    <tr>\n      <th>10344</th>\n      <td>2021</td>\n      <td>WRITING (Adapted Screenplay)</td>\n      <td>West Side Story</td>\n      <td>Steven Spielberg</td>\n      <td>nominated</td>\n    </tr>\n    <tr>\n      <th>10345</th>\n      <td>2021</td>\n      <td>WRITING (Adapted Screenplay)</td>\n      <td>West Side Story</td>\n      <td>Kristie Macosko Krieger</td>\n      <td>nominated</td>\n    </tr>\n    <tr>\n      <th>10346</th>\n      <td>2021</td>\n      <td>WRITING (Adapted Screenplay)</td>\n      <td>CODA</td>\n      <td>Screenplay by Siân Heder</td>\n      <td>nominated</td>\n    </tr>\n    <tr>\n      <th>10347</th>\n      <td>2021</td>\n      <td>WRITING (Adapted Screenplay)</td>\n      <td>The Lost Daughter</td>\n      <td>Written by Maggie Gyllenhaal</td>\n      <td>nominated</td>\n    </tr>\n    <tr>\n      <th>10348</th>\n      <td>2021</td>\n      <td>WRITING (Adapted Screenplay)</td>\n      <td>The Power of the Dog</td>\n      <td>Written by Jane Campion</td>\n      <td>nominated</td>\n    </tr>\n  </tbody>\n</table>\n<p>10349 rows × 5 columns</p>\n</div>"
     },
     "execution_count": 66,
     "metadata": {},
     "output_type": "execute_result"
    }
   ],
   "source": [
    "df_women = get_oscar_df_all(\"oscar-pages/nominees-women.html\")\n",
    "df_women"
   ],
   "metadata": {
    "collapsed": false,
    "pycharm": {
     "name": "#%%\n"
    }
   }
  },
  {
   "cell_type": "code",
   "execution_count": 72,
   "outputs": [
    {
     "data": {
      "text/plain": "COSTUME DESIGN                                                                                                                               1289\nFILM EDITING                                                                                                                                 1211\nDOCUMENTARY (Feature)                                                                                                                        1194\nBEST PICTURE                                                                                                                                 1085\nART DIRECTION                                                                                                                                 806\nMAKEUP                                                                                                                                        617\nWRITING (Adapted Screenplay)                                                                                                                  579\nWRITING (Original Screenplay)                                                                                                                 485\nPRODUCTION DESIGN                                                                                                                             377\nMAKEUP AND HAIRSTYLING                                                                                                                        377\nWRITING (Screenplay Written Directly for the Screen)                                                                                          273\nCOSTUME DESIGN (Color)                                                                                                                        239\nCOSTUME DESIGN (Black-and-White)                                                                                                              239\nDIRECTING                                                                                                                                     231\nWRITING (Screenplay Based on Material Previously Produced or Published)                                                                       205\nWRITING (Screenplay)                                                                                                                          151\nVISUAL EFFECTS                                                                                                                                138\nART DIRECTION (Color)                                                                                                                         126\nWRITING (Screenplay Based on Material from Another Medium)                                                                                    125\nART DIRECTION (Black-and-White)                                                                                                                98\nCINEMATOGRAPHY                                                                                                                                 80\nWRITING (Motion Picture Story)                                                                                                                 77\nWRITING (Story and Screenplay)                                                                                                                 76\nWRITING (Screenplay--based on material from another medium)                                                                                    74\nWRITING (Story and Screenplay--written directly for the screen)                                                                                56\nWRITING (Story and Screenplay--based on factual material or material not previously published or produced)                                     43\nWRITING (Original Story)                                                                                                                       38\nFOREIGN LANGUAGE FILM                                                                                                                          16\nWRITING (Screenplay Adapted from Other Material)                                                                                               15\nWRITING (Screenplay Written Directly for the Screen--based on factual material or on story material not previously published or produced)      11\nWRITING (Adaptation)                                                                                                                            8\nWRITING (Original Motion Picture Story)                                                                                                         7\nWRITING                                                                                                                                         3\nName: category, dtype: int64"
     },
     "execution_count": 72,
     "metadata": {},
     "output_type": "execute_result"
    }
   ],
   "source": [
    "df_women.category.value_counts()"
   ],
   "metadata": {
    "collapsed": false,
    "pycharm": {
     "name": "#%%\n"
    }
   }
  },
  {
   "cell_type": "code",
   "execution_count": 79,
   "outputs": [],
   "source": [
    "df_men.to_csv('oscar-men.csv', index=False)"
   ],
   "metadata": {
    "collapsed": false,
    "pycharm": {
     "name": "#%%\n"
    }
   }
  },
  {
   "cell_type": "code",
   "execution_count": 77,
   "outputs": [],
   "source": [
    "df_women.to_csv('oscar-women.csv', index=False)"
   ],
   "metadata": {
    "collapsed": false,
    "pycharm": {
     "name": "#%%\n"
    }
   }
  },
  {
   "cell_type": "code",
   "execution_count": 80,
   "outputs": [
    {
     "data": {
      "text/plain": "       year                       category                           film  \\\n0      1927                  ART DIRECTION                        Sunrise   \n1      1927                  ART DIRECTION                      The Dove;   \n2      1927                  ART DIRECTION                     7th Heaven   \n3      1927                  ART DIRECTION              The Devil Dancer;   \n4      1927                  ART DIRECTION                        Sunrise   \n...     ...                            ...                            ...   \n72145  2021  WRITING (Original Screenplay)                  Don't Look Up   \n72146  2021  WRITING (Original Screenplay)                   King Richard   \n72147  2021  WRITING (Original Screenplay)                 Licorice Pizza   \n72148  2021  WRITING (Original Screenplay)  The Worst Person in the World   \n72149  2021  WRITING (Original Screenplay)  The Worst Person in the World   \n\n                                     name     status  \n0                           Rochus Gliese  nominated  \n1                 William Cameron Menzies  nominated  \n2                            Harry Oliver  nominated  \n3                           George Barnes  nominated  \n4                          Charles Rosher  nominated  \n...                                   ...        ...  \n72145  Story by Adam McKay & David Sirota  nominated  \n72146              Written by Zach Baylin  nominated  \n72147     Written by Paul Thomas Anderson  nominated  \n72148               Written by Eskil Vogt  nominated  \n72149                       Joachim Trier  nominated  \n\n[72150 rows x 5 columns]",
      "text/html": "<div>\n<style scoped>\n    .dataframe tbody tr th:only-of-type {\n        vertical-align: middle;\n    }\n\n    .dataframe tbody tr th {\n        vertical-align: top;\n    }\n\n    .dataframe thead th {\n        text-align: right;\n    }\n</style>\n<table border=\"1\" class=\"dataframe\">\n  <thead>\n    <tr style=\"text-align: right;\">\n      <th></th>\n      <th>year</th>\n      <th>category</th>\n      <th>film</th>\n      <th>name</th>\n      <th>status</th>\n    </tr>\n  </thead>\n  <tbody>\n    <tr>\n      <th>0</th>\n      <td>1927</td>\n      <td>ART DIRECTION</td>\n      <td>Sunrise</td>\n      <td>Rochus Gliese</td>\n      <td>nominated</td>\n    </tr>\n    <tr>\n      <th>1</th>\n      <td>1927</td>\n      <td>ART DIRECTION</td>\n      <td>The Dove;</td>\n      <td>William Cameron Menzies</td>\n      <td>nominated</td>\n    </tr>\n    <tr>\n      <th>2</th>\n      <td>1927</td>\n      <td>ART DIRECTION</td>\n      <td>7th Heaven</td>\n      <td>Harry Oliver</td>\n      <td>nominated</td>\n    </tr>\n    <tr>\n      <th>3</th>\n      <td>1927</td>\n      <td>ART DIRECTION</td>\n      <td>The Devil Dancer;</td>\n      <td>George Barnes</td>\n      <td>nominated</td>\n    </tr>\n    <tr>\n      <th>4</th>\n      <td>1927</td>\n      <td>ART DIRECTION</td>\n      <td>Sunrise</td>\n      <td>Charles Rosher</td>\n      <td>nominated</td>\n    </tr>\n    <tr>\n      <th>...</th>\n      <td>...</td>\n      <td>...</td>\n      <td>...</td>\n      <td>...</td>\n      <td>...</td>\n    </tr>\n    <tr>\n      <th>72145</th>\n      <td>2021</td>\n      <td>WRITING (Original Screenplay)</td>\n      <td>Don't Look Up</td>\n      <td>Story by Adam McKay &amp; David Sirota</td>\n      <td>nominated</td>\n    </tr>\n    <tr>\n      <th>72146</th>\n      <td>2021</td>\n      <td>WRITING (Original Screenplay)</td>\n      <td>King Richard</td>\n      <td>Written by Zach Baylin</td>\n      <td>nominated</td>\n    </tr>\n    <tr>\n      <th>72147</th>\n      <td>2021</td>\n      <td>WRITING (Original Screenplay)</td>\n      <td>Licorice Pizza</td>\n      <td>Written by Paul Thomas Anderson</td>\n      <td>nominated</td>\n    </tr>\n    <tr>\n      <th>72148</th>\n      <td>2021</td>\n      <td>WRITING (Original Screenplay)</td>\n      <td>The Worst Person in the World</td>\n      <td>Written by Eskil Vogt</td>\n      <td>nominated</td>\n    </tr>\n    <tr>\n      <th>72149</th>\n      <td>2021</td>\n      <td>WRITING (Original Screenplay)</td>\n      <td>The Worst Person in the World</td>\n      <td>Joachim Trier</td>\n      <td>nominated</td>\n    </tr>\n  </tbody>\n</table>\n<p>72150 rows × 5 columns</p>\n</div>"
     },
     "execution_count": 80,
     "metadata": {},
     "output_type": "execute_result"
    }
   ],
   "source": [
    "df = pd.read_csv('oscar-men.csv')\n",
    "df"
   ],
   "metadata": {
    "collapsed": false,
    "pycharm": {
     "name": "#%%\n"
    }
   }
  },
  {
   "cell_type": "code",
   "execution_count": null,
   "outputs": [],
   "source": [],
   "metadata": {
    "collapsed": false,
    "pycharm": {
     "name": "#%%\n"
    }
   }
  }
 ],
 "metadata": {
  "interpreter": {
   "hash": "45a8477b08c324d9cce7950632ad2e4fce9f4230ff1fbe555c11182565a7ba4b"
  },
  "kernelspec": {
   "display_name": "Python 3.9.7 ('base')",
   "language": "python",
   "name": "python3"
  },
  "language_info": {
   "codemirror_mode": {
    "name": "ipython",
    "version": 3
   },
   "file_extension": ".py",
   "mimetype": "text/x-python",
   "name": "python",
   "nbconvert_exporter": "python",
   "pygments_lexer": "ipython3",
   "version": "3.9.7"
  }
 },
 "nbformat": 4,
 "nbformat_minor": 5
}