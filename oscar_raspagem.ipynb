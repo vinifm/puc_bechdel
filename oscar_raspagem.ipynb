{
 "cells": [
  {
   "cell_type": "code",
   "execution_count": 304,
   "id": "0ff659d0",
   "metadata": {
    "pycharm": {
     "name": "#%%\n"
    }
   },
   "outputs": [],
   "source": [
    "import requests\n",
    "from bs4 import BeautifulSoup\n",
    "import pandas as pd\n",
    "import re"
   ]
  },
  {
   "cell_type": "code",
   "execution_count": 305,
   "outputs": [],
   "source": [
    "url = \"https://en.wikipedia.org/wiki/List_of_female_Academy_Award_winners_and_nominees_for_non-gendered_categories\"\n",
    "page = requests.get(url)\n",
    "soup = BeautifulSoup(page.content, 'html.parser')"
   ],
   "metadata": {
    "collapsed": false,
    "pycharm": {
     "name": "#%%\n"
    }
   }
  },
  {
   "cell_type": "markdown",
   "source": [
    "#### Raspagem: lista de mulheres nomeadas e ganhadoras do Oscar em categorias em que gêneros competem.\n",
    "\n",
    "Como alguns elementos ocupam mais que uma linha, não é possível fazer a raspagem iterando entre os múltiplos de cada célula. A solução encontrada foi:\n",
    "\n",
    "- Para o ano ('year'): tentar converter os 4 primeiros caracteres da célula em inteiro. Se não houver erro, é porque a célula é um ano válido; ele é salvo na variável `new_year`.\n",
    "- Para o status ('Nominated' ou 'Won'): todas as células de status possuem `<td class=\"no table-no2\" (...)>` para _Nominated_ ou `<td class=\"yes table-yes2\" (...)>` para _Won_. Verifica-se se a célula atual é uma dessas e, se sim, o texto dela, da categoria (título da tabela) e do ano `new_year` é adicionado em suas respectivas listas.\n"
   ],
   "metadata": {
    "collapsed": false,
    "pycharm": {
     "name": "#%% md\n"
    }
   }
  },
  {
   "cell_type": "code",
   "execution_count": 306,
   "outputs": [
    {
     "data": {
      "text/plain": "      year                  category     status\n0     2007     Best Animated Feature  Nominated\n1     2011     Best Animated Feature  Nominated\n2     2012     Best Animated Feature        Won\n3     2013     Best Animated Feature        Won\n4     2013     Best Animated Feature  Nominated\n...    ...                       ...        ...\n1418  2017  Best Original Screenplay  Nominated\n1419  2017  Best Original Screenplay  Nominated\n1420  2018  Best Original Screenplay  Nominated\n1421  1917  Best Original Screenplay  Nominated\n1422  2020  Best Original Screenplay        Won\n\n[1423 rows x 3 columns]",
      "text/html": "<div>\n<style scoped>\n    .dataframe tbody tr th:only-of-type {\n        vertical-align: middle;\n    }\n\n    .dataframe tbody tr th {\n        vertical-align: top;\n    }\n\n    .dataframe thead th {\n        text-align: right;\n    }\n</style>\n<table border=\"1\" class=\"dataframe\">\n  <thead>\n    <tr style=\"text-align: right;\">\n      <th></th>\n      <th>year</th>\n      <th>category</th>\n      <th>status</th>\n    </tr>\n  </thead>\n  <tbody>\n    <tr>\n      <th>0</th>\n      <td>2007</td>\n      <td>Best Animated Feature</td>\n      <td>Nominated</td>\n    </tr>\n    <tr>\n      <th>1</th>\n      <td>2011</td>\n      <td>Best Animated Feature</td>\n      <td>Nominated</td>\n    </tr>\n    <tr>\n      <th>2</th>\n      <td>2012</td>\n      <td>Best Animated Feature</td>\n      <td>Won</td>\n    </tr>\n    <tr>\n      <th>3</th>\n      <td>2013</td>\n      <td>Best Animated Feature</td>\n      <td>Won</td>\n    </tr>\n    <tr>\n      <th>4</th>\n      <td>2013</td>\n      <td>Best Animated Feature</td>\n      <td>Nominated</td>\n    </tr>\n    <tr>\n      <th>...</th>\n      <td>...</td>\n      <td>...</td>\n      <td>...</td>\n    </tr>\n    <tr>\n      <th>1418</th>\n      <td>2017</td>\n      <td>Best Original Screenplay</td>\n      <td>Nominated</td>\n    </tr>\n    <tr>\n      <th>1419</th>\n      <td>2017</td>\n      <td>Best Original Screenplay</td>\n      <td>Nominated</td>\n    </tr>\n    <tr>\n      <th>1420</th>\n      <td>2018</td>\n      <td>Best Original Screenplay</td>\n      <td>Nominated</td>\n    </tr>\n    <tr>\n      <th>1421</th>\n      <td>1917</td>\n      <td>Best Original Screenplay</td>\n      <td>Nominated</td>\n    </tr>\n    <tr>\n      <th>1422</th>\n      <td>2020</td>\n      <td>Best Original Screenplay</td>\n      <td>Won</td>\n    </tr>\n  </tbody>\n</table>\n<p>1423 rows × 3 columns</p>\n</div>"
     },
     "execution_count": 306,
     "metadata": {},
     "output_type": "execute_result"
    }
   ],
   "source": [
    "year = []\n",
    "category = []\n",
    "status = []\n",
    "all_tables = soup.find_all(class_='wikitable')\n",
    "\n",
    "for table in all_tables:\n",
    "\ttd = table.find_all('td')\n",
    "\tnew_year = 0\n",
    "\tfor i in range(0, len(td)):\n",
    "\t\ttry:\n",
    "\t\t\told_year = new_year\n",
    "\t\t\tnew_year = int(td[i].text[0:4])\n",
    "\t\t\tif new_year < 1000:\n",
    "\t\t\t\tnew_year = old_year\n",
    "\t\texcept ValueError:\n",
    "\t\t\tpass\n",
    "\t\tif td[i].get('class'):\n",
    "\t\t\tstatus.append(td[i].text[0:-1])\n",
    "\t\t\tcategory.append(td[0].text[18:-1])\n",
    "\t\t\tif new_year != 0:\n",
    "\t\t\t\tyear.append(new_year)\n",
    "\n",
    "oscar_women_df = pd.DataFrame({\n",
    "\t'year': year,\n",
    "\t'category': category,\n",
    "\t'status': status\n",
    "})\n",
    "\n",
    "#\trenomeia as categorias que possuíam sobrescrito no título.\n",
    "oscar_women_df.category = oscar_women_df.category.replace({\n",
    "\t'Best Sound [note 12]': 'Best Sound Mixing',\n",
    "\t'Best Original Score [note 7]': 'Best Original Score'\n",
    "})\n",
    "\n",
    "#\tcorrige um typo na tabela original.\n",
    "oscar_women_df.status = oscar_women_df.status.replace({'Nominated}': 'Nominated'})\n",
    "\n",
    "oscar_women_df\n"
   ],
   "metadata": {
    "collapsed": false,
    "pycharm": {
     "name": "#%%\n"
    }
   }
  },
  {
   "cell_type": "markdown",
   "source": [
    "# Indicados e ganhadores homens.\n",
    "A raspagem de competidores homens foi feita a partir da [base de dados da Academia de Artes e Ciências Cinematográficas](https://awardsdatabase.oscars.org/). Para automação completa, seria necessária o uso do Selenium. Neste caso, o código fonte foi salvo em um arquivo e a manipulação foi feita em seguida. As seguintes categorias foram selecionadas:\n",
    "\n",
    "1. Best Picture\n",
    "2. Best Director\n",
    "3. Best Original Screenplay\n",
    "4. Best Adapted Screenplay\n",
    "5. Best Cinematography\n",
    "6. Best Costume Design\n",
    "7. Best Production Design\n",
    "8. Documentary Feature\n",
    "9. Best Film Editing\n",
    "10. Best Makeup and Hairstyling\n",
    "11. Best International Feature Film\n",
    "12. Best Visual Effects\n",
    "\n",
    "### A FAZER:\n",
    "[ ] Adicionar coluna com status (ganhador ou indicado);\n",
    "[ ] Pesquisar um jeito mais simples de usar a split com múltiplos delimitadores, sem precisar usar o `.replace()` (linha 14)"
   ],
   "metadata": {
    "collapsed": false,
    "pycharm": {
     "name": "#%% md\n"
    }
   }
  },
  {
   "cell_type": "code",
   "execution_count": 309,
   "outputs": [],
   "source": [
    "def get_oscar_df(file):\n",
    "\tf = open(file)\n",
    "\tsoup = BeautifulSoup(f, 'html.parser')\n",
    "\tdf = pd.DataFrame({'year': [], 'category': [], 'film': [], 'name': []})\n",
    "\n",
    "\tall_groups = soup.find_all(class_='awards-result-chron result-group group-awardcategory-chron')\n",
    "\tfor group in all_groups:\n",
    "\t\tyear = group.find(class_=\"result-group-title\").text.strip()[0:4]\n",
    "\t\tcategory = group.find(class_=\"result-subgroup-header\").text.strip()\n",
    "\t\tall_films = group.find_all(class_=\"awards-result-nomination awards-result-nomination-actingorsimilar\")\n",
    "\t\tfor row in all_films:\n",
    "\t\t\tfilm = row.find(class_=\"awards-result-film-title\").text.strip()\n",
    "\n",
    "\t\t\tall_names = row.find(class_=\"awards-result-nominationstatement\").text.replace(' and ', ',').replace(';', ',').split(',')\n",
    "\n",
    "\t\t\tall_names = [i for i in all_names if 'Producer' not in i]\n",
    "\t\t\tfor name in all_names:\n",
    "\t\t\t\tname = name.strip()\n",
    "\t\t\t\trow = pd.DataFrame({'year': [year],\n",
    "\t\t\t\t\t\t\t\t\t  'category': [category],\n",
    "\t\t\t\t\t\t\t\t\t  'film': [film],\n",
    "\t\t\t\t\t\t\t\t\t  'name': [name]\n",
    "\t\t\t\t\t\t\t\t\t  })\n",
    "\t\t\t\tdf = pd.concat([df, row], ignore_index=True)\n",
    "\t\t\t\tdf = df[df.name != 'Jr.']\n",
    "\treturn df"
   ],
   "metadata": {
    "collapsed": false,
    "pycharm": {
     "name": "#%%\n"
    }
   }
  },
  {
   "cell_type": "code",
   "execution_count": 310,
   "outputs": [
    {
     "data": {
      "text/plain": "     year             category                  film                     name\n0    1951  BEST MOTION PICTURE  An American in Paris             Arthur Freed\n1    1951  BEST MOTION PICTURE  Decision before Dawn           Anatole Litvak\n2    1951  BEST MOTION PICTURE  Decision before Dawn           Frank McCarthy\n3    1951  BEST MOTION PICTURE    A Place in the Sun           George Stevens\n4    1951  BEST MOTION PICTURE             Quo Vadis            Sam Zimbalist\n..    ...                  ...                   ...                      ...\n783  2021         BEST PICTURE  The Power of the Dog            Emile Sherman\n784  2021         BEST PICTURE  The Power of the Dog             Iain Canning\n785  2021         BEST PICTURE  The Power of the Dog           Roger Frappier\n786  2021         BEST PICTURE       West Side Story         Steven Spielberg\n787  2021         BEST PICTURE       West Side Story  Kristie Macosko Krieger\n\n[788 rows x 4 columns]",
      "text/html": "<div>\n<style scoped>\n    .dataframe tbody tr th:only-of-type {\n        vertical-align: middle;\n    }\n\n    .dataframe tbody tr th {\n        vertical-align: top;\n    }\n\n    .dataframe thead th {\n        text-align: right;\n    }\n</style>\n<table border=\"1\" class=\"dataframe\">\n  <thead>\n    <tr style=\"text-align: right;\">\n      <th></th>\n      <th>year</th>\n      <th>category</th>\n      <th>film</th>\n      <th>name</th>\n    </tr>\n  </thead>\n  <tbody>\n    <tr>\n      <th>0</th>\n      <td>1951</td>\n      <td>BEST MOTION PICTURE</td>\n      <td>An American in Paris</td>\n      <td>Arthur Freed</td>\n    </tr>\n    <tr>\n      <th>1</th>\n      <td>1951</td>\n      <td>BEST MOTION PICTURE</td>\n      <td>Decision before Dawn</td>\n      <td>Anatole Litvak</td>\n    </tr>\n    <tr>\n      <th>2</th>\n      <td>1951</td>\n      <td>BEST MOTION PICTURE</td>\n      <td>Decision before Dawn</td>\n      <td>Frank McCarthy</td>\n    </tr>\n    <tr>\n      <th>3</th>\n      <td>1951</td>\n      <td>BEST MOTION PICTURE</td>\n      <td>A Place in the Sun</td>\n      <td>George Stevens</td>\n    </tr>\n    <tr>\n      <th>4</th>\n      <td>1951</td>\n      <td>BEST MOTION PICTURE</td>\n      <td>Quo Vadis</td>\n      <td>Sam Zimbalist</td>\n    </tr>\n    <tr>\n      <th>...</th>\n      <td>...</td>\n      <td>...</td>\n      <td>...</td>\n      <td>...</td>\n    </tr>\n    <tr>\n      <th>783</th>\n      <td>2021</td>\n      <td>BEST PICTURE</td>\n      <td>The Power of the Dog</td>\n      <td>Emile Sherman</td>\n    </tr>\n    <tr>\n      <th>784</th>\n      <td>2021</td>\n      <td>BEST PICTURE</td>\n      <td>The Power of the Dog</td>\n      <td>Iain Canning</td>\n    </tr>\n    <tr>\n      <th>785</th>\n      <td>2021</td>\n      <td>BEST PICTURE</td>\n      <td>The Power of the Dog</td>\n      <td>Roger Frappier</td>\n    </tr>\n    <tr>\n      <th>786</th>\n      <td>2021</td>\n      <td>BEST PICTURE</td>\n      <td>West Side Story</td>\n      <td>Steven Spielberg</td>\n    </tr>\n    <tr>\n      <th>787</th>\n      <td>2021</td>\n      <td>BEST PICTURE</td>\n      <td>West Side Story</td>\n      <td>Kristie Macosko Krieger</td>\n    </tr>\n  </tbody>\n</table>\n<p>788 rows × 4 columns</p>\n</div>"
     },
     "execution_count": 310,
     "metadata": {},
     "output_type": "execute_result"
    }
   ],
   "source": [
    "picture_men_df = get_oscar_df('oscar-pages/best-picture.html')\n",
    "picture_men_df"
   ],
   "metadata": {
    "collapsed": false,
    "pycharm": {
     "name": "#%%\n"
    }
   }
  }
 ],
 "metadata": {
  "interpreter": {
   "hash": "45a8477b08c324d9cce7950632ad2e4fce9f4230ff1fbe555c11182565a7ba4b"
  },
  "kernelspec": {
   "display_name": "Python 3.9.7 ('base')",
   "language": "python",
   "name": "python3"
  },
  "language_info": {
   "codemirror_mode": {
    "name": "ipython",
    "version": 3
   },
   "file_extension": ".py",
   "mimetype": "text/x-python",
   "name": "python",
   "nbconvert_exporter": "python",
   "pygments_lexer": "ipython3",
   "version": "3.9.7"
  }
 },
 "nbformat": 4,
 "nbformat_minor": 5
}