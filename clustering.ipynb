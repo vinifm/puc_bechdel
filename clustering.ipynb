{
 "cells": [
  {
   "cell_type": "code",
   "execution_count": 2,
   "metadata": {},
   "outputs": [],
   "source": [
    "import pandas as pd\n",
    "\n",
    "pd.set_option('display.max_rows', 10)\n"
   ]
  },
  {
   "cell_type": "code",
   "execution_count": 6,
   "metadata": {},
   "outputs": [
    {
     "name": "stdout",
     "output_type": "stream",
     "text": [
      "<class 'pandas.core.frame.DataFrame'>\n",
      "Index: 7279 entries, 0 to 7634\n",
      "Data columns (total 13 columns):\n",
      " #   Column                      Non-Null Count  Dtype  \n",
      "---  ------                      --------------  -----  \n",
      " 0   year                        7279 non-null   int64  \n",
      " 1   bt_score                    7279 non-null   int64  \n",
      " 2   dubious                     7279 non-null   int64  \n",
      " 3   genres                      7279 non-null   object \n",
      " 4   popularity                  7279 non-null   float64\n",
      " 5   production_companies        7279 non-null   object \n",
      " 6   production_countries        7279 non-null   object \n",
      " 7   revenue                     7279 non-null   float64\n",
      " 8   vote_average                7279 non-null   float64\n",
      " 9   vote_count                  7279 non-null   float64\n",
      " 10  budget                      7279 non-null   float64\n",
      " 11  cast_female_representation  7279 non-null   float64\n",
      " 12  crew_female_representation  7279 non-null   float64\n",
      "dtypes: float64(7), int64(3), object(3)\n",
      "memory usage: 796.1+ KB\n"
     ]
    }
   ],
   "source": [
    "df = pd.read_csv('movies.csv', index_col=0)\n",
    "\n",
    "# features não usadas\n",
    "df = df.drop(['title', 'imdbid', 'tmdbId', 'cast', 'crew', 'cast_gender',\n",
    "\t\t\t  'crew_gender', 'release_date'], axis=1)\n",
    "df.info()\n"
   ]
  },
  {
   "cell_type": "code",
   "execution_count": null,
   "metadata": {},
   "outputs": [],
   "source": []
  },
  {
   "cell_type": "markdown",
   "metadata": {},
   "source": [
    "## Encoding\n",
    "\n",
    "## Recursos\n",
    "- [SAMPAIO, Cássia. Definitive Guide to Hierarchical Clustering with Python and Scikit-Learn. StackAbuse.](https://stackabuse.com/hierarchical-clustering-with-python-and-scikit-learn/)\n",
    "- [LUKIC, Mila. One-Hot Encoding in Python with Pandas and Scikit-Learn. StackAbuse.](https://stackabuse.com/one-hot-encoding-in-python-with-pandas-and-scikit-learn/)"
   ]
  },
  {
   "cell_type": "markdown",
   "metadata": {},
   "source": []
  }
 ],
 "metadata": {
  "kernelspec": {
   "display_name": ".env_bechdel",
   "language": "python",
   "name": "python3"
  },
  "language_info": {
   "codemirror_mode": {
    "name": "ipython",
    "version": 3
   },
   "file_extension": ".py",
   "mimetype": "text/x-python",
   "name": "python",
   "nbconvert_exporter": "python",
   "pygments_lexer": "ipython3",
   "version": "3.12.0"
  }
 },
 "nbformat": 4,
 "nbformat_minor": 2
}
