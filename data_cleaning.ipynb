{
 "cells": [
  {
   "cell_type": "code",
   "execution_count": null,
   "metadata": {
    "pycharm": {
     "name": "#%%\n"
    }
   },
   "outputs": [],
   "source": [
    "import pandas as pd\n",
    "import matplotlib.pyplot as plt\n",
    "import seaborn as sns\n",
    "import numpy as np\n",
    "import requests\n",
    "from datetime import datetime\n",
    "from plotnine import *"
   ]
  },
  {
   "cell_type": "markdown",
   "metadata": {
    "pycharm": {
     "name": "#%% md\n"
    }
   },
   "source": [
    "## **Unindo os datasets**"
   ]
  },
  {
   "cell_type": "code",
   "execution_count": null,
   "metadata": {
    "pycharm": {
     "name": "#%%\n"
    }
   },
   "outputs": [],
   "source": [
    "bechdel_df = pd.read_csv('datasets/Bechdel_detailed.csv')\n",
    "links_df = pd.read_csv('datasets/movie-dataset/links.csv') # contém o id do imdb e tmdb de cada filme\n",
    "\n",
    "# remove colunas não usadas\n",
    "bechdel_df = bechdel_df.drop(['Unnamed: 0', 'submitterid', 'date', 'visible', 'id'], axis=1)\n",
    "\n",
    "# renomeia rating para não coincidir com o dos outros datasets\n",
    "bechdel_df = bechdel_df.rename(columns={'rating': 'bt_score'})\n",
    "\n",
    "# junta os 3 dataframes e descarta colunas duplicadas\n",
    "bechdel_df = pd.merge(bechdel_df, links_df, left_on='imdbid', right_on='imdbId', how='inner').drop(['imdbId', 'movieId'], axis=1)\n",
    "\n",
    "bechdel_df.head()"
   ]
  },
  {
   "cell_type": "code",
   "execution_count": null,
   "metadata": {
    "pycharm": {
     "name": "#%%\n"
    }
   },
   "outputs": [],
   "source": [
    "bechdel_df = bechdel_df.sort_values(by=['bt_score', 'year'], ascending=[False, True]).reset_index(drop=True)\n",
    "bechdel_df.head()"
   ]
  },
  {
   "cell_type": "markdown",
   "metadata": {
    "pycharm": {
     "name": "#%% md\n"
    }
   },
   "source": [
    "## **Tratamento dos dados**"
   ]
  },
  {
   "cell_type": "markdown",
   "metadata": {
    "pycharm": {
     "name": "#%% md\n"
    }
   },
   "source": [
    "### **Retirada de nulos**"
   ]
  },
  {
   "cell_type": "code",
   "execution_count": null,
   "metadata": {
    "pycharm": {
     "name": "#%%\n"
    }
   },
   "outputs": [],
   "source": [
    "bechdel_df.describe()"
   ]
  },
  {
   "cell_type": "code",
   "execution_count": null,
   "metadata": {
    "pycharm": {
     "name": "#%%\n"
    }
   },
   "outputs": [],
   "source": [
    "non_null_data = bechdel_df.dropna().copy()"
   ]
  },
  {
   "cell_type": "code",
   "execution_count": null,
   "metadata": {
    "pycharm": {
     "name": "#%%\n"
    }
   },
   "outputs": [],
   "source": [
    "non_null_data.describe()"
   ]
  },
  {
   "cell_type": "markdown",
   "metadata": {
    "pycharm": {
     "name": "#%% md\n"
    }
   },
   "source": [
    "### **Transformando tipos de dados**"
   ]
  },
  {
   "cell_type": "code",
   "execution_count": null,
   "metadata": {
    "pycharm": {
     "name": "#%%\n"
    }
   },
   "outputs": [],
   "source": [
    "non_null_data['year'] = non_null_data['year'].astype('int')\n",
    "non_null_data['bt_score'] = non_null_data['bt_score'].astype('int')\n",
    "non_null_data['dubious'] = non_null_data['dubious'].astype('int')\n",
    "non_null_data['imdbid'] = non_null_data['imdbid'].astype('int')\n",
    "non_null_data['tmdbId'] = non_null_data['tmdbId'].astype('int')"
   ]
  },
  {
   "cell_type": "markdown",
   "metadata": {
    "pycharm": {
     "name": "#%% md\n"
    }
   },
   "source": [
    "### **API**"
   ]
  },
  {
   "cell_type": "markdown",
   "metadata": {
    "pycharm": {
     "name": "#%% md\n"
    }
   },
   "source": [
    "##### **Raspar dados dos filmes**"
   ]
  },
  {
   "cell_type": "code",
   "execution_count": null,
   "metadata": {
    "pycharm": {
     "name": "#%%\n"
    }
   },
   "outputs": [],
   "source": [
    "non_null_data['genres'] = pd.NA\n",
    "non_null_data['popularity'] = pd.NA\n",
    "non_null_data['production_companies'] = pd.NA\n",
    "non_null_data['production_countries'] = pd.NA\n",
    "non_null_data['release_date'] = pd.NA\n",
    "non_null_data['revenue'] = pd.NA\n",
    "non_null_data['title'] = pd.NA\n",
    "non_null_data['vote_average'] = pd.NA\n",
    "non_null_data['vote_count'] = pd.NA\n",
    "non_null_data['cast'] = pd.NA\n",
    "non_null_data['crew'] = pd.NA"
   ]
  },
  {
   "cell_type": "code",
   "execution_count": null,
   "metadata": {
    "pycharm": {
     "name": "#%%\n"
    }
   },
   "outputs": [],
   "source": [
    "api_key = 'b12a91c6b0aa37015f0b966b61efd74d'\n",
    "\n",
    "for index, row in non_null_data.iterrows():\n",
    "    try:\n",
    "        info = requests.get(f'https://api.themoviedb.org/3/movie/{row[\"tmdbId\"]}?api_key={api_key}')\n",
    "        credits = requests.get(f'https://api.themoviedb.org/3/movie/{row[\"tmdbId\"]}/credits?api_key={api_key}')\n",
    "        \n",
    "        details = info.json()\n",
    "        details['cast'] = credits.json()['cast']\n",
    "        details['crew'] = credits.json()['crew']\n",
    "\n",
    "        non_null_data.loc[index, 'budget'] = details['budget']\n",
    "        non_null_data.loc[index, 'genres'] = str(details['genres'])\n",
    "        non_null_data.loc[index, 'popularity'] = details['popularity']\n",
    "        non_null_data.loc[index, 'production_companies'] = str(details['production_companies'])\n",
    "        non_null_data.loc[index, 'production_countries'] = str(details['production_countries'])\n",
    "        non_null_data.loc[index, 'release_date'] = details['release_date']\n",
    "        non_null_data.loc[index, 'revenue'] = details['revenue']\n",
    "        non_null_data.loc[index, 'title'] = details['title']\n",
    "        non_null_data.loc[index, 'vote_average'] = details['vote_average']\n",
    "        non_null_data.loc[index, 'vote_count'] = details['vote_count']\n",
    "        non_null_data.loc[index, 'cast'] = str(details['cast'])\n",
    "        non_null_data.loc[index, 'crew'] = str(details['crew'])\n",
    "    except:\n",
    "        print(row['tmdbId'])\n",
    "\n",
    "non_null_data.to_csv('api_data.csv')"
   ]
  },
  {
   "cell_type": "code",
   "execution_count": null,
   "metadata": {
    "pycharm": {
     "name": "#%%\n"
    }
   },
   "outputs": [],
   "source": [
    "data = pd.read_csv('api_data.csv', index_col=0)\n",
    "\n",
    "data = data.dropna().copy()\n",
    "\n",
    "data.head()"
   ]
  },
  {
   "cell_type": "markdown",
   "metadata": {
    "pycharm": {
     "name": "#%% md\n"
    }
   },
   "source": [
    "#### **Tratamento das colunas**"
   ]
  },
  {
   "cell_type": "code",
   "execution_count": null,
   "metadata": {
    "pycharm": {
     "name": "#%%\n"
    }
   },
   "outputs": [],
   "source": [
    "data.info()"
   ]
  },
  {
   "cell_type": "code",
   "execution_count": null,
   "metadata": {
    "pycharm": {
     "name": "#%%\n"
    }
   },
   "outputs": [],
   "source": [
    "for index, movie in data.iterrows():\n",
    "    genres = eval(movie['genres'])\n",
    "    genres_list = []\n",
    "\n",
    "    for genre in genres:\n",
    "        genre_name = genre['name']\n",
    "        genres_list.append(genre_name)\n",
    "\n",
    "    data.at[index, 'genres'] = genres_list"
   ]
  },
  {
   "cell_type": "code",
   "execution_count": null,
   "metadata": {
    "pycharm": {
     "name": "#%%\n"
    }
   },
   "outputs": [],
   "source": [
    "for index, movie in data.iterrows():\n",
    "    companies = eval(movie['production_companies'])\n",
    "    companies_list = []\n",
    "\n",
    "    for company in companies:\n",
    "        company_name = company['name']\n",
    "        companies_list.append(company_name)\n",
    "\n",
    "    data.at[index, 'production_companies'] = companies_list"
   ]
  },
  {
   "cell_type": "code",
   "execution_count": null,
   "metadata": {
    "pycharm": {
     "name": "#%%\n"
    }
   },
   "outputs": [],
   "source": [
    "for index, movie in data.iterrows():\n",
    "    countries = eval(movie['production_countries'])\n",
    "    countries_list = []\n",
    "\n",
    "    for country in countries:\n",
    "        country_name = country['name']\n",
    "        countries_list.append(country_name)\n",
    "\n",
    "    data.at[index, 'production_countries'] = countries_list"
   ]
  },
  {
   "cell_type": "code",
   "execution_count": null,
   "metadata": {
    "pycharm": {
     "name": "#%%\n"
    }
   },
   "outputs": [],
   "source": [
    "for index, movie in data.iterrows():\n",
    "    date = datetime.strptime(movie['release_date'], '%Y-%m-%d')\n",
    "    reformatted_date = date.strftime('%d/%m/%Y')\n",
    "\n",
    "    data.at[index, 'release_date'] = reformatted_date"
   ]
  },
  {
   "cell_type": "code",
   "execution_count": null,
   "metadata": {
    "pycharm": {
     "name": "#%%\n"
    }
   },
   "outputs": [],
   "source": [
    "data['cast_gender'] = pd.NA\n",
    "\n",
    "\n",
    "for index, movie in data.iterrows():\n",
    "    cast = eval(movie['cast'])\n",
    "    gender_list = []\n",
    "\n",
    "    for cast_member in cast:\n",
    "        gender = cast_member['gender']\n",
    "        gender_list.append(gender)\n",
    "\n",
    "    data.at[index, 'cast_gender'] = gender_list"
   ]
  },
  {
   "cell_type": "code",
   "execution_count": null,
   "metadata": {
    "pycharm": {
     "name": "#%%\n"
    }
   },
   "outputs": [],
   "source": [
    "data['crew_gender'] = pd.NA\n",
    "\n",
    "\n",
    "for index, movie in data.iterrows():\n",
    "    crew = eval(movie['crew'])\n",
    "    gender_list = []\n",
    "\n",
    "    for crew_member in crew:\n",
    "        gender = crew_member['gender']\n",
    "        gender_list.append(gender)\n",
    "\n",
    "    data.at[index, 'crew_gender'] = gender_list"
   ]
  },
  {
   "cell_type": "code",
   "execution_count": null,
   "metadata": {
    "pycharm": {
     "name": "#%%\n"
    }
   },
   "outputs": [],
   "source": [
    "# GENDER INFO\n",
    "# 0: -\n",
    "# 1: Feminino\n",
    "# 2: Masculino\n",
    "# 3: Não-binário\n",
    "\n",
    "\n",
    "data['cast_female_representation'] = pd.NA\n",
    "data['crew_female_representation'] = pd.NA\n",
    "\n",
    "\n",
    "for index, movie in data.iterrows():\n",
    "    if len(movie['cast_gender']) != 0:\n",
    "        data.at[index, 'cast_female_representation'] = 100*(movie['cast_gender'].count(1)/len(movie['cast_gender']))\n",
    "\n",
    "    if len(movie['crew_gender']) != 0:\n",
    "        data.at[index, 'crew_female_representation'] = 100*(movie['crew_gender'].count(1)/len(movie['crew_gender']))\n",
    "\n",
    "\n",
    "data = data.dropna().copy()\n",
    "data['cast_female_representation'] = data['cast_female_representation'].astype('float64')\n",
    "data['crew_female_representation'] = data['crew_female_representation'].astype('float64')"
   ]
  },
  {
   "cell_type": "code",
   "execution_count": null,
   "metadata": {
    "pycharm": {
     "name": "#%%\n"
    }
   },
   "outputs": [],
   "source": [
    "data.describe()"
   ]
  },
  {
   "cell_type": "code",
   "execution_count": null,
   "metadata": {
    "pycharm": {
     "name": "#%%\n"
    }
   },
   "outputs": [],
   "source": [
    "data.head()"
   ]
  },
  {
   "cell_type": "code",
   "execution_count": null,
   "metadata": {
    "pycharm": {
     "name": "#%%\n"
    }
   },
   "outputs": [],
   "source": [
    "data.to_csv('cleaned_data.csv')"
   ]
  },
  {
   "cell_type": "code",
   "execution_count": null,
   "metadata": {
    "pycharm": {
     "name": "#%%\n"
    }
   },
   "outputs": [],
   "source": [
    "fig, axs = plt.subplots(figsize=(10, 8), constrained_layout=True)\n",
    "\n",
    "\n",
    "def plot(axs, data, title):\n",
    "    corr = data.corr(method='spearman')\n",
    "    cmap = sns.diverging_palette(255, 255, sep=1, as_cmap=True)\n",
    "    mask = np.triu(np.ones_like(corr, dtype=bool))\n",
    "\n",
    "    graph = sns.heatmap(corr, annot=True, vmin=-1, vmax=1, fmt='.1%', cmap=cmap, mask=mask, ax=axs)\n",
    "    graph.set_title(title, pad=10)\n",
    "\n",
    "\n",
    "plot(axs, data.drop(['imdbid', 'tmdbId'], axis=1), 'Mapa de correlação entre variáveis')\n",
    "plt.show()"
   ]
  }
 ],
 "metadata": {
  "kernelspec": {
   "display_name": "Python 3.8.5 ('base')",
   "language": "python",
   "name": "python3"
  },
  "language_info": {
   "codemirror_mode": {
    "name": "ipython",
    "version": 3
   },
   "file_extension": ".py",
   "mimetype": "text/x-python",
   "name": "python",
   "nbconvert_exporter": "python",
   "pygments_lexer": "ipython3",
   "version": "3.8.5"
  },
  "vscode": {
   "interpreter": {
    "hash": "abfdec20697c183c8f3245ec9f70db0c281dfb464b694c4f11e6ad991afa117f"
   }
  }
 },
 "nbformat": 4,
 "nbformat_minor": 1
}