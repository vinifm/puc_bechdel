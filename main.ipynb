{
 "cells": [
  {
   "cell_type": "code",
   "execution_count": null,
   "outputs": [],
   "source": [
    "import pandas as pd\n",
    "import matplotlib.pyplot as plt\n",
    "import seaborn as sns\n",
    "import numpy as np\n",
    "import requests\n",
    "import collections\n",
    "from bs4 import BeautifulSoup\n",
    "from datetime import datetime\n",
    "from plotnine import *\n",
    "from mizani.formatters import percent_format"
   ],
   "metadata": {
    "collapsed": false,
    "pycharm": {
     "name": "#%%\n"
    }
   }
  },
  {
   "cell_type": "markdown",
   "source": [
    "## **Unindo os datasets**"
   ],
   "metadata": {
    "collapsed": false,
    "pycharm": {
     "name": "#%% md\n"
    }
   }
  },
  {
   "cell_type": "code",
   "execution_count": null,
   "outputs": [],
   "source": [
    "# bechdel_df = pd.read_csv('datasets/Bechdel_detailed.csv')\n",
    "# links_df = pd.read_csv('datasets/movie-dataset/links.csv') # contém o id do imdb e tmdb de cada filme\n",
    "\n",
    "# # remove colunas não usadas\n",
    "# bechdel_df = bechdel_df.drop(['Unnamed: 0', 'submitterid', 'date', 'visible', 'id'], axis=1)\n",
    "\n",
    "# # renomeia rating para não coincidir com o dos outros datasets\n",
    "# bechdel_df = bechdel_df.rename(columns={'rating': 'bt_score'})\n",
    "\n",
    "# # junta os 3 dataframes e descarta colunas duplicadas\n",
    "# bechdel_df = pd.merge(bechdel_df, links_df, left_on='imdbid', right_on='imdbId', how='inner').drop(['imdbId', 'movieId'], axis=1)\n",
    "\n",
    "# bechdel_df.head()"
   ],
   "metadata": {
    "collapsed": false,
    "pycharm": {
     "name": "#%%\n"
    }
   }
  },
  {
   "cell_type": "code",
   "execution_count": null,
   "outputs": [],
   "source": [
    "# bechdel_df = bechdel_df.sort_values(by=['bt_score', 'year'], ascending=[False, True]).reset_index(drop=True)\n",
    "# bechdel_df.head()"
   ],
   "metadata": {
    "collapsed": false,
    "pycharm": {
     "name": "#%%\n"
    }
   }
  },
  {
   "cell_type": "markdown",
   "source": [
    "## **Tratamento dos dados**"
   ],
   "metadata": {
    "collapsed": false,
    "pycharm": {
     "name": "#%% md\n"
    }
   }
  },
  {
   "cell_type": "markdown",
   "source": [
    "### **Retirada de nulos**"
   ],
   "metadata": {
    "collapsed": false,
    "pycharm": {
     "name": "#%% md\n"
    }
   }
  },
  {
   "cell_type": "code",
   "execution_count": null,
   "outputs": [],
   "source": [
    "# bechdel_df.describe()"
   ],
   "metadata": {
    "collapsed": false,
    "pycharm": {
     "name": "#%%\n"
    }
   }
  },
  {
   "cell_type": "code",
   "execution_count": null,
   "outputs": [],
   "source": [
    "# data = bechdel_df.dropna().copy()"
   ],
   "metadata": {
    "collapsed": false,
    "pycharm": {
     "name": "#%%\n"
    }
   }
  },
  {
   "cell_type": "code",
   "execution_count": null,
   "outputs": [],
   "source": [
    "# data.describe()"
   ],
   "metadata": {
    "collapsed": false,
    "pycharm": {
     "name": "#%%\n"
    }
   }
  },
  {
   "cell_type": "markdown",
   "source": [
    "### **Transformando tipos de dados**"
   ],
   "metadata": {
    "collapsed": false,
    "pycharm": {
     "name": "#%% md\n"
    }
   }
  },
  {
   "cell_type": "code",
   "execution_count": null,
   "outputs": [],
   "source": [
    "# data['year'] = data['year'].astype('int')\n",
    "# data['bt_score'] = data['bt_score'].astype('int')\n",
    "# data['dubious'] = data['dubious'].astype('int')\n",
    "# data['imdbid'] = data['imdbid'].astype('int')\n",
    "# data['tmdbId'] = data['tmdbId'].astype('int')"
   ],
   "metadata": {
    "collapsed": false,
    "pycharm": {
     "name": "#%%\n"
    }
   }
  },
  {
   "cell_type": "markdown",
   "source": [
    "### **API**"
   ],
   "metadata": {
    "collapsed": false,
    "pycharm": {
     "name": "#%% md\n"
    }
   }
  },
  {
   "cell_type": "markdown",
   "source": [
    "##### **Raspar dados dos filmes**"
   ],
   "metadata": {
    "collapsed": false,
    "pycharm": {
     "name": "#%% md\n"
    }
   }
  },
  {
   "cell_type": "code",
   "execution_count": null,
   "outputs": [],
   "source": [
    "# data['genres'] = pd.NA\n",
    "# data['popularity'] = pd.NA\n",
    "# data['production_companies'] = pd.NA\n",
    "# data['production_countries'] = pd.NA\n",
    "# data['release_date'] = pd.NA\n",
    "# data['revenue'] = pd.NA\n",
    "# data['title'] = pd.NA\n",
    "# data['vote_average'] = pd.NA\n",
    "# data['vote_count'] = pd.NA\n",
    "# data['cast'] = pd.NA\n",
    "# data['crew'] = pd.NA"
   ],
   "metadata": {
    "collapsed": false,
    "pycharm": {
     "name": "#%%\n"
    }
   }
  },
  {
   "cell_type": "code",
   "execution_count": null,
   "outputs": [],
   "source": [
    "# api_key = 'b12a91c6b0aa37015f0b966b61efd74d'\n",
    "\n",
    "# for index, row in data.iterrows():\n",
    "#     try:\n",
    "#         info = requests.get(f'https://api.themoviedb.org/3/movie/{row[\"tmdbId\"]}?api_key={api_key}')\n",
    "#         credits = requests.get(f'https://api.themoviedb.org/3/movie/{row[\"tmdbId\"]}/credits?api_key={api_key}')\n",
    "        \n",
    "#         details = info.json()\n",
    "#         details['cast'] = credits.json()['cast']\n",
    "#         details['crew'] = credits.json()['crew']\n",
    "\n",
    "#         data.loc[index, 'budget'] = details['budget']\n",
    "#         data.loc[index, 'genres'] = str(details['genres'])\n",
    "#         data.loc[index, 'popularity'] = details['popularity']\n",
    "#         data.loc[index, 'production_companies'] = str(details['production_companies'])\n",
    "#         data.loc[index, 'production_countries'] = str(details['production_countries'])\n",
    "#         data.loc[index, 'release_date'] = details['release_date']\n",
    "#         data.loc[index, 'revenue'] = details['revenue']\n",
    "#         data.loc[index, 'title'] = details['title']\n",
    "#         data.loc[index, 'vote_average'] = details['vote_average']\n",
    "#         data.loc[index, 'vote_count'] = details['vote_count']\n",
    "#         data.loc[index, 'cast'] = str(details['cast'])\n",
    "#         data.loc[index, 'crew'] = str(details['crew'])\n",
    "#     except:\n",
    "#         print(row['tmdbId'])\n",
    "\n",
    "# data.to_csv('api_data.csv')"
   ],
   "metadata": {
    "collapsed": false,
    "pycharm": {
     "name": "#%%\n"
    }
   }
  },
  {
   "cell_type": "code",
   "execution_count": null,
   "outputs": [],
   "source": [
    "data = pd.read_csv('api_data.csv', index_col=0)\n",
    "\n",
    "data = data.dropna().copy()\n",
    "\n",
    "data.head()"
   ],
   "metadata": {
    "collapsed": false,
    "pycharm": {
     "name": "#%%\n"
    }
   }
  },
  {
   "cell_type": "markdown",
   "source": [
    "#### **Tratamento das colunas**"
   ],
   "metadata": {
    "collapsed": false,
    "pycharm": {
     "name": "#%% md\n"
    }
   }
  },
  {
   "cell_type": "code",
   "execution_count": null,
   "outputs": [],
   "source": [
    "data.info()"
   ],
   "metadata": {
    "collapsed": false,
    "pycharm": {
     "name": "#%%\n"
    }
   }
  },
  {
   "cell_type": "code",
   "execution_count": null,
   "outputs": [],
   "source": [
    "for index, movie in data.iterrows():\n",
    "    genres = eval(movie['genres'])\n",
    "    genres_list = []\n",
    "\n",
    "    for genre in genres:\n",
    "        genre_name = genre['name']\n",
    "        genres_list.append(genre_name)\n",
    "\n",
    "    data.at[index, 'genres'] = genres_list"
   ],
   "metadata": {
    "collapsed": false,
    "pycharm": {
     "name": "#%%\n"
    }
   }
  },
  {
   "cell_type": "code",
   "execution_count": null,
   "outputs": [],
   "source": [
    "for index, movie in data.iterrows():\n",
    "    companies = eval(movie['production_companies'])\n",
    "    companies_list = []\n",
    "\n",
    "    for company in companies:\n",
    "        company_name = company['name']\n",
    "        companies_list.append(company_name)\n",
    "\n",
    "    data.at[index, 'production_companies'] = companies_list"
   ],
   "metadata": {
    "collapsed": false,
    "pycharm": {
     "name": "#%%\n"
    }
   }
  },
  {
   "cell_type": "code",
   "execution_count": null,
   "outputs": [],
   "source": [
    "for index, movie in data.iterrows():\n",
    "    countries = eval(movie['production_countries'])\n",
    "    countries_list = []\n",
    "\n",
    "    for country in countries:\n",
    "        country_name = country['name']\n",
    "        countries_list.append(country_name)\n",
    "\n",
    "    data.at[index, 'production_countries'] = countries_list"
   ],
   "metadata": {
    "collapsed": false,
    "pycharm": {
     "name": "#%%\n"
    }
   }
  },
  {
   "cell_type": "code",
   "execution_count": null,
   "outputs": [],
   "source": [
    "for index, movie in data.iterrows():\n",
    "    date = datetime.strptime(movie['release_date'], '%Y-%m-%d')\n",
    "    reformatted_date = date.strftime('%d/%m/%Y')\n",
    "\n",
    "    data.at[index, 'release_date'] = reformatted_date"
   ],
   "metadata": {
    "collapsed": false,
    "pycharm": {
     "name": "#%%\n"
    }
   }
  },
  {
   "cell_type": "code",
   "execution_count": null,
   "outputs": [],
   "source": [
    "data['cast_gender'] = pd.NA\n",
    "\n",
    "\n",
    "for index, movie in data.iterrows():\n",
    "    cast = eval(movie['cast'])\n",
    "    gender_list = []\n",
    "\n",
    "    for cast_member in cast:\n",
    "        gender = cast_member['gender']\n",
    "        gender_list.append(gender)\n",
    "\n",
    "    data.at[index, 'cast_gender'] = gender_list"
   ],
   "metadata": {
    "collapsed": false,
    "pycharm": {
     "name": "#%%\n"
    }
   }
  },
  {
   "cell_type": "code",
   "execution_count": null,
   "outputs": [],
   "source": [
    "data['crew_gender'] = pd.NA\n",
    "\n",
    "\n",
    "for index, movie in data.iterrows():\n",
    "    crew = eval(movie['crew'])\n",
    "    gender_list = []\n",
    "\n",
    "    for crew_member in crew:\n",
    "        gender = crew_member['gender']\n",
    "        gender_list.append(gender)\n",
    "\n",
    "    data.at[index, 'crew_gender'] = gender_list"
   ],
   "metadata": {
    "collapsed": false,
    "pycharm": {
     "name": "#%%\n"
    }
   }
  },
  {
   "cell_type": "code",
   "execution_count": null,
   "outputs": [],
   "source": [
    "# GENDER INFO\n",
    "# 0: -\n",
    "# 1: Feminino\n",
    "# 2: Masculino\n",
    "# 3: Não-binário\n",
    "\n",
    "\n",
    "data['cast_female_representation'] = pd.NA\n",
    "data['crew_female_representation'] = pd.NA\n",
    "\n",
    "\n",
    "for index, movie in data.iterrows():\n",
    "    if len(movie['cast_gender']) != 0:\n",
    "        data.at[index, 'cast_female_representation'] = 100*(movie['cast_gender'].count(1)/len(movie['cast_gender']))\n",
    "\n",
    "    if len(movie['crew_gender']) != 0:\n",
    "        data.at[index, 'crew_female_representation'] = 100*(movie['crew_gender'].count(1)/len(movie['crew_gender']))\n",
    "\n",
    "\n",
    "data = data.dropna().copy()\n",
    "data['cast_female_representation'] = data['cast_female_representation'].astype('float64')\n",
    "data['crew_female_representation'] = data['crew_female_representation'].astype('float64')"
   ],
   "metadata": {
    "collapsed": false,
    "pycharm": {
     "name": "#%%\n"
    }
   }
  },
  {
   "cell_type": "code",
   "execution_count": null,
   "outputs": [],
   "source": [
    "data.describe()"
   ],
   "metadata": {
    "collapsed": false,
    "pycharm": {
     "name": "#%%\n"
    }
   }
  },
  {
   "cell_type": "code",
   "execution_count": null,
   "outputs": [],
   "source": [
    "data.head()"
   ],
   "metadata": {
    "collapsed": false,
    "pycharm": {
     "name": "#%%\n"
    }
   }
  },
  {
   "cell_type": "code",
   "execution_count": null,
   "outputs": [],
   "source": [
    "# data.to_csv('cleaned_data.csv')"
   ],
   "metadata": {
    "collapsed": false,
    "pycharm": {
     "name": "#%%\n"
    }
   }
  },
  {
   "cell_type": "code",
   "execution_count": null,
   "outputs": [],
   "source": [
    "# data = pd.read_csv('cleaned_data.csv', index_col=0)\n",
    "# data.head()"
   ],
   "metadata": {
    "collapsed": false,
    "pycharm": {
     "name": "#%%\n"
    }
   }
  },
  {
   "cell_type": "code",
   "execution_count": null,
   "outputs": [],
   "source": [
    "fig, axs = plt.subplots(figsize=(10, 8), constrained_layout=True)\n",
    "\n",
    "\n",
    "def plot(axs, data, title):\n",
    "    corr = data.corr(method='spearman')\n",
    "    cmap = sns.diverging_palette(255, 255, sep=1, as_cmap=True)\n",
    "    mask = np.triu(np.ones_like(corr, dtype=bool))\n",
    "\n",
    "    graph = sns.heatmap(corr, annot=True, vmin=-1, vmax=1, fmt='.1%', cmap=cmap, mask=mask, ax=axs)\n",
    "    graph.set_title(title, pad=10)\n",
    "\n",
    "\n",
    "plot(axs, data.drop(['imdbid', 'tmdbId'], axis=1), 'Mapa de correlação entre variáveis')\n",
    "plt.show()"
   ],
   "metadata": {
    "collapsed": false,
    "pycharm": {
     "name": "#%%\n"
    }
   }
  },
  {
   "cell_type": "markdown",
   "source": [
    "## **Gráficos simples**"
   ],
   "metadata": {
    "collapsed": false,
    "pycharm": {
     "name": "#%% md\n"
    }
   }
  },
  {
   "cell_type": "markdown",
   "source": [
    "### **Filmes por nota no Teste de Bechdel**\n",
    "**Métodos utilizados**\n",
    "- `collections.Counter()`: conta os valores totais das notas de 0 a 3.\n",
    "- `DataFrame.from_dict(data, orient='index')`: transforma um dicionário em DataFrame. `orient='index'` faz com que as keys do dicionário sejam usadas como index."
   ],
   "metadata": {
    "collapsed": false,
    "pycharm": {
     "name": "#%% md\n"
    }
   }
  },
  {
   "cell_type": "code",
   "execution_count": null,
   "outputs": [],
   "source": [
    "# TOTAL DE FILMES POR NOTA\n",
    "# score_plot = sns.barplot(x='score', y='total', data=score_df)\n",
    "score_plot = sns.barplot(x='index', y='bt_score', data=data.bt_score.value_counts().reset_index())\n",
    "score_plot.bar_label(score_plot.containers[0])\n",
    "score_plot.set(title='Notas dos filmes no teste de Bechdel')\n",
    "plt.xlabel(\"Teste Bechdel\")\n",
    "plt.ylabel(\"Quantidade de filmes\")\n",
    "plt.show()"
   ],
   "metadata": {
    "collapsed": false,
    "pycharm": {
     "name": "#%%\n"
    }
   }
  },
  {
   "cell_type": "code",
   "execution_count": null,
   "outputs": [],
   "source": [
    "# PORCENTAGEM DOS FILMES\n",
    "# score_df = df com a quantidade de filmes por nota.\n",
    "score_df = collections.Counter(data.bt_score)\n",
    "score_df = pd.DataFrame.from_dict(score_df, orient='index').reset_index()\n",
    "score_df = score_df.rename(columns={'index': 'score', 0: 'total'})\n",
    "plt.pie(score_df.total, labels = score_df.score.to_list(), autopct='%.0f%%')\n",
    "score_df.score.to_list()\n",
    "plt.text(-1, -1.5, \"Quantidade total de filmes: 7.635\", fontsize=11)\n",
    "plt.title(\"Notas dos filmes no teste de Bechdel (%)\", fontsize=15)\n",
    "plt.show()"
   ],
   "metadata": {
    "collapsed": false,
    "pycharm": {
     "name": "#%%\n"
    }
   }
  },
  {
   "cell_type": "code",
   "execution_count": null,
   "outputs": [],
   "source": [
    "budget_df = data.loc[data['budget'] > 0].copy()\n",
    "\n",
    "budget_df['Orçamento'] = pd.NA\n",
    "\n",
    "for index, row in budget_df.iterrows():\n",
    "    orçamento = 0\n",
    "    if row['budget'] <= 500000:\n",
    "        orçamento += 1\n",
    "    if row['budget'] <= 1000000 and row['budget'] > 500000:\n",
    "        orçamento += 2\n",
    "    if row['budget'] <= 5000000 and row['budget'] > 1000000:\n",
    "        orçamento += 3\n",
    "    if row['budget'] <= 10000000 and row['budget'] > 5000000:\n",
    "        orçamento += 4\n",
    "    if row['budget'] <= 15000000 and row['budget'] > 10000000:\n",
    "        orçamento += 5\n",
    "    if row['budget'] <= 30000000 and row['budget'] > 15000000:\n",
    "        orçamento += 6\n",
    "    if row['budget'] <= 60000000 and row['budget'] > 30000000:\n",
    "        orçamento += 7\n",
    "    if row['budget'] > 60000000:\n",
    "        orçamento += 8\n",
    "    budget_df.loc[index, 'Orçamento'] = orçamento\n",
    "\n",
    "sns.countplot(x ='Orçamento', hue = 'bt_score', data = budget_df)\n",
    "plt.title(\"Orçamento x Teste Bechdel\", fontsize=15)\n",
    "plt.xlabel(\"Orçamento ($)\")\n",
    "plt.ylabel(\"Quantidade de filmes\")\n",
    "plt.show()"
   ],
   "metadata": {
    "collapsed": false,
    "pycharm": {
     "name": "#%%\n"
    }
   }
  },
  {
   "cell_type": "code",
   "execution_count": null,
   "outputs": [],
   "source": [
    "budget_year_mean = data.groupby(['year', 'bt_score'])['budget'].mean().to_frame().reset_index()\n",
    "budget_year_mean1 = budget_year_mean[budget_year_mean['budget'] > 0]\n",
    "budget_year_mean2 = budget_year_mean1[budget_year_mean1['year'] >= 1902]\n",
    "fig, ax = plt.subplots(figsize = (14 , 7))\n",
    "sns.set_theme(style=\"ticks\")\n",
    "sns.set_style(\"white\")\n",
    "sns.scatterplot(y = 'budget', x = 'year', hue = 'bt_score', data=budget_year_mean2, palette=\"cubehelix\", s = 30, edgecolor=\".5\")\n",
    "plt.legend(title = \"Teste Bechdel\", fontsize = '12', title_fontsize = \"12\")\n",
    "ax.set_xlabel(\"Anos\", size = 14) \n",
    "ax.set_ylabel(\"Orçamento Médio ($)\", size = 14) \n",
    "ax.set_title(\"Orçamento médio por ano\", size = 24) \n",
    "ax.set_xticks([1900, 1910, 1920, 1930, 1940, 1950, 1960, 1970, 1980, 1990, 2000, 2010, 2020])\n",
    "ax.set_yticks([0, 10000000, 20000000, 30000000, 40000000, 50000000, 60000000, 70000000, 80000000, 90000000])\n",
    "plt.ticklabel_format(style='plain', axis='y')\n",
    "plt.show()"
   ],
   "metadata": {
    "collapsed": false,
    "pycharm": {
     "name": "#%%\n"
    }
   }
  },
  {
   "cell_type": "code",
   "execution_count": null,
   "outputs": [],
   "source": [
    "sns.set( rc = {'figure.figsize': (60, 60), 'axes.labelsize': 12}) \n",
    "g = sns.relplot(data = budget_year_mean2, x = \"year\",  y = \"budget\", col = \"bt_score\", hue = \"bt_score\", palette=\"cubehelix\") \n",
    "g.fig.suptitle(\"Orçamento médio por ano\", fontsize = 'x-large', fontweight = 'bold') \n",
    "g.fig.subplots_adjust(top = 0.85) \n",
    "g.set_axis_labels(\"Anos\" , \"Orçamento Médio ($)\") \n",
    "plt.ticklabel_format(style='plain', axis='y')\n",
    "plt.show()"
   ],
   "metadata": {
    "collapsed": false,
    "pycharm": {
     "name": "#%%\n"
    }
   }
  },
  {
   "cell_type": "code",
   "execution_count": null,
   "outputs": [],
   "source": [
    "budget_interval_mean = data.groupby(['year', 'bt_score'])['budget'].mean().to_frame().reset_index()\n",
    "budget_interval_mean1 = budget_interval_mean[budget_interval_mean['budget'] > 0]\n",
    "budget_interval_mean2 = budget_interval_mean1[budget_interval_mean1['year'] >= 1902]\n",
    "\n",
    "for index, year in budget_interval_mean2['year'].iteritems():\n",
    "    interval_start = int(year - year % 10 + 1)\n",
    "    interval_end = int(interval_start + 9)\n",
    "    budget_interval_mean2.at[index, 'year_interval'] = str(interval_start) + '-' + str(interval_end)\n",
    "    \n",
    "fig, ax = plt.subplots(figsize = (14 , 7))\n",
    "sns.set_theme(style=\"ticks\")\n",
    "sns.set_style(\"white\")\n",
    "sns.scatterplot(y = 'budget', x = 'year_interval', hue = 'bt_score', data=budget_interval_mean2, palette=\"cubehelix\", s = 30, edgecolor=\".5\")\n",
    "plt.legend(title = \"Teste Bechdel\", fontsize = '12', title_fontsize = \"12\")\n",
    "ax.set_xlabel(\"Anos\", size = 14) \n",
    "ax.set_ylabel(\"Orçamento Médio ($)\", size = 14) \n",
    "ax.set_title(\"Orçamento médio por década\", size = 24) \n",
    "ax.set_yticks([0, 10000000, 20000000, 30000000, 40000000, 50000000, 60000000, 70000000, 80000000, 90000000])\n",
    "plt.ticklabel_format(style='plain', axis='y')"
   ],
   "metadata": {
    "collapsed": false,
    "pycharm": {
     "name": "#%%\n"
    }
   }
  },
  {
   "cell_type": "code",
   "execution_count": null,
   "outputs": [],
   "source": [
    "revenue_df = data.loc[data['revenue'] > 0].copy()\n",
    "\n",
    "revenue_df['Bilheteria'] = pd.NA\n",
    "\n",
    "for index, row in revenue_df.iterrows():\n",
    "    bilheteria = 0\n",
    "    if row['revenue'] <= 500000:\n",
    "        bilheteria += 1\n",
    "    if row['revenue'] <= 1000000 and row['revenue'] > 500000:\n",
    "        bilheteria += 2\n",
    "    if row['revenue'] <= 5000000 and row['revenue'] > 1000000:\n",
    "        bilheteria += 3\n",
    "    if row['revenue'] <= 10000000 and row['revenue'] > 5000000:\n",
    "        bilheteria += 4\n",
    "    if row['revenue'] <= 15000000 and row['revenue'] > 10000000:\n",
    "        bilheteria += 5\n",
    "    if row['revenue'] <= 30000000 and row['revenue'] > 15000000:\n",
    "        bilheteria += 6\n",
    "    if row['revenue'] <= 60000000 and row['revenue'] > 30000000:\n",
    "        bilheteria += 7\n",
    "    if row['revenue'] > 60000000:\n",
    "        bilheteria += 8\n",
    "    revenue_df.loc[index, 'Bilheteria'] = bilheteria\n",
    "\n",
    "sns.countplot(x ='Bilheteria', hue = 'bt_score', data = revenue_df)\n",
    "plt.title(\"Bilheteria x Teste Bechdel\", fontsize=15)\n",
    "plt.xlabel(\"Bilheteria ($)\")\n",
    "plt.ylabel(\"Quantidade de filmes\")\n",
    "plt.show()"
   ],
   "metadata": {
    "collapsed": false,
    "pycharm": {
     "name": "#%%\n"
    }
   }
  },
  {
   "cell_type": "code",
   "execution_count": null,
   "outputs": [],
   "source": [
    "revenue_year_mean = data.groupby(['year', 'bt_score'])['revenue'].mean().to_frame().reset_index()\n",
    "revenue_year_mean1 = revenue_year_mean[revenue_year_mean['revenue'] > 0]\n",
    "revenue_year_mean2 = revenue_year_mean1[revenue_year_mean1['year'] >= 1902]\n",
    "fig, ax = plt.subplots(figsize = (14 , 7))\n",
    "sns.set_theme(style=\"ticks\")\n",
    "sns.set_style(\"white\")\n",
    "sns.scatterplot(y = 'revenue', x = 'year', hue = 'bt_score', data=revenue_year_mean2, palette=\"cubehelix\", s = 30, edgecolor=\".5\")\n",
    "plt.legend(title = \"Teste Bechdel\", fontsize = '12', title_fontsize = \"12\")\n",
    "ax.set_xlabel(\"Anos\", size = 14) \n",
    "ax.set_ylabel(\"Bilheteria Média ($)\", size = 14) \n",
    "ax.set_title(\"Bilheteria média por ano\", size = 24) \n",
    "ax.set_xticks([1900, 1910, 1920, 1930, 1940, 1950, 1960, 1970, 1980, 1990, 2000, 2010, 2020])\n",
    "plt.ticklabel_format(style='plain', axis='y')\n",
    "plt.show()"
   ],
   "metadata": {
    "collapsed": false,
    "pycharm": {
     "name": "#%%\n"
    }
   }
  },
  {
   "cell_type": "code",
   "execution_count": null,
   "outputs": [],
   "source": [
    "sns.set( rc = {'figure.figsize': (60, 60), 'axes.labelsize': 12}) \n",
    "g = sns.relplot(data = revenue_year_mean2, x = \"year\",  y = \"revenue\", col = \"bt_score\", hue = \"bt_score\", palette=\"cubehelix\") \n",
    "g.fig.suptitle(\"Bilheteria média por ano\", fontsize = 'x-large', fontweight = 'bold') \n",
    "g.fig.subplots_adjust(top = 0.85) \n",
    "g.set_axis_labels(\"Anos\" , \"Bilheteria média ($)\") \n",
    "plt.ticklabel_format(style='plain', axis='y') \n",
    "plt.show()"
   ],
   "metadata": {
    "collapsed": false,
    "pycharm": {
     "name": "#%%\n"
    }
   }
  },
  {
   "cell_type": "code",
   "execution_count": null,
   "outputs": [],
   "source": [
    "revenue_interval_mean = data.groupby(['year', 'bt_score'])['revenue'].mean().to_frame().reset_index()\n",
    "revenue_interval_mean1 = revenue_interval_mean[revenue_interval_mean['revenue'] > 0]\n",
    "revenue_interval_mean2 = revenue_interval_mean1[revenue_interval_mean1['year'] >= 1902]\n",
    "\n",
    "for index, year in revenue_interval_mean2['year'].iteritems():\n",
    "    interval_start = int(year - year % 10 + 1)\n",
    "    interval_end = int(interval_start + 9)\n",
    "    revenue_interval_mean2.at[index, 'year_interval'] = str(interval_start) + '-' + str(interval_end)\n",
    "    \n",
    "fig, ax = plt.subplots(figsize = (16 , 8))\n",
    "sns.set_theme(style=\"ticks\")\n",
    "sns.set_style(\"white\")\n",
    "sns.scatterplot(y = 'revenue', x = 'year_interval', hue = 'bt_score', data=revenue_interval_mean2, palette=\"cubehelix\", s = 30, edgecolor=\".5\")\n",
    "plt.legend(title = \"Teste Bechdel\", fontsize = '12', title_fontsize = \"12\")\n",
    "ax.set_xlabel(\"Anos\", size = 14) \n",
    "ax.set_ylabel(\"Bilheteria Média ($)\", size = 14) \n",
    "ax.set_title(\"Bilheteria média por década\", size = 24) \n",
    "plt.ticklabel_format(style='plain', axis='y')\n",
    "plt.show()"
   ],
   "metadata": {
    "collapsed": false,
    "pycharm": {
     "name": "#%%\n"
    }
   }
  },
  {
   "cell_type": "code",
   "execution_count": null,
   "outputs": [],
   "source": [
    "bechdel_year_mean = data.groupby(['year'])['bt_score'].mean().to_frame().reset_index()\n",
    "for index, year in bechdel_year_mean['year'].iteritems():\n",
    "    interval_start = int(year - year % 10 + 1)\n",
    "    interval_end = int(interval_start + 9)\n",
    "    bechdel_year_mean.at[index, 'year_interval'] = str(interval_start) + '-' + str(interval_end)\n",
    "fig, ax = plt.subplots(figsize = (16 , 8))\n",
    "sns.set_style(\"white\")\n",
    "sns.scatterplot(data=bechdel_year_mean, x=\"year_interval\", y=\"bt_score\", color = \"red\", ci=None)\n",
    "plt.legend(labels = ['Teste Bechdel'], title = \"Teste Bechdel\", fontsize = '12', title_fontsize = \"12\")\n",
    "ax.set_xlabel(\"Anos\", size = 14) \n",
    "ax.set_ylabel(\"Pontuação Média\", size = 14) \n",
    "ax.set_title(\"Pontuação média por década\", size = 24)\n",
    "plt.show()"
   ],
   "metadata": {
    "collapsed": false,
    "pycharm": {
     "name": "#%%\n"
    }
   }
  },
  {
   "cell_type": "code",
   "execution_count": null,
   "outputs": [],
   "source": [
    "import matplotlib as mpl\n",
    "    \n",
    "sns.set_theme(style=\"ticks\")\n",
    "f, ax = plt.subplots(figsize=(16, 8))\n",
    "sns.despine(f)\n",
    "sns.histplot(data, x=\"year\", hue=\"bt_score\", multiple=\"stack\", palette=\"cubehelix\", edgecolor=\".3\", linewidth=.5)\n",
    "plt.legend(labels = [\"Passaram no Teste\", \"Elas conversam sobre homens\", \"Elas não conversam entre si\", \"Não existem 2 personagens femininas\"], \n",
    "           title = \"Teste Bechdel\", fontsize = '12', title_fontsize = \"12\")\n",
    "ax.set_xlabel(\"Anos\", size = 14) \n",
    "ax.set_ylabel(\"Quantidade de filmes\", size = 14) \n",
    "ax.set_title(\"Pontuação por ano\", size = 24) \n",
    "ax.xaxis.set_major_formatter(mpl.ticker.ScalarFormatter())\n",
    "ax.set_xticks([1890, 1900, 1910, 1920, 1930, 1940, 1950, 1960, 1970, 1980, 1990, 2000, 2010, 2020])\n",
    "ax.set_yticks([0, 100, 200, 300, 400, 500, 600, 700, 800, 900, 1000])\n",
    "ax.set_xlim(1890, 2020)\n",
    "ax.set_ylim(0, 1000)\n",
    "plt.show()"
   ],
   "metadata": {
    "collapsed": false,
    "pycharm": {
     "name": "#%%\n"
    }
   }
  },
  {
   "cell_type": "code",
   "execution_count": null,
   "outputs": [],
   "source": [
    "sns.set_theme(style=\"darkgrid\")\n",
    "sns.set( rc = {'figure.figsize': (60, 60), 'axes.labelsize': 10}) \n",
    "g = sns.displot(data, x=\"year\", col=\"bt_score\", binwidth=3, height=3, facet_kws=dict(margin_titles=True), color = 'red')\n",
    "g.set(xticks=(1900, 1940, 1980, 2020), yticks=(0, 100, 200, 300, 400, 500, 600))\n",
    "g.fig.suptitle(\"Notas Bechdel\", fontsize = 'x-large', fontweight = 'bold') \n",
    "g.fig.subplots_adjust(top = 0.85) \n",
    "g.set_axis_labels(\"Anos\" , \"Quantidade de filmes\")\n",
    "plt.show()"
   ],
   "metadata": {
    "collapsed": false,
    "pycharm": {
     "name": "#%%\n"
    }
   }
  },
  {
   "cell_type": "code",
   "execution_count": null,
   "outputs": [],
   "source": [
    "imdb_bechdel = data.groupby(['year', 'bt_score'])['vote_average'].mean().to_frame().reset_index()\n",
    "sns.set( rc = {'figure.figsize': (60, 60), 'axes.labelsize': 15}) \n",
    "g = sns.relplot(data = imdb_bechdel, x = \"year\",  y = \"vote_average\", col = \"bt_score\", hue = \"bt_score\", palette=\"cubehelix\") \n",
    "g.fig.suptitle(\"IMDB x Bechdel\", fontsize = 'x-large', fontweight = 'bold') \n",
    "g.fig.subplots_adjust(top = 0.85) \n",
    "g.set_axis_labels(\"Anos\" , \"Nota IMDB\") \n",
    "g.set(ylim=(0, 10))\n",
    "g.set(yticks=(0, 1, 2, 3, 4, 5, 6, 7, 8, 9, 10))\n",
    "plt.show()"
   ],
   "metadata": {
    "collapsed": false,
    "pycharm": {
     "name": "#%%\n"
    }
   }
  },
  {
   "cell_type": "code",
   "execution_count": null,
   "outputs": [],
   "source": [
    "sns.set( rc = {'figure.figsize': (60, 60), 'axes.labelsize': 15}) \n",
    "g = sns.relplot(data = data, x = \"year\",  y = \"vote_average\", col = \"bt_score\", hue = \"bt_score\", palette=\"cubehelix\") \n",
    "g.fig.suptitle(\"IMDB x Bechdel\", fontsize = 'x-large', fontweight = 'bold') \n",
    "g.fig.subplots_adjust(top = 0.85) \n",
    "g.set_axis_labels(\"Anos\" , \"Nota IMDB\") \n",
    "g.set(ylim=(0, 10))\n",
    "g.set(yticks=(0, 1, 2, 3, 4, 5, 6, 7, 8, 9, 10))\n",
    "plt.show()"
   ],
   "metadata": {
    "collapsed": false,
    "pycharm": {
     "name": "#%%\n"
    }
   }
  },
  {
   "cell_type": "code",
   "execution_count": null,
   "outputs": [],
   "source": [
    "fig, ax = plt.subplots(figsize = (14 , 7))\n",
    "sns.set_theme(style=\"ticks\")\n",
    "sns.set_style(\"white\")\n",
    "sns.scatterplot(y = \"vote_average\", x = 'year', hue = 'bt_score', data=imdb_bechdel, palette=\"cubehelix\", s = 30, edgecolor=\".5\")\n",
    "plt.legend(title = \"Teste Bechdel\", fontsize = '12', title_fontsize = \"12\")\n",
    "ax.set_xlabel(\"Anos\", size = 14) \n",
    "ax.set_ylabel(\"Nota IMDB\", size = 14) \n",
    "ax.set_title(\"IMDB x Bechdel\", size = 24) \n",
    "ax.set_xticks([1870, 1880, 1890, 1900, 1910, 1920, 1930, 1940, 1950, 1960, 1970, 1980, 1990, 2000, 2010, 2020])\n",
    "ax.set_yticks([1, 2, 3, 4, 5, 6, 7, 8, 9, 10])\n",
    "plt.ticklabel_format(style='plain', axis='y')\n",
    "plt.show()"
   ],
   "metadata": {
    "collapsed": false,
    "pycharm": {
     "name": "#%%\n"
    }
   }
  },
  {
   "cell_type": "code",
   "execution_count": null,
   "outputs": [],
   "source": [
    "fig, ax = plt.subplots(figsize = (14 , 7))\n",
    "sns.set_theme(style=\"ticks\")\n",
    "sns.set_style(\"white\")\n",
    "sns.scatterplot(y = \"vote_average\", x = 'year', hue = 'bt_score', data=data, palette=\"cubehelix\", s = 30, edgecolor=\".5\")\n",
    "plt.legend(title = \"Teste Bechdel\", fontsize = '12', title_fontsize = \"12\")\n",
    "ax.set_xlabel(\"Anos\", size = 14) \n",
    "ax.set_ylabel(\"Nota IMDB\", size = 14) \n",
    "ax.set_title(\"IMDB x Bechdel\", size = 24) \n",
    "ax.set_xticks([1870, 1880, 1890, 1900, 1910, 1920, 1930, 1940, 1950, 1960, 1970, 1980, 1990, 2000, 2010, 2020])\n",
    "ax.set_yticks([1, 2, 3, 4, 5, 6, 7, 8, 9, 10])\n",
    "plt.ticklabel_format(style='plain', axis='y')\n",
    "plt.show()"
   ],
   "metadata": {
    "collapsed": false,
    "pycharm": {
     "name": "#%%\n"
    }
   }
  },
  {
   "cell_type": "code",
   "execution_count": null,
   "outputs": [],
   "source": [
    "sns.set( rc = {'figure.figsize': (60, 60), 'axes.labelsize': 15})  \n",
    "g = sns.lmplot(x = 'year', y = \"vote_average\", hue = 'bt_score', col = 'bt_score', data = imdb_bechdel, ci = None)\n",
    "g.fig.suptitle(\"IMDB x Bechdel\", fontsize = 20, fontweight = 'bold') \n",
    "g.fig.subplots_adjust(top = 0.85) \n",
    "g.set_axis_labels(\"Anos\" , \"Nota IMDB\") \n",
    "g.set(ylim=(0, 10))\n",
    "g.set(xticks=(1880, 1910, 1940, 1970, 2000, 2020), yticks=(0, 1, 2, 3, 4, 5, 6, 7, 8, 9, 10))\n",
    "plt.show()"
   ],
   "metadata": {
    "collapsed": false,
    "pycharm": {
     "name": "#%%\n"
    }
   }
  },
  {
   "cell_type": "code",
   "execution_count": null,
   "outputs": [],
   "source": [
    "for index, year in imdb_bechdel['year'].iteritems():\n",
    "    interval_start = int(year - year % 10 + 1)\n",
    "    interval_end = int(interval_start + 9)\n",
    "    imdb_bechdel.at[index, 'year_interval'] = str(interval_start) + '-' + str(interval_end)\n",
    "\n",
    "fig, ax = plt.subplots(figsize = (16 , 8))\n",
    "sns.set_theme(style=\"ticks\")\n",
    "sns.set_style(\"white\")\n",
    "sns.scatterplot(y = \"vote_average\", x = 'year_interval', hue = 'bt_score', data=imdb_bechdel, palette=\"cubehelix\", s = 30, edgecolor=\".5\")\n",
    "plt.legend(title = \"Teste Bechdel\", fontsize = '12', title_fontsize = \"12\")\n",
    "ax.set_xlabel(\"Anos\", size = 14) \n",
    "ax.set_ylabel(\"Nota IMDB\", size = 14) \n",
    "ax.set_title(\"IMDB x Bechdel\", size = 24) \n",
    "ax.set_yticks([1, 2, 3, 4, 5, 6, 7, 8, 9, 10])\n",
    "plt.ticklabel_format(style='plain', axis='y')\n",
    "plt.show()"
   ],
   "metadata": {
    "collapsed": false,
    "pycharm": {
     "name": "#%%\n"
    }
   }
  },
  {
   "cell_type": "code",
   "execution_count": null,
   "outputs": [],
   "source": [
    "data2_df = data.copy()\n",
    "\n",
    "for index, bt_score in data2_df['bt_score'].iteritems():\n",
    "    if bt_score == 0:\n",
    "        if data2_df.at[index, 'dubious'] == 1:\n",
    "            data2_df.at[index, 'Categoria'] = 'Dubious'\n",
    "        else:\n",
    "            data2_df.at[index, 'Categoria'] = '0-Menos de 2 personagens femininas'\n",
    "    elif bt_score == 1:\n",
    "        if data2_df.at[index, 'dubious'] == 1:\n",
    "            data2_df.at[index, 'Categoria'] = 'Dubious'\n",
    "        else:\n",
    "            data2_df.at[index, 'Categoria'] = '1-Personagens femininas não conversam'\n",
    "    elif bt_score == 2:\n",
    "        if data2_df.at[index, 'dubious'] == 1:\n",
    "            data2_df.at[index, 'Categoria'] = 'Dubious'\n",
    "        else:\n",
    "            data2_df.at[index, 'Categoria'] = '2-Personagens femininas conversam sobre homens'\n",
    "    else:\n",
    "        if data2_df.at[index, 'dubious'] == 1:\n",
    "            data2_df.at[index, 'Categoria'] = 'Dubious'\n",
    "        else:\n",
    "            data2_df.at[index, 'Categoria'] = '3-Passou no Teste Bechdel'\n",
    "            \n",
    "bechdel_df_ordered = data2_df.copy()\n",
    "bechdel_df_ordered['Categoria'] = pd.Categorical(bechdel_df_ordered['Categoria'], categories=[\n",
    "    '0-Menos de 2 personagens femininas', \n",
    "    '1-Personagens femininas não conversam',\n",
    "    '2-Personagens femininas conversam sobre homens',\n",
    "    'Dubious',\n",
    "    '3-Passou no Teste Bechdel'\n",
    "], ordered=True)\n",
    "\n",
    "for index, year in bechdel_df_ordered['year'].iteritems():\n",
    "    interval_start = int(year - year % 10 + 1)\n",
    "    interval_end = int(interval_start + 9)\n",
    "    bechdel_df_ordered.at[index, 'year_interval'] = str(interval_start) + '-' + str(interval_end)\n",
    "\n",
    "(ggplot(bechdel_df_ordered, \n",
    "        aes(fill = 'Categoria', x = 'year_interval')) + \n",
    "    geom_bar(position = \"fill\") + \n",
    "    scale_y_continuous(labels=percent_format()) +\n",
    "    scale_fill_manual(values = ['#FF8C42', '#FCAF58', '#F9C784', '#E8E9EB', '#98BF64']) +\n",
    "    # geom_text(angle=45) + \n",
    "    labs(\n",
    "        title = 'Mudanças percentuais de filmes que passam no teste Bechdel ao longo dos anos', \n",
    "        subtitle = 'Gráfico de barras de porcentagem empilhada',\n",
    "        x = 'Anos', \n",
    "        y = 'Proporção de filmes'\n",
    "    ) + \n",
    "    theme_classic() + \n",
    "    theme(axis_text_x  = element_text(angle = 45, hjust = 1))\n",
    ")"
   ],
   "metadata": {
    "collapsed": false,
    "pycharm": {
     "name": "#%%\n"
    }
   }
  },
  {
   "cell_type": "code",
   "execution_count": null,
   "outputs": [],
   "source": [
    "data_clean = pd.read_csv('cleaned_data.csv', index_col=0)\n",
    "data_clean.head()"
   ],
   "metadata": {
    "collapsed": false,
    "pycharm": {
     "name": "#%%\n"
    }
   }
  },
  {
   "cell_type": "code",
   "execution_count": null,
   "outputs": [],
   "source": [
    "teste = eval(data_clean.genres[0])\n",
    "teste[3]"
   ],
   "metadata": {
    "collapsed": false,
    "pycharm": {
     "name": "#%%\n"
    }
   }
  },
  {
   "cell_type": "code",
   "execution_count": null,
   "outputs": [],
   "source": [
    "#- procurar onde ta a virgula ler ate ela\n",
    "#- adicionar por append a uma lista"
   ],
   "metadata": {
    "collapsed": false,
    "pycharm": {
     "name": "#%%\n"
    }
   }
  },
  {
   "cell_type": "code",
   "execution_count": null,
   "outputs": [],
   "source": [
    "data_clean.popularity.max"
   ],
   "metadata": {
    "collapsed": false,
    "pycharm": {
     "name": "#%%\n"
    }
   }
  },
  {
   "cell_type": "code",
   "execution_count": null,
   "outputs": [],
   "source": [
    "data_clean.groupby('vote_average')['bt_score'].mean().plot(title=\"Bechdel Test score by vote average\",figsize=(14, 6), xlabel=\"Year\")"
   ],
   "metadata": {
    "collapsed": false,
    "pycharm": {
     "name": "#%%\n"
    }
   }
  },
  {
   "cell_type": "code",
   "execution_count": null,
   "outputs": [],
   "source": [
    "sns.set_theme(style=\"ticks\")\n",
    "f, ax = plt.subplots(figsize=(16, 8))\n",
    "sns.despine(f)\n",
    "sns.histplot(data, x=\"popularity\", hue=\"bt_score\", multiple=\"stack\", palette=\"cubehelix\", edgecolor=\".3\", linewidth=.5)\n",
    "plt.legend(labels = [\"Passaram no Teste\", \"Elas conversam sobre homens\", \"Elas não conversam entre si\", \"Não existem 2 personagens femininas\"], \n",
    "           title = \"Teste Bechdel\", fontsize = '12', title_fontsize = \"12\")\n",
    "ax.set_xlabel(\"Popularidade\", size = 14) \n",
    "ax.set_ylabel(\"Quantidade de filmes\", size = 14) \n",
    "ax.set_title(\"Nota do bechdel por popularidade\", size = 24) \n",
    "ax.xaxis.set_major_formatter(mpl.ticker.ScalarFormatter())\n",
    "ax.set_xticks([0, 10, 20, 30, 40, 50, 60, 70, 80, 90, 100, 110, 120, 130, 140, 150, 160, 170 , 180, 190, 200])\n",
    "ax.set_xlim(0, 200)\n",
    "plt.show()"
   ],
   "metadata": {
    "collapsed": false,
    "pycharm": {
     "name": "#%%\n"
    }
   }
  },
  {
   "cell_type": "code",
   "execution_count": null,
   "outputs": [],
   "source": [
    "data_clean = pd.read_csv('cleaned_data.csv', index_col=0)\n",
    "data_clean.head()"
   ],
   "metadata": {
    "collapsed": false,
    "pycharm": {
     "name": "#%%\n"
    }
   }
  },
  {
   "cell_type": "code",
   "execution_count": null,
   "outputs": [],
   "source": [
    "teste = eval(data_clean.genres[0])\n",
    "teste[3]"
   ],
   "metadata": {
    "collapsed": false,
    "pycharm": {
     "name": "#%%\n"
    }
   }
  },
  {
   "cell_type": "code",
   "execution_count": null,
   "outputs": [],
   "source": [
    "#- procurar onde ta a virgula ler ate ela\n",
    "#- adicionar por append a uma lista"
   ],
   "metadata": {
    "collapsed": false,
    "pycharm": {
     "name": "#%%\n"
    }
   }
  },
  {
   "cell_type": "code",
   "execution_count": null,
   "outputs": [],
   "source": [
    "data_clean.popularity.max"
   ],
   "metadata": {
    "collapsed": false,
    "pycharm": {
     "name": "#%%\n"
    }
   }
  },
  {
   "cell_type": "code",
   "execution_count": null,
   "outputs": [],
   "source": [
    "data_clean.groupby('vote_average')['bt_score'].mean().plot(title=\"Bechdel Test score by vote average\",figsize=(14, 6), xlabel=\"Year\")"
   ],
   "metadata": {
    "collapsed": false,
    "pycharm": {
     "name": "#%%\n"
    }
   }
  },
  {
   "cell_type": "code",
   "execution_count": null,
   "outputs": [],
   "source": [
    "# data = pd.read_csv('cleaned_data.csv', index_col=0)\n",
    "# data.head()"
   ],
   "metadata": {
    "collapsed": false,
    "pycharm": {
     "name": "#%%\n"
    }
   }
  },
  {
   "cell_type": "code",
   "execution_count": null,
   "outputs": [],
   "source": [
    "fig, axs = plt.subplots(figsize=(10, 8), constrained_layout=True)\n",
    "\n",
    "\n",
    "def plot(axs, data, title):\n",
    "    corr = data.corr(method='spearman')\n",
    "    cmap = sns.diverging_palette(255, 255, sep=1, as_cmap=True)\n",
    "    mask = np.triu(np.ones_like(corr, dtype=bool))\n",
    "\n",
    "    graph = sns.heatmap(corr, annot=True, vmin=-1, vmax=1, fmt='.1%', cmap=cmap, mask=mask, ax=axs)\n",
    "    graph.set_title(title, pad=10)\n",
    "\n",
    "\n",
    "plot(axs, data.drop(['imdbid', 'tmdbId'], axis=1), 'Mapa de correlação entre variáveis')\n",
    "plt.show()"
   ],
   "metadata": {
    "collapsed": false,
    "pycharm": {
     "name": "#%%\n"
    }
   }
  },
  {
   "cell_type": "markdown",
   "source": [
    "## **Gráficos simples**"
   ],
   "metadata": {
    "collapsed": false,
    "pycharm": {
     "name": "#%% md\n"
    }
   }
  },
  {
   "cell_type": "markdown",
   "source": [
    "### **Filmes por nota no Teste de Bechdel**\n",
    "**Métodos utilizados**\n",
    "- `collections.Counter()`: conta os valores totais das notas de 0 a 3.\n",
    "- `DataFrame.from_dict(data, orient='index')`: transforma um dicionário em DataFrame. `orient='index'` faz com que as keys do dicionário sejam usadas como index."
   ],
   "metadata": {
    "collapsed": false,
    "pycharm": {
     "name": "#%% md\n"
    }
   }
  },
  {
   "cell_type": "code",
   "execution_count": null,
   "outputs": [],
   "source": [
    "# TOTAL DE FILMES POR NOTA\n",
    "# score_plot = sns.barplot(x='score', y='total', data=score_df)\n",
    "score_plot = sns.barplot(x='index', y='bt_score', data=data.bt_score.value_counts().reset_index())\n",
    "score_plot.bar_label(score_plot.containers[0])\n",
    "score_plot.set(title='Notas dos filmes no teste de Bechdel')\n",
    "plt.xlabel(\"Teste Bechdel\")\n",
    "plt.ylabel(\"Quantidade de filmes\")\n",
    "plt.show()"
   ],
   "metadata": {
    "collapsed": false,
    "pycharm": {
     "name": "#%%\n"
    }
   }
  },
  {
   "cell_type": "code",
   "execution_count": null,
   "outputs": [],
   "source": [
    "# PORCENTAGEM DOS FILMES\n",
    "# score_df = df com a quantidade de filmes por nota.\n",
    "score_df = collections.Counter(data.bt_score)\n",
    "score_df = pd.DataFrame.from_dict(score_df, orient='index').reset_index()\n",
    "score_df = score_df.rename(columns={'index': 'score', 0: 'total'})\n",
    "plt.pie(score_df.total, labels = score_df.score.to_list(), autopct='%.0f%%')\n",
    "score_df.score.to_list()\n",
    "plt.text(-1, -1.5, \"Quantidade total de filmes: 7.635\", fontsize=11)\n",
    "plt.title(\"Notas dos filmes no teste de Bechdel (%)\", fontsize=15)\n",
    "plt.show()"
   ],
   "metadata": {
    "collapsed": false,
    "pycharm": {
     "name": "#%%\n"
    }
   }
  },
  {
   "cell_type": "code",
   "execution_count": null,
   "outputs": [],
   "source": [
    "budget_df = data.loc[data['budget'] > 0].copy()\n",
    "\n",
    "budget_df['Orçamento'] = pd.NA\n",
    "\n",
    "for index, row in budget_df.iterrows():\n",
    "    orçamento = 0\n",
    "    if row['budget'] <= 500000:\n",
    "        orçamento += 1\n",
    "    if row['budget'] <= 1000000 and row['budget'] > 500000:\n",
    "        orçamento += 2\n",
    "    if row['budget'] <= 5000000 and row['budget'] > 1000000:\n",
    "        orçamento += 3\n",
    "    if row['budget'] <= 10000000 and row['budget'] > 5000000:\n",
    "        orçamento += 4\n",
    "    if row['budget'] <= 15000000 and row['budget'] > 10000000:\n",
    "        orçamento += 5\n",
    "    if row['budget'] <= 30000000 and row['budget'] > 15000000:\n",
    "        orçamento += 6\n",
    "    if row['budget'] <= 60000000 and row['budget'] > 30000000:\n",
    "        orçamento += 7\n",
    "    if row['budget'] > 60000000:\n",
    "        orçamento += 8\n",
    "    budget_df.loc[index, 'Orçamento'] = orçamento\n",
    "\n",
    "sns.countplot(x ='Orçamento', hue = 'bt_score', data = budget_df)\n",
    "plt.title(\"Orçamento x Teste Bechdel\", fontsize=15)\n",
    "plt.xlabel(\"Orçamento ($)\")\n",
    "plt.ylabel(\"Quantidade de filmes\")\n",
    "plt.show()"
   ],
   "metadata": {
    "collapsed": false,
    "pycharm": {
     "name": "#%%\n"
    }
   }
  },
  {
   "cell_type": "code",
   "execution_count": null,
   "outputs": [],
   "source": [
    "budget_year_mean = data.groupby(['year', 'bt_score'])['budget'].mean().to_frame().reset_index()\n",
    "budget_year_mean1 = budget_year_mean[budget_year_mean['budget'] > 0]\n",
    "budget_year_mean2 = budget_year_mean1[budget_year_mean1['year'] >= 1902]\n",
    "fig, ax = plt.subplots(figsize = (14 , 7))\n",
    "sns.set_theme(style=\"ticks\")\n",
    "sns.set_style(\"white\")\n",
    "sns.scatterplot(y = 'budget', x = 'year', hue = 'bt_score', data=budget_year_mean2, palette=\"cubehelix\", s = 30, edgecolor=\".5\")\n",
    "plt.legend(title = \"Teste Bechdel\", fontsize = '12', title_fontsize = \"12\")\n",
    "ax.set_xlabel(\"Anos\", size = 14) \n",
    "ax.set_ylabel(\"Orçamento Médio ($)\", size = 14) \n",
    "ax.set_title(\"Orçamento médio por ano\", size = 24) \n",
    "ax.set_xticks([1900, 1910, 1920, 1930, 1940, 1950, 1960, 1970, 1980, 1990, 2000, 2010, 2020])\n",
    "ax.set_yticks([0, 10000000, 20000000, 30000000, 40000000, 50000000, 60000000, 70000000, 80000000, 90000000])\n",
    "plt.ticklabel_format(style='plain', axis='y')\n",
    "plt.show()"
   ],
   "metadata": {
    "collapsed": false,
    "pycharm": {
     "name": "#%%\n"
    }
   }
  },
  {
   "cell_type": "code",
   "execution_count": null,
   "outputs": [],
   "source": [
    "sns.set( rc = {'figure.figsize': (60, 60), 'axes.labelsize': 12}) \n",
    "g = sns.relplot(data = budget_year_mean2, x = \"year\",  y = \"budget\", col = \"bt_score\", hue = \"bt_score\", palette=\"cubehelix\") \n",
    "g.fig.suptitle(\"Orçamento médio por ano\", fontsize = 'x-large', fontweight = 'bold') \n",
    "g.fig.subplots_adjust(top = 0.85) \n",
    "g.set_axis_labels(\"Anos\" , \"Orçamento Médio ($)\") \n",
    "plt.ticklabel_format(style='plain', axis='y')\n",
    "plt.show()"
   ],
   "metadata": {
    "collapsed": false,
    "pycharm": {
     "name": "#%%\n"
    }
   }
  },
  {
   "cell_type": "code",
   "execution_count": null,
   "outputs": [],
   "source": [
    "budget_interval_mean = data.groupby(['year', 'bt_score'])['budget'].mean().to_frame().reset_index()\n",
    "budget_interval_mean1 = budget_interval_mean[budget_interval_mean['budget'] > 0]\n",
    "budget_interval_mean2 = budget_interval_mean1[budget_interval_mean1['year'] >= 1902]\n",
    "\n",
    "for index, year in budget_interval_mean2['year'].iteritems():\n",
    "    interval_start = int(year - year % 10 + 1)\n",
    "    interval_end = int(interval_start + 9)\n",
    "    budget_interval_mean2.at[index, 'year_interval'] = str(interval_start) + '-' + str(interval_end)\n",
    "    \n",
    "fig, ax = plt.subplots(figsize = (14 , 7))\n",
    "sns.set_theme(style=\"ticks\")\n",
    "sns.set_style(\"white\")\n",
    "sns.scatterplot(y = 'budget', x = 'year_interval', hue = 'bt_score', data=budget_interval_mean2, palette=\"cubehelix\", s = 30, edgecolor=\".5\")\n",
    "plt.legend(title = \"Teste Bechdel\", fontsize = '12', title_fontsize = \"12\")\n",
    "ax.set_xlabel(\"Anos\", size = 14) \n",
    "ax.set_ylabel(\"Orçamento Médio ($)\", size = 14) \n",
    "ax.set_title(\"Orçamento médio por década\", size = 24) \n",
    "ax.set_yticks([0, 10000000, 20000000, 30000000, 40000000, 50000000, 60000000, 70000000, 80000000, 90000000])\n",
    "plt.ticklabel_format(style='plain', axis='y')"
   ],
   "metadata": {
    "collapsed": false,
    "pycharm": {
     "name": "#%%\n"
    }
   }
  },
  {
   "cell_type": "code",
   "execution_count": null,
   "outputs": [],
   "source": [
    "revenue_df = data.loc[data['revenue'] > 0].copy()\n",
    "\n",
    "revenue_df['Bilheteria'] = pd.NA\n",
    "\n",
    "for index, row in revenue_df.iterrows():\n",
    "    bilheteria = 0\n",
    "    if row['revenue'] <= 500000:\n",
    "        bilheteria += 1\n",
    "    if row['revenue'] <= 1000000 and row['revenue'] > 500000:\n",
    "        bilheteria += 2\n",
    "    if row['revenue'] <= 5000000 and row['revenue'] > 1000000:\n",
    "        bilheteria += 3\n",
    "    if row['revenue'] <= 10000000 and row['revenue'] > 5000000:\n",
    "        bilheteria += 4\n",
    "    if row['revenue'] <= 15000000 and row['revenue'] > 10000000:\n",
    "        bilheteria += 5\n",
    "    if row['revenue'] <= 30000000 and row['revenue'] > 15000000:\n",
    "        bilheteria += 6\n",
    "    if row['revenue'] <= 60000000 and row['revenue'] > 30000000:\n",
    "        bilheteria += 7\n",
    "    if row['revenue'] > 60000000:\n",
    "        bilheteria += 8\n",
    "    revenue_df.loc[index, 'Bilheteria'] = bilheteria\n",
    "\n",
    "sns.countplot(x ='Bilheteria', hue = 'bt_score', data = revenue_df)\n",
    "plt.title(\"Bilheteria x Teste Bechdel\", fontsize=15)\n",
    "plt.xlabel(\"Bilheteria ($)\")\n",
    "plt.ylabel(\"Quantidade de filmes\")\n",
    "plt.show()"
   ],
   "metadata": {
    "collapsed": false,
    "pycharm": {
     "name": "#%%\n"
    }
   }
  },
  {
   "cell_type": "code",
   "execution_count": null,
   "outputs": [],
   "source": [
    "revenue_year_mean = data.groupby(['year', 'bt_score'])['revenue'].mean().to_frame().reset_index()\n",
    "revenue_year_mean1 = revenue_year_mean[revenue_year_mean['revenue'] > 0]\n",
    "revenue_year_mean2 = revenue_year_mean1[revenue_year_mean1['year'] >= 1902]\n",
    "fig, ax = plt.subplots(figsize = (14 , 7))\n",
    "sns.set_theme(style=\"ticks\")\n",
    "sns.set_style(\"white\")\n",
    "sns.scatterplot(y = 'revenue', x = 'year', hue = 'bt_score', data=revenue_year_mean2, palette=\"cubehelix\", s = 30, edgecolor=\".5\")\n",
    "plt.legend(title = \"Teste Bechdel\", fontsize = '12', title_fontsize = \"12\")\n",
    "ax.set_xlabel(\"Anos\", size = 14) \n",
    "ax.set_ylabel(\"Bilheteria Média ($)\", size = 14) \n",
    "ax.set_title(\"Bilheteria média por ano\", size = 24) \n",
    "ax.set_xticks([1900, 1910, 1920, 1930, 1940, 1950, 1960, 1970, 1980, 1990, 2000, 2010, 2020])\n",
    "plt.ticklabel_format(style='plain', axis='y')\n",
    "plt.show()"
   ],
   "metadata": {
    "collapsed": false,
    "pycharm": {
     "name": "#%%\n"
    }
   }
  },
  {
   "cell_type": "code",
   "execution_count": null,
   "outputs": [],
   "source": [
    "sns.set( rc = {'figure.figsize': (60, 60), 'axes.labelsize': 12}) \n",
    "g = sns.relplot(data = revenue_year_mean2, x = \"year\",  y = \"revenue\", col = \"bt_score\", hue = \"bt_score\", palette=\"cubehelix\") \n",
    "g.fig.suptitle(\"Bilheteria média por ano\", fontsize = 'x-large', fontweight = 'bold') \n",
    "g.fig.subplots_adjust(top = 0.85) \n",
    "g.set_axis_labels(\"Anos\" , \"Bilheteria média ($)\") \n",
    "plt.ticklabel_format(style='plain', axis='y') \n",
    "plt.show()"
   ],
   "metadata": {
    "collapsed": false,
    "pycharm": {
     "name": "#%%\n"
    }
   }
  },
  {
   "cell_type": "code",
   "execution_count": null,
   "outputs": [],
   "source": [
    "revenue_interval_mean = data.groupby(['year', 'bt_score'])['revenue'].mean().to_frame().reset_index()\n",
    "revenue_interval_mean1 = revenue_interval_mean[revenue_interval_mean['revenue'] > 0]\n",
    "revenue_interval_mean2 = revenue_interval_mean1[revenue_interval_mean1['year'] >= 1902]\n",
    "\n",
    "for index, year in revenue_interval_mean2['year'].iteritems():\n",
    "    interval_start = int(year - year % 10 + 1)\n",
    "    interval_end = int(interval_start + 9)\n",
    "    revenue_interval_mean2.at[index, 'year_interval'] = str(interval_start) + '-' + str(interval_end)\n",
    "    \n",
    "fig, ax = plt.subplots(figsize = (16 , 8))\n",
    "sns.set_theme(style=\"ticks\")\n",
    "sns.set_style(\"white\")\n",
    "sns.scatterplot(y = 'revenue', x = 'year_interval', hue = 'bt_score', data=revenue_interval_mean2, palette=\"cubehelix\", s = 30, edgecolor=\".5\")\n",
    "plt.legend(title = \"Teste Bechdel\", fontsize = '12', title_fontsize = \"12\")\n",
    "ax.set_xlabel(\"Anos\", size = 14) \n",
    "ax.set_ylabel(\"Bilheteria Média ($)\", size = 14) \n",
    "ax.set_title(\"Bilheteria média por década\", size = 24) \n",
    "plt.ticklabel_format(style='plain', axis='y')\n",
    "plt.show()"
   ],
   "metadata": {
    "collapsed": false,
    "pycharm": {
     "name": "#%%\n"
    }
   }
  },
  {
   "cell_type": "code",
   "execution_count": null,
   "outputs": [],
   "source": [
    "bechdel_year_mean = data.groupby(['year'])['bt_score'].mean().to_frame().reset_index()\n",
    "for index, year in bechdel_year_mean['year'].iteritems():\n",
    "    interval_start = int(year - year % 10 + 1)\n",
    "    interval_end = int(interval_start + 9)\n",
    "    bechdel_year_mean.at[index, 'year_interval'] = str(interval_start) + '-' + str(interval_end)\n",
    "fig, ax = plt.subplots(figsize = (16 , 8))\n",
    "sns.set_style(\"white\")\n",
    "sns.scatterplot(data=bechdel_year_mean, x=\"year_interval\", y=\"bt_score\", color = \"red\", ci=None)\n",
    "plt.legend(labels = ['Teste Bechdel'], title = \"Teste Bechdel\", fontsize = '12', title_fontsize = \"12\")\n",
    "ax.set_xlabel(\"Anos\", size = 14) \n",
    "ax.set_ylabel(\"Pontuação Média\", size = 14) \n",
    "ax.set_title(\"Pontuação média por década\", size = 24)\n",
    "plt.show()"
   ],
   "metadata": {
    "collapsed": false,
    "pycharm": {
     "name": "#%%\n"
    }
   }
  },
  {
   "cell_type": "code",
   "execution_count": null,
   "outputs": [],
   "source": [
    "import matplotlib as mpl\n",
    "    \n",
    "sns.set_theme(style=\"ticks\")\n",
    "f, ax = plt.subplots(figsize=(16, 8))\n",
    "sns.despine(f)\n",
    "sns.histplot(data, x=\"year\", hue=\"bt_score\", multiple=\"stack\", palette=\"cubehelix\", edgecolor=\".3\", linewidth=.5)\n",
    "plt.legend(labels = [\"Passaram no Teste\", \"Elas conversam sobre homens\", \"Elas não conversam entre si\", \"Não existem 2 personagens femininas\"], \n",
    "           title = \"Teste Bechdel\", fontsize = '12', title_fontsize = \"12\")\n",
    "ax.set_xlabel(\"Anos\", size = 14) \n",
    "ax.set_ylabel(\"Quantidade de filmes\", size = 14) \n",
    "ax.set_title(\"Pontuação por ano\", size = 24) \n",
    "ax.xaxis.set_major_formatter(mpl.ticker.ScalarFormatter())\n",
    "ax.set_xticks([1890, 1900, 1910, 1920, 1930, 1940, 1950, 1960, 1970, 1980, 1990, 2000, 2010, 2020])\n",
    "ax.set_yticks([0, 100, 200, 300, 400, 500, 600, 700, 800, 900, 1000])\n",
    "ax.set_xlim(1890, 2020)\n",
    "ax.set_ylim(0, 1000)\n",
    "plt.show()"
   ],
   "metadata": {
    "collapsed": false,
    "pycharm": {
     "name": "#%%\n"
    }
   }
  },
  {
   "cell_type": "code",
   "execution_count": null,
   "outputs": [],
   "source": [
    "sns.set_theme(style=\"darkgrid\")\n",
    "sns.set( rc = {'figure.figsize': (60, 60), 'axes.labelsize': 10}) \n",
    "g = sns.displot(data, x=\"year\", col=\"bt_score\", binwidth=3, height=3, facet_kws=dict(margin_titles=True), color = 'red')\n",
    "g.set(xticks=(1900, 1940, 1980, 2020), yticks=(0, 100, 200, 300, 400, 500, 600))\n",
    "g.fig.suptitle(\"Notas Bechdel\", fontsize = 'x-large', fontweight = 'bold') \n",
    "g.fig.subplots_adjust(top = 0.85) \n",
    "g.set_axis_labels(\"Anos\" , \"Quantidade de filmes\")\n",
    "plt.show()"
   ],
   "metadata": {
    "collapsed": false,
    "pycharm": {
     "name": "#%%\n"
    }
   }
  },
  {
   "cell_type": "code",
   "execution_count": null,
   "outputs": [],
   "source": [
    "imdb_bechdel = data.groupby(['year', 'bt_score'])['vote_average'].mean().to_frame().reset_index()\n",
    "sns.set( rc = {'figure.figsize': (60, 60), 'axes.labelsize': 15}) \n",
    "g = sns.relplot(data = imdb_bechdel, x = \"year\",  y = \"vote_average\", col = \"bt_score\", hue = \"bt_score\", palette=\"cubehelix\") \n",
    "g.fig.suptitle(\"IMDB x Bechdel\", fontsize = 'x-large', fontweight = 'bold') \n",
    "g.fig.subplots_adjust(top = 0.85) \n",
    "g.set_axis_labels(\"Anos\" , \"Nota IMDB\") \n",
    "g.set(ylim=(0, 10))\n",
    "g.set(yticks=(0, 1, 2, 3, 4, 5, 6, 7, 8, 9, 10))\n",
    "plt.show()"
   ],
   "metadata": {
    "collapsed": false,
    "pycharm": {
     "name": "#%%\n"
    }
   }
  },
  {
   "cell_type": "code",
   "execution_count": null,
   "outputs": [],
   "source": [
    "sns.set( rc = {'figure.figsize': (60, 60), 'axes.labelsize': 15}) \n",
    "g = sns.relplot(data = data, x = \"year\",  y = \"vote_average\", col = \"bt_score\", hue = \"bt_score\", palette=\"cubehelix\") \n",
    "g.fig.suptitle(\"IMDB x Bechdel\", fontsize = 'x-large', fontweight = 'bold') \n",
    "g.fig.subplots_adjust(top = 0.85) \n",
    "g.set_axis_labels(\"Anos\" , \"Nota IMDB\") \n",
    "g.set(ylim=(0, 10))\n",
    "g.set(yticks=(0, 1, 2, 3, 4, 5, 6, 7, 8, 9, 10))\n",
    "plt.show()"
   ],
   "metadata": {
    "collapsed": false,
    "pycharm": {
     "name": "#%%\n"
    }
   }
  },
  {
   "cell_type": "code",
   "execution_count": null,
   "outputs": [],
   "source": [
    "fig, ax = plt.subplots(figsize = (14 , 7))\n",
    "sns.set_theme(style=\"ticks\")\n",
    "sns.set_style(\"white\")\n",
    "sns.scatterplot(y = \"vote_average\", x = 'year', hue = 'bt_score', data=imdb_bechdel, palette=\"cubehelix\", s = 30, edgecolor=\".5\")\n",
    "plt.legend(title = \"Teste Bechdel\", fontsize = '12', title_fontsize = \"12\")\n",
    "ax.set_xlabel(\"Anos\", size = 14) \n",
    "ax.set_ylabel(\"Nota IMDB\", size = 14) \n",
    "ax.set_title(\"IMDB x Bechdel\", size = 24) \n",
    "ax.set_xticks([1870, 1880, 1890, 1900, 1910, 1920, 1930, 1940, 1950, 1960, 1970, 1980, 1990, 2000, 2010, 2020])\n",
    "ax.set_yticks([1, 2, 3, 4, 5, 6, 7, 8, 9, 10])\n",
    "plt.ticklabel_format(style='plain', axis='y')\n",
    "plt.show()"
   ],
   "metadata": {
    "collapsed": false,
    "pycharm": {
     "name": "#%%\n"
    }
   }
  },
  {
   "cell_type": "code",
   "execution_count": null,
   "outputs": [],
   "source": [
    "fig, ax = plt.subplots(figsize = (14 , 7))\n",
    "sns.set_theme(style=\"ticks\")\n",
    "sns.set_style(\"white\")\n",
    "sns.scatterplot(y = \"vote_average\", x = 'year', hue = 'bt_score', data=data, palette=\"cubehelix\", s = 30, edgecolor=\".5\")\n",
    "plt.legend(title = \"Teste Bechdel\", fontsize = '12', title_fontsize = \"12\")\n",
    "ax.set_xlabel(\"Anos\", size = 14) \n",
    "ax.set_ylabel(\"Nota IMDB\", size = 14) \n",
    "ax.set_title(\"IMDB x Bechdel\", size = 24) \n",
    "ax.set_xticks([1870, 1880, 1890, 1900, 1910, 1920, 1930, 1940, 1950, 1960, 1970, 1980, 1990, 2000, 2010, 2020])\n",
    "ax.set_yticks([1, 2, 3, 4, 5, 6, 7, 8, 9, 10])\n",
    "plt.ticklabel_format(style='plain', axis='y')\n",
    "plt.show()"
   ],
   "metadata": {
    "collapsed": false,
    "pycharm": {
     "name": "#%%\n"
    }
   }
  },
  {
   "cell_type": "code",
   "execution_count": null,
   "outputs": [],
   "source": [
    "sns.set( rc = {'figure.figsize': (60, 60), 'axes.labelsize': 15})  \n",
    "g = sns.lmplot(x = 'year', y = \"vote_average\", hue = 'bt_score', col = 'bt_score', data = imdb_bechdel, ci = None)\n",
    "g.fig.suptitle(\"IMDB x Bechdel\", fontsize = 20, fontweight = 'bold') \n",
    "g.fig.subplots_adjust(top = 0.85) \n",
    "g.set_axis_labels(\"Anos\" , \"Nota IMDB\") \n",
    "g.set(ylim=(0, 10))\n",
    "g.set(xticks=(1880, 1910, 1940, 1970, 2000, 2020), yticks=(0, 1, 2, 3, 4, 5, 6, 7, 8, 9, 10))\n",
    "plt.show()"
   ],
   "metadata": {
    "collapsed": false,
    "pycharm": {
     "name": "#%%\n"
    }
   }
  },
  {
   "cell_type": "code",
   "execution_count": null,
   "outputs": [],
   "source": [
    "for index, year in imdb_bechdel['year'].iteritems():\n",
    "    interval_start = int(year - year % 10 + 1)\n",
    "    interval_end = int(interval_start + 9)\n",
    "    imdb_bechdel.at[index, 'year_interval'] = str(interval_start) + '-' + str(interval_end)\n",
    "\n",
    "fig, ax = plt.subplots(figsize = (16 , 8))\n",
    "sns.set_theme(style=\"ticks\")\n",
    "sns.set_style(\"white\")\n",
    "sns.scatterplot(y = \"vote_average\", x = 'year_interval', hue = 'bt_score', data=imdb_bechdel, palette=\"cubehelix\", s = 30, edgecolor=\".5\")\n",
    "plt.legend(title = \"Teste Bechdel\", fontsize = '12', title_fontsize = \"12\")\n",
    "ax.set_xlabel(\"Anos\", size = 14) \n",
    "ax.set_ylabel(\"Nota IMDB\", size = 14) \n",
    "ax.set_title(\"IMDB x Bechdel\", size = 24) \n",
    "ax.set_yticks([1, 2, 3, 4, 5, 6, 7, 8, 9, 10])\n",
    "plt.ticklabel_format(style='plain', axis='y')\n",
    "plt.show()"
   ],
   "metadata": {
    "collapsed": false,
    "pycharm": {
     "name": "#%%\n"
    }
   }
  },
  {
   "cell_type": "code",
   "execution_count": null,
   "outputs": [],
   "source": [
    "data2_df = data.copy()\n",
    "\n",
    "for index, bt_score in data2_df['bt_score'].iteritems():\n",
    "    if bt_score == 0:\n",
    "        if data2_df.at[index, 'dubious'] == 1:\n",
    "            data2_df.at[index, 'Categoria'] = 'Dubious'\n",
    "        else:\n",
    "            data2_df.at[index, 'Categoria'] = '0-Menos de 2 personagens femininas'\n",
    "    elif bt_score == 1:\n",
    "        if data2_df.at[index, 'dubious'] == 1:\n",
    "            data2_df.at[index, 'Categoria'] = 'Dubious'\n",
    "        else:\n",
    "            data2_df.at[index, 'Categoria'] = '1-Personagens femininas não conversam'\n",
    "    elif bt_score == 2:\n",
    "        if data2_df.at[index, 'dubious'] == 1:\n",
    "            data2_df.at[index, 'Categoria'] = 'Dubious'\n",
    "        else:\n",
    "            data2_df.at[index, 'Categoria'] = '2-Personagens femininas conversam sobre homens'\n",
    "    else:\n",
    "        if data2_df.at[index, 'dubious'] == 1:\n",
    "            data2_df.at[index, 'Categoria'] = 'Dubious'\n",
    "        else:\n",
    "            data2_df.at[index, 'Categoria'] = '3-Passou no Teste Bechdel'\n",
    "            \n",
    "bechdel_df_ordered = data2_df.copy()\n",
    "bechdel_df_ordered['Categoria'] = pd.Categorical(bechdel_df_ordered['Categoria'], categories=[\n",
    "    '0-Menos de 2 personagens femininas', \n",
    "    '1-Personagens femininas não conversam',\n",
    "    '2-Personagens femininas conversam sobre homens',\n",
    "    'Dubious',\n",
    "    '3-Passou no Teste Bechdel'\n",
    "], ordered=True)\n",
    "\n",
    "for index, year in bechdel_df_ordered['year'].iteritems():\n",
    "    interval_start = int(year - year % 10 + 1)\n",
    "    interval_end = int(interval_start + 9)\n",
    "    bechdel_df_ordered.at[index, 'year_interval'] = str(interval_start) + '-' + str(interval_end)\n",
    "\n",
    "(ggplot(bechdel_df_ordered, \n",
    "        aes(fill = 'Categoria', x = 'year_interval')) + \n",
    "    geom_bar(position = \"fill\") + \n",
    "    scale_y_continuous(labels=percent_format()) +\n",
    "    scale_fill_manual(values = ['#FF8C42', '#FCAF58', '#F9C784', '#E8E9EB', '#98BF64']) +\n",
    "    # geom_text(angle=45) + \n",
    "    labs(\n",
    "        title = 'Mudanças percentuais de filmes que passam no teste Bechdel ao longo dos anos', \n",
    "        subtitle = 'Gráfico de barras de porcentagem empilhada',\n",
    "        x = 'Anos', \n",
    "        y = 'Proporção de filmes'\n",
    "    ) + \n",
    "    theme_classic() + \n",
    "    theme(axis_text_x  = element_text(angle = 45, hjust = 1))\n",
    ")"
   ],
   "metadata": {
    "collapsed": false,
    "pycharm": {
     "name": "#%%\n"
    }
   }
  },
  {
   "cell_type": "code",
   "execution_count": null,
   "outputs": [],
   "source": [
    "data_clean = pd.read_csv('cleaned_data.csv', index_col=0)\n",
    "data_clean.head()"
   ],
   "metadata": {
    "collapsed": false,
    "pycharm": {
     "name": "#%%\n"
    }
   }
  },
  {
   "cell_type": "code",
   "execution_count": null,
   "outputs": [],
   "source": [
    "teste = eval(data_clean.genres[0])\n",
    "teste[3]"
   ],
   "metadata": {
    "collapsed": false,
    "pycharm": {
     "name": "#%%\n"
    }
   }
  },
  {
   "cell_type": "code",
   "execution_count": null,
   "outputs": [],
   "source": [
    "#- procurar onde ta a virgula ler ate ela\n",
    "#- adicionar por append a uma lista"
   ],
   "metadata": {
    "collapsed": false,
    "pycharm": {
     "name": "#%%\n"
    }
   }
  },
  {
   "cell_type": "code",
   "execution_count": null,
   "outputs": [],
   "source": [
    "data_clean.popularity.max"
   ],
   "metadata": {
    "collapsed": false,
    "pycharm": {
     "name": "#%%\n"
    }
   }
  },
  {
   "cell_type": "code",
   "execution_count": null,
   "outputs": [],
   "source": [
    "data_clean.groupby('vote_average')['bt_score'].mean().plot(title=\"Bechdel Test score by vote average\",figsize=(14, 6), xlabel=\"Year\")"
   ],
   "metadata": {
    "collapsed": false,
    "pycharm": {
     "name": "#%%\n"
    }
   }
  },
  {
   "cell_type": "code",
   "execution_count": null,
   "outputs": [],
   "source": [
    "sns.set_theme(style=\"ticks\")\n",
    "f, ax = plt.subplots(figsize=(16, 8))\n",
    "sns.despine(f)\n",
    "sns.histplot(data, x=\"popularity\", hue=\"bt_score\", multiple=\"stack\", palette=\"cubehelix\", edgecolor=\".3\", linewidth=.5)\n",
    "plt.legend(labels = [\"Passaram no Teste\", \"Elas conversam sobre homens\", \"Elas não conversam entre si\", \"Não existem 2 personagens femininas\"], \n",
    "           title = \"Teste Bechdel\", fontsize = '12', title_fontsize = \"12\")\n",
    "ax.set_xlabel(\"Popularidade\", size = 14) \n",
    "ax.set_ylabel(\"Quantidade de filmes\", size = 14) \n",
    "ax.set_title(\"Nota do bechdel por popularidade\", size = 24) \n",
    "ax.xaxis.set_major_formatter(mpl.ticker.ScalarFormatter())\n",
    "ax.set_xticks([0, 10, 20, 30, 40, 50, 60, 70, 80, 90, 100, 110, 120, 130, 140, 150, 160, 170 , 180, 190, 200])\n",
    "ax.set_xlim(0, 200)\n",
    "plt.show()"
   ],
   "metadata": {
    "collapsed": false,
    "pycharm": {
     "name": "#%%\n"
    }
   }
  },
  {
   "cell_type": "code",
   "execution_count": null,
   "outputs": [],
   "source": [
    "data_clean = pd.read_csv('cleaned_data.csv', index_col=0)\n",
    "data_clean.head()"
   ],
   "metadata": {
    "collapsed": false,
    "pycharm": {
     "name": "#%%\n"
    }
   }
  },
  {
   "cell_type": "code",
   "execution_count": null,
   "outputs": [],
   "source": [
    "teste = eval(data_clean.genres[0])\n",
    "teste[3]"
   ],
   "metadata": {
    "collapsed": false,
    "pycharm": {
     "name": "#%%\n"
    }
   }
  },
  {
   "cell_type": "code",
   "execution_count": null,
   "outputs": [],
   "source": [
    "#- procurar onde ta a virgula ler ate ela\n",
    "#- adicionar por append a uma lista"
   ],
   "metadata": {
    "collapsed": false,
    "pycharm": {
     "name": "#%%\n"
    }
   }
  },
  {
   "cell_type": "code",
   "execution_count": null,
   "outputs": [],
   "source": [
    "data_clean.popularity.max"
   ],
   "metadata": {
    "collapsed": false,
    "pycharm": {
     "name": "#%%\n"
    }
   }
  },
  {
   "cell_type": "code",
   "execution_count": null,
   "outputs": [],
   "source": [
    "data_clean.groupby('vote_average')['bt_score'].mean().plot(title=\"Bechdel Test score by vote average\",figsize=(14, 6), xlabel=\"Year\")"
   ],
   "metadata": {
    "collapsed": false,
    "pycharm": {
     "name": "#%%\n"
    }
   }
  },
  {
   "cell_type": "code",
   "execution_count": null,
   "outputs": [],
   "source": [
    "# data = pd.read_csv('cleaned_data.csv', index_col=0)\n",
    "# data.head()"
   ],
   "metadata": {
    "collapsed": false,
    "pycharm": {
     "name": "#%%\n"
    }
   }
  },
  {
   "cell_type": "code",
   "execution_count": null,
   "outputs": [],
   "source": [
    "fig, axs = plt.subplots(figsize=(10, 8), constrained_layout=True)\n",
    "\n",
    "\n",
    "def plot(axs, data, title):\n",
    "    corr = data.corr(method='spearman')\n",
    "    cmap = sns.diverging_palette(255, 255, sep=1, as_cmap=True)\n",
    "    mask = np.triu(np.ones_like(corr, dtype=bool))\n",
    "\n",
    "    graph = sns.heatmap(corr, annot=True, vmin=-1, vmax=1, fmt='.1%', cmap=cmap, mask=mask, ax=axs)\n",
    "    graph.set_title(title, pad=10)\n",
    "\n",
    "\n",
    "plot(axs, data.drop(['imdbid', 'tmdbId'], axis=1), 'Mapa de correlação entre variáveis')\n",
    "plt.show()"
   ],
   "metadata": {
    "collapsed": false,
    "pycharm": {
     "name": "#%%\n"
    }
   }
  },
  {
   "cell_type": "markdown",
   "source": [
    "## **Gráficos simples**"
   ],
   "metadata": {
    "collapsed": false,
    "pycharm": {
     "name": "#%% md\n"
    }
   }
  },
  {
   "cell_type": "markdown",
   "source": [
    "### **Filmes por nota no Teste de Bechdel**\n",
    "**Métodos utilizados**\n",
    "- `collections.Counter()`: conta os valores totais das notas de 0 a 3.\n",
    "- `DataFrame.from_dict(data, orient='index')`: transforma um dicionário em DataFrame. `orient='index'` faz com que as keys do dicionário sejam usadas como index."
   ],
   "metadata": {
    "collapsed": false,
    "pycharm": {
     "name": "#%% md\n"
    }
   }
  },
  {
   "cell_type": "code",
   "execution_count": null,
   "outputs": [],
   "source": [
    "# TOTAL DE FILMES POR NOTA\n",
    "# score_plot = sns.barplot(x='score', y='total', data=score_df)\n",
    "score_plot = sns.barplot(x='index', y='bt_score', data=data.bt_score.value_counts().reset_index())\n",
    "score_plot.bar_label(score_plot.containers[0])\n",
    "score_plot.set(title='Notas dos filmes no teste de Bechdel')\n",
    "plt.xlabel(\"Teste Bechdel\")\n",
    "plt.ylabel(\"Quantidade de filmes\")\n",
    "plt.show()"
   ],
   "metadata": {
    "collapsed": false,
    "pycharm": {
     "name": "#%%\n"
    }
   }
  },
  {
   "cell_type": "code",
   "execution_count": null,
   "outputs": [],
   "source": [
    "# PORCENTAGEM DOS FILMES\n",
    "# score_df = df com a quantidade de filmes por nota.\n",
    "score_df = collections.Counter(data.bt_score)\n",
    "score_df = pd.DataFrame.from_dict(score_df, orient='index').reset_index()\n",
    "score_df = score_df.rename(columns={'index': 'score', 0: 'total'})\n",
    "plt.pie(score_df.total, labels = score_df.score.to_list(), autopct='%.0f%%')\n",
    "score_df.score.to_list()\n",
    "plt.text(-1, -1.5, \"Quantidade total de filmes: 7.635\", fontsize=11)\n",
    "plt.title(\"Notas dos filmes no teste de Bechdel (%)\", fontsize=15)\n",
    "plt.show()"
   ],
   "metadata": {
    "collapsed": false,
    "pycharm": {
     "name": "#%%\n"
    }
   }
  },
  {
   "cell_type": "code",
   "execution_count": null,
   "outputs": [],
   "source": [
    "budget_df = data.loc[data['budget'] > 0].copy()\n",
    "\n",
    "budget_df['Orçamento'] = pd.NA\n",
    "\n",
    "for index, row in budget_df.iterrows():\n",
    "    orçamento = 0\n",
    "    if row['budget'] <= 500000:\n",
    "        orçamento += 1\n",
    "    if row['budget'] <= 1000000 and row['budget'] > 500000:\n",
    "        orçamento += 2\n",
    "    if row['budget'] <= 5000000 and row['budget'] > 1000000:\n",
    "        orçamento += 3\n",
    "    if row['budget'] <= 10000000 and row['budget'] > 5000000:\n",
    "        orçamento += 4\n",
    "    if row['budget'] <= 15000000 and row['budget'] > 10000000:\n",
    "        orçamento += 5\n",
    "    if row['budget'] <= 30000000 and row['budget'] > 15000000:\n",
    "        orçamento += 6\n",
    "    if row['budget'] <= 60000000 and row['budget'] > 30000000:\n",
    "        orçamento += 7\n",
    "    if row['budget'] > 60000000:\n",
    "        orçamento += 8\n",
    "    budget_df.loc[index, 'Orçamento'] = orçamento\n",
    "\n",
    "sns.countplot(x ='Orçamento', hue = 'bt_score', data = budget_df)\n",
    "plt.title(\"Orçamento x Teste Bechdel\", fontsize=15)\n",
    "plt.xlabel(\"Orçamento ($)\")\n",
    "plt.ylabel(\"Quantidade de filmes\")\n",
    "plt.show()"
   ],
   "metadata": {
    "collapsed": false,
    "pycharm": {
     "name": "#%%\n"
    }
   }
  },
  {
   "cell_type": "code",
   "execution_count": null,
   "outputs": [],
   "source": [
    "budget_year_mean = data.groupby(['year', 'bt_score'])['budget'].mean().to_frame().reset_index()\n",
    "budget_year_mean1 = budget_year_mean[budget_year_mean['budget'] > 0]\n",
    "budget_year_mean2 = budget_year_mean1[budget_year_mean1['year'] >= 1902]\n",
    "fig, ax = plt.subplots(figsize = (14 , 7))\n",
    "sns.set_theme(style=\"ticks\")\n",
    "sns.set_style(\"white\")\n",
    "sns.scatterplot(y = 'budget', x = 'year', hue = 'bt_score', data=budget_year_mean2, palette=\"cubehelix\", s = 30, edgecolor=\".5\")\n",
    "plt.legend(title = \"Teste Bechdel\", fontsize = '12', title_fontsize = \"12\")\n",
    "ax.set_xlabel(\"Anos\", size = 14) \n",
    "ax.set_ylabel(\"Orçamento Médio ($)\", size = 14) \n",
    "ax.set_title(\"Orçamento médio por ano\", size = 24) \n",
    "ax.set_xticks([1900, 1910, 1920, 1930, 1940, 1950, 1960, 1970, 1980, 1990, 2000, 2010, 2020])\n",
    "ax.set_yticks([0, 10000000, 20000000, 30000000, 40000000, 50000000, 60000000, 70000000, 80000000, 90000000])\n",
    "plt.ticklabel_format(style='plain', axis='y')\n",
    "plt.show()"
   ],
   "metadata": {
    "collapsed": false,
    "pycharm": {
     "name": "#%%\n"
    }
   }
  },
  {
   "cell_type": "code",
   "execution_count": null,
   "outputs": [],
   "source": [
    "sns.set( rc = {'figure.figsize': (60, 60), 'axes.labelsize': 12}) \n",
    "g = sns.relplot(data = budget_year_mean2, x = \"year\",  y = \"budget\", col = \"bt_score\", hue = \"bt_score\", palette=\"cubehelix\") \n",
    "g.fig.suptitle(\"Orçamento médio por ano\", fontsize = 'x-large', fontweight = 'bold') \n",
    "g.fig.subplots_adjust(top = 0.85) \n",
    "g.set_axis_labels(\"Anos\" , \"Orçamento Médio ($)\") \n",
    "plt.ticklabel_format(style='plain', axis='y')\n",
    "plt.show()"
   ],
   "metadata": {
    "collapsed": false,
    "pycharm": {
     "name": "#%%\n"
    }
   }
  },
  {
   "cell_type": "code",
   "execution_count": null,
   "outputs": [],
   "source": [
    "budget_interval_mean = data.groupby(['year', 'bt_score'])['budget'].mean().to_frame().reset_index()\n",
    "budget_interval_mean1 = budget_interval_mean[budget_interval_mean['budget'] > 0]\n",
    "budget_interval_mean2 = budget_interval_mean1[budget_interval_mean1['year'] >= 1902]\n",
    "\n",
    "for index, year in budget_interval_mean2['year'].iteritems():\n",
    "    interval_start = int(year - year % 10 + 1)\n",
    "    interval_end = int(interval_start + 9)\n",
    "    budget_interval_mean2.at[index, 'year_interval'] = str(interval_start) + '-' + str(interval_end)\n",
    "    \n",
    "fig, ax = plt.subplots(figsize = (14 , 7))\n",
    "sns.set_theme(style=\"ticks\")\n",
    "sns.set_style(\"white\")\n",
    "sns.scatterplot(y = 'budget', x = 'year_interval', hue = 'bt_score', data=budget_interval_mean2, palette=\"cubehelix\", s = 30, edgecolor=\".5\")\n",
    "plt.legend(title = \"Teste Bechdel\", fontsize = '12', title_fontsize = \"12\")\n",
    "ax.set_xlabel(\"Anos\", size = 14) \n",
    "ax.set_ylabel(\"Orçamento Médio ($)\", size = 14) \n",
    "ax.set_title(\"Orçamento médio por década\", size = 24) \n",
    "ax.set_yticks([0, 10000000, 20000000, 30000000, 40000000, 50000000, 60000000, 70000000, 80000000, 90000000])\n",
    "plt.ticklabel_format(style='plain', axis='y')"
   ],
   "metadata": {
    "collapsed": false,
    "pycharm": {
     "name": "#%%\n"
    }
   }
  },
  {
   "cell_type": "code",
   "execution_count": null,
   "outputs": [],
   "source": [
    "revenue_df = data.loc[data['revenue'] > 0].copy()\n",
    "\n",
    "revenue_df['Bilheteria'] = pd.NA\n",
    "\n",
    "for index, row in revenue_df.iterrows():\n",
    "    bilheteria = 0\n",
    "    if row['revenue'] <= 500000:\n",
    "        bilheteria += 1\n",
    "    if row['revenue'] <= 1000000 and row['revenue'] > 500000:\n",
    "        bilheteria += 2\n",
    "    if row['revenue'] <= 5000000 and row['revenue'] > 1000000:\n",
    "        bilheteria += 3\n",
    "    if row['revenue'] <= 10000000 and row['revenue'] > 5000000:\n",
    "        bilheteria += 4\n",
    "    if row['revenue'] <= 15000000 and row['revenue'] > 10000000:\n",
    "        bilheteria += 5\n",
    "    if row['revenue'] <= 30000000 and row['revenue'] > 15000000:\n",
    "        bilheteria += 6\n",
    "    if row['revenue'] <= 60000000 and row['revenue'] > 30000000:\n",
    "        bilheteria += 7\n",
    "    if row['revenue'] > 60000000:\n",
    "        bilheteria += 8\n",
    "    revenue_df.loc[index, 'Bilheteria'] = bilheteria\n",
    "\n",
    "sns.countplot(x ='Bilheteria', hue = 'bt_score', data = revenue_df)\n",
    "plt.title(\"Bilheteria x Teste Bechdel\", fontsize=15)\n",
    "plt.xlabel(\"Bilheteria ($)\")\n",
    "plt.ylabel(\"Quantidade de filmes\")\n",
    "plt.show()"
   ],
   "metadata": {
    "collapsed": false,
    "pycharm": {
     "name": "#%%\n"
    }
   }
  },
  {
   "cell_type": "code",
   "execution_count": null,
   "outputs": [],
   "source": [
    "revenue_year_mean = data.groupby(['year', 'bt_score'])['revenue'].mean().to_frame().reset_index()\n",
    "revenue_year_mean1 = revenue_year_mean[revenue_year_mean['revenue'] > 0]\n",
    "revenue_year_mean2 = revenue_year_mean1[revenue_year_mean1['year'] >= 1902]\n",
    "fig, ax = plt.subplots(figsize = (14 , 7))\n",
    "sns.set_theme(style=\"ticks\")\n",
    "sns.set_style(\"white\")\n",
    "sns.scatterplot(y = 'revenue', x = 'year', hue = 'bt_score', data=revenue_year_mean2, palette=\"cubehelix\", s = 30, edgecolor=\".5\")\n",
    "plt.legend(title = \"Teste Bechdel\", fontsize = '12', title_fontsize = \"12\")\n",
    "ax.set_xlabel(\"Anos\", size = 14) \n",
    "ax.set_ylabel(\"Bilheteria Média ($)\", size = 14) \n",
    "ax.set_title(\"Bilheteria média por ano\", size = 24) \n",
    "ax.set_xticks([1900, 1910, 1920, 1930, 1940, 1950, 1960, 1970, 1980, 1990, 2000, 2010, 2020])\n",
    "plt.ticklabel_format(style='plain', axis='y')\n",
    "plt.show()"
   ],
   "metadata": {
    "collapsed": false,
    "pycharm": {
     "name": "#%%\n"
    }
   }
  },
  {
   "cell_type": "code",
   "execution_count": null,
   "outputs": [],
   "source": [
    "sns.set( rc = {'figure.figsize': (60, 60), 'axes.labelsize': 12}) \n",
    "g = sns.relplot(data = revenue_year_mean2, x = \"year\",  y = \"revenue\", col = \"bt_score\", hue = \"bt_score\", palette=\"cubehelix\") \n",
    "g.fig.suptitle(\"Bilheteria média por ano\", fontsize = 'x-large', fontweight = 'bold') \n",
    "g.fig.subplots_adjust(top = 0.85) \n",
    "g.set_axis_labels(\"Anos\" , \"Bilheteria média ($)\") \n",
    "plt.ticklabel_format(style='plain', axis='y') \n",
    "plt.show()"
   ],
   "metadata": {
    "collapsed": false,
    "pycharm": {
     "name": "#%%\n"
    }
   }
  },
  {
   "cell_type": "code",
   "execution_count": null,
   "outputs": [],
   "source": [
    "revenue_interval_mean = data.groupby(['year', 'bt_score'])['revenue'].mean().to_frame().reset_index()\n",
    "revenue_interval_mean1 = revenue_interval_mean[revenue_interval_mean['revenue'] > 0]\n",
    "revenue_interval_mean2 = revenue_interval_mean1[revenue_interval_mean1['year'] >= 1902]\n",
    "\n",
    "for index, year in revenue_interval_mean2['year'].iteritems():\n",
    "    interval_start = int(year - year % 10 + 1)\n",
    "    interval_end = int(interval_start + 9)\n",
    "    revenue_interval_mean2.at[index, 'year_interval'] = str(interval_start) + '-' + str(interval_end)\n",
    "    \n",
    "fig, ax = plt.subplots(figsize = (16 , 8))\n",
    "sns.set_theme(style=\"ticks\")\n",
    "sns.set_style(\"white\")\n",
    "sns.scatterplot(y = 'revenue', x = 'year_interval', hue = 'bt_score', data=revenue_interval_mean2, palette=\"cubehelix\", s = 30, edgecolor=\".5\")\n",
    "plt.legend(title = \"Teste Bechdel\", fontsize = '12', title_fontsize = \"12\")\n",
    "ax.set_xlabel(\"Anos\", size = 14) \n",
    "ax.set_ylabel(\"Bilheteria Média ($)\", size = 14) \n",
    "ax.set_title(\"Bilheteria média por década\", size = 24) \n",
    "plt.ticklabel_format(style='plain', axis='y')\n",
    "plt.show()"
   ],
   "metadata": {
    "collapsed": false,
    "pycharm": {
     "name": "#%%\n"
    }
   }
  },
  {
   "cell_type": "code",
   "execution_count": null,
   "outputs": [],
   "source": [
    "bechdel_year_mean = data.groupby(['year'])['bt_score'].mean().to_frame().reset_index()\n",
    "for index, year in bechdel_year_mean['year'].iteritems():\n",
    "    interval_start = int(year - year % 10 + 1)\n",
    "    interval_end = int(interval_start + 9)\n",
    "    bechdel_year_mean.at[index, 'year_interval'] = str(interval_start) + '-' + str(interval_end)\n",
    "fig, ax = plt.subplots(figsize = (16 , 8))\n",
    "sns.set_style(\"white\")\n",
    "sns.scatterplot(data=bechdel_year_mean, x=\"year_interval\", y=\"bt_score\", color = \"red\", ci=None)\n",
    "plt.legend(labels = ['Teste Bechdel'], title = \"Teste Bechdel\", fontsize = '12', title_fontsize = \"12\")\n",
    "ax.set_xlabel(\"Anos\", size = 14) \n",
    "ax.set_ylabel(\"Pontuação Média\", size = 14) \n",
    "ax.set_title(\"Pontuação média por década\", size = 24)\n",
    "plt.show()"
   ],
   "metadata": {
    "collapsed": false,
    "pycharm": {
     "name": "#%%\n"
    }
   }
  },
  {
   "cell_type": "code",
   "execution_count": null,
   "outputs": [],
   "source": [
    "import matplotlib as mpl\n",
    "    \n",
    "sns.set_theme(style=\"ticks\")\n",
    "f, ax = plt.subplots(figsize=(16, 8))\n",
    "sns.despine(f)\n",
    "sns.histplot(data, x=\"year\", hue=\"bt_score\", multiple=\"stack\", palette=\"cubehelix\", edgecolor=\".3\", linewidth=.5)\n",
    "plt.legend(labels = [\"Passaram no Teste\", \"Elas conversam sobre homens\", \"Elas não conversam entre si\", \"Não existem 2 personagens femininas\"], \n",
    "           title = \"Teste Bechdel\", fontsize = '12', title_fontsize = \"12\")\n",
    "ax.set_xlabel(\"Anos\", size = 14) \n",
    "ax.set_ylabel(\"Quantidade de filmes\", size = 14) \n",
    "ax.set_title(\"Pontuação por ano\", size = 24) \n",
    "ax.xaxis.set_major_formatter(mpl.ticker.ScalarFormatter())\n",
    "ax.set_xticks([1890, 1900, 1910, 1920, 1930, 1940, 1950, 1960, 1970, 1980, 1990, 2000, 2010, 2020])\n",
    "ax.set_yticks([0, 100, 200, 300, 400, 500, 600, 700, 800, 900, 1000])\n",
    "ax.set_xlim(1890, 2020)\n",
    "ax.set_ylim(0, 1000)\n",
    "plt.show()"
   ],
   "metadata": {
    "collapsed": false,
    "pycharm": {
     "name": "#%%\n"
    }
   }
  },
  {
   "cell_type": "code",
   "execution_count": null,
   "outputs": [],
   "source": [
    "sns.set_theme(style=\"darkgrid\")\n",
    "sns.set( rc = {'figure.figsize': (60, 60), 'axes.labelsize': 10}) \n",
    "g = sns.displot(data, x=\"year\", col=\"bt_score\", binwidth=3, height=3, facet_kws=dict(margin_titles=True), color = 'red')\n",
    "g.set(xticks=(1900, 1940, 1980, 2020), yticks=(0, 100, 200, 300, 400, 500, 600))\n",
    "g.fig.suptitle(\"Notas Bechdel\", fontsize = 'x-large', fontweight = 'bold') \n",
    "g.fig.subplots_adjust(top = 0.85) \n",
    "g.set_axis_labels(\"Anos\" , \"Quantidade de filmes\")\n",
    "plt.show()"
   ],
   "metadata": {
    "collapsed": false,
    "pycharm": {
     "name": "#%%\n"
    }
   }
  },
  {
   "cell_type": "code",
   "execution_count": null,
   "outputs": [],
   "source": [
    "imdb_bechdel = data.groupby(['year', 'bt_score'])['vote_average'].mean().to_frame().reset_index()\n",
    "sns.set( rc = {'figure.figsize': (60, 60), 'axes.labelsize': 15}) \n",
    "g = sns.relplot(data = imdb_bechdel, x = \"year\",  y = \"vote_average\", col = \"bt_score\", hue = \"bt_score\", palette=\"cubehelix\") \n",
    "g.fig.suptitle(\"IMDB x Bechdel\", fontsize = 'x-large', fontweight = 'bold') \n",
    "g.fig.subplots_adjust(top = 0.85) \n",
    "g.set_axis_labels(\"Anos\" , \"Nota IMDB\") \n",
    "g.set(ylim=(0, 10))\n",
    "g.set(yticks=(0, 1, 2, 3, 4, 5, 6, 7, 8, 9, 10))\n",
    "plt.show()"
   ],
   "metadata": {
    "collapsed": false,
    "pycharm": {
     "name": "#%%\n"
    }
   }
  },
  {
   "cell_type": "code",
   "execution_count": null,
   "outputs": [],
   "source": [
    "sns.set( rc = {'figure.figsize': (60, 60), 'axes.labelsize': 15}) \n",
    "g = sns.relplot(data = data, x = \"year\",  y = \"vote_average\", col = \"bt_score\", hue = \"bt_score\", palette=\"cubehelix\") \n",
    "g.fig.suptitle(\"IMDB x Bechdel\", fontsize = 'x-large', fontweight = 'bold') \n",
    "g.fig.subplots_adjust(top = 0.85) \n",
    "g.set_axis_labels(\"Anos\" , \"Nota IMDB\") \n",
    "g.set(ylim=(0, 10))\n",
    "g.set(yticks=(0, 1, 2, 3, 4, 5, 6, 7, 8, 9, 10))\n",
    "plt.show()"
   ],
   "metadata": {
    "collapsed": false,
    "pycharm": {
     "name": "#%%\n"
    }
   }
  },
  {
   "cell_type": "code",
   "execution_count": null,
   "outputs": [],
   "source": [
    "fig, ax = plt.subplots(figsize = (14 , 7))\n",
    "sns.set_theme(style=\"ticks\")\n",
    "sns.set_style(\"white\")\n",
    "sns.scatterplot(y = \"vote_average\", x = 'year', hue = 'bt_score', data=imdb_bechdel, palette=\"cubehelix\", s = 30, edgecolor=\".5\")\n",
    "plt.legend(title = \"Teste Bechdel\", fontsize = '12', title_fontsize = \"12\")\n",
    "ax.set_xlabel(\"Anos\", size = 14) \n",
    "ax.set_ylabel(\"Nota IMDB\", size = 14) \n",
    "ax.set_title(\"IMDB x Bechdel\", size = 24) \n",
    "ax.set_xticks([1870, 1880, 1890, 1900, 1910, 1920, 1930, 1940, 1950, 1960, 1970, 1980, 1990, 2000, 2010, 2020])\n",
    "ax.set_yticks([1, 2, 3, 4, 5, 6, 7, 8, 9, 10])\n",
    "plt.ticklabel_format(style='plain', axis='y')\n",
    "plt.show()"
   ],
   "metadata": {
    "collapsed": false,
    "pycharm": {
     "name": "#%%\n"
    }
   }
  },
  {
   "cell_type": "code",
   "execution_count": null,
   "outputs": [],
   "source": [
    "fig, ax = plt.subplots(figsize = (14 , 7))\n",
    "sns.set_theme(style=\"ticks\")\n",
    "sns.set_style(\"white\")\n",
    "sns.scatterplot(y = \"vote_average\", x = 'year', hue = 'bt_score', data=data, palette=\"cubehelix\", s = 30, edgecolor=\".5\")\n",
    "plt.legend(title = \"Teste Bechdel\", fontsize = '12', title_fontsize = \"12\")\n",
    "ax.set_xlabel(\"Anos\", size = 14) \n",
    "ax.set_ylabel(\"Nota IMDB\", size = 14) \n",
    "ax.set_title(\"IMDB x Bechdel\", size = 24) \n",
    "ax.set_xticks([1870, 1880, 1890, 1900, 1910, 1920, 1930, 1940, 1950, 1960, 1970, 1980, 1990, 2000, 2010, 2020])\n",
    "ax.set_yticks([1, 2, 3, 4, 5, 6, 7, 8, 9, 10])\n",
    "plt.ticklabel_format(style='plain', axis='y')\n",
    "plt.show()"
   ],
   "metadata": {
    "collapsed": false,
    "pycharm": {
     "name": "#%%\n"
    }
   }
  },
  {
   "cell_type": "code",
   "execution_count": null,
   "outputs": [],
   "source": [
    "sns.set( rc = {'figure.figsize': (60, 60), 'axes.labelsize': 15})  \n",
    "g = sns.lmplot(x = 'year', y = \"vote_average\", hue = 'bt_score', col = 'bt_score', data = imdb_bechdel, ci = None)\n",
    "g.fig.suptitle(\"IMDB x Bechdel\", fontsize = 20, fontweight = 'bold') \n",
    "g.fig.subplots_adjust(top = 0.85) \n",
    "g.set_axis_labels(\"Anos\" , \"Nota IMDB\") \n",
    "g.set(ylim=(0, 10))\n",
    "g.set(xticks=(1880, 1910, 1940, 1970, 2000, 2020), yticks=(0, 1, 2, 3, 4, 5, 6, 7, 8, 9, 10))\n",
    "plt.show()"
   ],
   "metadata": {
    "collapsed": false,
    "pycharm": {
     "name": "#%%\n"
    }
   }
  },
  {
   "cell_type": "code",
   "execution_count": null,
   "outputs": [],
   "source": [
    "for index, year in imdb_bechdel['year'].iteritems():\n",
    "    interval_start = int(year - year % 10 + 1)\n",
    "    interval_end = int(interval_start + 9)\n",
    "    imdb_bechdel.at[index, 'year_interval'] = str(interval_start) + '-' + str(interval_end)\n",
    "\n",
    "fig, ax = plt.subplots(figsize = (16 , 8))\n",
    "sns.set_theme(style=\"ticks\")\n",
    "sns.set_style(\"white\")\n",
    "sns.scatterplot(y = \"vote_average\", x = 'year_interval', hue = 'bt_score', data=imdb_bechdel, palette=\"cubehelix\", s = 30, edgecolor=\".5\")\n",
    "plt.legend(title = \"Teste Bechdel\", fontsize = '12', title_fontsize = \"12\")\n",
    "ax.set_xlabel(\"Anos\", size = 14) \n",
    "ax.set_ylabel(\"Nota IMDB\", size = 14) \n",
    "ax.set_title(\"IMDB x Bechdel\", size = 24) \n",
    "ax.set_yticks([1, 2, 3, 4, 5, 6, 7, 8, 9, 10])\n",
    "plt.ticklabel_format(style='plain', axis='y')\n",
    "plt.show()"
   ],
   "metadata": {
    "collapsed": false,
    "pycharm": {
     "name": "#%%\n"
    }
   }
  },
  {
   "cell_type": "code",
   "execution_count": null,
   "outputs": [],
   "source": [
    "data2_df = data.copy()\n",
    "\n",
    "for index, bt_score in data2_df['bt_score'].iteritems():\n",
    "    if bt_score == 0:\n",
    "        if data2_df.at[index, 'dubious'] == 1:\n",
    "            data2_df.at[index, 'Categoria'] = 'Dubious'\n",
    "        else:\n",
    "            data2_df.at[index, 'Categoria'] = '0-Menos de 2 personagens femininas'\n",
    "    elif bt_score == 1:\n",
    "        if data2_df.at[index, 'dubious'] == 1:\n",
    "            data2_df.at[index, 'Categoria'] = 'Dubious'\n",
    "        else:\n",
    "            data2_df.at[index, 'Categoria'] = '1-Personagens femininas não conversam'\n",
    "    elif bt_score == 2:\n",
    "        if data2_df.at[index, 'dubious'] == 1:\n",
    "            data2_df.at[index, 'Categoria'] = 'Dubious'\n",
    "        else:\n",
    "            data2_df.at[index, 'Categoria'] = '2-Personagens femininas conversam sobre homens'\n",
    "    else:\n",
    "        if data2_df.at[index, 'dubious'] == 1:\n",
    "            data2_df.at[index, 'Categoria'] = 'Dubious'\n",
    "        else:\n",
    "            data2_df.at[index, 'Categoria'] = '3-Passou no Teste Bechdel'\n",
    "            \n",
    "bechdel_df_ordered = data2_df.copy()\n",
    "bechdel_df_ordered['Categoria'] = pd.Categorical(bechdel_df_ordered['Categoria'], categories=[\n",
    "    '0-Menos de 2 personagens femininas', \n",
    "    '1-Personagens femininas não conversam',\n",
    "    '2-Personagens femininas conversam sobre homens',\n",
    "    'Dubious',\n",
    "    '3-Passou no Teste Bechdel'\n",
    "], ordered=True)\n",
    "\n",
    "for index, year in bechdel_df_ordered['year'].iteritems():\n",
    "    interval_start = int(year - year % 10 + 1)\n",
    "    interval_end = int(interval_start + 9)\n",
    "    bechdel_df_ordered.at[index, 'year_interval'] = str(interval_start) + '-' + str(interval_end)\n",
    "\n",
    "(ggplot(bechdel_df_ordered, \n",
    "        aes(fill = 'Categoria', x = 'year_interval')) + \n",
    "    geom_bar(position = \"fill\") + \n",
    "    scale_y_continuous(labels=percent_format()) +\n",
    "    scale_fill_manual(values = ['#FF8C42', '#FCAF58', '#F9C784', '#E8E9EB', '#98BF64']) +\n",
    "    # geom_text(angle=45) + \n",
    "    labs(\n",
    "        title = 'Mudanças percentuais de filmes que passam no teste Bechdel ao longo dos anos', \n",
    "        subtitle = 'Gráfico de barras de porcentagem empilhada',\n",
    "        x = 'Anos', \n",
    "        y = 'Proporção de filmes'\n",
    "    ) + \n",
    "    theme_classic() + \n",
    "    theme(axis_text_x  = element_text(angle = 45, hjust = 1))\n",
    ")"
   ],
   "metadata": {
    "collapsed": false,
    "pycharm": {
     "name": "#%%\n"
    }
   }
  },
  {
   "cell_type": "code",
   "execution_count": null,
   "outputs": [],
   "source": [
    "data_clean = pd.read_csv('cleaned_data.csv', index_col=0)\n",
    "data_clean.head()"
   ],
   "metadata": {
    "collapsed": false,
    "pycharm": {
     "name": "#%%\n"
    }
   }
  },
  {
   "cell_type": "code",
   "execution_count": null,
   "outputs": [],
   "source": [
    "teste = eval(data_clean.genres[0])\n",
    "teste[3]"
   ],
   "metadata": {
    "collapsed": false,
    "pycharm": {
     "name": "#%%\n"
    }
   }
  },
  {
   "cell_type": "code",
   "execution_count": null,
   "outputs": [],
   "source": [
    "#- procurar onde ta a virgula ler ate ela\n",
    "#- adicionar por append a uma lista"
   ],
   "metadata": {
    "collapsed": false,
    "pycharm": {
     "name": "#%%\n"
    }
   }
  },
  {
   "cell_type": "code",
   "execution_count": null,
   "outputs": [],
   "source": [
    "data_clean.popularity.max"
   ],
   "metadata": {
    "collapsed": false,
    "pycharm": {
     "name": "#%%\n"
    }
   }
  },
  {
   "cell_type": "code",
   "execution_count": null,
   "outputs": [],
   "source": [
    "data_clean.groupby('vote_average')['bt_score'].mean().plot(title=\"Bechdel Test score by vote average\",figsize=(14, 6), xlabel=\"Year\")"
   ],
   "metadata": {
    "collapsed": false,
    "pycharm": {
     "name": "#%%\n"
    }
   }
  },
  {
   "cell_type": "code",
   "execution_count": null,
   "outputs": [],
   "source": [
    "sns.set_theme(style=\"ticks\")\n",
    "f, ax = plt.subplots(figsize=(16, 8))\n",
    "sns.despine(f)\n",
    "sns.histplot(data, x=\"popularity\", hue=\"bt_score\", multiple=\"stack\", palette=\"cubehelix\", edgecolor=\".3\", linewidth=.5)\n",
    "plt.legend(labels = [\"Passaram no Teste\", \"Elas conversam sobre homens\", \"Elas não conversam entre si\", \"Não existem 2 personagens femininas\"], \n",
    "           title = \"Teste Bechdel\", fontsize = '12', title_fontsize = \"12\")\n",
    "ax.set_xlabel(\"Popularidade\", size = 14) \n",
    "ax.set_ylabel(\"Quantidade de filmes\", size = 14) \n",
    "ax.set_title(\"Nota do bechdel por popularidade\", size = 24) \n",
    "ax.xaxis.set_major_formatter(mpl.ticker.ScalarFormatter())\n",
    "ax.set_xticks([0, 10, 20, 30, 40, 50, 60, 70, 80, 90, 100, 110, 120, 130, 140, 150, 160, 170 , 180, 190, 200])\n",
    "ax.set_xlim(0, 200)\n",
    "plt.show()"
   ],
   "metadata": {
    "collapsed": false,
    "pycharm": {
     "name": "#%%\n"
    }
   }
  },
  {
   "cell_type": "code",
   "execution_count": null,
   "outputs": [],
   "source": [
    "data_clean = pd.read_csv('cleaned_data.csv', index_col=0)\n",
    "data_clean.head()"
   ],
   "metadata": {
    "collapsed": false,
    "pycharm": {
     "name": "#%%\n"
    }
   }
  },
  {
   "cell_type": "code",
   "execution_count": null,
   "outputs": [],
   "source": [
    "teste = eval(data_clean.genres[0])\n",
    "teste[3]"
   ],
   "metadata": {
    "collapsed": false,
    "pycharm": {
     "name": "#%%\n"
    }
   }
  },
  {
   "cell_type": "code",
   "execution_count": null,
   "outputs": [],
   "source": [
    "#- procurar onde ta a virgula ler ate ela\n",
    "#- adicionar por append a uma lista"
   ],
   "metadata": {
    "collapsed": false,
    "pycharm": {
     "name": "#%%\n"
    }
   }
  },
  {
   "cell_type": "code",
   "execution_count": null,
   "outputs": [],
   "source": [
    "data_clean.popularity.max"
   ],
   "metadata": {
    "collapsed": false,
    "pycharm": {
     "name": "#%%\n"
    }
   }
  },
  {
   "cell_type": "code",
   "execution_count": null,
   "outputs": [],
   "source": [
    "data_clean.groupby('vote_average')['bt_score'].mean().plot(title=\"Bechdel Test score by vote average\",figsize=(14, 6), xlabel=\"Year\")"
   ],
   "metadata": {
    "collapsed": false,
    "pycharm": {
     "name": "#%%\n"
    }
   }
  },
  {
   "cell_type": "code",
   "execution_count": null,
   "outputs": [],
   "source": [
    "# data = pd.read_csv('cleaned_data.csv', index_col=0)\n",
    "# data.head()"
   ],
   "metadata": {
    "collapsed": false,
    "pycharm": {
     "name": "#%%\n"
    }
   }
  },
  {
   "cell_type": "code",
   "execution_count": null,
   "outputs": [],
   "source": [
    "fig, axs = plt.subplots(figsize=(10, 8), constrained_layout=True)\n",
    "\n",
    "\n",
    "def plot(axs, data, title):\n",
    "    corr = data.corr(method='spearman')\n",
    "    cmap = sns.diverging_palette(255, 255, sep=1, as_cmap=True)\n",
    "    mask = np.triu(np.ones_like(corr, dtype=bool))\n",
    "\n",
    "    graph = sns.heatmap(corr, annot=True, vmin=-1, vmax=1, fmt='.1%', cmap=cmap, mask=mask, ax=axs)\n",
    "    graph.set_title(title, pad=10)\n",
    "\n",
    "\n",
    "plot(axs, data.drop(['imdbid', 'tmdbId'], axis=1), 'Mapa de correlação entre variáveis')\n",
    "plt.show()"
   ],
   "metadata": {
    "collapsed": false,
    "pycharm": {
     "name": "#%%\n"
    }
   }
  },
  {
   "cell_type": "markdown",
   "source": [
    "## **Gráficos simples**"
   ],
   "metadata": {
    "collapsed": false,
    "pycharm": {
     "name": "#%% md\n"
    }
   }
  },
  {
   "cell_type": "markdown",
   "source": [
    "### **Filmes por nota no Teste de Bechdel**\n",
    "**Métodos utilizados**\n",
    "- `collections.Counter()`: conta os valores totais das notas de 0 a 3.\n",
    "- `DataFrame.from_dict(data, orient='index')`: transforma um dicionário em DataFrame. `orient='index'` faz com que as keys do dicionário sejam usadas como index."
   ],
   "metadata": {
    "collapsed": false,
    "pycharm": {
     "name": "#%% md\n"
    }
   }
  },
  {
   "cell_type": "code",
   "execution_count": null,
   "outputs": [],
   "source": [
    "# TOTAL DE FILMES POR NOTA\n",
    "# score_plot = sns.barplot(x='score', y='total', data=score_df)\n",
    "score_plot = sns.barplot(x='index', y='bt_score', data=data.bt_score.value_counts().reset_index())\n",
    "score_plot.bar_label(score_plot.containers[0])\n",
    "score_plot.set(title='Notas dos filmes no teste de Bechdel')\n",
    "plt.xlabel(\"Teste Bechdel\")\n",
    "plt.ylabel(\"Quantidade de filmes\")\n",
    "plt.show()"
   ],
   "metadata": {
    "collapsed": false,
    "pycharm": {
     "name": "#%%\n"
    }
   }
  },
  {
   "cell_type": "code",
   "execution_count": null,
   "outputs": [],
   "source": [
    "# PORCENTAGEM DOS FILMES\n",
    "# score_df = df com a quantidade de filmes por nota.\n",
    "score_df = collections.Counter(data.bt_score)\n",
    "score_df = pd.DataFrame.from_dict(score_df, orient='index').reset_index()\n",
    "score_df = score_df.rename(columns={'index': 'score', 0: 'total'})\n",
    "plt.pie(score_df.total, labels = score_df.score.to_list(), autopct='%.0f%%')\n",
    "score_df.score.to_list()\n",
    "plt.text(-1, -1.5, \"Quantidade total de filmes: 7.635\", fontsize=11)\n",
    "plt.title(\"Notas dos filmes no teste de Bechdel (%)\", fontsize=15)\n",
    "plt.show()"
   ],
   "metadata": {
    "collapsed": false,
    "pycharm": {
     "name": "#%%\n"
    }
   }
  },
  {
   "cell_type": "code",
   "execution_count": null,
   "outputs": [],
   "source": [
    "budget_df = data.loc[data['budget'] > 0].copy()\n",
    "\n",
    "budget_df['Orçamento'] = pd.NA\n",
    "\n",
    "for index, row in budget_df.iterrows():\n",
    "    orçamento = 0\n",
    "    if row['budget'] <= 500000:\n",
    "        orçamento += 1\n",
    "    if row['budget'] <= 1000000 and row['budget'] > 500000:\n",
    "        orçamento += 2\n",
    "    if row['budget'] <= 5000000 and row['budget'] > 1000000:\n",
    "        orçamento += 3\n",
    "    if row['budget'] <= 10000000 and row['budget'] > 5000000:\n",
    "        orçamento += 4\n",
    "    if row['budget'] <= 15000000 and row['budget'] > 10000000:\n",
    "        orçamento += 5\n",
    "    if row['budget'] <= 30000000 and row['budget'] > 15000000:\n",
    "        orçamento += 6\n",
    "    if row['budget'] <= 60000000 and row['budget'] > 30000000:\n",
    "        orçamento += 7\n",
    "    if row['budget'] > 60000000:\n",
    "        orçamento += 8\n",
    "    budget_df.loc[index, 'Orçamento'] = orçamento\n",
    "\n",
    "sns.countplot(x ='Orçamento', hue = 'bt_score', data = budget_df)\n",
    "plt.title(\"Orçamento x Teste Bechdel\", fontsize=15)\n",
    "plt.xlabel(\"Orçamento ($)\")\n",
    "plt.ylabel(\"Quantidade de filmes\")\n",
    "plt.show()"
   ],
   "metadata": {
    "collapsed": false,
    "pycharm": {
     "name": "#%%\n"
    }
   }
  },
  {
   "cell_type": "code",
   "execution_count": null,
   "outputs": [],
   "source": [
    "budget_year_mean = data.groupby(['year', 'bt_score'])['budget'].mean().to_frame().reset_index()\n",
    "budget_year_mean1 = budget_year_mean[budget_year_mean['budget'] > 0]\n",
    "budget_year_mean2 = budget_year_mean1[budget_year_mean1['year'] >= 1902]\n",
    "fig, ax = plt.subplots(figsize = (14 , 7))\n",
    "sns.set_theme(style=\"ticks\")\n",
    "sns.set_style(\"white\")\n",
    "sns.scatterplot(y = 'budget', x = 'year', hue = 'bt_score', data=budget_year_mean2, palette=\"cubehelix\", s = 30, edgecolor=\".5\")\n",
    "plt.legend(title = \"Teste Bechdel\", fontsize = '12', title_fontsize = \"12\")\n",
    "ax.set_xlabel(\"Anos\", size = 14) \n",
    "ax.set_ylabel(\"Orçamento Médio ($)\", size = 14) \n",
    "ax.set_title(\"Orçamento médio por ano\", size = 24) \n",
    "ax.set_xticks([1900, 1910, 1920, 1930, 1940, 1950, 1960, 1970, 1980, 1990, 2000, 2010, 2020])\n",
    "ax.set_yticks([0, 10000000, 20000000, 30000000, 40000000, 50000000, 60000000, 70000000, 80000000, 90000000])\n",
    "plt.ticklabel_format(style='plain', axis='y')\n",
    "plt.show()"
   ],
   "metadata": {
    "collapsed": false,
    "pycharm": {
     "name": "#%%\n"
    }
   }
  },
  {
   "cell_type": "code",
   "execution_count": null,
   "outputs": [],
   "source": [
    "sns.set( rc = {'figure.figsize': (60, 60), 'axes.labelsize': 12}) \n",
    "g = sns.relplot(data = budget_year_mean2, x = \"year\",  y = \"budget\", col = \"bt_score\", hue = \"bt_score\", palette=\"cubehelix\") \n",
    "g.fig.suptitle(\"Orçamento médio por ano\", fontsize = 'x-large', fontweight = 'bold') \n",
    "g.fig.subplots_adjust(top = 0.85) \n",
    "g.set_axis_labels(\"Anos\" , \"Orçamento Médio ($)\") \n",
    "plt.ticklabel_format(style='plain', axis='y')\n",
    "plt.show()"
   ],
   "metadata": {
    "collapsed": false,
    "pycharm": {
     "name": "#%%\n"
    }
   }
  },
  {
   "cell_type": "code",
   "execution_count": null,
   "outputs": [],
   "source": [
    "budget_interval_mean = data.groupby(['year', 'bt_score'])['budget'].mean().to_frame().reset_index()\n",
    "budget_interval_mean1 = budget_interval_mean[budget_interval_mean['budget'] > 0]\n",
    "budget_interval_mean2 = budget_interval_mean1[budget_interval_mean1['year'] >= 1902]\n",
    "\n",
    "for index, year in budget_interval_mean2['year'].iteritems():\n",
    "    interval_start = int(year - year % 10 + 1)\n",
    "    interval_end = int(interval_start + 9)\n",
    "    budget_interval_mean2.at[index, 'year_interval'] = str(interval_start) + '-' + str(interval_end)\n",
    "    \n",
    "fig, ax = plt.subplots(figsize = (14 , 7))\n",
    "sns.set_theme(style=\"ticks\")\n",
    "sns.set_style(\"white\")\n",
    "sns.scatterplot(y = 'budget', x = 'year_interval', hue = 'bt_score', data=budget_interval_mean2, palette=\"cubehelix\", s = 30, edgecolor=\".5\")\n",
    "plt.legend(title = \"Teste Bechdel\", fontsize = '12', title_fontsize = \"12\")\n",
    "ax.set_xlabel(\"Anos\", size = 14) \n",
    "ax.set_ylabel(\"Orçamento Médio ($)\", size = 14) \n",
    "ax.set_title(\"Orçamento médio por década\", size = 24) \n",
    "ax.set_yticks([0, 10000000, 20000000, 30000000, 40000000, 50000000, 60000000, 70000000, 80000000, 90000000])\n",
    "plt.ticklabel_format(style='plain', axis='y')"
   ],
   "metadata": {
    "collapsed": false,
    "pycharm": {
     "name": "#%%\n"
    }
   }
  },
  {
   "cell_type": "code",
   "execution_count": null,
   "outputs": [],
   "source": [
    "revenue_df = data.loc[data['revenue'] > 0].copy()\n",
    "\n",
    "revenue_df['Bilheteria'] = pd.NA\n",
    "\n",
    "for index, row in revenue_df.iterrows():\n",
    "    bilheteria = 0\n",
    "    if row['revenue'] <= 500000:\n",
    "        bilheteria += 1\n",
    "    if row['revenue'] <= 1000000 and row['revenue'] > 500000:\n",
    "        bilheteria += 2\n",
    "    if row['revenue'] <= 5000000 and row['revenue'] > 1000000:\n",
    "        bilheteria += 3\n",
    "    if row['revenue'] <= 10000000 and row['revenue'] > 5000000:\n",
    "        bilheteria += 4\n",
    "    if row['revenue'] <= 15000000 and row['revenue'] > 10000000:\n",
    "        bilheteria += 5\n",
    "    if row['revenue'] <= 30000000 and row['revenue'] > 15000000:\n",
    "        bilheteria += 6\n",
    "    if row['revenue'] <= 60000000 and row['revenue'] > 30000000:\n",
    "        bilheteria += 7\n",
    "    if row['revenue'] > 60000000:\n",
    "        bilheteria += 8\n",
    "    revenue_df.loc[index, 'Bilheteria'] = bilheteria\n",
    "\n",
    "sns.countplot(x ='Bilheteria', hue = 'bt_score', data = revenue_df)\n",
    "plt.title(\"Bilheteria x Teste Bechdel\", fontsize=15)\n",
    "plt.xlabel(\"Bilheteria ($)\")\n",
    "plt.ylabel(\"Quantidade de filmes\")\n",
    "plt.show()"
   ],
   "metadata": {
    "collapsed": false,
    "pycharm": {
     "name": "#%%\n"
    }
   }
  },
  {
   "cell_type": "code",
   "execution_count": null,
   "outputs": [],
   "source": [
    "revenue_year_mean = data.groupby(['year', 'bt_score'])['revenue'].mean().to_frame().reset_index()\n",
    "revenue_year_mean1 = revenue_year_mean[revenue_year_mean['revenue'] > 0]\n",
    "revenue_year_mean2 = revenue_year_mean1[revenue_year_mean1['year'] >= 1902]\n",
    "fig, ax = plt.subplots(figsize = (14 , 7))\n",
    "sns.set_theme(style=\"ticks\")\n",
    "sns.set_style(\"white\")\n",
    "sns.scatterplot(y = 'revenue', x = 'year', hue = 'bt_score', data=revenue_year_mean2, palette=\"cubehelix\", s = 30, edgecolor=\".5\")\n",
    "plt.legend(title = \"Teste Bechdel\", fontsize = '12', title_fontsize = \"12\")\n",
    "ax.set_xlabel(\"Anos\", size = 14) \n",
    "ax.set_ylabel(\"Bilheteria Média ($)\", size = 14) \n",
    "ax.set_title(\"Bilheteria média por ano\", size = 24) \n",
    "ax.set_xticks([1900, 1910, 1920, 1930, 1940, 1950, 1960, 1970, 1980, 1990, 2000, 2010, 2020])\n",
    "plt.ticklabel_format(style='plain', axis='y')\n",
    "plt.show()"
   ],
   "metadata": {
    "collapsed": false,
    "pycharm": {
     "name": "#%%\n"
    }
   }
  },
  {
   "cell_type": "code",
   "execution_count": null,
   "outputs": [],
   "source": [
    "sns.set( rc = {'figure.figsize': (60, 60), 'axes.labelsize': 12}) \n",
    "g = sns.relplot(data = revenue_year_mean2, x = \"year\",  y = \"revenue\", col = \"bt_score\", hue = \"bt_score\", palette=\"cubehelix\") \n",
    "g.fig.suptitle(\"Bilheteria média por ano\", fontsize = 'x-large', fontweight = 'bold') \n",
    "g.fig.subplots_adjust(top = 0.85) \n",
    "g.set_axis_labels(\"Anos\" , \"Bilheteria média ($)\") \n",
    "plt.ticklabel_format(style='plain', axis='y') \n",
    "plt.show()"
   ],
   "metadata": {
    "collapsed": false,
    "pycharm": {
     "name": "#%%\n"
    }
   }
  },
  {
   "cell_type": "code",
   "execution_count": null,
   "outputs": [],
   "source": [
    "revenue_interval_mean = data.groupby(['year', 'bt_score'])['revenue'].mean().to_frame().reset_index()\n",
    "revenue_interval_mean1 = revenue_interval_mean[revenue_interval_mean['revenue'] > 0]\n",
    "revenue_interval_mean2 = revenue_interval_mean1[revenue_interval_mean1['year'] >= 1902]\n",
    "\n",
    "for index, year in revenue_interval_mean2['year'].iteritems():\n",
    "    interval_start = int(year - year % 10 + 1)\n",
    "    interval_end = int(interval_start + 9)\n",
    "    revenue_interval_mean2.at[index, 'year_interval'] = str(interval_start) + '-' + str(interval_end)\n",
    "    \n",
    "fig, ax = plt.subplots(figsize = (16 , 8))\n",
    "sns.set_theme(style=\"ticks\")\n",
    "sns.set_style(\"white\")\n",
    "sns.scatterplot(y = 'revenue', x = 'year_interval', hue = 'bt_score', data=revenue_interval_mean2, palette=\"cubehelix\", s = 30, edgecolor=\".5\")\n",
    "plt.legend(title = \"Teste Bechdel\", fontsize = '12', title_fontsize = \"12\")\n",
    "ax.set_xlabel(\"Anos\", size = 14) \n",
    "ax.set_ylabel(\"Bilheteria Média ($)\", size = 14) \n",
    "ax.set_title(\"Bilheteria média por década\", size = 24) \n",
    "plt.ticklabel_format(style='plain', axis='y')\n",
    "plt.show()"
   ],
   "metadata": {
    "collapsed": false,
    "pycharm": {
     "name": "#%%\n"
    }
   }
  },
  {
   "cell_type": "code",
   "execution_count": null,
   "outputs": [],
   "source": [
    "bechdel_year_mean = data.groupby(['year'])['bt_score'].mean().to_frame().reset_index()\n",
    "for index, year in bechdel_year_mean['year'].iteritems():\n",
    "    interval_start = int(year - year % 10 + 1)\n",
    "    interval_end = int(interval_start + 9)\n",
    "    bechdel_year_mean.at[index, 'year_interval'] = str(interval_start) + '-' + str(interval_end)\n",
    "fig, ax = plt.subplots(figsize = (16 , 8))\n",
    "sns.set_style(\"white\")\n",
    "sns.scatterplot(data=bechdel_year_mean, x=\"year_interval\", y=\"bt_score\", color = \"red\", ci=None)\n",
    "plt.legend(labels = ['Teste Bechdel'], title = \"Teste Bechdel\", fontsize = '12', title_fontsize = \"12\")\n",
    "ax.set_xlabel(\"Anos\", size = 14) \n",
    "ax.set_ylabel(\"Pontuação Média\", size = 14) \n",
    "ax.set_title(\"Pontuação média por década\", size = 24)\n",
    "plt.show()"
   ],
   "metadata": {
    "collapsed": false,
    "pycharm": {
     "name": "#%%\n"
    }
   }
  },
  {
   "cell_type": "code",
   "execution_count": null,
   "outputs": [],
   "source": [
    "import matplotlib as mpl\n",
    "    \n",
    "sns.set_theme(style=\"ticks\")\n",
    "f, ax = plt.subplots(figsize=(16, 8))\n",
    "sns.despine(f)\n",
    "sns.histplot(data, x=\"year\", hue=\"bt_score\", multiple=\"stack\", palette=\"cubehelix\", edgecolor=\".3\", linewidth=.5)\n",
    "plt.legend(labels = [\"Passaram no Teste\", \"Elas conversam sobre homens\", \"Elas não conversam entre si\", \"Não existem 2 personagens femininas\"], \n",
    "           title = \"Teste Bechdel\", fontsize = '12', title_fontsize = \"12\")\n",
    "ax.set_xlabel(\"Anos\", size = 14) \n",
    "ax.set_ylabel(\"Quantidade de filmes\", size = 14) \n",
    "ax.set_title(\"Pontuação por ano\", size = 24) \n",
    "ax.xaxis.set_major_formatter(mpl.ticker.ScalarFormatter())\n",
    "ax.set_xticks([1890, 1900, 1910, 1920, 1930, 1940, 1950, 1960, 1970, 1980, 1990, 2000, 2010, 2020])\n",
    "ax.set_yticks([0, 100, 200, 300, 400, 500, 600, 700, 800, 900, 1000])\n",
    "ax.set_xlim(1890, 2020)\n",
    "ax.set_ylim(0, 1000)\n",
    "plt.show()"
   ],
   "metadata": {
    "collapsed": false,
    "pycharm": {
     "name": "#%%\n"
    }
   }
  },
  {
   "cell_type": "code",
   "execution_count": null,
   "outputs": [],
   "source": [
    "sns.set_theme(style=\"darkgrid\")\n",
    "sns.set( rc = {'figure.figsize': (60, 60), 'axes.labelsize': 10}) \n",
    "g = sns.displot(data, x=\"year\", col=\"bt_score\", binwidth=3, height=3, facet_kws=dict(margin_titles=True), color = 'red')\n",
    "g.set(xticks=(1900, 1940, 1980, 2020), yticks=(0, 100, 200, 300, 400, 500, 600))\n",
    "g.fig.suptitle(\"Notas Bechdel\", fontsize = 'x-large', fontweight = 'bold') \n",
    "g.fig.subplots_adjust(top = 0.85) \n",
    "g.set_axis_labels(\"Anos\" , \"Quantidade de filmes\")\n",
    "plt.show()"
   ],
   "metadata": {
    "collapsed": false,
    "pycharm": {
     "name": "#%%\n"
    }
   }
  },
  {
   "cell_type": "code",
   "execution_count": null,
   "outputs": [],
   "source": [
    "imdb_bechdel = data.groupby(['year', 'bt_score'])['vote_average'].mean().to_frame().reset_index()\n",
    "sns.set( rc = {'figure.figsize': (60, 60), 'axes.labelsize': 15}) \n",
    "g = sns.relplot(data = imdb_bechdel, x = \"year\",  y = \"vote_average\", col = \"bt_score\", hue = \"bt_score\", palette=\"cubehelix\") \n",
    "g.fig.suptitle(\"IMDB x Bechdel\", fontsize = 'x-large', fontweight = 'bold') \n",
    "g.fig.subplots_adjust(top = 0.85) \n",
    "g.set_axis_labels(\"Anos\" , \"Nota IMDB\") \n",
    "g.set(ylim=(0, 10))\n",
    "g.set(yticks=(0, 1, 2, 3, 4, 5, 6, 7, 8, 9, 10))\n",
    "plt.show()"
   ],
   "metadata": {
    "collapsed": false,
    "pycharm": {
     "name": "#%%\n"
    }
   }
  },
  {
   "cell_type": "code",
   "execution_count": null,
   "outputs": [],
   "source": [
    "sns.set( rc = {'figure.figsize': (60, 60), 'axes.labelsize': 15}) \n",
    "g = sns.relplot(data = data, x = \"year\",  y = \"vote_average\", col = \"bt_score\", hue = \"bt_score\", palette=\"cubehelix\") \n",
    "g.fig.suptitle(\"IMDB x Bechdel\", fontsize = 'x-large', fontweight = 'bold') \n",
    "g.fig.subplots_adjust(top = 0.85) \n",
    "g.set_axis_labels(\"Anos\" , \"Nota IMDB\") \n",
    "g.set(ylim=(0, 10))\n",
    "g.set(yticks=(0, 1, 2, 3, 4, 5, 6, 7, 8, 9, 10))\n",
    "plt.show()"
   ],
   "metadata": {
    "collapsed": false,
    "pycharm": {
     "name": "#%%\n"
    }
   }
  },
  {
   "cell_type": "code",
   "execution_count": null,
   "outputs": [],
   "source": [
    "fig, ax = plt.subplots(figsize = (14 , 7))\n",
    "sns.set_theme(style=\"ticks\")\n",
    "sns.set_style(\"white\")\n",
    "sns.scatterplot(y = \"vote_average\", x = 'year', hue = 'bt_score', data=imdb_bechdel, palette=\"cubehelix\", s = 30, edgecolor=\".5\")\n",
    "plt.legend(title = \"Teste Bechdel\", fontsize = '12', title_fontsize = \"12\")\n",
    "ax.set_xlabel(\"Anos\", size = 14) \n",
    "ax.set_ylabel(\"Nota IMDB\", size = 14) \n",
    "ax.set_title(\"IMDB x Bechdel\", size = 24) \n",
    "ax.set_xticks([1870, 1880, 1890, 1900, 1910, 1920, 1930, 1940, 1950, 1960, 1970, 1980, 1990, 2000, 2010, 2020])\n",
    "ax.set_yticks([1, 2, 3, 4, 5, 6, 7, 8, 9, 10])\n",
    "plt.ticklabel_format(style='plain', axis='y')\n",
    "plt.show()"
   ],
   "metadata": {
    "collapsed": false,
    "pycharm": {
     "name": "#%%\n"
    }
   }
  },
  {
   "cell_type": "code",
   "execution_count": null,
   "outputs": [],
   "source": [
    "fig, ax = plt.subplots(figsize = (14 , 7))\n",
    "sns.set_theme(style=\"ticks\")\n",
    "sns.set_style(\"white\")\n",
    "sns.scatterplot(y = \"vote_average\", x = 'year', hue = 'bt_score', data=data, palette=\"cubehelix\", s = 30, edgecolor=\".5\")\n",
    "plt.legend(title = \"Teste Bechdel\", fontsize = '12', title_fontsize = \"12\")\n",
    "ax.set_xlabel(\"Anos\", size = 14) \n",
    "ax.set_ylabel(\"Nota IMDB\", size = 14) \n",
    "ax.set_title(\"IMDB x Bechdel\", size = 24) \n",
    "ax.set_xticks([1870, 1880, 1890, 1900, 1910, 1920, 1930, 1940, 1950, 1960, 1970, 1980, 1990, 2000, 2010, 2020])\n",
    "ax.set_yticks([1, 2, 3, 4, 5, 6, 7, 8, 9, 10])\n",
    "plt.ticklabel_format(style='plain', axis='y')\n",
    "plt.show()"
   ],
   "metadata": {
    "collapsed": false,
    "pycharm": {
     "name": "#%%\n"
    }
   }
  },
  {
   "cell_type": "code",
   "execution_count": null,
   "outputs": [],
   "source": [
    "sns.set( rc = {'figure.figsize': (60, 60), 'axes.labelsize': 15})  \n",
    "g = sns.lmplot(x = 'year', y = \"vote_average\", hue = 'bt_score', col = 'bt_score', data = imdb_bechdel, ci = None)\n",
    "g.fig.suptitle(\"IMDB x Bechdel\", fontsize = 20, fontweight = 'bold') \n",
    "g.fig.subplots_adjust(top = 0.85) \n",
    "g.set_axis_labels(\"Anos\" , \"Nota IMDB\") \n",
    "g.set(ylim=(0, 10))\n",
    "g.set(xticks=(1880, 1910, 1940, 1970, 2000, 2020), yticks=(0, 1, 2, 3, 4, 5, 6, 7, 8, 9, 10))\n",
    "plt.show()"
   ],
   "metadata": {
    "collapsed": false,
    "pycharm": {
     "name": "#%%\n"
    }
   }
  },
  {
   "cell_type": "code",
   "execution_count": null,
   "outputs": [],
   "source": [
    "for index, year in imdb_bechdel['year'].iteritems():\n",
    "    interval_start = int(year - year % 10 + 1)\n",
    "    interval_end = int(interval_start + 9)\n",
    "    imdb_bechdel.at[index, 'year_interval'] = str(interval_start) + '-' + str(interval_end)\n",
    "\n",
    "fig, ax = plt.subplots(figsize = (16 , 8))\n",
    "sns.set_theme(style=\"ticks\")\n",
    "sns.set_style(\"white\")\n",
    "sns.scatterplot(y = \"vote_average\", x = 'year_interval', hue = 'bt_score', data=imdb_bechdel, palette=\"cubehelix\", s = 30, edgecolor=\".5\")\n",
    "plt.legend(title = \"Teste Bechdel\", fontsize = '12', title_fontsize = \"12\")\n",
    "ax.set_xlabel(\"Anos\", size = 14) \n",
    "ax.set_ylabel(\"Nota IMDB\", size = 14) \n",
    "ax.set_title(\"IMDB x Bechdel\", size = 24) \n",
    "ax.set_yticks([1, 2, 3, 4, 5, 6, 7, 8, 9, 10])\n",
    "plt.ticklabel_format(style='plain', axis='y')\n",
    "plt.show()"
   ],
   "metadata": {
    "collapsed": false,
    "pycharm": {
     "name": "#%%\n"
    }
   }
  },
  {
   "cell_type": "code",
   "execution_count": null,
   "outputs": [],
   "source": [
    "data2_df = data.copy()\n",
    "\n",
    "for index, bt_score in data2_df['bt_score'].iteritems():\n",
    "    if bt_score == 0:\n",
    "        if data2_df.at[index, 'dubious'] == 1:\n",
    "            data2_df.at[index, 'Categoria'] = 'Dubious'\n",
    "        else:\n",
    "            data2_df.at[index, 'Categoria'] = '0-Menos de 2 personagens femininas'\n",
    "    elif bt_score == 1:\n",
    "        if data2_df.at[index, 'dubious'] == 1:\n",
    "            data2_df.at[index, 'Categoria'] = 'Dubious'\n",
    "        else:\n",
    "            data2_df.at[index, 'Categoria'] = '1-Personagens femininas não conversam'\n",
    "    elif bt_score == 2:\n",
    "        if data2_df.at[index, 'dubious'] == 1:\n",
    "            data2_df.at[index, 'Categoria'] = 'Dubious'\n",
    "        else:\n",
    "            data2_df.at[index, 'Categoria'] = '2-Personagens femininas conversam sobre homens'\n",
    "    else:\n",
    "        if data2_df.at[index, 'dubious'] == 1:\n",
    "            data2_df.at[index, 'Categoria'] = 'Dubious'\n",
    "        else:\n",
    "            data2_df.at[index, 'Categoria'] = '3-Passou no Teste Bechdel'\n",
    "            \n",
    "bechdel_df_ordered = data2_df.copy()\n",
    "bechdel_df_ordered['Categoria'] = pd.Categorical(bechdel_df_ordered['Categoria'], categories=[\n",
    "    '0-Menos de 2 personagens femininas', \n",
    "    '1-Personagens femininas não conversam',\n",
    "    '2-Personagens femininas conversam sobre homens',\n",
    "    'Dubious',\n",
    "    '3-Passou no Teste Bechdel'\n",
    "], ordered=True)\n",
    "\n",
    "for index, year in bechdel_df_ordered['year'].iteritems():\n",
    "    interval_start = int(year - year % 10 + 1)\n",
    "    interval_end = int(interval_start + 9)\n",
    "    bechdel_df_ordered.at[index, 'year_interval'] = str(interval_start) + '-' + str(interval_end)\n",
    "\n",
    "(ggplot(bechdel_df_ordered, \n",
    "        aes(fill = 'Categoria', x = 'year_interval')) + \n",
    "    geom_bar(position = \"fill\") + \n",
    "    scale_y_continuous(labels=percent_format()) +\n",
    "    scale_fill_manual(values = ['#FF8C42', '#FCAF58', '#F9C784', '#E8E9EB', '#98BF64']) +\n",
    "    # geom_text(angle=45) + \n",
    "    labs(\n",
    "        title = 'Mudanças percentuais de filmes que passam no teste Bechdel ao longo dos anos', \n",
    "        subtitle = 'Gráfico de barras de porcentagem empilhada',\n",
    "        x = 'Anos', \n",
    "        y = 'Proporção de filmes'\n",
    "    ) + \n",
    "    theme_classic() + \n",
    "    theme(axis_text_x  = element_text(angle = 45, hjust = 1))\n",
    ")"
   ],
   "metadata": {
    "collapsed": false,
    "pycharm": {
     "name": "#%%\n"
    }
   }
  },
  {
   "cell_type": "code",
   "execution_count": null,
   "outputs": [],
   "source": [
    "data_clean = pd.read_csv('cleaned_data.csv', index_col=0)\n",
    "data_clean.head()"
   ],
   "metadata": {
    "collapsed": false,
    "pycharm": {
     "name": "#%%\n"
    }
   }
  },
  {
   "cell_type": "code",
   "execution_count": null,
   "outputs": [],
   "source": [
    "teste = eval(data_clean.genres[0])\n",
    "teste[3]"
   ],
   "metadata": {
    "collapsed": false,
    "pycharm": {
     "name": "#%%\n"
    }
   }
  },
  {
   "cell_type": "code",
   "execution_count": null,
   "outputs": [],
   "source": [
    "#- procurar onde ta a virgula ler ate ela\n",
    "#- adicionar por append a uma lista"
   ],
   "metadata": {
    "collapsed": false,
    "pycharm": {
     "name": "#%%\n"
    }
   }
  },
  {
   "cell_type": "code",
   "execution_count": null,
   "outputs": [],
   "source": [
    "data_clean.popularity.max"
   ],
   "metadata": {
    "collapsed": false,
    "pycharm": {
     "name": "#%%\n"
    }
   }
  },
  {
   "cell_type": "code",
   "execution_count": null,
   "outputs": [],
   "source": [
    "data_clean.groupby('vote_average')['bt_score'].mean().plot(title=\"Bechdel Test score by vote average\",figsize=(14, 6), xlabel=\"Year\")"
   ],
   "metadata": {
    "collapsed": false,
    "pycharm": {
     "name": "#%%\n"
    }
   }
  },
  {
   "cell_type": "code",
   "execution_count": null,
   "outputs": [],
   "source": [
    "sns.set_theme(style=\"ticks\")\n",
    "f, ax = plt.subplots(figsize=(16, 8))\n",
    "sns.despine(f)\n",
    "sns.histplot(data, x=\"popularity\", hue=\"bt_score\", multiple=\"stack\", palette=\"cubehelix\", edgecolor=\".3\", linewidth=.5)\n",
    "plt.legend(labels = [\"Passaram no Teste\", \"Elas conversam sobre homens\", \"Elas não conversam entre si\", \"Não existem 2 personagens femininas\"], \n",
    "           title = \"Teste Bechdel\", fontsize = '12', title_fontsize = \"12\")\n",
    "ax.set_xlabel(\"Popularidade\", size = 14) \n",
    "ax.set_ylabel(\"Quantidade de filmes\", size = 14) \n",
    "ax.set_title(\"Nota do bechdel por popularidade\", size = 24) \n",
    "ax.xaxis.set_major_formatter(mpl.ticker.ScalarFormatter())\n",
    "ax.set_xticks([0, 10, 20, 30, 40, 50, 60, 70, 80, 90, 100, 110, 120, 130, 140, 150, 160, 170 , 180, 190, 200])\n",
    "ax.set_xlim(0, 200)\n",
    "plt.show()"
   ],
   "metadata": {
    "collapsed": false,
    "pycharm": {
     "name": "#%%\n"
    }
   }
  },
  {
   "cell_type": "code",
   "execution_count": null,
   "metadata": {
    "pycharm": {
     "name": "#%%\n"
    }
   },
   "outputs": [],
   "source": [
    "data_clean = pd.read_csv('cleaned_data.csv', index_col=0)\n",
    "data_clean.head()"
   ]
  },
  {
   "cell_type": "code",
   "execution_count": 46,
   "metadata": {
    "pycharm": {
     "name": "#%%\n"
    }
   },
   "outputs": [
    {
     "data": {
      "text/plain": [
       "'Romance'"
      ]
     },
     "execution_count": 46,
     "metadata": {},
     "output_type": "execute_result"
    }
   ],
   "source": [
    "teste = eval(data_clean.genres[0])\n",
    "teste[3]"
   ]
  },
  {
   "cell_type": "code",
   "execution_count": 47,
   "metadata": {
    "pycharm": {
     "name": "#%%\n"
    }
   },
   "outputs": [],
   "source": [
    "#- procurar onde ta a virgula ler ate ela\n",
    "#- adicionar por append a uma lista"
   ]
  },
  {
   "cell_type": "code",
   "execution_count": 76,
   "metadata": {
    "pycharm": {
     "name": "#%%\n"
    }
   },
   "outputs": [
    {
     "data": {
      "text/plain": [
       "<bound method Series.max of 0        3.762\n",
       "1        1.942\n",
       "2        0.817\n",
       "3        2.023\n",
       "4        1.310\n",
       "         ...  \n",
       "7630    31.004\n",
       "7631    17.122\n",
       "7632    16.294\n",
       "7633     7.712\n",
       "7634    12.251\n",
       "Name: popularity, Length: 7279, dtype: float64>"
      ]
     },
     "execution_count": 76,
     "metadata": {},
     "output_type": "execute_result"
    }
   ],
   "source": [
    "data_clean.popularity.max"
   ]
  },
  {
   "cell_type": "code",
   "execution_count": 49,
   "metadata": {
    "pycharm": {
     "name": "#%%\n"
    }
   },
   "outputs": [
    {
     "data": {
      "text/plain": [
       "<AxesSubplot:title={'center':'Bechdel Test score by vote average'}, xlabel='Year'>"
      ]
     },
     "execution_count": 49,
     "metadata": {},
     "output_type": "execute_result"
    },
    {
     "data": {
      "image/png": "[encoded data removed]",
      "text/plain": [
       "<Figure size 1008x432 with 1 Axes>"
      ]
     },
     "metadata": {},
     "output_type": "display_data"
    }
   ],
   "source": [
    "data_clean.groupby('vote_average')['bt_score'].mean().plot(title=\"Bechdel Test score by vote average\",figsize=(14, 6), xlabel=\"Year\")"
   ]
  },
  {
   "cell_type": "code",
   "execution_count": 87,
   "metadata": {
    "pycharm": {
     "name": "#%%\n"
    }
   },
   "outputs": [
    {
     "data": {
      "image/png": "[encoded data removed]",
      "text/plain": [
       "<Figure size 1152x576 with 1 Axes>"
      ]
     },
     "metadata": {},
     "output_type": "display_data"
    }
   ],
   "source": [
    "sns.set_theme(style=\"ticks\")\n",
    "f, ax = plt.subplots(figsize=(16, 8))\n",
    "sns.despine(f)\n",
    "sns.histplot(data, x=\"popularity\", hue=\"bt_score\", multiple=\"stack\", palette=\"cubehelix\", edgecolor=\".3\", linewidth=.5)\n",
    "plt.legend(labels = [\"Passaram no Teste\", \"Elas conversam sobre homens\", \"Elas não conversam entre si\", \"Não existem 2 personagens femininas\"], \n",
    "           title = \"Teste Bechdel\", fontsize = '12', title_fontsize = \"12\")\n",
    "ax.set_xlabel(\"Popularidade\", size = 14) \n",
    "ax.set_ylabel(\"Quantidade de filmes\", size = 14) \n",
    "ax.set_title(\"Nota do bechdel por popularidade\", size = 24) \n",
    "ax.xaxis.set_major_formatter(mpl.ticker.ScalarFormatter())\n",
    "ax.set_xticks([0, 10, 20, 30, 40, 50, 60, 70, 80, 90, 100, 110, 120, 130, 140, 150, 160, 170 , 180, 190, 200])\n",
    "ax.set_xlim(0, 200)\n",
    "plt.show()"
   ]
  },
  {
   "cell_type": "code",
   "execution_count": null,
   "metadata": {
    "pycharm": {
     "name": "#%%\n"
    }
   },
   "outputs": [],
   "source": []
  }
 ],
 "metadata": {
  "kernelspec": {
   "display_name": "Python 3.8.5 ('base')",
   "language": "python",
   "name": "python3"
  },
  "language_info": {
   "codemirror_mode": {
    "name": "ipython",
    "version": 3
   },
   "file_extension": ".py",
   "mimetype": "text/x-python",
   "name": "python",
   "nbconvert_exporter": "python",
   "pygments_lexer": "ipython3",
   "version": "3.8.5"
  },
  "vscode": {
   "interpreter": {
    "hash": "abfdec20697c183c8f3245ec9f70db0c281dfb464b694c4f11e6ad991afa117f"
   }
  }
 },
 "nbformat": 4,
 "nbformat_minor": 1
}