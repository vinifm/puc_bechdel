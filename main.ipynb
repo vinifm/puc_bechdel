{
 "cells": [
  {
   "cell_type": "code",
   "execution_count": 114,
   "metadata": {
    "collapsed": true,
    "pycharm": {
     "name": "#%%\n"
    }
   },
   "outputs": [],
   "source": [
    "import pandas as pd\n",
    "import seaborn as sns"
   ]
  },
  {
   "cell_type": "markdown",
   "source": [
    "### Unindo os datasets\n",
    "Unir as notas de bechdel com elenco e equipe com o merge:\n",
    "- O primeiro parâmetro passado é dataframe da \"esquerda\" e o segundo, da direita. Os dois próximos parâmetros (`left_on` e `right_on`) dizem quais colunas serão consideradas pra fazer o merge. O `how='inner'` calcula a interseção entre essas duas colunas.\n",
    "\n",
    "Primeiro é feito o merge do links_df com o bechdel_df, pois bechdel_df não possui o tmdbid diretamente, mas os outros sim.\n",
    "obs.: o 'id' no `credits.csv` e no `movies_metadata.csv` é o tmdbid.\n",
    "\n",
    "`reset_index(drop='True')` = reseta os indexes sem criar uma nova coluna para eles."
   ],
   "metadata": {
    "collapsed": false,
    "pycharm": {
     "name": "#%% md\n"
    }
   }
  },
  {
   "cell_type": "code",
   "execution_count": 167,
   "outputs": [
    {
     "name": "stderr",
     "output_type": "stream",
     "text": [
      "/var/folders/x5/46svw_qj6hs7h_f0d9_k70rc0000gn/T/ipykernel_8001/3903595937.py:4: DtypeWarning: Columns (10) have mixed types. Specify dtype option on import or set low_memory=False.\n",
      "  imdb_df = pd.read_csv('datasets/movie-dataset/movies_metadata.csv')\n"
     ]
    },
    {
     "data": {
      "text/plain": "                           title    year  bt_score  dubious     imdbid  \\\n0     Sallie Gardner at a Gallop  1878.0       0.0      0.0  2221420.0   \n1            Monkeyshines, No. 1  1890.0       0.0      0.0   361921.0   \n2                   Je vous aime  1891.0       0.0      0.0  3201916.0   \n3                  Buffalo Dance  1894.0       0.0      0.0   309402.0   \n4                     Carmencita  1894.0       0.0      0.0        1.0   \n...                          ...     ...       ...      ...        ...   \n7547                 War Machine  2017.0       0.0      0.0  4758646.0   \n7548               Burning Sands  2017.0       2.0      0.0  5826432.0   \n7549                Midwife, The  2017.0       3.0      0.0  5348236.0   \n7550                12 feet deep  2017.0       3.0      0.0  5143226.0   \n7551                    Landline  2017.0       3.0      0.0  5737862.0   \n\n        tmdbId                                               cast  \\\n0     194079.0  [{'cast_id': 5, 'character': 'Herself - Sallie...   \n1      32571.0  [{'cast_id': 10, 'character': 'Himself', 'cred...   \n2     336380.0  [{'cast_id': 0, 'character': 'Himself', 'credi...   \n3     155107.0  [{'cast_id': 1, 'character': 'Himself', 'credi...   \n4      16612.0  [{'cast_id': 1, 'character': 'Herself', 'credi...   \n...        ...                                                ...   \n7547  354287.0  [{'cast_id': 0, 'character': 'Gen. Glen McMaho...   \n7548  426265.0  [{'cast_id': 6, 'character': 'Zurich', 'credit...   \n7549  439154.0  [{'cast_id': 2, 'character': 'Claire', 'credit...   \n7550  459928.0  [{'cast_id': 0, 'character': 'McGradey', 'cred...   \n7551  419459.0  [{'cast_id': 0, 'character': 'Dana Jacobs', 'c...   \n\n                                                   crew      budget  \\\n0     [{'credit_id': '52fe4ce29251416c91103327', 'de...         0.0   \n1     [{'credit_id': '52fe44d99251416c9101ef9f', 'de...         0.0   \n2     [{'credit_id': '553266c4925141631000227d', 'de...         0.0   \n3     [{'credit_id': '52fe4b749251416c910daee3', 'de...         0.0   \n4     [{'credit_id': '52fe46de9251416c75086305', 'de...         0.0   \n...                                                 ...         ...   \n7547  [{'credit_id': '575e8224c3a3681f7d000f46', 'de...  60000000.0   \n7548  [{'credit_id': '58627bed92514115cf03fc87', 'de...         0.0   \n7549  [{'credit_id': '5895b2819251412e0d0088fb', 'de...         0.0   \n7550  [{'credit_id': '592ec68d92514130da00d716', 'de...         0.0   \n7551  [{'credit_id': '5863a7fcc3a3680ab600716c', 'de...         0.0   \n\n                                                 genres    imdb_id  \\\n0                   [{'id': 99, 'name': 'Documentary'}]  tt2221420   \n1                        [{'id': 35, 'name': 'Comedy'}]  tt0361921   \n2                   [{'id': 99, 'name': 'Documentary'}]  tt3201916   \n3                   [{'id': 99, 'name': 'Documentary'}]  tt0309402   \n4                   [{'id': 99, 'name': 'Documentary'}]  tt0000001   \n...                                                 ...        ...   \n7547  [{'id': 35, 'name': 'Comedy'}, {'id': 18, 'nam...  tt4758646   \n7548                      [{'id': 18, 'name': 'Drama'}]  tt5826432   \n7549  [{'id': 35, 'name': 'Comedy'}, {'id': 18, 'nam...  tt5348236   \n7550                   [{'id': 53, 'name': 'Thriller'}]  tt5143226   \n7551                     [{'id': 35, 'name': 'Comedy'}]  tt5737862   \n\n     original_language popularity  \\\n0                   en   0.327841   \n1                   en   1.163672   \n2                   fr   0.212894   \n3                   en   0.205698   \n4                   en   1.273072   \n...                ...        ...   \n7547                en  10.282732   \n7548                en   2.155753   \n7549                fr   2.127205   \n7550                en   4.479536   \n7551                en   1.811506   \n\n                                   production_companies  \\\n0       [{'name': 'Palo Alto Stock Farm', 'id': 84748}]   \n1     [{'name': 'Edison Manufacturing Company', 'id'...   \n2                                                    []   \n3     [{'name': 'Edison Manufacturing Company', 'id'...   \n4     [{'name': 'Edison Manufacturing Company', 'id'...   \n...                                                 ...   \n7547  [{'name': 'Plan B Entertainment', 'id': 45778}...   \n7548                                                 []   \n7549  [{'name': 'France 3 Cinéma', 'id': 591}, {'nam...   \n7550  [{'name': 'Citizen Skull Productions', 'id': 9...   \n7551        [{'name': 'Magnolia Pictures', 'id': 1030}]   \n\n                                   production_countries  revenue  runtime  \\\n0     [{'iso_3166_1': 'US', 'name': 'United States o...      0.0      1.0   \n1     [{'iso_3166_1': 'US', 'name': 'United States o...      0.0      1.0   \n2              [{'iso_3166_1': 'FR', 'name': 'France'}]      0.0      1.0   \n3     [{'iso_3166_1': 'US', 'name': 'United States o...      0.0      1.0   \n4     [{'iso_3166_1': 'US', 'name': 'United States o...      0.0      1.0   \n...                                                 ...      ...      ...   \n7547  [{'iso_3166_1': 'US', 'name': 'United States o...      0.0    122.0   \n7548                                                 []      0.0    105.0   \n7549  [{'iso_3166_1': 'BE', 'name': 'Belgium'}, {'is...      0.0    117.0   \n7550  [{'iso_3166_1': 'US', 'name': 'United States o...      0.0     85.0   \n7551  [{'iso_3166_1': 'US', 'name': 'United States o...      0.0     93.0   \n\n      vote_average  vote_count  \n0              6.2        25.0  \n1              4.3        15.0  \n2              3.3         3.0  \n3              3.8         6.0  \n4              4.9        18.0  \n...            ...         ...  \n7547           5.8       243.0  \n7548           6.3        30.0  \n7549           6.2        21.0  \n7550           5.1        62.0  \n7551           5.1         9.0  \n\n[7552 rows x 19 columns]",
      "text/html": "<div>\n<style scoped>\n    .dataframe tbody tr th:only-of-type {\n        vertical-align: middle;\n    }\n\n    .dataframe tbody tr th {\n        vertical-align: top;\n    }\n\n    .dataframe thead th {\n        text-align: right;\n    }\n</style>\n<table border=\"1\" class=\"dataframe\">\n  <thead>\n    <tr style=\"text-align: right;\">\n      <th></th>\n      <th>title</th>\n      <th>year</th>\n      <th>bt_score</th>\n      <th>dubious</th>\n      <th>imdbid</th>\n      <th>tmdbId</th>\n      <th>cast</th>\n      <th>crew</th>\n      <th>budget</th>\n      <th>genres</th>\n      <th>imdb_id</th>\n      <th>original_language</th>\n      <th>popularity</th>\n      <th>production_companies</th>\n      <th>production_countries</th>\n      <th>revenue</th>\n      <th>runtime</th>\n      <th>vote_average</th>\n      <th>vote_count</th>\n    </tr>\n  </thead>\n  <tbody>\n    <tr>\n      <th>0</th>\n      <td>Sallie Gardner at a Gallop</td>\n      <td>1878.0</td>\n      <td>0.0</td>\n      <td>0.0</td>\n      <td>2221420.0</td>\n      <td>194079.0</td>\n      <td>[{'cast_id': 5, 'character': 'Herself - Sallie...</td>\n      <td>[{'credit_id': '52fe4ce29251416c91103327', 'de...</td>\n      <td>0.0</td>\n      <td>[{'id': 99, 'name': 'Documentary'}]</td>\n      <td>tt2221420</td>\n      <td>en</td>\n      <td>0.327841</td>\n      <td>[{'name': 'Palo Alto Stock Farm', 'id': 84748}]</td>\n      <td>[{'iso_3166_1': 'US', 'name': 'United States o...</td>\n      <td>0.0</td>\n      <td>1.0</td>\n      <td>6.2</td>\n      <td>25.0</td>\n    </tr>\n    <tr>\n      <th>1</th>\n      <td>Monkeyshines, No. 1</td>\n      <td>1890.0</td>\n      <td>0.0</td>\n      <td>0.0</td>\n      <td>361921.0</td>\n      <td>32571.0</td>\n      <td>[{'cast_id': 10, 'character': 'Himself', 'cred...</td>\n      <td>[{'credit_id': '52fe44d99251416c9101ef9f', 'de...</td>\n      <td>0.0</td>\n      <td>[{'id': 35, 'name': 'Comedy'}]</td>\n      <td>tt0361921</td>\n      <td>en</td>\n      <td>1.163672</td>\n      <td>[{'name': 'Edison Manufacturing Company', 'id'...</td>\n      <td>[{'iso_3166_1': 'US', 'name': 'United States o...</td>\n      <td>0.0</td>\n      <td>1.0</td>\n      <td>4.3</td>\n      <td>15.0</td>\n    </tr>\n    <tr>\n      <th>2</th>\n      <td>Je vous aime</td>\n      <td>1891.0</td>\n      <td>0.0</td>\n      <td>0.0</td>\n      <td>3201916.0</td>\n      <td>336380.0</td>\n      <td>[{'cast_id': 0, 'character': 'Himself', 'credi...</td>\n      <td>[{'credit_id': '553266c4925141631000227d', 'de...</td>\n      <td>0.0</td>\n      <td>[{'id': 99, 'name': 'Documentary'}]</td>\n      <td>tt3201916</td>\n      <td>fr</td>\n      <td>0.212894</td>\n      <td>[]</td>\n      <td>[{'iso_3166_1': 'FR', 'name': 'France'}]</td>\n      <td>0.0</td>\n      <td>1.0</td>\n      <td>3.3</td>\n      <td>3.0</td>\n    </tr>\n    <tr>\n      <th>3</th>\n      <td>Buffalo Dance</td>\n      <td>1894.0</td>\n      <td>0.0</td>\n      <td>0.0</td>\n      <td>309402.0</td>\n      <td>155107.0</td>\n      <td>[{'cast_id': 1, 'character': 'Himself', 'credi...</td>\n      <td>[{'credit_id': '52fe4b749251416c910daee3', 'de...</td>\n      <td>0.0</td>\n      <td>[{'id': 99, 'name': 'Documentary'}]</td>\n      <td>tt0309402</td>\n      <td>en</td>\n      <td>0.205698</td>\n      <td>[{'name': 'Edison Manufacturing Company', 'id'...</td>\n      <td>[{'iso_3166_1': 'US', 'name': 'United States o...</td>\n      <td>0.0</td>\n      <td>1.0</td>\n      <td>3.8</td>\n      <td>6.0</td>\n    </tr>\n    <tr>\n      <th>4</th>\n      <td>Carmencita</td>\n      <td>1894.0</td>\n      <td>0.0</td>\n      <td>0.0</td>\n      <td>1.0</td>\n      <td>16612.0</td>\n      <td>[{'cast_id': 1, 'character': 'Herself', 'credi...</td>\n      <td>[{'credit_id': '52fe46de9251416c75086305', 'de...</td>\n      <td>0.0</td>\n      <td>[{'id': 99, 'name': 'Documentary'}]</td>\n      <td>tt0000001</td>\n      <td>en</td>\n      <td>1.273072</td>\n      <td>[{'name': 'Edison Manufacturing Company', 'id'...</td>\n      <td>[{'iso_3166_1': 'US', 'name': 'United States o...</td>\n      <td>0.0</td>\n      <td>1.0</td>\n      <td>4.9</td>\n      <td>18.0</td>\n    </tr>\n    <tr>\n      <th>...</th>\n      <td>...</td>\n      <td>...</td>\n      <td>...</td>\n      <td>...</td>\n      <td>...</td>\n      <td>...</td>\n      <td>...</td>\n      <td>...</td>\n      <td>...</td>\n      <td>...</td>\n      <td>...</td>\n      <td>...</td>\n      <td>...</td>\n      <td>...</td>\n      <td>...</td>\n      <td>...</td>\n      <td>...</td>\n      <td>...</td>\n      <td>...</td>\n    </tr>\n    <tr>\n      <th>7547</th>\n      <td>War Machine</td>\n      <td>2017.0</td>\n      <td>0.0</td>\n      <td>0.0</td>\n      <td>4758646.0</td>\n      <td>354287.0</td>\n      <td>[{'cast_id': 0, 'character': 'Gen. Glen McMaho...</td>\n      <td>[{'credit_id': '575e8224c3a3681f7d000f46', 'de...</td>\n      <td>60000000.0</td>\n      <td>[{'id': 35, 'name': 'Comedy'}, {'id': 18, 'nam...</td>\n      <td>tt4758646</td>\n      <td>en</td>\n      <td>10.282732</td>\n      <td>[{'name': 'Plan B Entertainment', 'id': 45778}...</td>\n      <td>[{'iso_3166_1': 'US', 'name': 'United States o...</td>\n      <td>0.0</td>\n      <td>122.0</td>\n      <td>5.8</td>\n      <td>243.0</td>\n    </tr>\n    <tr>\n      <th>7548</th>\n      <td>Burning Sands</td>\n      <td>2017.0</td>\n      <td>2.0</td>\n      <td>0.0</td>\n      <td>5826432.0</td>\n      <td>426265.0</td>\n      <td>[{'cast_id': 6, 'character': 'Zurich', 'credit...</td>\n      <td>[{'credit_id': '58627bed92514115cf03fc87', 'de...</td>\n      <td>0.0</td>\n      <td>[{'id': 18, 'name': 'Drama'}]</td>\n      <td>tt5826432</td>\n      <td>en</td>\n      <td>2.155753</td>\n      <td>[]</td>\n      <td>[]</td>\n      <td>0.0</td>\n      <td>105.0</td>\n      <td>6.3</td>\n      <td>30.0</td>\n    </tr>\n    <tr>\n      <th>7549</th>\n      <td>Midwife, The</td>\n      <td>2017.0</td>\n      <td>3.0</td>\n      <td>0.0</td>\n      <td>5348236.0</td>\n      <td>439154.0</td>\n      <td>[{'cast_id': 2, 'character': 'Claire', 'credit...</td>\n      <td>[{'credit_id': '5895b2819251412e0d0088fb', 'de...</td>\n      <td>0.0</td>\n      <td>[{'id': 35, 'name': 'Comedy'}, {'id': 18, 'nam...</td>\n      <td>tt5348236</td>\n      <td>fr</td>\n      <td>2.127205</td>\n      <td>[{'name': 'France 3 Cinéma', 'id': 591}, {'nam...</td>\n      <td>[{'iso_3166_1': 'BE', 'name': 'Belgium'}, {'is...</td>\n      <td>0.0</td>\n      <td>117.0</td>\n      <td>6.2</td>\n      <td>21.0</td>\n    </tr>\n    <tr>\n      <th>7550</th>\n      <td>12 feet deep</td>\n      <td>2017.0</td>\n      <td>3.0</td>\n      <td>0.0</td>\n      <td>5143226.0</td>\n      <td>459928.0</td>\n      <td>[{'cast_id': 0, 'character': 'McGradey', 'cred...</td>\n      <td>[{'credit_id': '592ec68d92514130da00d716', 'de...</td>\n      <td>0.0</td>\n      <td>[{'id': 53, 'name': 'Thriller'}]</td>\n      <td>tt5143226</td>\n      <td>en</td>\n      <td>4.479536</td>\n      <td>[{'name': 'Citizen Skull Productions', 'id': 9...</td>\n      <td>[{'iso_3166_1': 'US', 'name': 'United States o...</td>\n      <td>0.0</td>\n      <td>85.0</td>\n      <td>5.1</td>\n      <td>62.0</td>\n    </tr>\n    <tr>\n      <th>7551</th>\n      <td>Landline</td>\n      <td>2017.0</td>\n      <td>3.0</td>\n      <td>0.0</td>\n      <td>5737862.0</td>\n      <td>419459.0</td>\n      <td>[{'cast_id': 0, 'character': 'Dana Jacobs', 'c...</td>\n      <td>[{'credit_id': '5863a7fcc3a3680ab600716c', 'de...</td>\n      <td>0.0</td>\n      <td>[{'id': 35, 'name': 'Comedy'}]</td>\n      <td>tt5737862</td>\n      <td>en</td>\n      <td>1.811506</td>\n      <td>[{'name': 'Magnolia Pictures', 'id': 1030}]</td>\n      <td>[{'iso_3166_1': 'US', 'name': 'United States o...</td>\n      <td>0.0</td>\n      <td>93.0</td>\n      <td>5.1</td>\n      <td>9.0</td>\n    </tr>\n  </tbody>\n</table>\n<p>7552 rows × 19 columns</p>\n</div>"
     },
     "execution_count": 167,
     "metadata": {},
     "output_type": "execute_result"
    }
   ],
   "source": [
    "bechdel_df = pd.read_csv('datasets/Bechdel_detailed.csv')\n",
    "links_df = pd.read_csv('datasets/movie-dataset/links.csv') # contém o id do imdb e tmdb de cada filme.\n",
    "credits_df = pd.read_csv('datasets/movie-dataset/credits.csv')\n",
    "imdb_df = pd.read_csv('datasets/movie-dataset/movies_metadata.csv')\n",
    "\n",
    "# remove colunas não usadas.\n",
    "bechdel_df = bechdel_df.drop(['Unnamed: 0', 'submitterid', 'date', 'visible', 'id'], axis=1)\n",
    "\n",
    "# renomeia rating para não coincidir com o dos outros datasets.\n",
    "bechdel_df = bechdel_df.rename(columns={'rating': 'bt_score'})\n",
    "\n",
    "# junta os 3 dataframes e descarta colunas duplicadas.\n",
    "bechdel_df = pd.merge(bechdel_df, links_df, left_on='imdbid', right_on='imdbId', how='inner').drop('imdbId', axis=1)\n",
    "bechdel_df = pd.merge(bechdel_df, credits_df, left_on='tmdbId', right_on='id', how='inner').drop(['id', 'movieId'], axis=1)\n",
    "\n",
    "# UNINDO COM O MOVIES_METADATA.CSV\n",
    "\n",
    "# transforma o dtype de todos os elementos da coluna 'id' e 'budget' em float.\n",
    "imdb_df['id'] = pd.to_numeric(imdb_df['id'], errors='coerce')\n",
    "imdb_df.budget = pd.to_numeric(imdb_df.budget, errors='coerce')\n",
    "\n",
    "# remove colunas não usadas.\n",
    "imdb_df = imdb_df.drop(['adult', 'belongs_to_collection', 'homepage', 'original_title', 'overview', 'poster_path', 'release_date', 'spoken_languages', 'status', 'tagline', 'video', 'title'], axis=1)\n",
    "\n",
    "# faz o df final.\n",
    "bechdel_df = pd.merge(bechdel_df, imdb_df, left_on='tmdbId', right_on='id', how='inner').drop('id', axis=1)\n",
    "\n",
    "# DESCARTA VALORES VAZIOS e reseta o index.\n",
    "# descarta itens sem cast e/ou crew. Reseta os index.\n",
    "bechdel_df = bechdel_df[\n",
    "\t(bechdel_df.cast != '[]')\n",
    "\t& (bechdel_df.crew != '[]')\n",
    "\t& (bechdel_df.runtime != 0)\n",
    "\t& (bechdel_df.vote_count != 0)\n",
    "\t& (bechdel_df.vote_average != 0)\n",
    "\t& (bechdel_df.original_language != 'xx')\n",
    "\t& (bechdel_df.genres != '[]')\n",
    "\t].reset_index(drop='True')\n",
    "\n",
    "bechdel_df"
   ],
   "metadata": {
    "collapsed": false,
    "pycharm": {
     "name": "#%%\n"
    }
   }
  },
  {
   "cell_type": "markdown",
   "source": [
    "### Calculando valores nulos.\n",
    "Porcentagem de valores nulos em cada categoria. Ao correlacionar categorias, só os filmes que possuírem todas as envolvidas serão utilizados."
   ],
   "metadata": {
    "collapsed": false,
    "pycharm": {
     "name": "#%% md\n"
    }
   }
  },
  {
   "cell_type": "code",
   "execution_count": 169,
   "outputs": [
    {
     "name": "stdout",
     "output_type": "stream",
     "text": [
      "Valores nulos:\n",
      "Orçamento: 46.54%\n",
      "Bilheteria: 46.69%\n",
      "Produtoras: 5.68%\n",
      "Países: 1.84%\n"
     ]
    }
   ],
   "source": [
    "total = len(bechdel_df) * 0.01\n",
    "print('Valores nulos:')\n",
    "print('Orçamento: %.2f%%' % (len(bechdel_df[bechdel_df.budget == 0])/total))\n",
    "print('Bilheteria: %.2f%%' % (len(bechdel_df[bechdel_df.revenue == 0])/total))\n",
    "\n",
    "# print('Duração: %.2f%%' % (len(bechdel_df[bechdel_df.runtime == 0])/total))\n",
    "# print('Número de votos: %.2f%%' % (len(bechdel_df[bechdel_df.vote_count == 0])/total))\n",
    "# print('Nota média: %.2f%%' % (len(bechdel_df[bechdel_df.vote_average == 0])/total))\n",
    "# print('Língua: %.2f%%' % (len(bechdel_df[bechdel_df.original_language == 'xx'])/total))\n",
    "# print('Gênero: %.2f%%' % (len(bechdel_df[bechdel_df.genres == '[]'])/total))\n",
    "\n",
    "print('Produtoras: %.2f%%' % (len(bechdel_df[bechdel_df.production_companies == '[]'])/total))\n",
    "print('Países: %.2f%%' % (len(bechdel_df[bechdel_df.production_countries == '[]'])/total))"
   ],
   "metadata": {
    "collapsed": false,
    "pycharm": {
     "name": "#%%\n"
    }
   }
  },
  {
   "cell_type": "code",
   "execution_count": null,
   "outputs": [],
   "source": [],
   "metadata": {
    "collapsed": false,
    "pycharm": {
     "name": "#%%\n"
    }
   }
  }
 ],
 "metadata": {
  "interpreter": {
   "hash": "45a8477b08c324d9cce7950632ad2e4fce9f4230ff1fbe555c11182565a7ba4b"
  },
  "kernelspec": {
   "display_name": "Python 3.9.7 ('base')",
   "language": "python",
   "name": "python3"
  },
  "language_info": {
   "codemirror_mode": {
    "name": "ipython",
    "version": 3
   },
   "file_extension": ".py",
   "mimetype": "text/x-python",
   "name": "python",
   "nbconvert_exporter": "python",
   "pygments_lexer": "ipython3",
   "version": "3.9.7"
  }
 },
 "nbformat": 4,
 "nbformat_minor": 0
}