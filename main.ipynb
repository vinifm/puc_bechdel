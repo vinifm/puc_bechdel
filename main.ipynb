{
 "cells": [
  {
   "cell_type": "code",
   "execution_count": 8,
   "metadata": {
    "collapsed": true,
    "pycharm": {
     "name": "#%%\n"
    }
   },
   "outputs": [],
   "source": [
    "import pandas as pd"
   ]
  },
  {
   "cell_type": "markdown",
   "source": [
    "### Unindo os datasets\n",
    "Unir as notas de bechdel com elenco e equipe com o merge:\n",
    "- O primeiro parâmetro passado é dataframe da \"esquerda\" e o segundo, da direita. Os dois próximos parâmetros (`left_on` e `right_on`) dizem quais colunas serão consideradas pra fazer o merge. O `how='inner'` calcula a interseção entre essas duas colunas.\n",
    "\n",
    "Primeiro é feito o merge do links_df com o bechdel_df, pois bechdel_df não possui o tmdbid diretamente, mas os outros sim.\n",
    "obs.: o 'id' no `credits.csv` e no `movies_metadata.csv` é o tmdbid.\n",
    "\n",
    "`reset_index(drop='True')` = reseta os indexes sem criar uma nova coluna para eles."
   ],
   "metadata": {
    "collapsed": false,
    "pycharm": {
     "name": "#%% md\n"
    }
   }
  },
  {
   "cell_type": "code",
   "execution_count": 95,
   "outputs": [
    {
     "name": "stderr",
     "output_type": "stream",
     "text": [
      "/var/folders/x5/46svw_qj6hs7h_f0d9_k70rc0000gn/T/ipykernel_8001/2704256597.py:4: DtypeWarning: Columns (10) have mixed types. Specify dtype option on import or set low_memory=False.\n",
      "  imdb_df = pd.read_csv('datasets/movie-dataset/movies_metadata.csv')\n"
     ]
    },
    {
     "data": {
      "text/plain": "                        title    year  bt_score  dubious     imdbid    tmdbId  \\\n0  Sallie Gardner at a Gallop  1878.0       0.0      0.0  2221420.0  194079.0   \n1            Accordion Player  1888.0       0.0      0.0  1758563.0   96882.0   \n2         Monkeyshines, No. 1  1890.0       0.0      0.0   361921.0   32571.0   \n3         Monkeyshines, No. 2  1890.0       0.0      0.0   416046.0   33315.0   \n4         Monkeyshines, No. 3  1890.0       0.0      0.0   416047.0   33317.0   \n\n                                                cast  \\\n0  [{'cast_id': 5, 'character': 'Herself - Sallie...   \n1  [{'cast_id': 1, 'character': 'Himself', 'credi...   \n2  [{'cast_id': 10, 'character': 'Himself', 'cred...   \n3  [{'cast_id': 1, 'character': 'Himself', 'credi...   \n4  [{'cast_id': 1, 'character': 'Himself', 'credi...   \n\n                                                crew  adult budget  \\\n0  [{'credit_id': '52fe4ce29251416c91103327', 'de...  False      0   \n1  [{'credit_id': '52fe49c39251416c750d2a8b', 'de...  False      0   \n2  [{'credit_id': '52fe44d99251416c9101ef9f', 'de...  False      0   \n3  [{'credit_id': '52fe450c9251416c91025b0b', 'de...  False      0   \n4  [{'credit_id': '52fe450c9251416c91025b2f', 'de...  False      0   \n\n                                genres    imdb_id original_language  \\\n0  [{'id': 99, 'name': 'Documentary'}]  tt2221420                en   \n1  [{'id': 99, 'name': 'Documentary'}]  tt1758563                xx   \n2       [{'id': 35, 'name': 'Comedy'}]  tt0361921                en   \n3                                   []  tt0416046                xx   \n4                                   []  tt0416047                xx   \n\n  popularity                               production_companies  \\\n0   0.327841    [{'name': 'Palo Alto Stock Farm', 'id': 84748}]   \n1   0.212768        [{'name': 'Whitley Partners', 'id': 48026}]   \n2   1.163672  [{'name': 'Edison Manufacturing Company', 'id'...   \n3   0.399258  [{'name': 'Edison Manufacturing Company', 'id'...   \n4   0.276161  [{'name': 'Edison Manufacturing Company', 'id'...   \n\n                                production_countries  revenue  runtime  \\\n0  [{'iso_3166_1': 'US', 'name': 'United States o...      0.0      1.0   \n1   [{'iso_3166_1': 'GB', 'name': 'United Kingdom'}]      0.0      1.0   \n2  [{'iso_3166_1': 'US', 'name': 'United States o...      0.0      1.0   \n3  [{'iso_3166_1': 'US', 'name': 'United States o...      0.0      1.0   \n4  [{'iso_3166_1': 'US', 'name': 'United States o...      0.0      1.0   \n\n   vote_average  vote_count  \n0           6.2        25.0  \n1           4.4        18.0  \n2           4.3        15.0  \n3           4.5        12.0  \n4           3.3         5.0  ",
      "text/html": "<div>\n<style scoped>\n    .dataframe tbody tr th:only-of-type {\n        vertical-align: middle;\n    }\n\n    .dataframe tbody tr th {\n        vertical-align: top;\n    }\n\n    .dataframe thead th {\n        text-align: right;\n    }\n</style>\n<table border=\"1\" class=\"dataframe\">\n  <thead>\n    <tr style=\"text-align: right;\">\n      <th></th>\n      <th>title</th>\n      <th>year</th>\n      <th>bt_score</th>\n      <th>dubious</th>\n      <th>imdbid</th>\n      <th>tmdbId</th>\n      <th>cast</th>\n      <th>crew</th>\n      <th>adult</th>\n      <th>budget</th>\n      <th>genres</th>\n      <th>imdb_id</th>\n      <th>original_language</th>\n      <th>popularity</th>\n      <th>production_companies</th>\n      <th>production_countries</th>\n      <th>revenue</th>\n      <th>runtime</th>\n      <th>vote_average</th>\n      <th>vote_count</th>\n    </tr>\n  </thead>\n  <tbody>\n    <tr>\n      <th>0</th>\n      <td>Sallie Gardner at a Gallop</td>\n      <td>1878.0</td>\n      <td>0.0</td>\n      <td>0.0</td>\n      <td>2221420.0</td>\n      <td>194079.0</td>\n      <td>[{'cast_id': 5, 'character': 'Herself - Sallie...</td>\n      <td>[{'credit_id': '52fe4ce29251416c91103327', 'de...</td>\n      <td>False</td>\n      <td>0</td>\n      <td>[{'id': 99, 'name': 'Documentary'}]</td>\n      <td>tt2221420</td>\n      <td>en</td>\n      <td>0.327841</td>\n      <td>[{'name': 'Palo Alto Stock Farm', 'id': 84748}]</td>\n      <td>[{'iso_3166_1': 'US', 'name': 'United States o...</td>\n      <td>0.0</td>\n      <td>1.0</td>\n      <td>6.2</td>\n      <td>25.0</td>\n    </tr>\n    <tr>\n      <th>1</th>\n      <td>Accordion Player</td>\n      <td>1888.0</td>\n      <td>0.0</td>\n      <td>0.0</td>\n      <td>1758563.0</td>\n      <td>96882.0</td>\n      <td>[{'cast_id': 1, 'character': 'Himself', 'credi...</td>\n      <td>[{'credit_id': '52fe49c39251416c750d2a8b', 'de...</td>\n      <td>False</td>\n      <td>0</td>\n      <td>[{'id': 99, 'name': 'Documentary'}]</td>\n      <td>tt1758563</td>\n      <td>xx</td>\n      <td>0.212768</td>\n      <td>[{'name': 'Whitley Partners', 'id': 48026}]</td>\n      <td>[{'iso_3166_1': 'GB', 'name': 'United Kingdom'}]</td>\n      <td>0.0</td>\n      <td>1.0</td>\n      <td>4.4</td>\n      <td>18.0</td>\n    </tr>\n    <tr>\n      <th>2</th>\n      <td>Monkeyshines, No. 1</td>\n      <td>1890.0</td>\n      <td>0.0</td>\n      <td>0.0</td>\n      <td>361921.0</td>\n      <td>32571.0</td>\n      <td>[{'cast_id': 10, 'character': 'Himself', 'cred...</td>\n      <td>[{'credit_id': '52fe44d99251416c9101ef9f', 'de...</td>\n      <td>False</td>\n      <td>0</td>\n      <td>[{'id': 35, 'name': 'Comedy'}]</td>\n      <td>tt0361921</td>\n      <td>en</td>\n      <td>1.163672</td>\n      <td>[{'name': 'Edison Manufacturing Company', 'id'...</td>\n      <td>[{'iso_3166_1': 'US', 'name': 'United States o...</td>\n      <td>0.0</td>\n      <td>1.0</td>\n      <td>4.3</td>\n      <td>15.0</td>\n    </tr>\n    <tr>\n      <th>3</th>\n      <td>Monkeyshines, No. 2</td>\n      <td>1890.0</td>\n      <td>0.0</td>\n      <td>0.0</td>\n      <td>416046.0</td>\n      <td>33315.0</td>\n      <td>[{'cast_id': 1, 'character': 'Himself', 'credi...</td>\n      <td>[{'credit_id': '52fe450c9251416c91025b0b', 'de...</td>\n      <td>False</td>\n      <td>0</td>\n      <td>[]</td>\n      <td>tt0416046</td>\n      <td>xx</td>\n      <td>0.399258</td>\n      <td>[{'name': 'Edison Manufacturing Company', 'id'...</td>\n      <td>[{'iso_3166_1': 'US', 'name': 'United States o...</td>\n      <td>0.0</td>\n      <td>1.0</td>\n      <td>4.5</td>\n      <td>12.0</td>\n    </tr>\n    <tr>\n      <th>4</th>\n      <td>Monkeyshines, No. 3</td>\n      <td>1890.0</td>\n      <td>0.0</td>\n      <td>0.0</td>\n      <td>416047.0</td>\n      <td>33317.0</td>\n      <td>[{'cast_id': 1, 'character': 'Himself', 'credi...</td>\n      <td>[{'credit_id': '52fe450c9251416c91025b2f', 'de...</td>\n      <td>False</td>\n      <td>0</td>\n      <td>[]</td>\n      <td>tt0416047</td>\n      <td>xx</td>\n      <td>0.276161</td>\n      <td>[{'name': 'Edison Manufacturing Company', 'id'...</td>\n      <td>[{'iso_3166_1': 'US', 'name': 'United States o...</td>\n      <td>0.0</td>\n      <td>1.0</td>\n      <td>3.3</td>\n      <td>5.0</td>\n    </tr>\n  </tbody>\n</table>\n</div>"
     },
     "execution_count": 95,
     "metadata": {},
     "output_type": "execute_result"
    }
   ],
   "source": [
    "bechdel_df = pd.read_csv('datasets/Bechdel_detailed.csv')\n",
    "links_df = pd.read_csv('datasets/movie-dataset/links.csv') # contém o id do imdb e tmdb de cada filme.\n",
    "credits_df = pd.read_csv('datasets/movie-dataset/credits.csv')\n",
    "imdb_df = pd.read_csv('datasets/movie-dataset/movies_metadata.csv')\n",
    "\n",
    "# remove colunas não usadas.\n",
    "bechdel_df = bechdel_df.drop(['Unnamed: 0', 'submitterid', 'date', 'visible', 'id'], axis=1)\n",
    "\n",
    "# renomeia rating para não coincidir com o dos outros datasets.\n",
    "bechdel_df = bechdel_df.rename(columns={'rating': 'bt_score'})\n",
    "\n",
    "# junta os 3 dataframes e descarta colunas duplicadas.\n",
    "bechdel_df = pd.merge(bechdel_df, links_df, left_on='imdbid', right_on='imdbId', how='inner').drop('imdbId', axis=1)\n",
    "bechdel_df = pd.merge(bechdel_df, credits_df, left_on='tmdbId', right_on='id', how='inner').drop(['id', 'movieId'], axis=1)\n",
    "\n",
    "# descarta itens sem cast e/ou crew. Reseta os index.\n",
    "bechdel_df = bechdel_df[\n",
    "\t(bechdel_df.cast != '[]') & (bechdel_df.crew != '[]')\n",
    "].reset_index(drop='True')\n",
    "\n",
    "# UNINDO COM O MOVIES_METADATA.CSV\n",
    "\n",
    "# transforma o dtype de todos os elementos da coluna 'id' em float pra poder fazer o merge. Alguns possuem strings que são então convertidas em NaN.\n",
    "imdb_df['id'] = pd.to_numeric(imdb_df['id'], errors='coerce')\n",
    "\n",
    "# remove colunas não usadas.\n",
    "imdb_df = imdb_df.drop(['belongs_to_collection', 'homepage', 'original_title', 'overview', 'poster_path', 'release_date', 'spoken_languages', 'status', 'tagline', 'video', 'title'], axis=1)\n",
    "\n",
    "# faz o df final.\n",
    "bechdel_df = pd.merge(bechdel_df, imdb_df, left_on='tmdbId', right_on='id', how='inner').drop('id', axis=1)\n",
    "\n",
    "bechdel_df.head()"
   ],
   "metadata": {
    "collapsed": false,
    "pycharm": {
     "name": "#%%\n"
    }
   }
  },
  {
   "cell_type": "code",
   "execution_count": null,
   "outputs": [],
   "source": [],
   "metadata": {
    "collapsed": false,
    "pycharm": {
     "name": "#%%\n"
    }
   }
  }
 ],
 "metadata": {
  "interpreter": {
   "hash": "45a8477b08c324d9cce7950632ad2e4fce9f4230ff1fbe555c11182565a7ba4b"
  },
  "kernelspec": {
   "display_name": "Python 3.9.7 ('base')",
   "language": "python",
   "name": "python3"
  },
  "language_info": {
   "codemirror_mode": {
    "name": "ipython",
    "version": 3
   },
   "file_extension": ".py",
   "mimetype": "text/x-python",
   "name": "python",
   "nbconvert_exporter": "python",
   "pygments_lexer": "ipython3",
   "version": "3.9.7"
  }
 },
 "nbformat": 4,
 "nbformat_minor": 0
}