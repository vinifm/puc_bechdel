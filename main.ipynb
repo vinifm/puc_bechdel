{
 "cells": [
  {
   "cell_type": "code",
   "execution_count": 114,
   "metadata": {
    "collapsed": true,
    "pycharm": {
     "name": "#%%\n"
    }
   },
   "outputs": [],
   "source": [
    "import pandas as pd"
   ]
  },
  {
   "cell_type": "markdown",
   "source": [
    "### Unindo os datasets\n",
    "Unir as notas de bechdel com elenco e equipe com o merge:\n",
    "- O primeiro parâmetro passado é dataframe da \"esquerda\" e o segundo, da direita. Os dois próximos parâmetros (`left_on` e `right_on`) dizem quais colunas serão consideradas pra fazer o merge. O `how='inner'` calcula a interseção entre essas duas colunas.\n",
    "\n",
    "Primeiro é feito o merge do links_df com o bechdel_df, pois bechdel_df não possui o tmdbid diretamente, mas os outros sim.\n",
    "obs.: o 'id' no `credits.csv` e no `movies_metadata.csv` é o tmdbid.\n",
    "\n",
    "`reset_index(drop='True')` = reseta os indexes sem criar uma nova coluna para eles."
   ],
   "metadata": {
    "collapsed": false,
    "pycharm": {
     "name": "#%% md\n"
    }
   }
  },
  {
   "cell_type": "code",
   "execution_count": 138,
   "outputs": [
    {
     "name": "stderr",
     "output_type": "stream",
     "text": [
      "/var/folders/x5/46svw_qj6hs7h_f0d9_k70rc0000gn/T/ipykernel_8001/296107520.py:4: DtypeWarning: Columns (10) have mixed types. Specify dtype option on import or set low_memory=False.\n",
      "  imdb_df = pd.read_csv('datasets/movie-dataset/movies_metadata.csv')\n"
     ]
    },
    {
     "data": {
      "text/plain": "                           title    year  bt_score  dubious     imdbid  \\\n0     Sallie Gardner at a Gallop  1878.0       0.0      0.0  2221420.0   \n1               Accordion Player  1888.0       0.0      0.0  1758563.0   \n2            Monkeyshines, No. 1  1890.0       0.0      0.0   361921.0   \n3            Monkeyshines, No. 2  1890.0       0.0      0.0   416046.0   \n4            Monkeyshines, No. 3  1890.0       0.0      0.0   416047.0   \n...                          ...     ...       ...      ...        ...   \n7606                12 feet deep  2017.0       3.0      0.0  5143226.0   \n7607                    Landline  2017.0       3.0      0.0  5737862.0   \n7608                Patient Zero  2018.0       1.0      0.0  3458254.0   \n7609   Iron Sky: The Coming Race  2019.0       3.0      0.0  3038708.0   \n7610           Bad Boys For Life  2020.0       2.0      0.0  1502397.0   \n\n        tmdbId                                               cast  \\\n0     194079.0  [{'cast_id': 5, 'character': 'Herself - Sallie...   \n1      96882.0  [{'cast_id': 1, 'character': 'Himself', 'credi...   \n2      32571.0  [{'cast_id': 10, 'character': 'Himself', 'cred...   \n3      33315.0  [{'cast_id': 1, 'character': 'Himself', 'credi...   \n4      33317.0  [{'cast_id': 1, 'character': 'Himself', 'credi...   \n...        ...                                                ...   \n7606  459928.0  [{'cast_id': 0, 'character': 'McGradey', 'cred...   \n7607  419459.0  [{'cast_id': 0, 'character': 'Dana Jacobs', 'c...   \n7608  295011.0  [{'cast_id': 1, 'character': 'Dr. Gina Rose', ...   \n7609  302349.0  [{'cast_id': 1, 'character': 'Wolfgang Kortzfl...   \n7610   38700.0  [{'cast_id': 0, 'character': 'Detective Mike L...   \n\n                                                   crew      budget  \\\n0     [{'credit_id': '52fe4ce29251416c91103327', 'de...         0.0   \n1     [{'credit_id': '52fe49c39251416c750d2a8b', 'de...         0.0   \n2     [{'credit_id': '52fe44d99251416c9101ef9f', 'de...         0.0   \n3     [{'credit_id': '52fe450c9251416c91025b0b', 'de...         0.0   \n4     [{'credit_id': '52fe450c9251416c91025b2f', 'de...         0.0   \n...                                                 ...         ...   \n7606  [{'credit_id': '592ec68d92514130da00d716', 'de...         0.0   \n7607  [{'credit_id': '5863a7fcc3a3680ab600716c', 'de...         0.0   \n7608  [{'credit_id': '55c8fd47c3a36849b40002ec', 'de...         0.0   \n7609  [{'credit_id': '5461f666c3a3686f4c001f27', 'de...  18000000.0   \n7610  [{'credit_id': '585fcddd92514115cd01d8c8', 'de...         0.0   \n\n                                                 genres    imdb_id  \\\n0                   [{'id': 99, 'name': 'Documentary'}]  tt2221420   \n1                   [{'id': 99, 'name': 'Documentary'}]  tt1758563   \n2                        [{'id': 35, 'name': 'Comedy'}]  tt0361921   \n3                                                    []  tt0416046   \n4                                                    []  tt0416047   \n...                                                 ...        ...   \n7606                   [{'id': 53, 'name': 'Thriller'}]  tt5143226   \n7607                     [{'id': 35, 'name': 'Comedy'}]  tt5737862   \n7608  [{'id': 28, 'name': 'Action'}, {'id': 18, 'nam...  tt3458254   \n7609  [{'id': 28, 'name': 'Action'}, {'id': 35, 'nam...  tt3038708   \n7610  [{'id': 53, 'name': 'Thriller'}, {'id': 28, 'n...  tt1502397   \n\n     original_language popularity  \\\n0                   en   0.327841   \n1                   xx   0.212768   \n2                   en   1.163672   \n3                   xx   0.399258   \n4                   xx   0.276161   \n...                ...        ...   \n7606                en   4.479536   \n7607                en   1.811506   \n7608                en   1.083454   \n7609                en   1.917649   \n7610                en   2.178546   \n\n                                   production_companies  \\\n0       [{'name': 'Palo Alto Stock Farm', 'id': 84748}]   \n1           [{'name': 'Whitley Partners', 'id': 48026}]   \n2     [{'name': 'Edison Manufacturing Company', 'id'...   \n3     [{'name': 'Edison Manufacturing Company', 'id'...   \n4     [{'name': 'Edison Manufacturing Company', 'id'...   \n...                                                 ...   \n7606  [{'name': 'Citizen Skull Productions', 'id': 9...   \n7607        [{'name': 'Magnolia Pictures', 'id': 1030}]   \n7608  [{'name': 'Screen Gems', 'id': 3287}, {'name':...   \n7609  [{'name': '27 Films Production', 'id': 9282}, ...   \n7610  [{'name': 'Columbia Pictures', 'id': 5}, {'nam...   \n\n                                   production_countries  revenue  runtime  \\\n0     [{'iso_3166_1': 'US', 'name': 'United States o...      0.0      1.0   \n1      [{'iso_3166_1': 'GB', 'name': 'United Kingdom'}]      0.0      1.0   \n2     [{'iso_3166_1': 'US', 'name': 'United States o...      0.0      1.0   \n3     [{'iso_3166_1': 'US', 'name': 'United States o...      0.0      1.0   \n4     [{'iso_3166_1': 'US', 'name': 'United States o...      0.0      1.0   \n...                                                 ...      ...      ...   \n7606  [{'iso_3166_1': 'US', 'name': 'United States o...      0.0     85.0   \n7607  [{'iso_3166_1': 'US', 'name': 'United States o...      0.0     93.0   \n7608  [{'iso_3166_1': 'US', 'name': 'United States o...      0.0      0.0   \n7609  [{'iso_3166_1': 'BE', 'name': 'Belgium'}, {'is...      0.0      0.0   \n7610  [{'iso_3166_1': 'US', 'name': 'United States o...      0.0      0.0   \n\n      vote_average  vote_count  \n0              6.2        25.0  \n1              4.4        18.0  \n2              4.3        15.0  \n3              4.5        12.0  \n4              3.3         5.0  \n...            ...         ...  \n7606           5.1        62.0  \n7607           5.1         9.0  \n7608          10.0         2.0  \n7609           0.0         0.0  \n7610           0.0        12.0  \n\n[7611 rows x 19 columns]",
      "text/html": "<div>\n<style scoped>\n    .dataframe tbody tr th:only-of-type {\n        vertical-align: middle;\n    }\n\n    .dataframe tbody tr th {\n        vertical-align: top;\n    }\n\n    .dataframe thead th {\n        text-align: right;\n    }\n</style>\n<table border=\"1\" class=\"dataframe\">\n  <thead>\n    <tr style=\"text-align: right;\">\n      <th></th>\n      <th>title</th>\n      <th>year</th>\n      <th>bt_score</th>\n      <th>dubious</th>\n      <th>imdbid</th>\n      <th>tmdbId</th>\n      <th>cast</th>\n      <th>crew</th>\n      <th>budget</th>\n      <th>genres</th>\n      <th>imdb_id</th>\n      <th>original_language</th>\n      <th>popularity</th>\n      <th>production_companies</th>\n      <th>production_countries</th>\n      <th>revenue</th>\n      <th>runtime</th>\n      <th>vote_average</th>\n      <th>vote_count</th>\n    </tr>\n  </thead>\n  <tbody>\n    <tr>\n      <th>0</th>\n      <td>Sallie Gardner at a Gallop</td>\n      <td>1878.0</td>\n      <td>0.0</td>\n      <td>0.0</td>\n      <td>2221420.0</td>\n      <td>194079.0</td>\n      <td>[{'cast_id': 5, 'character': 'Herself - Sallie...</td>\n      <td>[{'credit_id': '52fe4ce29251416c91103327', 'de...</td>\n      <td>0.0</td>\n      <td>[{'id': 99, 'name': 'Documentary'}]</td>\n      <td>tt2221420</td>\n      <td>en</td>\n      <td>0.327841</td>\n      <td>[{'name': 'Palo Alto Stock Farm', 'id': 84748}]</td>\n      <td>[{'iso_3166_1': 'US', 'name': 'United States o...</td>\n      <td>0.0</td>\n      <td>1.0</td>\n      <td>6.2</td>\n      <td>25.0</td>\n    </tr>\n    <tr>\n      <th>1</th>\n      <td>Accordion Player</td>\n      <td>1888.0</td>\n      <td>0.0</td>\n      <td>0.0</td>\n      <td>1758563.0</td>\n      <td>96882.0</td>\n      <td>[{'cast_id': 1, 'character': 'Himself', 'credi...</td>\n      <td>[{'credit_id': '52fe49c39251416c750d2a8b', 'de...</td>\n      <td>0.0</td>\n      <td>[{'id': 99, 'name': 'Documentary'}]</td>\n      <td>tt1758563</td>\n      <td>xx</td>\n      <td>0.212768</td>\n      <td>[{'name': 'Whitley Partners', 'id': 48026}]</td>\n      <td>[{'iso_3166_1': 'GB', 'name': 'United Kingdom'}]</td>\n      <td>0.0</td>\n      <td>1.0</td>\n      <td>4.4</td>\n      <td>18.0</td>\n    </tr>\n    <tr>\n      <th>2</th>\n      <td>Monkeyshines, No. 1</td>\n      <td>1890.0</td>\n      <td>0.0</td>\n      <td>0.0</td>\n      <td>361921.0</td>\n      <td>32571.0</td>\n      <td>[{'cast_id': 10, 'character': 'Himself', 'cred...</td>\n      <td>[{'credit_id': '52fe44d99251416c9101ef9f', 'de...</td>\n      <td>0.0</td>\n      <td>[{'id': 35, 'name': 'Comedy'}]</td>\n      <td>tt0361921</td>\n      <td>en</td>\n      <td>1.163672</td>\n      <td>[{'name': 'Edison Manufacturing Company', 'id'...</td>\n      <td>[{'iso_3166_1': 'US', 'name': 'United States o...</td>\n      <td>0.0</td>\n      <td>1.0</td>\n      <td>4.3</td>\n      <td>15.0</td>\n    </tr>\n    <tr>\n      <th>3</th>\n      <td>Monkeyshines, No. 2</td>\n      <td>1890.0</td>\n      <td>0.0</td>\n      <td>0.0</td>\n      <td>416046.0</td>\n      <td>33315.0</td>\n      <td>[{'cast_id': 1, 'character': 'Himself', 'credi...</td>\n      <td>[{'credit_id': '52fe450c9251416c91025b0b', 'de...</td>\n      <td>0.0</td>\n      <td>[]</td>\n      <td>tt0416046</td>\n      <td>xx</td>\n      <td>0.399258</td>\n      <td>[{'name': 'Edison Manufacturing Company', 'id'...</td>\n      <td>[{'iso_3166_1': 'US', 'name': 'United States o...</td>\n      <td>0.0</td>\n      <td>1.0</td>\n      <td>4.5</td>\n      <td>12.0</td>\n    </tr>\n    <tr>\n      <th>4</th>\n      <td>Monkeyshines, No. 3</td>\n      <td>1890.0</td>\n      <td>0.0</td>\n      <td>0.0</td>\n      <td>416047.0</td>\n      <td>33317.0</td>\n      <td>[{'cast_id': 1, 'character': 'Himself', 'credi...</td>\n      <td>[{'credit_id': '52fe450c9251416c91025b2f', 'de...</td>\n      <td>0.0</td>\n      <td>[]</td>\n      <td>tt0416047</td>\n      <td>xx</td>\n      <td>0.276161</td>\n      <td>[{'name': 'Edison Manufacturing Company', 'id'...</td>\n      <td>[{'iso_3166_1': 'US', 'name': 'United States o...</td>\n      <td>0.0</td>\n      <td>1.0</td>\n      <td>3.3</td>\n      <td>5.0</td>\n    </tr>\n    <tr>\n      <th>...</th>\n      <td>...</td>\n      <td>...</td>\n      <td>...</td>\n      <td>...</td>\n      <td>...</td>\n      <td>...</td>\n      <td>...</td>\n      <td>...</td>\n      <td>...</td>\n      <td>...</td>\n      <td>...</td>\n      <td>...</td>\n      <td>...</td>\n      <td>...</td>\n      <td>...</td>\n      <td>...</td>\n      <td>...</td>\n      <td>...</td>\n      <td>...</td>\n    </tr>\n    <tr>\n      <th>7606</th>\n      <td>12 feet deep</td>\n      <td>2017.0</td>\n      <td>3.0</td>\n      <td>0.0</td>\n      <td>5143226.0</td>\n      <td>459928.0</td>\n      <td>[{'cast_id': 0, 'character': 'McGradey', 'cred...</td>\n      <td>[{'credit_id': '592ec68d92514130da00d716', 'de...</td>\n      <td>0.0</td>\n      <td>[{'id': 53, 'name': 'Thriller'}]</td>\n      <td>tt5143226</td>\n      <td>en</td>\n      <td>4.479536</td>\n      <td>[{'name': 'Citizen Skull Productions', 'id': 9...</td>\n      <td>[{'iso_3166_1': 'US', 'name': 'United States o...</td>\n      <td>0.0</td>\n      <td>85.0</td>\n      <td>5.1</td>\n      <td>62.0</td>\n    </tr>\n    <tr>\n      <th>7607</th>\n      <td>Landline</td>\n      <td>2017.0</td>\n      <td>3.0</td>\n      <td>0.0</td>\n      <td>5737862.0</td>\n      <td>419459.0</td>\n      <td>[{'cast_id': 0, 'character': 'Dana Jacobs', 'c...</td>\n      <td>[{'credit_id': '5863a7fcc3a3680ab600716c', 'de...</td>\n      <td>0.0</td>\n      <td>[{'id': 35, 'name': 'Comedy'}]</td>\n      <td>tt5737862</td>\n      <td>en</td>\n      <td>1.811506</td>\n      <td>[{'name': 'Magnolia Pictures', 'id': 1030}]</td>\n      <td>[{'iso_3166_1': 'US', 'name': 'United States o...</td>\n      <td>0.0</td>\n      <td>93.0</td>\n      <td>5.1</td>\n      <td>9.0</td>\n    </tr>\n    <tr>\n      <th>7608</th>\n      <td>Patient Zero</td>\n      <td>2018.0</td>\n      <td>1.0</td>\n      <td>0.0</td>\n      <td>3458254.0</td>\n      <td>295011.0</td>\n      <td>[{'cast_id': 1, 'character': 'Dr. Gina Rose', ...</td>\n      <td>[{'credit_id': '55c8fd47c3a36849b40002ec', 'de...</td>\n      <td>0.0</td>\n      <td>[{'id': 28, 'name': 'Action'}, {'id': 18, 'nam...</td>\n      <td>tt3458254</td>\n      <td>en</td>\n      <td>1.083454</td>\n      <td>[{'name': 'Screen Gems', 'id': 3287}, {'name':...</td>\n      <td>[{'iso_3166_1': 'US', 'name': 'United States o...</td>\n      <td>0.0</td>\n      <td>0.0</td>\n      <td>10.0</td>\n      <td>2.0</td>\n    </tr>\n    <tr>\n      <th>7609</th>\n      <td>Iron Sky: The Coming Race</td>\n      <td>2019.0</td>\n      <td>3.0</td>\n      <td>0.0</td>\n      <td>3038708.0</td>\n      <td>302349.0</td>\n      <td>[{'cast_id': 1, 'character': 'Wolfgang Kortzfl...</td>\n      <td>[{'credit_id': '5461f666c3a3686f4c001f27', 'de...</td>\n      <td>18000000.0</td>\n      <td>[{'id': 28, 'name': 'Action'}, {'id': 35, 'nam...</td>\n      <td>tt3038708</td>\n      <td>en</td>\n      <td>1.917649</td>\n      <td>[{'name': '27 Films Production', 'id': 9282}, ...</td>\n      <td>[{'iso_3166_1': 'BE', 'name': 'Belgium'}, {'is...</td>\n      <td>0.0</td>\n      <td>0.0</td>\n      <td>0.0</td>\n      <td>0.0</td>\n    </tr>\n    <tr>\n      <th>7610</th>\n      <td>Bad Boys For Life</td>\n      <td>2020.0</td>\n      <td>2.0</td>\n      <td>0.0</td>\n      <td>1502397.0</td>\n      <td>38700.0</td>\n      <td>[{'cast_id': 0, 'character': 'Detective Mike L...</td>\n      <td>[{'credit_id': '585fcddd92514115cd01d8c8', 'de...</td>\n      <td>0.0</td>\n      <td>[{'id': 53, 'name': 'Thriller'}, {'id': 28, 'n...</td>\n      <td>tt1502397</td>\n      <td>en</td>\n      <td>2.178546</td>\n      <td>[{'name': 'Columbia Pictures', 'id': 5}, {'nam...</td>\n      <td>[{'iso_3166_1': 'US', 'name': 'United States o...</td>\n      <td>0.0</td>\n      <td>0.0</td>\n      <td>0.0</td>\n      <td>12.0</td>\n    </tr>\n  </tbody>\n</table>\n<p>7611 rows × 19 columns</p>\n</div>"
     },
     "execution_count": 138,
     "metadata": {},
     "output_type": "execute_result"
    }
   ],
   "source": [
    "bechdel_df = pd.read_csv('datasets/Bechdel_detailed.csv')\n",
    "links_df = pd.read_csv('datasets/movie-dataset/links.csv') # contém o id do imdb e tmdb de cada filme.\n",
    "credits_df = pd.read_csv('datasets/movie-dataset/credits.csv')\n",
    "imdb_df = pd.read_csv('datasets/movie-dataset/movies_metadata.csv')\n",
    "\n",
    "# remove colunas não usadas.\n",
    "bechdel_df = bechdel_df.drop(['Unnamed: 0', 'submitterid', 'date', 'visible', 'id'], axis=1)\n",
    "\n",
    "# renomeia rating para não coincidir com o dos outros datasets.\n",
    "bechdel_df = bechdel_df.rename(columns={'rating': 'bt_score'})\n",
    "\n",
    "# junta os 3 dataframes e descarta colunas duplicadas.\n",
    "bechdel_df = pd.merge(bechdel_df, links_df, left_on='imdbid', right_on='imdbId', how='inner').drop('imdbId', axis=1)\n",
    "bechdel_df = pd.merge(bechdel_df, credits_df, left_on='tmdbId', right_on='id', how='inner').drop(['id', 'movieId'], axis=1)\n",
    "\n",
    "# descarta itens sem cast e/ou crew. Reseta os index.\n",
    "bechdel_df = bechdel_df[\n",
    "\t(bechdel_df.cast != '[]') & (bechdel_df.crew != '[]')\n",
    "].reset_index(drop='True')\n",
    "\n",
    "# UNINDO COM O MOVIES_METADATA.CSV\n",
    "\n",
    "# transforma o dtype de todos os elementos da coluna 'id' em float pra poder fazer o merge. Alguns possuem strings que são então convertidas em NaN.\n",
    "imdb_df['id'] = pd.to_numeric(imdb_df['id'], errors='coerce')\n",
    "\n",
    "# transforma orçamento em float\n",
    "imdb_df.budget = pd.to_numeric(imdb_df.budget, errors='coerce')\n",
    "\n",
    "# remove colunas não usadas.\n",
    "imdb_df = imdb_df.drop(['adult', 'belongs_to_collection', 'homepage', 'original_title', 'overview', 'poster_path', 'release_date', 'spoken_languages', 'status', 'tagline', 'video', 'title'], axis=1)\n",
    "\n",
    "# faz o df final.\n",
    "bechdel_df = pd.merge(bechdel_df, imdb_df, left_on='tmdbId', right_on='id', how='inner').drop('id', axis=1)\n",
    "\n",
    "bechdel_df"
   ],
   "metadata": {
    "collapsed": false,
    "pycharm": {
     "name": "#%%\n"
    }
   }
  },
  {
   "cell_type": "code",
   "execution_count": 158,
   "outputs": [
    {
     "name": "stdout",
     "output_type": "stream",
     "text": [
      "Valores nulos:\n",
      "Orçamento: 46.91%\n",
      "Bilheteria: 47.08%\n",
      "Duração: 24.00%\n",
      "Número de votos: 14.00%\n",
      "Nota média: 22.00%\n",
      "Língua: 0.11%\n",
      "Gênero: 0.26%\n",
      "Produtoras: 5.93%\n",
      "Países: 2.01%\n"
     ]
    }
   ],
   "source": [
    "total = len(bechdel_df) * 0.01\n",
    "print('Valores nulos:')\n",
    "print('Orçamento: %.2f%%' % (len(bechdel_df[bechdel_df.budget == 0])/total))\n",
    "print('Bilheteria: %.2f%%' % (len(bechdel_df[bechdel_df.revenue == 0])/total))\n",
    "print('Duração: %.2f%%' % (len(bechdel_df[bechdel_df.runtime == 0])))\n",
    "print('Número de votos: %.2f%%' % (len(bechdel_df[bechdel_df.vote_count == 0])))\n",
    "print('Nota média: %.2f%%' % (len(bechdel_df[bechdel_df.vote_average == 0])))\n",
    "print('Língua: %.2f%%' % (len(bechdel_df[bechdel_df.original_language == 'xx'])/total))\n",
    "print('Gênero: %.2f%%' % (len(bechdel_df[bechdel_df.genres == '[]'])/total))\n",
    "print('Produtoras: %.2f%%' % (len(bechdel_df[bechdel_df.production_companies == '[]'])/total))\n",
    "print('Países: %.2f%%' % (len(bechdel_df[bechdel_df.production_countries == '[]'])/total))"
   ],
   "metadata": {
    "collapsed": false,
    "pycharm": {
     "name": "#%%\n"
    }
   }
  }
 ],
 "metadata": {
  "interpreter": {
   "hash": "45a8477b08c324d9cce7950632ad2e4fce9f4230ff1fbe555c11182565a7ba4b"
  },
  "kernelspec": {
   "display_name": "Python 3.9.7 ('base')",
   "language": "python",
   "name": "python3"
  },
  "language_info": {
   "codemirror_mode": {
    "name": "ipython",
    "version": 3
   },
   "file_extension": ".py",
   "mimetype": "text/x-python",
   "name": "python",
   "nbconvert_exporter": "python",
   "pygments_lexer": "ipython3",
   "version": "3.9.7"
  }
 },
 "nbformat": 4,
 "nbformat_minor": 0
}