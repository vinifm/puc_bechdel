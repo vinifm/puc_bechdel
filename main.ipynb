{
 "cells": [
  {
   "cell_type": "code",
   "execution_count": null,
   "metadata": {
    "collapsed": true,
    "pycharm": {
     "name": "#%%\n"
    }
   },
   "outputs": [],
   "source": [
    "import pandas as pd\n",
    "import matplotlib.pyplot as plt\n",
    "import seaborn as sns\n",
    "import numpy as np\n",
    "import requests\n",
    "import collections\n",
    "from bs4 import BeautifulSoup"
   ]
  },
  {
   "cell_type": "markdown",
   "metadata": {
    "collapsed": false,
    "pycharm": {
     "name": "#%% md\n"
    }
   },
   "source": [
    "## **Unindo os datasets**"
   ]
  },
  {
   "cell_type": "code",
   "execution_count": null,
   "metadata": {
    "collapsed": false,
    "pycharm": {
     "name": "#%%\n"
    }
   },
   "outputs": [
    {
     "data": {
      "text/plain": "                           title    year  bt_score  dubious     imdbid  \\\n0               Passage de Venus  1874.0       0.0      0.0  3155794.0   \n1     Sallie Gardner at a Gallop  1878.0       0.0      0.0  2221420.0   \n2                Buffalo Running  1883.0       0.0      0.0  5459794.0   \n3  Man Walking Around the Corner  1887.0       0.0      0.0  2075247.0   \n4               Accordion Player  1888.0       0.0      0.0  1758563.0   \n\n     tmdbId  \n0  315946.0  \n1  194079.0  \n2  426903.0  \n3  159897.0  \n4   96882.0  ",
      "text/html": "<div>\n<style scoped>\n    .dataframe tbody tr th:only-of-type {\n        vertical-align: middle;\n    }\n\n    .dataframe tbody tr th {\n        vertical-align: top;\n    }\n\n    .dataframe thead th {\n        text-align: right;\n    }\n</style>\n<table border=\"1\" class=\"dataframe\">\n  <thead>\n    <tr style=\"text-align: right;\">\n      <th></th>\n      <th>title</th>\n      <th>year</th>\n      <th>bt_score</th>\n      <th>dubious</th>\n      <th>imdbid</th>\n      <th>tmdbId</th>\n    </tr>\n  </thead>\n  <tbody>\n    <tr>\n      <th>0</th>\n      <td>Passage de Venus</td>\n      <td>1874.0</td>\n      <td>0.0</td>\n      <td>0.0</td>\n      <td>3155794.0</td>\n      <td>315946.0</td>\n    </tr>\n    <tr>\n      <th>1</th>\n      <td>Sallie Gardner at a Gallop</td>\n      <td>1878.0</td>\n      <td>0.0</td>\n      <td>0.0</td>\n      <td>2221420.0</td>\n      <td>194079.0</td>\n    </tr>\n    <tr>\n      <th>2</th>\n      <td>Buffalo Running</td>\n      <td>1883.0</td>\n      <td>0.0</td>\n      <td>0.0</td>\n      <td>5459794.0</td>\n      <td>426903.0</td>\n    </tr>\n    <tr>\n      <th>3</th>\n      <td>Man Walking Around the Corner</td>\n      <td>1887.0</td>\n      <td>0.0</td>\n      <td>0.0</td>\n      <td>2075247.0</td>\n      <td>159897.0</td>\n    </tr>\n    <tr>\n      <th>4</th>\n      <td>Accordion Player</td>\n      <td>1888.0</td>\n      <td>0.0</td>\n      <td>0.0</td>\n      <td>1758563.0</td>\n      <td>96882.0</td>\n    </tr>\n  </tbody>\n</table>\n</div>"
     },
     "execution_count": 32,
     "metadata": {},
     "output_type": "execute_result"
    }
   ],
   "source": [
    "bechdel_df = pd.read_csv('datasets/Bechdel_detailed.csv')\n",
    "links_df = pd.read_csv('datasets/movie-dataset/links.csv') # contém o id do imdb e tmdb de cada filme\n",
    "\n",
    "# remove colunas não usadas\n",
    "bechdel_df = bechdel_df.drop(['Unnamed: 0', 'submitterid', 'date', 'visible', 'id'], axis=1)\n",
    "\n",
    "# renomeia rating para não coincidir com o dos outros datasets\n",
    "bechdel_df = bechdel_df.rename(columns={'rating': 'bt_score'})\n",
    "\n",
    "# junta os 3 dataframes e descarta colunas duplicadas\n",
    "bechdel_df = pd.merge(bechdel_df, links_df, left_on='imdbid', right_on='imdbId', how='inner').drop(['imdbId', 'movieId'], axis=1)\n",
    "\n",
    "bechdel_df.head()"
   ]
  },
  {
   "cell_type": "code",
   "execution_count": null,
   "metadata": {
    "pycharm": {
     "name": "#%%\n"
    }
   },
   "outputs": [
    {
     "data": {
      "text/plain": "                        title    year  bt_score  dubious  imdbid    tmdbId\n0                  Cinderella  1899.0       3.0      0.0   230.0  114108.0\n1      Gretchen the Greenhorn  1916.0       3.0      0.0  6745.0  126925.0\n2                  Snow White  1916.0       3.0      0.0  7361.0  174598.0\n3  Poor Little Rich Girl, The  1917.0       3.0      0.0  8443.0   95866.0\n4                Stella Maris  1918.0       3.0      0.0  9652.0   70753.0",
      "text/html": "<div>\n<style scoped>\n    .dataframe tbody tr th:only-of-type {\n        vertical-align: middle;\n    }\n\n    .dataframe tbody tr th {\n        vertical-align: top;\n    }\n\n    .dataframe thead th {\n        text-align: right;\n    }\n</style>\n<table border=\"1\" class=\"dataframe\">\n  <thead>\n    <tr style=\"text-align: right;\">\n      <th></th>\n      <th>title</th>\n      <th>year</th>\n      <th>bt_score</th>\n      <th>dubious</th>\n      <th>imdbid</th>\n      <th>tmdbId</th>\n    </tr>\n  </thead>\n  <tbody>\n    <tr>\n      <th>0</th>\n      <td>Cinderella</td>\n      <td>1899.0</td>\n      <td>3.0</td>\n      <td>0.0</td>\n      <td>230.0</td>\n      <td>114108.0</td>\n    </tr>\n    <tr>\n      <th>1</th>\n      <td>Gretchen the Greenhorn</td>\n      <td>1916.0</td>\n      <td>3.0</td>\n      <td>0.0</td>\n      <td>6745.0</td>\n      <td>126925.0</td>\n    </tr>\n    <tr>\n      <th>2</th>\n      <td>Snow White</td>\n      <td>1916.0</td>\n      <td>3.0</td>\n      <td>0.0</td>\n      <td>7361.0</td>\n      <td>174598.0</td>\n    </tr>\n    <tr>\n      <th>3</th>\n      <td>Poor Little Rich Girl, The</td>\n      <td>1917.0</td>\n      <td>3.0</td>\n      <td>0.0</td>\n      <td>8443.0</td>\n      <td>95866.0</td>\n    </tr>\n    <tr>\n      <th>4</th>\n      <td>Stella Maris</td>\n      <td>1918.0</td>\n      <td>3.0</td>\n      <td>0.0</td>\n      <td>9652.0</td>\n      <td>70753.0</td>\n    </tr>\n  </tbody>\n</table>\n</div>"
     },
     "execution_count": 33,
     "metadata": {},
     "output_type": "execute_result"
    }
   ],
   "source": [
    "bechdel_df = bechdel_df.sort_values(by=['bt_score', 'year'], ascending=[False, True]).reset_index(drop=True)\n",
    "bechdel_df.head()"
   ]
  },
  {
   "cell_type": "markdown",
   "metadata": {
    "pycharm": {
     "name": "#%% md\n"
    }
   },
   "source": [
    "## **Tratamento dos dados**"
   ]
  },
  {
   "cell_type": "markdown",
   "metadata": {
    "pycharm": {
     "name": "#%% md\n"
    }
   },
   "source": [
    "### **Retirada de nulos**"
   ]
  },
  {
   "cell_type": "code",
   "execution_count": null,
   "metadata": {
    "pycharm": {
     "name": "#%%\n"
    }
   },
   "outputs": [
    {
     "data": {
      "text/plain": "              year     bt_score      dubious        imdbid         tmdbId\ncount  7635.000000  7635.000000  7337.000000  7.635000e+03    7635.000000\nmean   1994.283824     2.102161     0.090364  8.939595e+05   69241.580092\nstd      23.481479     1.100308     0.286722  1.160944e+06  100273.948321\nmin    1874.000000     0.000000     0.000000  1.000000e+00       5.000000\n25%    1986.000000     1.000000     0.000000  9.210250e+04    9682.500000\n50%    2003.000000     3.000000     0.000000  3.272470e+05   23567.000000\n75%    2011.000000     3.000000     0.000000  1.426131e+06   75791.000000\nmax    2020.000000     3.000000     1.000000  6.536944e+06  461615.000000",
      "text/html": "<div>\n<style scoped>\n    .dataframe tbody tr th:only-of-type {\n        vertical-align: middle;\n    }\n\n    .dataframe tbody tr th {\n        vertical-align: top;\n    }\n\n    .dataframe thead th {\n        text-align: right;\n    }\n</style>\n<table border=\"1\" class=\"dataframe\">\n  <thead>\n    <tr style=\"text-align: right;\">\n      <th></th>\n      <th>year</th>\n      <th>bt_score</th>\n      <th>dubious</th>\n      <th>imdbid</th>\n      <th>tmdbId</th>\n    </tr>\n  </thead>\n  <tbody>\n    <tr>\n      <th>count</th>\n      <td>7635.000000</td>\n      <td>7635.000000</td>\n      <td>7337.000000</td>\n      <td>7.635000e+03</td>\n      <td>7635.000000</td>\n    </tr>\n    <tr>\n      <th>mean</th>\n      <td>1994.283824</td>\n      <td>2.102161</td>\n      <td>0.090364</td>\n      <td>8.939595e+05</td>\n      <td>69241.580092</td>\n    </tr>\n    <tr>\n      <th>std</th>\n      <td>23.481479</td>\n      <td>1.100308</td>\n      <td>0.286722</td>\n      <td>1.160944e+06</td>\n      <td>100273.948321</td>\n    </tr>\n    <tr>\n      <th>min</th>\n      <td>1874.000000</td>\n      <td>0.000000</td>\n      <td>0.000000</td>\n      <td>1.000000e+00</td>\n      <td>5.000000</td>\n    </tr>\n    <tr>\n      <th>25%</th>\n      <td>1986.000000</td>\n      <td>1.000000</td>\n      <td>0.000000</td>\n      <td>9.210250e+04</td>\n      <td>9682.500000</td>\n    </tr>\n    <tr>\n      <th>50%</th>\n      <td>2003.000000</td>\n      <td>3.000000</td>\n      <td>0.000000</td>\n      <td>3.272470e+05</td>\n      <td>23567.000000</td>\n    </tr>\n    <tr>\n      <th>75%</th>\n      <td>2011.000000</td>\n      <td>3.000000</td>\n      <td>0.000000</td>\n      <td>1.426131e+06</td>\n      <td>75791.000000</td>\n    </tr>\n    <tr>\n      <th>max</th>\n      <td>2020.000000</td>\n      <td>3.000000</td>\n      <td>1.000000</td>\n      <td>6.536944e+06</td>\n      <td>461615.000000</td>\n    </tr>\n  </tbody>\n</table>\n</div>"
     },
     "execution_count": 34,
     "metadata": {},
     "output_type": "execute_result"
    }
   ],
   "source": [
    "bechdel_df.describe()"
   ]
  },
  {
   "cell_type": "code",
   "execution_count": null,
   "metadata": {
    "pycharm": {
     "name": "#%%\n"
    }
   },
   "outputs": [],
   "source": [
    "data = bechdel_df.dropna().copy()"
   ]
  },
  {
   "cell_type": "code",
   "execution_count": null,
   "metadata": {
    "pycharm": {
     "name": "#%%\n"
    }
   },
   "outputs": [
    {
     "data": {
      "text/plain": "              year     bt_score      dubious        imdbid         tmdbId\ncount  7337.000000  7337.000000  7337.000000  7.337000e+03    7337.000000\nmean   1994.117759     2.100995     0.090364  9.157402e+05   71682.679297\nstd      23.800150     1.102451     0.286722  1.177499e+06  101516.902007\nmin    1874.000000     0.000000     0.000000  1.000000e+00       5.000000\n25%    1985.000000     1.000000     0.000000  9.109300e+04    9960.000000\n50%    2003.000000     3.000000     0.000000  3.337800e+05   25643.000000\n75%    2011.000000     3.000000     0.000000  1.470023e+06   79070.000000\nmax    2020.000000     3.000000     1.000000  6.536944e+06  461615.000000",
      "text/html": "<div>\n<style scoped>\n    .dataframe tbody tr th:only-of-type {\n        vertical-align: middle;\n    }\n\n    .dataframe tbody tr th {\n        vertical-align: top;\n    }\n\n    .dataframe thead th {\n        text-align: right;\n    }\n</style>\n<table border=\"1\" class=\"dataframe\">\n  <thead>\n    <tr style=\"text-align: right;\">\n      <th></th>\n      <th>year</th>\n      <th>bt_score</th>\n      <th>dubious</th>\n      <th>imdbid</th>\n      <th>tmdbId</th>\n    </tr>\n  </thead>\n  <tbody>\n    <tr>\n      <th>count</th>\n      <td>7337.000000</td>\n      <td>7337.000000</td>\n      <td>7337.000000</td>\n      <td>7.337000e+03</td>\n      <td>7337.000000</td>\n    </tr>\n    <tr>\n      <th>mean</th>\n      <td>1994.117759</td>\n      <td>2.100995</td>\n      <td>0.090364</td>\n      <td>9.157402e+05</td>\n      <td>71682.679297</td>\n    </tr>\n    <tr>\n      <th>std</th>\n      <td>23.800150</td>\n      <td>1.102451</td>\n      <td>0.286722</td>\n      <td>1.177499e+06</td>\n      <td>101516.902007</td>\n    </tr>\n    <tr>\n      <th>min</th>\n      <td>1874.000000</td>\n      <td>0.000000</td>\n      <td>0.000000</td>\n      <td>1.000000e+00</td>\n      <td>5.000000</td>\n    </tr>\n    <tr>\n      <th>25%</th>\n      <td>1985.000000</td>\n      <td>1.000000</td>\n      <td>0.000000</td>\n      <td>9.109300e+04</td>\n      <td>9960.000000</td>\n    </tr>\n    <tr>\n      <th>50%</th>\n      <td>2003.000000</td>\n      <td>3.000000</td>\n      <td>0.000000</td>\n      <td>3.337800e+05</td>\n      <td>25643.000000</td>\n    </tr>\n    <tr>\n      <th>75%</th>\n      <td>2011.000000</td>\n      <td>3.000000</td>\n      <td>0.000000</td>\n      <td>1.470023e+06</td>\n      <td>79070.000000</td>\n    </tr>\n    <tr>\n      <th>max</th>\n      <td>2020.000000</td>\n      <td>3.000000</td>\n      <td>1.000000</td>\n      <td>6.536944e+06</td>\n      <td>461615.000000</td>\n    </tr>\n  </tbody>\n</table>\n</div>"
     },
     "execution_count": 36,
     "metadata": {},
     "output_type": "execute_result"
    }
   ],
   "source": [
    "data.describe()"
   ]
  },
  {
   "cell_type": "markdown",
   "metadata": {
    "pycharm": {
     "name": "#%% md\n"
    }
   },
   "source": [
    "### **Transformando tipos de dados**"
   ]
  },
  {
   "cell_type": "code",
   "execution_count": null,
   "metadata": {
    "pycharm": {
     "name": "#%%\n"
    }
   },
   "outputs": [],
   "source": [
    "data['year'] = data['year'].astype('int')\n",
    "data['bt_score'] = data['bt_score'].astype('int')\n",
    "data['dubious'] = data['dubious'].astype('int')\n",
    "data['imdbid'] = data['imdbid'].astype('int')\n",
    "data['tmdbId'] = data['tmdbId'].astype('int')"
   ]
  },
  {
   "cell_type": "markdown",
   "metadata": {
    "pycharm": {
     "name": "#%% md\n"
    }
   },
   "source": [
    "### **API**"
   ]
  },
  {
   "cell_type": "markdown",
   "metadata": {
    "pycharm": {
     "name": "#%% md\n"
    }
   },
   "source": [
    "##### **Raspar dados dos filmes**"
   ]
  },
  {
   "cell_type": "code",
   "execution_count": null,
   "metadata": {
    "pycharm": {
     "name": "#%%\n"
    }
   },
   "outputs": [],
   "source": [
    "data['genres'] = pd.NA\n",
    "data['popularity'] = pd.NA\n",
    "data['production_companies'] = pd.NA\n",
    "data['production_countries'] = pd.NA\n",
    "data['release_date'] = pd.NA\n",
    "data['revenue'] = pd.NA\n",
    "data['title'] = pd.NA\n",
    "data['vote_average'] = pd.NA\n",
    "data['vote_count'] = pd.NA\n",
    "data['cast'] = pd.NA\n",
    "data['crew'] = pd.NA"
   ]
  },
  {
   "cell_type": "code",
   "execution_count": null,
   "metadata": {
    "pycharm": {
     "name": "#%%\n"
    }
   },
   "outputs": [],
   "source": [
    "# api_key = 'b12a91c6b0aa37015f0b966b61efd74d'\n",
    "\n",
    "# for index, row in data.iterrows():\n",
    "#     try:\n",
    "#         info = requests.get(f'https://api.themoviedb.org/3/movie/{row[\"tmdbId\"]}?api_key={api_key}')\n",
    "#         credits = requests.get(f'https://api.themoviedb.org/3/movie/{row[\"tmdbId\"]}/credits?api_key={api_key}')\n",
    "        \n",
    "#         details = info.json()\n",
    "#         details['cast'] = credits.json()['cast']\n",
    "#         details['crew'] = credits.json()['crew']\n",
    "\n",
    "#         data.loc[index, 'budget'] = details['budget']\n",
    "#         data.loc[index, 'genres'] = str(details['genres'])\n",
    "#         data.loc[index, 'popularity'] = details['popularity']\n",
    "#         data.loc[index, 'production_companies'] = str(details['production_companies'])\n",
    "#         data.loc[index, 'production_countries'] = str(details['production_countries'])\n",
    "#         data.loc[index, 'release_date'] = details['release_date']\n",
    "#         data.loc[index, 'revenue'] = details['revenue']\n",
    "#         data.loc[index, 'title'] = details['title']\n",
    "#         data.loc[index, 'vote_average'] = details['vote_average']\n",
    "#         data.loc[index, 'vote_count'] = details['vote_count']\n",
    "#         data.loc[index, 'cast'] = str(details['cast'])\n",
    "#         data.loc[index, 'crew'] = str(details['crew'])\n",
    "#     except:\n",
    "#         print(row['tmdbId'])\n",
    "\n",
    "# data.to_csv('api_data.csv')"
   ]
  },
  {
   "cell_type": "code",
   "execution_count": null,
   "metadata": {
    "pycharm": {
     "name": "#%%\n"
    }
   },
   "outputs": [
    {
     "data": {
      "text/plain": "                                    title  year  bt_score  dubious   imdbid  \\\n0                              Cinderella  1899         3        0      230   \n1                  Gretchen the Greenhorn  1916         3        0     6745   \n2                              Snow White  1916         3        0     7361   \n3               The Poor Little Rich Girl  1917         3        0     8443   \n4                            Stella Maris  1918         3        0     9652   \n...                                   ...   ...       ...      ...      ...   \n7630                          Sand Castle  2017         0        0  2582576   \n7631  Diary of a Wimpy Kid: The Long Haul  2017         0        0  6003368   \n7632                    God's Own Country  2017         0        0  5635086   \n7633                                 MFKZ  2017         0        0  4717402   \n7634                          War Machine  2017         0        0  4758646   \n\n      tmdbId                                             genres  popularity  \\\n0     114108  [{'id': 18, 'name': 'Drama'}, {'id': 10751, 'n...       3.762   \n1     126925                                                 []       1.942   \n2     174598  [{'id': 14, 'name': 'Fantasy'}, {'id': 18, 'na...       0.817   \n3      95866  [{'id': 10749, 'name': 'Romance'}, {'id': 35, ...       2.023   \n4      70753                      [{'id': 18, 'name': 'Drama'}]       1.310   \n...      ...                                                ...         ...   \n7630  390054  [{'id': 10752, 'name': 'War'}, {'id': 28, 'nam...      31.004   \n7631  417830  [{'id': 35, 'name': 'Comedy'}, {'id': 10751, '...      17.122   \n7632  428493  [{'id': 10749, 'name': 'Romance'}, {'id': 18, ...      16.294   \n7633  461615  [{'id': 878, 'name': 'Science Fiction'}, {'id'...       7.712   \n7634  354287  [{'id': 35, 'name': 'Comedy'}, {'id': 18, 'nam...      12.251   \n\n                                   production_companies  \\\n0     [{'id': 7159, 'logo_path': None, 'name': 'Star...   \n1                                                    []   \n2                                                    []   \n3     [{'id': 13400, 'logo_path': None, 'name': 'Art...   \n4     [{'id': 21540, 'logo_path': None, 'name': 'Mar...   \n...                                                 ...   \n7630  [{'id': 1557, 'logo_path': '/ccz9bqCu3jSFKbPFn...   \n7631  [{'id': 25, 'logo_path': '/qZCc1lty5FzX30aOCVR...   \n7632  [{'id': 7281, 'logo_path': '/lkqIuaKTm2sg3umwT...   \n7633  [{'id': 21660, 'logo_path': '/mog3VrjYLXvWDocE...   \n7634  [{'id': 81, 'logo_path': '/8wOfUhA7vwU2gbPjQy7...   \n\n                                   production_countries release_date  \\\n0              [{'iso_3166_1': 'FR', 'name': 'France'}]   1899-10-01   \n1                                                    []   1916-09-03   \n2                                                    []   1916-12-24   \n3     [{'iso_3166_1': 'US', 'name': 'United States o...   1917-03-05   \n4     [{'iso_3166_1': 'US', 'name': 'United States o...   1918-01-21   \n...                                                 ...          ...   \n7630  [{'iso_3166_1': 'GB', 'name': 'United Kingdom'...   2017-04-21   \n7631  [{'iso_3166_1': 'US', 'name': 'United States o...   2017-05-19   \n7632   [{'iso_3166_1': 'GB', 'name': 'United Kingdom'}]   2017-09-01   \n7633  [{'iso_3166_1': 'FR', 'name': 'France'}, {'iso...   2018-05-23   \n7634  [{'iso_3166_1': 'US', 'name': 'United States o...   2017-05-26   \n\n         revenue  vote_average  vote_count  \\\n0            0.0           6.1        79.0   \n1            0.0           6.1         7.0   \n2            0.0           5.7         9.0   \n3            0.0           5.8        23.0   \n4      2400000.0           6.9        19.0   \n...          ...           ...         ...   \n7630         0.0           6.5       631.0   \n7631  40120144.0           5.3       355.0   \n7632   2559939.0           7.8       715.0   \n7633    461724.0           7.1       222.0   \n7634         0.0           5.5       922.0   \n\n                                                   cast  \\\n0     [{'adult': False, 'gender': 2, 'id': 11523, 'k...   \n1     [{'adult': False, 'gender': 1, 'id': 30779, 'k...   \n2     [{'adult': False, 'gender': 0, 'id': 1658947, ...   \n3     [{'adult': False, 'gender': 1, 'id': 100047, '...   \n4     [{'adult': False, 'gender': 1, 'id': 100047, '...   \n...                                                 ...   \n7630  [{'adult': False, 'gender': 2, 'id': 130253, '...   \n7631  [{'adult': False, 'gender': 2, 'id': 1517834, ...   \n7632  [{'adult': False, 'gender': 2, 'id': 1206334, ...   \n7633  [{'adult': False, 'gender': 2, 'id': 1265647, ...   \n7634  [{'adult': False, 'gender': 2, 'id': 287, 'kno...   \n\n                                                   crew      budget  \n0     [{'adult': False, 'gender': 2, 'id': 11523, 'k...         0.0  \n1     [{'adult': False, 'gender': 2, 'id': 42060, 'k...         0.0  \n2     [{'adult': False, 'gender': 2, 'id': 28968, 'k...         0.0  \n3     [{'adult': False, 'gender': 2, 'id': 13335, 'k...         0.0  \n4     [{'adult': False, 'gender': 1, 'id': 34741, 'k...         0.0  \n...                                                 ...         ...  \n7630  [{'adult': False, 'gender': 1, 'id': 5914, 'kn...         0.0  \n7631  [{'adult': False, 'gender': 2, 'id': 1999, 'kn...  22000000.0  \n7632  [{'adult': False, 'gender': 1, 'id': 2635, 'kn...         0.0  \n7633  [{'adult': False, 'gender': 1, 'id': 90162, 'k...         0.0  \n7634  [{'adult': False, 'gender': 2, 'id': 120, 'kno...  60000000.0  \n\n[7337 rows x 17 columns]",
      "text/html": "<div>\n<style scoped>\n    .dataframe tbody tr th:only-of-type {\n        vertical-align: middle;\n    }\n\n    .dataframe tbody tr th {\n        vertical-align: top;\n    }\n\n    .dataframe thead th {\n        text-align: right;\n    }\n</style>\n<table border=\"1\" class=\"dataframe\">\n  <thead>\n    <tr style=\"text-align: right;\">\n      <th></th>\n      <th>title</th>\n      <th>year</th>\n      <th>bt_score</th>\n      <th>dubious</th>\n      <th>imdbid</th>\n      <th>tmdbId</th>\n      <th>genres</th>\n      <th>popularity</th>\n      <th>production_companies</th>\n      <th>production_countries</th>\n      <th>release_date</th>\n      <th>revenue</th>\n      <th>vote_average</th>\n      <th>vote_count</th>\n      <th>cast</th>\n      <th>crew</th>\n      <th>budget</th>\n    </tr>\n  </thead>\n  <tbody>\n    <tr>\n      <th>0</th>\n      <td>Cinderella</td>\n      <td>1899</td>\n      <td>3</td>\n      <td>0</td>\n      <td>230</td>\n      <td>114108</td>\n      <td>[{'id': 18, 'name': 'Drama'}, {'id': 10751, 'n...</td>\n      <td>3.762</td>\n      <td>[{'id': 7159, 'logo_path': None, 'name': 'Star...</td>\n      <td>[{'iso_3166_1': 'FR', 'name': 'France'}]</td>\n      <td>1899-10-01</td>\n      <td>0.0</td>\n      <td>6.1</td>\n      <td>79.0</td>\n      <td>[{'adult': False, 'gender': 2, 'id': 11523, 'k...</td>\n      <td>[{'adult': False, 'gender': 2, 'id': 11523, 'k...</td>\n      <td>0.0</td>\n    </tr>\n    <tr>\n      <th>1</th>\n      <td>Gretchen the Greenhorn</td>\n      <td>1916</td>\n      <td>3</td>\n      <td>0</td>\n      <td>6745</td>\n      <td>126925</td>\n      <td>[]</td>\n      <td>1.942</td>\n      <td>[]</td>\n      <td>[]</td>\n      <td>1916-09-03</td>\n      <td>0.0</td>\n      <td>6.1</td>\n      <td>7.0</td>\n      <td>[{'adult': False, 'gender': 1, 'id': 30779, 'k...</td>\n      <td>[{'adult': False, 'gender': 2, 'id': 42060, 'k...</td>\n      <td>0.0</td>\n    </tr>\n    <tr>\n      <th>2</th>\n      <td>Snow White</td>\n      <td>1916</td>\n      <td>3</td>\n      <td>0</td>\n      <td>7361</td>\n      <td>174598</td>\n      <td>[{'id': 14, 'name': 'Fantasy'}, {'id': 18, 'na...</td>\n      <td>0.817</td>\n      <td>[]</td>\n      <td>[]</td>\n      <td>1916-12-24</td>\n      <td>0.0</td>\n      <td>5.7</td>\n      <td>9.0</td>\n      <td>[{'adult': False, 'gender': 0, 'id': 1658947, ...</td>\n      <td>[{'adult': False, 'gender': 2, 'id': 28968, 'k...</td>\n      <td>0.0</td>\n    </tr>\n    <tr>\n      <th>3</th>\n      <td>The Poor Little Rich Girl</td>\n      <td>1917</td>\n      <td>3</td>\n      <td>0</td>\n      <td>8443</td>\n      <td>95866</td>\n      <td>[{'id': 10749, 'name': 'Romance'}, {'id': 35, ...</td>\n      <td>2.023</td>\n      <td>[{'id': 13400, 'logo_path': None, 'name': 'Art...</td>\n      <td>[{'iso_3166_1': 'US', 'name': 'United States o...</td>\n      <td>1917-03-05</td>\n      <td>0.0</td>\n      <td>5.8</td>\n      <td>23.0</td>\n      <td>[{'adult': False, 'gender': 1, 'id': 100047, '...</td>\n      <td>[{'adult': False, 'gender': 2, 'id': 13335, 'k...</td>\n      <td>0.0</td>\n    </tr>\n    <tr>\n      <th>4</th>\n      <td>Stella Maris</td>\n      <td>1918</td>\n      <td>3</td>\n      <td>0</td>\n      <td>9652</td>\n      <td>70753</td>\n      <td>[{'id': 18, 'name': 'Drama'}]</td>\n      <td>1.310</td>\n      <td>[{'id': 21540, 'logo_path': None, 'name': 'Mar...</td>\n      <td>[{'iso_3166_1': 'US', 'name': 'United States o...</td>\n      <td>1918-01-21</td>\n      <td>2400000.0</td>\n      <td>6.9</td>\n      <td>19.0</td>\n      <td>[{'adult': False, 'gender': 1, 'id': 100047, '...</td>\n      <td>[{'adult': False, 'gender': 1, 'id': 34741, 'k...</td>\n      <td>0.0</td>\n    </tr>\n    <tr>\n      <th>...</th>\n      <td>...</td>\n      <td>...</td>\n      <td>...</td>\n      <td>...</td>\n      <td>...</td>\n      <td>...</td>\n      <td>...</td>\n      <td>...</td>\n      <td>...</td>\n      <td>...</td>\n      <td>...</td>\n      <td>...</td>\n      <td>...</td>\n      <td>...</td>\n      <td>...</td>\n      <td>...</td>\n      <td>...</td>\n    </tr>\n    <tr>\n      <th>7630</th>\n      <td>Sand Castle</td>\n      <td>2017</td>\n      <td>0</td>\n      <td>0</td>\n      <td>2582576</td>\n      <td>390054</td>\n      <td>[{'id': 10752, 'name': 'War'}, {'id': 28, 'nam...</td>\n      <td>31.004</td>\n      <td>[{'id': 1557, 'logo_path': '/ccz9bqCu3jSFKbPFn...</td>\n      <td>[{'iso_3166_1': 'GB', 'name': 'United Kingdom'...</td>\n      <td>2017-04-21</td>\n      <td>0.0</td>\n      <td>6.5</td>\n      <td>631.0</td>\n      <td>[{'adult': False, 'gender': 2, 'id': 130253, '...</td>\n      <td>[{'adult': False, 'gender': 1, 'id': 5914, 'kn...</td>\n      <td>0.0</td>\n    </tr>\n    <tr>\n      <th>7631</th>\n      <td>Diary of a Wimpy Kid: The Long Haul</td>\n      <td>2017</td>\n      <td>0</td>\n      <td>0</td>\n      <td>6003368</td>\n      <td>417830</td>\n      <td>[{'id': 35, 'name': 'Comedy'}, {'id': 10751, '...</td>\n      <td>17.122</td>\n      <td>[{'id': 25, 'logo_path': '/qZCc1lty5FzX30aOCVR...</td>\n      <td>[{'iso_3166_1': 'US', 'name': 'United States o...</td>\n      <td>2017-05-19</td>\n      <td>40120144.0</td>\n      <td>5.3</td>\n      <td>355.0</td>\n      <td>[{'adult': False, 'gender': 2, 'id': 1517834, ...</td>\n      <td>[{'adult': False, 'gender': 2, 'id': 1999, 'kn...</td>\n      <td>22000000.0</td>\n    </tr>\n    <tr>\n      <th>7632</th>\n      <td>God's Own Country</td>\n      <td>2017</td>\n      <td>0</td>\n      <td>0</td>\n      <td>5635086</td>\n      <td>428493</td>\n      <td>[{'id': 10749, 'name': 'Romance'}, {'id': 18, ...</td>\n      <td>16.294</td>\n      <td>[{'id': 7281, 'logo_path': '/lkqIuaKTm2sg3umwT...</td>\n      <td>[{'iso_3166_1': 'GB', 'name': 'United Kingdom'}]</td>\n      <td>2017-09-01</td>\n      <td>2559939.0</td>\n      <td>7.8</td>\n      <td>715.0</td>\n      <td>[{'adult': False, 'gender': 2, 'id': 1206334, ...</td>\n      <td>[{'adult': False, 'gender': 1, 'id': 2635, 'kn...</td>\n      <td>0.0</td>\n    </tr>\n    <tr>\n      <th>7633</th>\n      <td>MFKZ</td>\n      <td>2017</td>\n      <td>0</td>\n      <td>0</td>\n      <td>4717402</td>\n      <td>461615</td>\n      <td>[{'id': 878, 'name': 'Science Fiction'}, {'id'...</td>\n      <td>7.712</td>\n      <td>[{'id': 21660, 'logo_path': '/mog3VrjYLXvWDocE...</td>\n      <td>[{'iso_3166_1': 'FR', 'name': 'France'}, {'iso...</td>\n      <td>2018-05-23</td>\n      <td>461724.0</td>\n      <td>7.1</td>\n      <td>222.0</td>\n      <td>[{'adult': False, 'gender': 2, 'id': 1265647, ...</td>\n      <td>[{'adult': False, 'gender': 1, 'id': 90162, 'k...</td>\n      <td>0.0</td>\n    </tr>\n    <tr>\n      <th>7634</th>\n      <td>War Machine</td>\n      <td>2017</td>\n      <td>0</td>\n      <td>0</td>\n      <td>4758646</td>\n      <td>354287</td>\n      <td>[{'id': 35, 'name': 'Comedy'}, {'id': 18, 'nam...</td>\n      <td>12.251</td>\n      <td>[{'id': 81, 'logo_path': '/8wOfUhA7vwU2gbPjQy7...</td>\n      <td>[{'iso_3166_1': 'US', 'name': 'United States o...</td>\n      <td>2017-05-26</td>\n      <td>0.0</td>\n      <td>5.5</td>\n      <td>922.0</td>\n      <td>[{'adult': False, 'gender': 2, 'id': 287, 'kno...</td>\n      <td>[{'adult': False, 'gender': 2, 'id': 120, 'kno...</td>\n      <td>60000000.0</td>\n    </tr>\n  </tbody>\n</table>\n<p>7337 rows × 17 columns</p>\n</div>"
     },
     "execution_count": 40,
     "metadata": {},
     "output_type": "execute_result"
    }
   ],
   "source": [
    "data = pd.read_csv('api_data.csv', index_col=0)\n",
    "data"
   ]
  },
  {
   "cell_type": "markdown",
   "metadata": {
    "pycharm": {
     "name": "#%% md\n"
    }
   },
   "source": [
    "#### **Tratamento das colunas**"
   ]
  },
  {
   "cell_type": "code",
   "execution_count": null,
   "metadata": {
    "pycharm": {
     "name": "#%%\n"
    }
   },
   "outputs": [
    {
     "data": {
      "text/plain": "Index(['title', 'year', 'bt_score', 'dubious', 'imdbid', 'tmdbId', 'genres',\n       'popularity', 'production_companies', 'production_countries',\n       'release_date', 'revenue', 'vote_average', 'vote_count', 'cast', 'crew',\n       'budget'],\n      dtype='object')"
     },
     "execution_count": 41,
     "metadata": {},
     "output_type": "execute_result"
    }
   ],
   "source": [
    "data.columns"
   ]
  },
  {
   "cell_type": "code",
   "execution_count": null,
   "metadata": {
    "pycharm": {
     "name": "#%%\n"
    }
   },
   "outputs": [],
   "source": [
    "data['year'] = data['year'].astype('int')"
   ]
  },
  {
   "cell_type": "code",
   "execution_count": null,
   "metadata": {
    "pycharm": {
     "name": "#%%\n"
    }
   },
   "outputs": [],
   "source": [
    "data['bt_score'] = data['bt_score'].astype('int')"
   ]
  },
  {
   "cell_type": "code",
   "execution_count": null,
   "metadata": {
    "pycharm": {
     "name": "#%%\n"
    }
   },
   "outputs": [],
   "source": [
    "data['dubious'] = data['dubious'].astype('int')"
   ]
  },
  {
   "cell_type": "code",
   "execution_count": 46,
   "metadata": {
    "pycharm": {
     "name": "#%%\n"
    }
   },
   "outputs": [
    {
     "ename": "TypeError",
     "evalue": "eval() arg 1 must be a string, bytes or code object",
     "output_type": "error",
     "traceback": [
      "\u001B[0;31m---------------------------------------------------------------------------\u001B[0m",
      "\u001B[0;31mTypeError\u001B[0m                                 Traceback (most recent call last)",
      "\u001B[0;32m/var/folders/x5/46svw_qj6hs7h_f0d9_k70rc0000gn/T/ipykernel_24343/1399898588.py\u001B[0m in \u001B[0;36m<module>\u001B[0;34m\u001B[0m\n\u001B[1;32m      3\u001B[0m \u001B[0;34m\u001B[0m\u001B[0m\n\u001B[1;32m      4\u001B[0m \u001B[0;32mfor\u001B[0m \u001B[0mindex\u001B[0m\u001B[0;34m,\u001B[0m \u001B[0mmovie\u001B[0m \u001B[0;32min\u001B[0m \u001B[0mdata\u001B[0m\u001B[0;34m.\u001B[0m\u001B[0miterrows\u001B[0m\u001B[0;34m(\u001B[0m\u001B[0;34m)\u001B[0m\u001B[0;34m:\u001B[0m\u001B[0;34m\u001B[0m\u001B[0;34m\u001B[0m\u001B[0m\n\u001B[0;32m----> 5\u001B[0;31m     \u001B[0mcast\u001B[0m \u001B[0;34m=\u001B[0m \u001B[0meval\u001B[0m\u001B[0;34m(\u001B[0m\u001B[0mmovie\u001B[0m\u001B[0;34m[\u001B[0m\u001B[0;34m'cast'\u001B[0m\u001B[0;34m]\u001B[0m\u001B[0;34m)\u001B[0m\u001B[0;34m\u001B[0m\u001B[0;34m\u001B[0m\u001B[0m\n\u001B[0m\u001B[1;32m      6\u001B[0m     \u001B[0mgender_list\u001B[0m \u001B[0;34m=\u001B[0m \u001B[0;34m[\u001B[0m\u001B[0;34m]\u001B[0m\u001B[0;34m\u001B[0m\u001B[0;34m\u001B[0m\u001B[0m\n\u001B[1;32m      7\u001B[0m \u001B[0;34m\u001B[0m\u001B[0m\n",
      "\u001B[0;31mTypeError\u001B[0m: eval() arg 1 must be a string, bytes or code object"
     ]
    }
   ],
   "source": [
    "data['cast_gender'] = pd.NA\n",
    "\n",
    "\n",
    "for index, movie in data.iterrows():\n",
    "    cast = eval(movie['cast'])\n",
    "    gender_list = []\n",
    "\n",
    "    for cast_member in cast:\n",
    "        gender = cast_member['gender']\n",
    "        gender_list.append(gender)\n",
    "\n",
    "    data.loc[index, 'cast_gender'] = str(gender_list)"
   ]
  },
  {
   "cell_type": "code",
   "execution_count": null,
   "metadata": {
    "pycharm": {
     "name": "#%%\n"
    }
   },
   "outputs": [],
   "source": [
    "data['crew_gender'] = pd.NA\n",
    "\n",
    "\n",
    "for index, movie in data.iterrows():\n",
    "    crew = eval(movie['crew'])\n",
    "    gender_list = []\n",
    "\n",
    "    for crew_member in crew:\n",
    "        gender = crew_member['gender']\n",
    "        gender_list.append(gender)\n",
    "\n",
    "    data.loc[index, 'crew_gender'] = str(gender_list)"
   ]
  },
  {
   "cell_type": "code",
   "execution_count": null,
   "metadata": {
    "pycharm": {
     "name": "#%%\n"
    }
   },
   "outputs": [],
   "source": [
    "data['budget'] = data['budget'].astype('int')"
   ]
  },
  {
   "cell_type": "code",
   "execution_count": null,
   "metadata": {
    "pycharm": {
     "name": "#%%\n"
    }
   },
   "outputs": [],
   "source": [
    "data['genres']"
   ]
  },
  {
   "cell_type": "code",
   "execution_count": null,
   "metadata": {
    "pycharm": {
     "name": "#%%\n"
    }
   },
   "outputs": [],
   "source": [
    "fig, axs = plt.subplots(figsize=(10, 8), constrained_layout=True)\n",
    "\n",
    "\n",
    "def plot(axs, data, title):\n",
    "    corr = data.corr(method='spearman')\n",
    "    cmap = sns.diverging_palette(255, 255, sep=1, as_cmap=True)\n",
    "    mask = np.triu(np.ones_like(corr, dtype=bool))\n",
    "\n",
    "    graph = sns.heatmap(corr, annot=True, vmin=-1, vmax=1, fmt='.1%', cmap=cmap, mask=mask, ax=axs)\n",
    "    graph.set_title(title, pad=10)\n",
    "\n",
    "\n",
    "plot(axs, bechdel_df.drop(['imdbid', 'tmdbId', 'imdb_id'], axis=1), 'Mapa de correlação entre variáveis')\n",
    "plt.show()"
   ]
  },
  {
   "cell_type": "markdown",
   "metadata": {
    "pycharm": {
     "name": "#%% md\n"
    }
   },
   "source": [
    "## **Gráficos simples**"
   ]
  },
  {
   "cell_type": "markdown",
   "metadata": {
    "pycharm": {
     "name": "#%% md\n"
    }
   },
   "source": [
    "### **Filmes por nota no Teste de Bechdel**\n",
    "**Métodos utilizados**\n",
    "- `collections.Counter()`: conta os valores totais das notas de 0 a 3.\n",
    "- `DataFrame.from_dict(data, orient='index')`: transforma um dicionário em DataFrame. `orient='index'` faz com que as keys do dicionário sejam usadas como index."
   ]
  },
  {
   "cell_type": "code",
   "execution_count": 47,
   "metadata": {
    "pycharm": {
     "name": "#%%\n"
    }
   },
   "outputs": [
    {
     "data": {
      "text/plain": "<Figure size 432x288 with 1 Axes>",
      "image/png": "[encoded data removed]"
     },
     "metadata": {},
     "output_type": "display_data"
    }
   ],
   "source": [
    "# TOTAL DE FILMES POR NOTA\n",
    "# score_plot = sns.barplot(x='score', y='total', data=score_df)\n",
    "score_plot = sns.barplot(x='index', y='bt_score', data=bechdel_df.bt_score.value_counts().reset_index())\n",
    "score_plot.bar_label(score_plot.containers[0])\n",
    "score_plot.set(title='Notas dos filmes no teste de Bechdel')\n",
    "plt.show()"
   ]
  },
  {
   "cell_type": "code",
   "execution_count": 48,
   "metadata": {
    "pycharm": {
     "name": "#%%\n"
    }
   },
   "outputs": [
    {
     "data": {
      "text/plain": "<Figure size 432x288 with 1 Axes>",
      "image/png": "[encoded data removed]"
     },
     "metadata": {},
     "output_type": "display_data"
    }
   ],
   "source": [
    "# PORCENTAGEM DOS FILMES\n",
    "# score_df = df com a quantidade de filmes por nota.\n",
    "score_df = collections.Counter(bechdel_df.bt_score)\n",
    "score_df = pd.DataFrame.from_dict(score_df, orient='index').reset_index()\n",
    "score_df = score_df.rename(columns={'index': 'score', 0: 'total'})\n",
    "plt.pie(score_df.total, labels = score_df.score.to_list(), autopct='%.0f%%')\n",
    "score_df.score.to_list()\n",
    "plt.show()"
   ]
  }
 ],
 "metadata": {
  "interpreter": {
   "hash": "6f70256d7645d6c334005571eeba54d69a94f5c9ce16d58ab69ff88c70fdfd07"
  },
  "kernelspec": {
   "display_name": "Python 3.10.4 ('cdia')",
   "language": "python",
   "name": "python3"
  },
  "language_info": {
   "codemirror_mode": {
    "name": "ipython",
    "version": 3
   },
   "file_extension": ".py",
   "mimetype": "text/x-python",
   "name": "python",
   "nbconvert_exporter": "python",
   "pygments_lexer": "ipython3",
   "version": "3.10.4"
  }
 },
 "nbformat": 4,
 "nbformat_minor": 0
}